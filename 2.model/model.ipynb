{
 "cells": [
  {
   "cell_type": "markdown",
   "metadata": {},
   "source": [
    "# Model\n",
    "\n",
    "This notebook shows how to combine data from below to trail our models\n",
    "\n",
    "1. Combine data from below. [Data folder link](https://drive.google.com/drive/folders/1eImejP0Yh5Wf0pd1PAfwiVDReUCgM45a)\n",
    "    * `domain_130k_dns.csv`: 130k domains with DNS data\n",
    "\n",
    "    * `domain_130k_features.csv`: 130k domains with scraped data plus the created features\n",
    "2. Train models\n",
    "    * Logistic Regression\n",
    "    * Random Forest\n",
    "    * Feature Importances\n",
    "3. Make predictions\n",
    "4. Save & Load Model files from local directory"
   ]
  },
  {
   "cell_type": "code",
   "execution_count": 1,
   "metadata": {
    "ExecuteTime": {
     "end_time": "2019-06-21T07:09:22.966955Z",
     "start_time": "2019-06-21T07:09:20.800252Z"
    }
   },
   "outputs": [],
   "source": [
    "from pathlib import Path\n",
    "\n",
    "import pandas as pd\n",
    "import numpy as np\n",
    "\n",
    "import matplotlib.pyplot as plt\n",
    "import seaborn as sns\n",
    "import pickle\n",
    "\n",
    "import warnings\n",
    "warnings.filterwarnings('ignore')\n",
    "\n",
    "from sklearn.model_selection import train_test_split\n",
    "from sklearn.ensemble import RandomForestClassifier\n",
    "from sklearn.linear_model import LogisticRegression\n",
    "from sklearn.metrics import classification_report"
   ]
  },
  {
   "cell_type": "markdown",
   "metadata": {},
   "source": [
    "# 1. Combine Data\n",
    "----"
   ]
  },
  {
   "cell_type": "markdown",
   "metadata": {},
   "source": [
    "## Load Data\n",
    "Assume the csv files are saved in a folder from current directory called `data`"
   ]
  },
  {
   "cell_type": "code",
   "execution_count": 2,
   "metadata": {
    "ExecuteTime": {
     "end_time": "2019-06-21T07:09:24.341460Z",
     "start_time": "2019-06-21T07:09:24.335246Z"
    }
   },
   "outputs": [
    {
     "data": {
      "text/plain": [
       "[PosixPath('../data/domain_130k_features.csv'),\n",
       " PosixPath('../data/domain_130k_features_dns.csv'),\n",
       " PosixPath('../data/.DS_Store'),\n",
       " PosixPath('../data/domain_130k_dns.csv'),\n",
       " PosixPath('../data/README.md')]"
      ]
     },
     "execution_count": 2,
     "metadata": {},
     "output_type": "execute_result"
    }
   ],
   "source": [
    "PATH = Path(\"../data\")\n",
    "list(PATH.iterdir())"
   ]
  },
  {
   "cell_type": "code",
   "execution_count": 3,
   "metadata": {
    "ExecuteTime": {
     "end_time": "2019-06-21T07:09:36.977902Z",
     "start_time": "2019-06-21T07:09:25.973522Z"
    }
   },
   "outputs": [
    {
     "name": "stdout",
     "output_type": "stream",
     "text": [
      "DNS dataset shape: (131325, 181)\n",
      "Feature dataset shape: (131333, 25)\n"
     ]
    }
   ],
   "source": [
    "dns = pd.read_csv(PATH/'domain_130k_dns.csv', low_memory=False)\n",
    "features = pd.read_csv(PATH/'domain_130k_features.csv', low_memory=False)\n",
    "\n",
    "print(\"DNS dataset shape:\", dns.shape)\n",
    "print(\"Feature dataset shape:\", features.shape)"
   ]
  },
  {
   "cell_type": "code",
   "execution_count": 4,
   "metadata": {
    "ExecuteTime": {
     "end_time": "2019-06-21T07:09:37.012979Z",
     "start_time": "2019-06-21T07:09:36.980418Z"
    }
   },
   "outputs": [
    {
     "data": {
      "text/html": [
       "<div>\n",
       "<style scoped>\n",
       "    .dataframe tbody tr th:only-of-type {\n",
       "        vertical-align: middle;\n",
       "    }\n",
       "\n",
       "    .dataframe tbody tr th {\n",
       "        vertical-align: top;\n",
       "    }\n",
       "\n",
       "    .dataframe thead th {\n",
       "        text-align: right;\n",
       "    }\n",
       "</style>\n",
       "<table border=\"1\" class=\"dataframe\">\n",
       "  <thead>\n",
       "    <tr style=\"text-align: right;\">\n",
       "      <th></th>\n",
       "      <th>id</th>\n",
       "      <th>name</th>\n",
       "      <th>company_name</th>\n",
       "      <th>data_sources</th>\n",
       "      <th>subdomain</th>\n",
       "      <th>tld</th>\n",
       "      <th>latest_dmarc_parseable</th>\n",
       "      <th>latest_dmarc_at_enforcement</th>\n",
       "      <th>latest_dmarc_agari</th>\n",
       "      <th>latest_dmarc_barracuda</th>\n",
       "      <th>...</th>\n",
       "      <th>ns_verisign</th>\n",
       "      <th>ns_verizon</th>\n",
       "      <th>ns_record</th>\n",
       "      <th>sales_priority</th>\n",
       "      <th>last_scanned_at</th>\n",
       "      <th>created_at.1</th>\n",
       "      <th>updated_at.1</th>\n",
       "      <th>dmarc_easydmarc</th>\n",
       "      <th>ns_cloudflare</th>\n",
       "      <th>rn</th>\n",
       "    </tr>\n",
       "  </thead>\n",
       "  <tbody>\n",
       "    <tr>\n",
       "      <th>0</th>\n",
       "      <td>560</td>\n",
       "      <td>yahoo.com</td>\n",
       "      <td>Yahoo</td>\n",
       "      <td>11299.0</td>\n",
       "      <td>False</td>\n",
       "      <td>com</td>\n",
       "      <td>True</td>\n",
       "      <td>True</td>\n",
       "      <td>False</td>\n",
       "      <td>False</td>\n",
       "      <td>...</td>\n",
       "      <td>False</td>\n",
       "      <td>False</td>\n",
       "      <td>['ns1.yahoo.com', 'ns2.yahoo.com', 'ns3.yahoo....</td>\n",
       "      <td>0</td>\n",
       "      <td>2019-04-17 20:09:49.642218</td>\n",
       "      <td>2016-06-06 22:59:12.375531</td>\n",
       "      <td>2019-04-17 20:09:49.642218</td>\n",
       "      <td>False</td>\n",
       "      <td>False</td>\n",
       "      <td>1</td>\n",
       "    </tr>\n",
       "    <tr>\n",
       "      <th>1</th>\n",
       "      <td>1016</td>\n",
       "      <td>blogger.com</td>\n",
       "      <td>NaN</td>\n",
       "      <td>3106.0</td>\n",
       "      <td>False</td>\n",
       "      <td>com</td>\n",
       "      <td>True</td>\n",
       "      <td>True</td>\n",
       "      <td>False</td>\n",
       "      <td>False</td>\n",
       "      <td>...</td>\n",
       "      <td>False</td>\n",
       "      <td>False</td>\n",
       "      <td>['ns1.google.com', 'ns2.google.com', 'ns3.goog...</td>\n",
       "      <td>0</td>\n",
       "      <td>2019-04-17 20:02:51.515220</td>\n",
       "      <td>2017-08-01 20:01:16.602032</td>\n",
       "      <td>2019-04-17 20:02:51.515220</td>\n",
       "      <td>False</td>\n",
       "      <td>False</td>\n",
       "      <td>1</td>\n",
       "    </tr>\n",
       "  </tbody>\n",
       "</table>\n",
       "<p>2 rows × 181 columns</p>\n",
       "</div>"
      ],
      "text/plain": [
       "     id         name company_name  data_sources  subdomain  tld  \\\n",
       "0   560    yahoo.com        Yahoo       11299.0      False  com   \n",
       "1  1016  blogger.com          NaN        3106.0      False  com   \n",
       "\n",
       "   latest_dmarc_parseable  latest_dmarc_at_enforcement  latest_dmarc_agari  \\\n",
       "0                    True                         True               False   \n",
       "1                    True                         True               False   \n",
       "\n",
       "   latest_dmarc_barracuda  ...  ns_verisign  ns_verizon  \\\n",
       "0                   False  ...        False       False   \n",
       "1                   False  ...        False       False   \n",
       "\n",
       "                                           ns_record  sales_priority  \\\n",
       "0  ['ns1.yahoo.com', 'ns2.yahoo.com', 'ns3.yahoo....               0   \n",
       "1  ['ns1.google.com', 'ns2.google.com', 'ns3.goog...               0   \n",
       "\n",
       "              last_scanned_at                created_at.1  \\\n",
       "0  2019-04-17 20:09:49.642218  2016-06-06 22:59:12.375531   \n",
       "1  2019-04-17 20:02:51.515220  2017-08-01 20:01:16.602032   \n",
       "\n",
       "                 updated_at.1  dmarc_easydmarc  ns_cloudflare  rn  \n",
       "0  2019-04-17 20:09:49.642218            False          False   1  \n",
       "1  2019-04-17 20:02:51.515220            False          False   1  \n",
       "\n",
       "[2 rows x 181 columns]"
      ]
     },
     "execution_count": 4,
     "metadata": {},
     "output_type": "execute_result"
    }
   ],
   "source": [
    "dns.head(2)"
   ]
  },
  {
   "cell_type": "code",
   "execution_count": 5,
   "metadata": {
    "ExecuteTime": {
     "end_time": "2019-06-21T07:09:39.660321Z",
     "start_time": "2019-06-21T07:09:39.640513Z"
    }
   },
   "outputs": [
    {
     "data": {
      "text/html": [
       "<div>\n",
       "<style scoped>\n",
       "    .dataframe tbody tr th:only-of-type {\n",
       "        vertical-align: middle;\n",
       "    }\n",
       "\n",
       "    .dataframe tbody tr th {\n",
       "        vertical-align: top;\n",
       "    }\n",
       "\n",
       "    .dataframe thead th {\n",
       "        text-align: right;\n",
       "    }\n",
       "</style>\n",
       "<table border=\"1\" class=\"dataframe\">\n",
       "  <thead>\n",
       "    <tr style=\"text-align: right;\">\n",
       "      <th></th>\n",
       "      <th>domain</th>\n",
       "      <th>label</th>\n",
       "      <th>security_trails</th>\n",
       "      <th>app_list</th>\n",
       "      <th>whois_counts</th>\n",
       "      <th>company_name</th>\n",
       "      <th>company_name_counts</th>\n",
       "      <th>host_provider</th>\n",
       "      <th>host_provider_counts</th>\n",
       "      <th>mail_provider</th>\n",
       "      <th>...</th>\n",
       "      <th>category_list</th>\n",
       "      <th>category_list_counts</th>\n",
       "      <th>web_tech</th>\n",
       "      <th>web_tech_counts</th>\n",
       "      <th>tld</th>\n",
       "      <th>linkedin</th>\n",
       "      <th>facebook</th>\n",
       "      <th>twitter</th>\n",
       "      <th>youtube</th>\n",
       "      <th>instagram</th>\n",
       "    </tr>\n",
       "  </thead>\n",
       "  <tbody>\n",
       "    <tr>\n",
       "      <th>0</th>\n",
       "      <td>assecosol.com</td>\n",
       "      <td>trusted</td>\n",
       "      <td>[{'whois': {'registrar': 'Ascio Technologies, ...</td>\n",
       "      <td>NaN</td>\n",
       "      <td>20</td>\n",
       "      <td>{'praguebest s.r.o.', 'asseco solutions'}</td>\n",
       "      <td>2</td>\n",
       "      <td>{'SuperNetwork s.r.o.', 'WIA spol. s.r.o.', 'A...</td>\n",
       "      <td>6</td>\n",
       "      <td>{'ACTIVE 24', 'Microsoft Corporation', 'Telema...</td>\n",
       "      <td>...</td>\n",
       "      <td>NaN</td>\n",
       "      <td>0</td>\n",
       "      <td>NaN</td>\n",
       "      <td>0</td>\n",
       "      <td>com</td>\n",
       "      <td>0</td>\n",
       "      <td>0</td>\n",
       "      <td>0</td>\n",
       "      <td>0</td>\n",
       "      <td>0</td>\n",
       "    </tr>\n",
       "    <tr>\n",
       "      <th>1</th>\n",
       "      <td>jewishexperience.org</td>\n",
       "      <td>trusted</td>\n",
       "      <td>[{'whois': {'registrar': 'Register.com, Inc.',...</td>\n",
       "      <td>[[['SEO'], 'Yoast SEO'], [['Reverse Proxy', 'W...</td>\n",
       "      <td>1</td>\n",
       "      <td>{'manhattan jewish experience synagogue'}</td>\n",
       "      <td>1</td>\n",
       "      <td>{'SingleHop LLC'}</td>\n",
       "      <td>1</td>\n",
       "      <td>{'Intermedia.net, Inc.'}</td>\n",
       "      <td>...</td>\n",
       "      <td>{'JavaScript Libraries', 'Font Scripts', 'SEO'...</td>\n",
       "      <td>9</td>\n",
       "      <td>{'JavaScript Libraries', 'Font Scripts', 'SEO'...</td>\n",
       "      <td>9</td>\n",
       "      <td>org</td>\n",
       "      <td>0</td>\n",
       "      <td>1</td>\n",
       "      <td>1</td>\n",
       "      <td>1</td>\n",
       "      <td>1</td>\n",
       "    </tr>\n",
       "  </tbody>\n",
       "</table>\n",
       "<p>2 rows × 25 columns</p>\n",
       "</div>"
      ],
      "text/plain": [
       "                 domain    label  \\\n",
       "0         assecosol.com  trusted   \n",
       "1  jewishexperience.org  trusted   \n",
       "\n",
       "                                     security_trails  \\\n",
       "0  [{'whois': {'registrar': 'Ascio Technologies, ...   \n",
       "1  [{'whois': {'registrar': 'Register.com, Inc.',...   \n",
       "\n",
       "                                            app_list  whois_counts  \\\n",
       "0                                                NaN            20   \n",
       "1  [[['SEO'], 'Yoast SEO'], [['Reverse Proxy', 'W...             1   \n",
       "\n",
       "                                company_name  company_name_counts  \\\n",
       "0  {'praguebest s.r.o.', 'asseco solutions'}                    2   \n",
       "1  {'manhattan jewish experience synagogue'}                    1   \n",
       "\n",
       "                                       host_provider  host_provider_counts  \\\n",
       "0  {'SuperNetwork s.r.o.', 'WIA spol. s.r.o.', 'A...                     6   \n",
       "1                                  {'SingleHop LLC'}                     1   \n",
       "\n",
       "                                       mail_provider  ...  \\\n",
       "0  {'ACTIVE 24', 'Microsoft Corporation', 'Telema...  ...   \n",
       "1                           {'Intermedia.net, Inc.'}  ...   \n",
       "\n",
       "                                       category_list category_list_counts  \\\n",
       "0                                                NaN                    0   \n",
       "1  {'JavaScript Libraries', 'Font Scripts', 'SEO'...                    9   \n",
       "\n",
       "                                            web_tech  web_tech_counts  tld  \\\n",
       "0                                                NaN                0  com   \n",
       "1  {'JavaScript Libraries', 'Font Scripts', 'SEO'...                9  org   \n",
       "\n",
       "  linkedin  facebook twitter  youtube instagram  \n",
       "0        0         0       0        0         0  \n",
       "1        0         1       1        1         1  \n",
       "\n",
       "[2 rows x 25 columns]"
      ]
     },
     "execution_count": 5,
     "metadata": {},
     "output_type": "execute_result"
    }
   ],
   "source": [
    "features.head(2)"
   ]
  },
  {
   "cell_type": "markdown",
   "metadata": {},
   "source": [
    "## Feature Selection\n",
    "\n",
    "- DNS: Boolean Columns and convert to int type\n",
    "- Features: Numeric Columns + Label"
   ]
  },
  {
   "cell_type": "code",
   "execution_count": 6,
   "metadata": {
    "ExecuteTime": {
     "end_time": "2019-06-21T07:09:41.647910Z",
     "start_time": "2019-06-21T07:09:41.256820Z"
    }
   },
   "outputs": [],
   "source": [
    "df_dns = dns.select_dtypes(include='bool').astype(int)\n",
    "df_dns = pd.concat([dns[['name']], df_dns], axis=1)\n",
    "df_dns.rename(index=str, columns={'name': 'domain'}, inplace=True)"
   ]
  },
  {
   "cell_type": "code",
   "execution_count": 7,
   "metadata": {
    "ExecuteTime": {
     "end_time": "2019-06-21T07:09:42.735684Z",
     "start_time": "2019-06-21T07:09:42.699279Z"
    }
   },
   "outputs": [],
   "source": [
    "df_features = features.select_dtypes(exclude='object')\n",
    "df_features = pd.concat([features[['domain', 'label']], df_features], axis=1)"
   ]
  },
  {
   "cell_type": "markdown",
   "metadata": {},
   "source": [
    "## Join Datasets"
   ]
  },
  {
   "cell_type": "code",
   "execution_count": 8,
   "metadata": {
    "ExecuteTime": {
     "end_time": "2019-06-21T07:09:44.485971Z",
     "start_time": "2019-06-21T07:09:44.044338Z"
    }
   },
   "outputs": [
    {
     "data": {
      "text/html": [
       "<div>\n",
       "<style scoped>\n",
       "    .dataframe tbody tr th:only-of-type {\n",
       "        vertical-align: middle;\n",
       "    }\n",
       "\n",
       "    .dataframe tbody tr th {\n",
       "        vertical-align: top;\n",
       "    }\n",
       "\n",
       "    .dataframe thead th {\n",
       "        text-align: right;\n",
       "    }\n",
       "</style>\n",
       "<table border=\"1\" class=\"dataframe\">\n",
       "  <thead>\n",
       "    <tr style=\"text-align: right;\">\n",
       "      <th></th>\n",
       "      <th>domain</th>\n",
       "      <th>label</th>\n",
       "      <th>whois_counts</th>\n",
       "      <th>company_name_counts</th>\n",
       "      <th>host_provider_counts</th>\n",
       "      <th>mail_provider_counts</th>\n",
       "      <th>registrar_counts</th>\n",
       "      <th>security_trail_exist</th>\n",
       "      <th>app_list_exist</th>\n",
       "      <th>category_list_counts</th>\n",
       "      <th>...</th>\n",
       "      <th>ns_neustar</th>\n",
       "      <th>ns_noip</th>\n",
       "      <th>ns_ns1</th>\n",
       "      <th>ns_register_com</th>\n",
       "      <th>ns_sprint</th>\n",
       "      <th>ns_total_uptime</th>\n",
       "      <th>ns_verisign</th>\n",
       "      <th>ns_verizon</th>\n",
       "      <th>dmarc_easydmarc</th>\n",
       "      <th>ns_cloudflare</th>\n",
       "    </tr>\n",
       "  </thead>\n",
       "  <tbody>\n",
       "    <tr>\n",
       "      <th>0</th>\n",
       "      <td>assecosol.com</td>\n",
       "      <td>trusted</td>\n",
       "      <td>20</td>\n",
       "      <td>2</td>\n",
       "      <td>6</td>\n",
       "      <td>3</td>\n",
       "      <td>3</td>\n",
       "      <td>1</td>\n",
       "      <td>0</td>\n",
       "      <td>0</td>\n",
       "      <td>...</td>\n",
       "      <td>0</td>\n",
       "      <td>0</td>\n",
       "      <td>0</td>\n",
       "      <td>0</td>\n",
       "      <td>0</td>\n",
       "      <td>0</td>\n",
       "      <td>0</td>\n",
       "      <td>0</td>\n",
       "      <td>0</td>\n",
       "      <td>0</td>\n",
       "    </tr>\n",
       "    <tr>\n",
       "      <th>1</th>\n",
       "      <td>jewishexperience.org</td>\n",
       "      <td>trusted</td>\n",
       "      <td>1</td>\n",
       "      <td>1</td>\n",
       "      <td>1</td>\n",
       "      <td>1</td>\n",
       "      <td>1</td>\n",
       "      <td>1</td>\n",
       "      <td>1</td>\n",
       "      <td>9</td>\n",
       "      <td>...</td>\n",
       "      <td>0</td>\n",
       "      <td>0</td>\n",
       "      <td>0</td>\n",
       "      <td>0</td>\n",
       "      <td>0</td>\n",
       "      <td>0</td>\n",
       "      <td>0</td>\n",
       "      <td>0</td>\n",
       "      <td>0</td>\n",
       "      <td>0</td>\n",
       "    </tr>\n",
       "    <tr>\n",
       "      <th>2</th>\n",
       "      <td>ssrefl.com</td>\n",
       "      <td>trusted</td>\n",
       "      <td>0</td>\n",
       "      <td>0</td>\n",
       "      <td>0</td>\n",
       "      <td>0</td>\n",
       "      <td>0</td>\n",
       "      <td>0</td>\n",
       "      <td>1</td>\n",
       "      <td>13</td>\n",
       "      <td>...</td>\n",
       "      <td>0</td>\n",
       "      <td>0</td>\n",
       "      <td>0</td>\n",
       "      <td>0</td>\n",
       "      <td>0</td>\n",
       "      <td>0</td>\n",
       "      <td>0</td>\n",
       "      <td>0</td>\n",
       "      <td>0</td>\n",
       "      <td>0</td>\n",
       "    </tr>\n",
       "    <tr>\n",
       "      <th>3</th>\n",
       "      <td>garverteam.com</td>\n",
       "      <td>trusted</td>\n",
       "      <td>0</td>\n",
       "      <td>0</td>\n",
       "      <td>0</td>\n",
       "      <td>0</td>\n",
       "      <td>0</td>\n",
       "      <td>0</td>\n",
       "      <td>1</td>\n",
       "      <td>10</td>\n",
       "      <td>...</td>\n",
       "      <td>0</td>\n",
       "      <td>0</td>\n",
       "      <td>0</td>\n",
       "      <td>0</td>\n",
       "      <td>0</td>\n",
       "      <td>0</td>\n",
       "      <td>0</td>\n",
       "      <td>0</td>\n",
       "      <td>0</td>\n",
       "      <td>0</td>\n",
       "    </tr>\n",
       "    <tr>\n",
       "      <th>4</th>\n",
       "      <td>digitalinspiration.com</td>\n",
       "      <td>trusted</td>\n",
       "      <td>20</td>\n",
       "      <td>2</td>\n",
       "      <td>5</td>\n",
       "      <td>3</td>\n",
       "      <td>4</td>\n",
       "      <td>1</td>\n",
       "      <td>1</td>\n",
       "      <td>12</td>\n",
       "      <td>...</td>\n",
       "      <td>0</td>\n",
       "      <td>0</td>\n",
       "      <td>0</td>\n",
       "      <td>0</td>\n",
       "      <td>0</td>\n",
       "      <td>0</td>\n",
       "      <td>0</td>\n",
       "      <td>0</td>\n",
       "      <td>0</td>\n",
       "      <td>0</td>\n",
       "    </tr>\n",
       "  </tbody>\n",
       "</table>\n",
       "<p>5 rows × 148 columns</p>\n",
       "</div>"
      ],
      "text/plain": [
       "                   domain    label  whois_counts  company_name_counts  \\\n",
       "0           assecosol.com  trusted            20                    2   \n",
       "1    jewishexperience.org  trusted             1                    1   \n",
       "2              ssrefl.com  trusted             0                    0   \n",
       "3          garverteam.com  trusted             0                    0   \n",
       "4  digitalinspiration.com  trusted            20                    2   \n",
       "\n",
       "   host_provider_counts  mail_provider_counts  registrar_counts  \\\n",
       "0                     6                     3                 3   \n",
       "1                     1                     1                 1   \n",
       "2                     0                     0                 0   \n",
       "3                     0                     0                 0   \n",
       "4                     5                     3                 4   \n",
       "\n",
       "   security_trail_exist  app_list_exist  category_list_counts  ...  \\\n",
       "0                     1               0                     0  ...   \n",
       "1                     1               1                     9  ...   \n",
       "2                     0               1                    13  ...   \n",
       "3                     0               1                    10  ...   \n",
       "4                     1               1                    12  ...   \n",
       "\n",
       "   ns_neustar  ns_noip  ns_ns1  ns_register_com  ns_sprint  ns_total_uptime  \\\n",
       "0           0        0       0                0          0                0   \n",
       "1           0        0       0                0          0                0   \n",
       "2           0        0       0                0          0                0   \n",
       "3           0        0       0                0          0                0   \n",
       "4           0        0       0                0          0                0   \n",
       "\n",
       "   ns_verisign  ns_verizon  dmarc_easydmarc  ns_cloudflare  \n",
       "0            0           0                0              0  \n",
       "1            0           0                0              0  \n",
       "2            0           0                0              0  \n",
       "3            0           0                0              0  \n",
       "4            0           0                0              0  \n",
       "\n",
       "[5 rows x 148 columns]"
      ]
     },
     "execution_count": 8,
     "metadata": {},
     "output_type": "execute_result"
    }
   ],
   "source": [
    "df = pd.merge(df_features, df_dns, on='domain')\n",
    "df.head()"
   ]
  },
  {
   "cell_type": "code",
   "execution_count": 9,
   "metadata": {
    "ExecuteTime": {
     "end_time": "2019-06-21T07:09:45.316915Z",
     "start_time": "2019-06-21T07:09:45.313443Z"
    }
   },
   "outputs": [
    {
     "data": {
      "text/plain": [
       "(131325, 148)"
      ]
     },
     "execution_count": 9,
     "metadata": {},
     "output_type": "execute_result"
    }
   ],
   "source": [
    "df.shape"
   ]
  },
  {
   "cell_type": "markdown",
   "metadata": {},
   "source": [
    "## Save to local file for report on distribution later"
   ]
  },
  {
   "cell_type": "code",
   "execution_count": 10,
   "metadata": {
    "ExecuteTime": {
     "end_time": "2019-06-21T07:10:02.588982Z",
     "start_time": "2019-06-21T07:09:47.037639Z"
    }
   },
   "outputs": [],
   "source": [
    "df.to_csv(PATH/'domain_130k_features_dns.csv', index=False)"
   ]
  },
  {
   "cell_type": "markdown",
   "metadata": {},
   "source": [
    "## Remove 'pending' labels"
   ]
  },
  {
   "cell_type": "code",
   "execution_count": 11,
   "metadata": {
    "ExecuteTime": {
     "end_time": "2019-06-21T07:10:02.607175Z",
     "start_time": "2019-06-21T07:10:02.591347Z"
    }
   },
   "outputs": [
    {
     "data": {
      "text/plain": [
       "pending      69980\n",
       "trusted      55976\n",
       "untrusted     5369\n",
       "Name: label, dtype: int64"
      ]
     },
     "execution_count": 11,
     "metadata": {},
     "output_type": "execute_result"
    }
   ],
   "source": [
    "df['label'].value_counts()"
   ]
  },
  {
   "cell_type": "code",
   "execution_count": 12,
   "metadata": {
    "ExecuteTime": {
     "end_time": "2019-06-21T07:10:25.304855Z",
     "start_time": "2019-06-21T07:10:25.048309Z"
    }
   },
   "outputs": [],
   "source": [
    "df_label = df[df['label']!='pending']"
   ]
  },
  {
   "cell_type": "code",
   "execution_count": 13,
   "metadata": {
    "ExecuteTime": {
     "end_time": "2019-06-21T07:10:27.520782Z",
     "start_time": "2019-06-21T07:10:27.509935Z"
    }
   },
   "outputs": [
    {
     "data": {
      "text/plain": [
       "trusted      55976\n",
       "untrusted     5369\n",
       "Name: label, dtype: int64"
      ]
     },
     "execution_count": 13,
     "metadata": {},
     "output_type": "execute_result"
    }
   ],
   "source": [
    "df_label['label'].value_counts()"
   ]
  },
  {
   "cell_type": "code",
   "execution_count": 14,
   "metadata": {
    "ExecuteTime": {
     "end_time": "2019-06-21T07:10:31.386896Z",
     "start_time": "2019-06-21T07:10:31.368507Z"
    }
   },
   "outputs": [
    {
     "data": {
      "text/html": [
       "<div>\n",
       "<style scoped>\n",
       "    .dataframe tbody tr th:only-of-type {\n",
       "        vertical-align: middle;\n",
       "    }\n",
       "\n",
       "    .dataframe tbody tr th {\n",
       "        vertical-align: top;\n",
       "    }\n",
       "\n",
       "    .dataframe thead th {\n",
       "        text-align: right;\n",
       "    }\n",
       "</style>\n",
       "<table border=\"1\" class=\"dataframe\">\n",
       "  <thead>\n",
       "    <tr style=\"text-align: right;\">\n",
       "      <th></th>\n",
       "      <th>domain</th>\n",
       "      <th>label</th>\n",
       "      <th>whois_counts</th>\n",
       "      <th>company_name_counts</th>\n",
       "      <th>host_provider_counts</th>\n",
       "      <th>mail_provider_counts</th>\n",
       "      <th>registrar_counts</th>\n",
       "      <th>security_trail_exist</th>\n",
       "      <th>app_list_exist</th>\n",
       "      <th>category_list_counts</th>\n",
       "      <th>...</th>\n",
       "      <th>ns_neustar</th>\n",
       "      <th>ns_noip</th>\n",
       "      <th>ns_ns1</th>\n",
       "      <th>ns_register_com</th>\n",
       "      <th>ns_sprint</th>\n",
       "      <th>ns_total_uptime</th>\n",
       "      <th>ns_verisign</th>\n",
       "      <th>ns_verizon</th>\n",
       "      <th>dmarc_easydmarc</th>\n",
       "      <th>ns_cloudflare</th>\n",
       "    </tr>\n",
       "  </thead>\n",
       "  <tbody>\n",
       "    <tr>\n",
       "      <th>0</th>\n",
       "      <td>assecosol.com</td>\n",
       "      <td>trusted</td>\n",
       "      <td>20</td>\n",
       "      <td>2</td>\n",
       "      <td>6</td>\n",
       "      <td>3</td>\n",
       "      <td>3</td>\n",
       "      <td>1</td>\n",
       "      <td>0</td>\n",
       "      <td>0</td>\n",
       "      <td>...</td>\n",
       "      <td>0</td>\n",
       "      <td>0</td>\n",
       "      <td>0</td>\n",
       "      <td>0</td>\n",
       "      <td>0</td>\n",
       "      <td>0</td>\n",
       "      <td>0</td>\n",
       "      <td>0</td>\n",
       "      <td>0</td>\n",
       "      <td>0</td>\n",
       "    </tr>\n",
       "    <tr>\n",
       "      <th>1</th>\n",
       "      <td>jewishexperience.org</td>\n",
       "      <td>trusted</td>\n",
       "      <td>1</td>\n",
       "      <td>1</td>\n",
       "      <td>1</td>\n",
       "      <td>1</td>\n",
       "      <td>1</td>\n",
       "      <td>1</td>\n",
       "      <td>1</td>\n",
       "      <td>9</td>\n",
       "      <td>...</td>\n",
       "      <td>0</td>\n",
       "      <td>0</td>\n",
       "      <td>0</td>\n",
       "      <td>0</td>\n",
       "      <td>0</td>\n",
       "      <td>0</td>\n",
       "      <td>0</td>\n",
       "      <td>0</td>\n",
       "      <td>0</td>\n",
       "      <td>0</td>\n",
       "    </tr>\n",
       "    <tr>\n",
       "      <th>2</th>\n",
       "      <td>ssrefl.com</td>\n",
       "      <td>trusted</td>\n",
       "      <td>0</td>\n",
       "      <td>0</td>\n",
       "      <td>0</td>\n",
       "      <td>0</td>\n",
       "      <td>0</td>\n",
       "      <td>0</td>\n",
       "      <td>1</td>\n",
       "      <td>13</td>\n",
       "      <td>...</td>\n",
       "      <td>0</td>\n",
       "      <td>0</td>\n",
       "      <td>0</td>\n",
       "      <td>0</td>\n",
       "      <td>0</td>\n",
       "      <td>0</td>\n",
       "      <td>0</td>\n",
       "      <td>0</td>\n",
       "      <td>0</td>\n",
       "      <td>0</td>\n",
       "    </tr>\n",
       "    <tr>\n",
       "      <th>3</th>\n",
       "      <td>garverteam.com</td>\n",
       "      <td>trusted</td>\n",
       "      <td>0</td>\n",
       "      <td>0</td>\n",
       "      <td>0</td>\n",
       "      <td>0</td>\n",
       "      <td>0</td>\n",
       "      <td>0</td>\n",
       "      <td>1</td>\n",
       "      <td>10</td>\n",
       "      <td>...</td>\n",
       "      <td>0</td>\n",
       "      <td>0</td>\n",
       "      <td>0</td>\n",
       "      <td>0</td>\n",
       "      <td>0</td>\n",
       "      <td>0</td>\n",
       "      <td>0</td>\n",
       "      <td>0</td>\n",
       "      <td>0</td>\n",
       "      <td>0</td>\n",
       "    </tr>\n",
       "    <tr>\n",
       "      <th>4</th>\n",
       "      <td>digitalinspiration.com</td>\n",
       "      <td>trusted</td>\n",
       "      <td>20</td>\n",
       "      <td>2</td>\n",
       "      <td>5</td>\n",
       "      <td>3</td>\n",
       "      <td>4</td>\n",
       "      <td>1</td>\n",
       "      <td>1</td>\n",
       "      <td>12</td>\n",
       "      <td>...</td>\n",
       "      <td>0</td>\n",
       "      <td>0</td>\n",
       "      <td>0</td>\n",
       "      <td>0</td>\n",
       "      <td>0</td>\n",
       "      <td>0</td>\n",
       "      <td>0</td>\n",
       "      <td>0</td>\n",
       "      <td>0</td>\n",
       "      <td>0</td>\n",
       "    </tr>\n",
       "  </tbody>\n",
       "</table>\n",
       "<p>5 rows × 148 columns</p>\n",
       "</div>"
      ],
      "text/plain": [
       "                   domain    label  whois_counts  company_name_counts  \\\n",
       "0           assecosol.com  trusted            20                    2   \n",
       "1    jewishexperience.org  trusted             1                    1   \n",
       "2              ssrefl.com  trusted             0                    0   \n",
       "3          garverteam.com  trusted             0                    0   \n",
       "4  digitalinspiration.com  trusted            20                    2   \n",
       "\n",
       "   host_provider_counts  mail_provider_counts  registrar_counts  \\\n",
       "0                     6                     3                 3   \n",
       "1                     1                     1                 1   \n",
       "2                     0                     0                 0   \n",
       "3                     0                     0                 0   \n",
       "4                     5                     3                 4   \n",
       "\n",
       "   security_trail_exist  app_list_exist  category_list_counts  ...  \\\n",
       "0                     1               0                     0  ...   \n",
       "1                     1               1                     9  ...   \n",
       "2                     0               1                    13  ...   \n",
       "3                     0               1                    10  ...   \n",
       "4                     1               1                    12  ...   \n",
       "\n",
       "   ns_neustar  ns_noip  ns_ns1  ns_register_com  ns_sprint  ns_total_uptime  \\\n",
       "0           0        0       0                0          0                0   \n",
       "1           0        0       0                0          0                0   \n",
       "2           0        0       0                0          0                0   \n",
       "3           0        0       0                0          0                0   \n",
       "4           0        0       0                0          0                0   \n",
       "\n",
       "   ns_verisign  ns_verizon  dmarc_easydmarc  ns_cloudflare  \n",
       "0            0           0                0              0  \n",
       "1            0           0                0              0  \n",
       "2            0           0                0              0  \n",
       "3            0           0                0              0  \n",
       "4            0           0                0              0  \n",
       "\n",
       "[5 rows x 148 columns]"
      ]
     },
     "execution_count": 14,
     "metadata": {},
     "output_type": "execute_result"
    }
   ],
   "source": [
    "df_label.head()"
   ]
  },
  {
   "cell_type": "markdown",
   "metadata": {},
   "source": [
    "# 2. Train models\n",
    "----"
   ]
  },
  {
   "cell_type": "markdown",
   "metadata": {},
   "source": [
    "## Split Data into Train and Test sets\n",
    "* `X`: predictor variables\n",
    "* `y`: Response variable, the labels"
   ]
  },
  {
   "cell_type": "code",
   "execution_count": 15,
   "metadata": {
    "ExecuteTime": {
     "end_time": "2019-06-21T07:10:37.721412Z",
     "start_time": "2019-06-21T07:10:37.639951Z"
    }
   },
   "outputs": [],
   "source": [
    "X, y = df_label.select_dtypes(include='int'), df_label['label']"
   ]
  },
  {
   "cell_type": "code",
   "execution_count": 16,
   "metadata": {
    "ExecuteTime": {
     "end_time": "2019-06-21T07:10:39.047664Z",
     "start_time": "2019-06-21T07:10:38.966057Z"
    }
   },
   "outputs": [
    {
     "data": {
      "text/plain": [
       "((49076, 146), (12269, 146))"
      ]
     },
     "execution_count": 16,
     "metadata": {},
     "output_type": "execute_result"
    }
   ],
   "source": [
    "X_train, X_test, y_train, y_test = train_test_split(X, y, test_size=0.2, random_state=42)\n",
    "X_train.shape, X_test.shape"
   ]
  },
  {
   "cell_type": "markdown",
   "metadata": {},
   "source": [
    "## Logistic Regression"
   ]
  },
  {
   "cell_type": "code",
   "execution_count": 17,
   "metadata": {
    "ExecuteTime": {
     "end_time": "2019-06-21T07:10:42.136477Z",
     "start_time": "2019-06-21T07:10:41.028953Z"
    }
   },
   "outputs": [
    {
     "name": "stdout",
     "output_type": "stream",
     "text": [
      "              precision    recall  f1-score   support\n",
      "\n",
      "     trusted       1.00      0.92      0.96     12204\n",
      "   untrusted       0.04      0.71      0.08        65\n",
      "\n",
      "   micro avg       0.91      0.91      0.91     12269\n",
      "   macro avg       0.52      0.81      0.52     12269\n",
      "weighted avg       0.99      0.91      0.95     12269\n",
      "\n"
     ]
    }
   ],
   "source": [
    "lr = LogisticRegression()\n",
    "lr.fit(X_train, y_train)\n",
    "\n",
    "print(classification_report(lr.predict(X_test), y_test))"
   ]
  },
  {
   "cell_type": "markdown",
   "metadata": {},
   "source": [
    "## Random Forest"
   ]
  },
  {
   "cell_type": "code",
   "execution_count": 18,
   "metadata": {
    "ExecuteTime": {
     "end_time": "2019-06-21T07:10:52.098382Z",
     "start_time": "2019-06-21T07:10:44.027183Z"
    }
   },
   "outputs": [
    {
     "name": "stdout",
     "output_type": "stream",
     "text": [
      "              precision    recall  f1-score   support\n",
      "\n",
      "     trusted       0.99      0.92      0.95     12119\n",
      "   untrusted       0.07      0.53      0.13       150\n",
      "\n",
      "   micro avg       0.91      0.91      0.91     12269\n",
      "   macro avg       0.53      0.72      0.54     12269\n",
      "weighted avg       0.98      0.91      0.94     12269\n",
      "\n"
     ]
    }
   ],
   "source": [
    "rf = RandomForestClassifier(n_estimators=100)\n",
    "rf.fit(X_train, y_train)\n",
    "\n",
    "print(classification_report(rf.predict(X_test), y_test))"
   ]
  },
  {
   "cell_type": "markdown",
   "metadata": {},
   "source": [
    "## Decision Tree Visualization"
   ]
  },
  {
   "cell_type": "code",
   "execution_count": 29,
   "metadata": {},
   "outputs": [
    {
     "data": {
      "text/plain": [
       "DecisionTreeClassifier(class_weight=None, criterion='gini', max_depth=4,\n",
       "            max_features=None, max_leaf_nodes=None,\n",
       "            min_impurity_decrease=0.0, min_impurity_split=None,\n",
       "            min_samples_leaf=50, min_samples_split=2,\n",
       "            min_weight_fraction_leaf=0.0, presort=False, random_state=None,\n",
       "            splitter='best')"
      ]
     },
     "execution_count": 29,
     "metadata": {},
     "output_type": "execute_result"
    }
   ],
   "source": [
    "# from sklearn import tree\n",
    "# from dtreeviz.trees import *\n",
    "\n",
    "# y_viz = y_train.map({'trusted':0, 'untrusted':1})\n",
    "# classifier = tree.DecisionTreeClassifier(max_depth=4, min_samples_leaf=50)  # limit depth of tree\n",
    "# classifier.fit(X_train, y_viz)"
   ]
  },
  {
   "cell_type": "code",
   "execution_count": 30,
   "metadata": {},
   "outputs": [
    {
     "data": {
      "image/svg+xml": [
       "<?xml version=\"1.0\" encoding=\"UTF-8\"?>\n",
       "<svg xmlns=\"http://www.w3.org/2000/svg\" xmlns:xlink=\"http://www.w3.org/1999/xlink\" width=\"694pt\" height=\"234pt\" viewBox=\"0 0 694 234\" version=\"1.1\">\n",
       "<defs>\n",
       "<g>\n",
       "<symbol overflow=\"visible\" id=\"glyph0-0\">\n",
       "<path style=\"stroke:none;\" d=\"M 0.289062 0 L 0.289062 -6.457031 L 5.414062 -6.457031 L 5.414062 0 Z M 4.605469 -0.808594 L 4.605469 -5.648438 L 1.097656 -5.648438 L 1.097656 -0.808594 Z M 4.605469 -0.808594 \"/>\n",
       "</symbol>\n",
       "<symbol overflow=\"visible\" id=\"glyph0-1\">\n",
       "<path style=\"stroke:none;\" d=\"M 0.945312 -4.707031 L 1.851562 -0.996094 L 2.769531 -4.707031 L 3.65625 -4.707031 L 4.578125 -1.019531 L 5.542969 -4.707031 L 6.332031 -4.707031 L 4.964844 0 L 4.144531 0 L 3.1875 -3.644531 L 2.257812 0 L 1.4375 0 L 0.078125 -4.707031 Z M 0.945312 -4.707031 \"/>\n",
       "</symbol>\n",
       "<symbol overflow=\"visible\" id=\"glyph0-2\">\n",
       "<path style=\"stroke:none;\" d=\"M 0.578125 -6.476562 L 1.371094 -6.476562 L 1.371094 -4.070312 C 1.558594 -4.308594 1.726562 -4.472656 1.875 -4.570312 C 2.132812 -4.738281 2.449219 -4.820312 2.828125 -4.820312 C 3.511719 -4.820312 3.976562 -4.582031 4.21875 -4.105469 C 4.351562 -3.84375 4.417969 -3.480469 4.417969 -3.019531 L 4.417969 0 L 3.601562 0 L 3.601562 -2.964844 C 3.601562 -3.3125 3.558594 -3.566406 3.472656 -3.726562 C 3.328125 -3.984375 3.058594 -4.113281 2.664062 -4.113281 C 2.335938 -4.113281 2.039062 -4 1.769531 -3.773438 C 1.503906 -3.546875 1.371094 -3.125 1.371094 -2.496094 L 1.371094 0 L 0.578125 0 Z M 0.578125 -6.476562 \"/>\n",
       "</symbol>\n",
       "<symbol overflow=\"visible\" id=\"glyph0-3\">\n",
       "<path style=\"stroke:none;\" d=\"M 2.449219 -0.507812 C 2.972656 -0.507812 3.332031 -0.707031 3.527344 -1.105469 C 3.722656 -1.503906 3.820312 -1.945312 3.820312 -2.429688 C 3.820312 -2.871094 3.75 -3.226562 3.609375 -3.503906 C 3.386719 -3.9375 3 -4.152344 2.457031 -4.152344 C 1.972656 -4.152344 1.621094 -3.96875 1.402344 -3.597656 C 1.183594 -3.230469 1.070312 -2.785156 1.070312 -2.261719 C 1.070312 -1.761719 1.183594 -1.34375 1.402344 -1.011719 C 1.621094 -0.675781 1.96875 -0.507812 2.449219 -0.507812 Z M 2.476562 -4.84375 C 3.085938 -4.84375 3.597656 -4.640625 4.015625 -4.234375 C 4.433594 -3.832031 4.644531 -3.238281 4.644531 -2.453125 C 4.644531 -1.695312 4.460938 -1.066406 4.089844 -0.570312 C 3.722656 -0.0742188 3.148438 0.171875 2.375 0.171875 C 1.726562 0.171875 1.210938 -0.046875 0.832031 -0.484375 C 0.449219 -0.921875 0.257812 -1.511719 0.257812 -2.25 C 0.257812 -3.039062 0.460938 -3.671875 0.859375 -4.140625 C 1.261719 -4.609375 1.800781 -4.84375 2.476562 -4.84375 Z M 2.476562 -4.84375 \"/>\n",
       "</symbol>\n",
       "<symbol overflow=\"visible\" id=\"glyph0-4\">\n",
       "<path style=\"stroke:none;\" d=\"M 0.578125 -4.683594 L 1.382812 -4.683594 L 1.382812 0 L 0.578125 0 Z M 0.578125 -6.457031 L 1.382812 -6.457031 L 1.382812 -5.558594 L 0.578125 -5.558594 Z M 0.578125 -6.457031 \"/>\n",
       "</symbol>\n",
       "<symbol overflow=\"visible\" id=\"glyph0-5\">\n",
       "<path style=\"stroke:none;\" d=\"M 1.050781 -1.476562 C 1.074219 -1.210938 1.140625 -1.011719 1.25 -0.871094 C 1.449219 -0.617188 1.792969 -0.488281 2.285156 -0.488281 C 2.578125 -0.488281 2.835938 -0.550781 3.058594 -0.679688 C 3.28125 -0.804688 3.390625 -1.003906 3.390625 -1.269531 C 3.390625 -1.472656 3.304688 -1.625 3.125 -1.730469 C 3.011719 -1.796875 2.785156 -1.871094 2.449219 -1.957031 L 1.820312 -2.113281 C 1.417969 -2.214844 1.121094 -2.324219 0.929688 -2.449219 C 0.589844 -2.664062 0.421875 -2.957031 0.421875 -3.335938 C 0.421875 -3.78125 0.582031 -4.140625 0.902344 -4.417969 C 1.222656 -4.691406 1.65625 -4.828125 2.195312 -4.828125 C 2.90625 -4.828125 3.417969 -4.621094 3.730469 -4.207031 C 3.925781 -3.941406 4.023438 -3.65625 4.015625 -3.351562 L 3.269531 -3.351562 C 3.253906 -3.53125 3.191406 -3.695312 3.082031 -3.839844 C 2.898438 -4.046875 2.585938 -4.152344 2.136719 -4.152344 C 1.835938 -4.152344 1.609375 -4.09375 1.457031 -3.980469 C 1.304688 -3.867188 1.226562 -3.714844 1.226562 -3.527344 C 1.226562 -3.324219 1.328125 -3.160156 1.53125 -3.035156 C 1.648438 -2.960938 1.820312 -2.898438 2.046875 -2.84375 L 2.570312 -2.714844 C 3.140625 -2.578125 3.519531 -2.445312 3.714844 -2.316406 C 4.023438 -2.113281 4.175781 -1.796875 4.175781 -1.363281 C 4.175781 -0.945312 4.015625 -0.582031 3.699219 -0.277344 C 3.378906 0.0273438 2.894531 0.179688 2.246094 0.179688 C 1.546875 0.179688 1.050781 0.0195312 0.757812 -0.296875 C 0.464844 -0.613281 0.3125 -1.007812 0.289062 -1.476562 Z M 1.050781 -1.476562 \"/>\n",
       "</symbol>\n",
       "<symbol overflow=\"visible\" id=\"glyph0-6\">\n",
       "<path style=\"stroke:none;\" d=\"M 0 1.125 L 0 0.679688 L 5.003906 0.679688 L 5.003906 1.125 Z M 0 1.125 \"/>\n",
       "</symbol>\n",
       "<symbol overflow=\"visible\" id=\"glyph0-7\">\n",
       "<path style=\"stroke:none;\" d=\"M 2.394531 -4.84375 C 2.925781 -4.84375 3.355469 -4.714844 3.6875 -4.457031 C 4.019531 -4.199219 4.222656 -3.753906 4.289062 -3.125 L 3.519531 -3.125 C 3.472656 -3.414062 3.367188 -3.65625 3.199219 -3.847656 C 3.03125 -4.039062 2.765625 -4.136719 2.394531 -4.136719 C 1.890625 -4.136719 1.53125 -3.890625 1.3125 -3.398438 C 1.171875 -3.078125 1.101562 -2.683594 1.101562 -2.214844 C 1.101562 -1.742188 1.203125 -1.347656 1.402344 -1.023438 C 1.601562 -0.703125 1.914062 -0.539062 2.34375 -0.539062 C 2.671875 -0.539062 2.929688 -0.640625 3.121094 -0.839844 C 3.3125 -1.042969 3.445312 -1.316406 3.519531 -1.664062 L 4.289062 -1.664062 C 4.203125 -1.039062 3.980469 -0.585938 3.628906 -0.296875 C 3.277344 -0.0078125 2.828125 0.136719 2.28125 0.136719 C 1.664062 0.136719 1.175781 -0.0898438 0.808594 -0.539062 C 0.441406 -0.988281 0.257812 -1.550781 0.257812 -2.222656 C 0.257812 -3.050781 0.460938 -3.691406 0.859375 -4.152344 C 1.261719 -4.613281 1.773438 -4.84375 2.394531 -4.84375 Z M 2.394531 -4.84375 \"/>\n",
       "</symbol>\n",
       "<symbol overflow=\"visible\" id=\"glyph0-8\">\n",
       "<path style=\"stroke:none;\" d=\"M 1.371094 -4.707031 L 1.371094 -1.582031 C 1.371094 -1.34375 1.410156 -1.144531 1.484375 -0.992188 C 1.625 -0.710938 1.886719 -0.570312 2.273438 -0.570312 C 2.824219 -0.570312 3.199219 -0.816406 3.398438 -1.308594 C 3.507812 -1.574219 3.558594 -1.933594 3.558594 -2.394531 L 3.558594 -4.707031 L 4.351562 -4.707031 L 4.351562 0 L 3.601562 0 L 3.613281 -0.695312 C 3.511719 -0.515625 3.382812 -0.363281 3.230469 -0.242188 C 2.929688 0.00390625 2.5625 0.128906 2.132812 0.128906 C 1.460938 0.128906 1.003906 -0.0976562 0.761719 -0.546875 C 0.628906 -0.785156 0.5625 -1.105469 0.5625 -1.507812 L 0.5625 -4.707031 Z M 1.371094 -4.707031 \"/>\n",
       "</symbol>\n",
       "<symbol overflow=\"visible\" id=\"glyph0-9\">\n",
       "<path style=\"stroke:none;\" d=\"M 0.578125 -4.707031 L 1.332031 -4.707031 L 1.332031 -4.039062 C 1.554688 -4.3125 1.789062 -4.511719 2.039062 -4.632812 C 2.289062 -4.753906 2.566406 -4.8125 2.871094 -4.8125 C 3.539062 -4.8125 3.988281 -4.578125 4.222656 -4.113281 C 4.351562 -3.859375 4.417969 -3.492188 4.417969 -3.019531 L 4.417969 0 L 3.613281 0 L 3.613281 -2.964844 C 3.613281 -3.253906 3.570312 -3.484375 3.484375 -3.660156 C 3.34375 -3.953125 3.089844 -4.101562 2.71875 -4.101562 C 2.53125 -4.101562 2.378906 -4.082031 2.257812 -4.042969 C 2.042969 -3.976562 1.851562 -3.851562 1.6875 -3.65625 C 1.554688 -3.5 1.46875 -3.339844 1.429688 -3.175781 C 1.390625 -3.007812 1.371094 -2.773438 1.371094 -2.464844 L 1.371094 0 L 0.578125 0 Z M 0.578125 -4.707031 \"/>\n",
       "</symbol>\n",
       "<symbol overflow=\"visible\" id=\"glyph0-10\">\n",
       "<path style=\"stroke:none;\" d=\"M 0.738281 -6.019531 L 1.539062 -6.019531 L 1.539062 -4.707031 L 2.289062 -4.707031 L 2.289062 -4.0625 L 1.539062 -4.0625 L 1.539062 -0.988281 C 1.539062 -0.824219 1.59375 -0.714844 1.703125 -0.660156 C 1.765625 -0.628906 1.867188 -0.609375 2.011719 -0.609375 C 2.050781 -0.609375 2.09375 -0.613281 2.136719 -0.613281 C 2.179688 -0.613281 2.230469 -0.617188 2.289062 -0.625 L 2.289062 0 C 2.199219 0.0273438 2.105469 0.046875 2.007812 0.0585938 C 1.910156 0.0703125 1.800781 0.0742188 1.6875 0.0742188 C 1.320312 0.0742188 1.066406 -0.0195312 0.9375 -0.207031 C 0.804688 -0.398438 0.738281 -0.644531 0.738281 -0.945312 L 0.738281 -4.0625 L 0.101562 -4.0625 L 0.101562 -4.707031 L 0.738281 -4.707031 Z M 0.738281 -6.019531 \"/>\n",
       "</symbol>\n",
       "<symbol overflow=\"visible\" id=\"glyph0-11\">\n",
       "<path style=\"stroke:none;\" d=\"M 5.488281 -3.925781 C 5.488281 -4.105469 5.429688 -4.269531 5.304688 -4.414062 C 5.183594 -4.558594 5.015625 -4.632812 4.804688 -4.632812 C 4.46875 -4.632812 4.179688 -4.433594 3.933594 -4.039062 C 3.691406 -3.644531 3.570312 -3.253906 3.570312 -2.867188 C 3.570312 -2.578125 3.632812 -2.359375 3.757812 -2.207031 C 3.882812 -2.058594 4.042969 -1.980469 4.230469 -1.980469 C 4.625 -1.980469 4.9375 -2.210938 5.15625 -2.675781 C 5.378906 -3.136719 5.488281 -3.550781 5.488281 -3.925781 Z M 4.613281 0.1875 C 3.390625 0.1875 2.445312 -0.195312 1.785156 -0.957031 C 1.253906 -1.570312 0.988281 -2.277344 0.988281 -3.082031 C 0.988281 -4.035156 1.3125 -4.847656 1.957031 -5.515625 C 2.671875 -6.257812 3.628906 -6.632812 4.835938 -6.632812 C 5.878906 -6.632812 6.695312 -6.367188 7.296875 -5.839844 C 7.855469 -5.34375 8.132812 -4.695312 8.132812 -3.902344 C 8.132812 -3.234375 7.933594 -2.664062 7.535156 -2.191406 C 7.132812 -1.71875 6.6875 -1.480469 6.191406 -1.480469 C 5.902344 -1.480469 5.6875 -1.550781 5.550781 -1.691406 C 5.414062 -1.828125 5.34375 -1.996094 5.34375 -2.191406 C 5.34375 -2.226562 5.347656 -2.257812 5.351562 -2.292969 C 5.359375 -2.328125 5.367188 -2.367188 5.375 -2.402344 C 5.21875 -2.066406 5.023438 -1.828125 4.785156 -1.691406 C 4.546875 -1.550781 4.304688 -1.480469 4.050781 -1.480469 C 3.691406 -1.480469 3.398438 -1.609375 3.175781 -1.871094 C 2.953125 -2.132812 2.839844 -2.46875 2.839844 -2.878906 C 2.839844 -3.460938 3.03125 -3.976562 3.414062 -4.421875 C 3.796875 -4.867188 4.207031 -5.089844 4.644531 -5.089844 C 4.945312 -5.089844 5.191406 -5.003906 5.386719 -4.828125 C 5.582031 -4.65625 5.683594 -4.449219 5.695312 -4.207031 L 5.914062 -4.945312 L 6.5625 -4.945312 L 5.976562 -3.019531 C 5.933594 -2.871094 5.898438 -2.75 5.878906 -2.660156 C 5.859375 -2.570312 5.847656 -2.488281 5.847656 -2.417969 C 5.847656 -2.285156 5.890625 -2.1875 5.96875 -2.128906 C 6.050781 -2.070312 6.140625 -2.039062 6.246094 -2.039062 C 6.578125 -2.039062 6.878906 -2.214844 7.144531 -2.5625 C 7.410156 -2.910156 7.539062 -3.367188 7.539062 -3.929688 C 7.539062 -4.609375 7.304688 -5.140625 6.828125 -5.53125 C 6.355469 -5.917969 5.714844 -6.113281 4.914062 -6.113281 C 3.800781 -6.113281 2.949219 -5.789062 2.359375 -5.136719 C 1.855469 -4.582031 1.605469 -3.886719 1.605469 -3.050781 C 1.605469 -2.316406 1.84375 -1.703125 2.324219 -1.203125 C 2.886719 -0.613281 3.6875 -0.320312 4.726562 -0.320312 C 5.214844 -0.320312 5.667969 -0.398438 6.085938 -0.550781 C 6.503906 -0.703125 6.890625 -0.914062 7.238281 -1.171875 L 7.527344 -0.777344 C 7.265625 -0.542969 6.871094 -0.324219 6.34375 -0.117188 C 5.820312 0.0859375 5.242188 0.1875 4.613281 0.1875 Z M 4.613281 0.1875 \"/>\n",
       "</symbol>\n",
       "<symbol overflow=\"visible\" id=\"glyph0-12\">\n",
       "<path style=\"stroke:none;\" d=\"M 2.433594 -6.292969 C 3.25 -6.292969 3.835938 -5.957031 4.203125 -5.285156 C 4.484375 -4.765625 4.625 -4.058594 4.625 -3.15625 C 4.625 -2.300781 4.496094 -1.59375 4.242188 -1.03125 C 3.871094 -0.230469 3.269531 0.171875 2.429688 0.171875 C 1.675781 0.171875 1.113281 -0.15625 0.742188 -0.8125 C 0.433594 -1.359375 0.28125 -2.097656 0.28125 -3.019531 C 0.28125 -3.734375 0.375 -4.347656 0.558594 -4.859375 C 0.902344 -5.816406 1.53125 -6.292969 2.433594 -6.292969 Z M 2.425781 -0.550781 C 2.835938 -0.550781 3.164062 -0.730469 3.40625 -1.09375 C 3.648438 -1.457031 3.769531 -2.132812 3.769531 -3.125 C 3.769531 -3.839844 3.683594 -4.425781 3.507812 -4.890625 C 3.332031 -5.351562 2.988281 -5.582031 2.484375 -5.582031 C 2.015625 -5.582031 1.675781 -5.363281 1.460938 -4.925781 C 1.246094 -4.488281 1.136719 -3.839844 1.136719 -2.988281 C 1.136719 -2.347656 1.207031 -1.832031 1.34375 -1.441406 C 1.554688 -0.847656 1.914062 -0.550781 2.425781 -0.550781 Z M 2.425781 -0.550781 \"/>\n",
       "</symbol>\n",
       "<symbol overflow=\"visible\" id=\"glyph0-13\">\n",
       "<path style=\"stroke:none;\" d=\"M 0.769531 -0.957031 L 1.6875 -0.957031 L 1.6875 0 L 0.769531 0 Z M 0.769531 -0.957031 \"/>\n",
       "</symbol>\n",
       "<symbol overflow=\"visible\" id=\"glyph0-14\">\n",
       "<path style=\"stroke:none;\" d=\"M 1.113281 -1.605469 C 1.164062 -1.152344 1.375 -0.839844 1.742188 -0.667969 C 1.929688 -0.578125 2.144531 -0.535156 2.390625 -0.535156 C 2.859375 -0.535156 3.207031 -0.6875 3.433594 -0.984375 C 3.65625 -1.28125 3.769531 -1.613281 3.769531 -1.976562 C 3.769531 -2.417969 3.636719 -2.757812 3.367188 -2.996094 C 3.101562 -3.238281 2.777344 -3.359375 2.402344 -3.359375 C 2.132812 -3.359375 1.898438 -3.304688 1.703125 -3.199219 C 1.507812 -3.09375 1.34375 -2.945312 1.203125 -2.757812 L 0.519531 -2.800781 L 0.996094 -6.1875 L 4.265625 -6.1875 L 4.265625 -5.421875 L 1.589844 -5.421875 L 1.324219 -3.671875 C 1.46875 -3.785156 1.609375 -3.867188 1.742188 -3.925781 C 1.976562 -4.023438 2.246094 -4.070312 2.554688 -4.070312 C 3.132812 -4.070312 3.621094 -3.882812 4.019531 -3.511719 C 4.421875 -3.140625 4.625 -2.667969 4.625 -2.097656 C 4.625 -1.5 4.4375 -0.976562 4.070312 -0.523438 C 3.703125 -0.0703125 3.117188 0.15625 2.3125 0.15625 C 1.800781 0.15625 1.34375 0.015625 0.953125 -0.273438 C 0.558594 -0.5625 0.335938 -1.007812 0.289062 -1.605469 Z M 1.113281 -1.605469 \"/>\n",
       "</symbol>\n",
       "<symbol overflow=\"visible\" id=\"glyph0-15\">\n",
       "<path style=\"stroke:none;\" d=\"M 0.777344 -5.421875 C 0.789062 -5.75 0.847656 -5.992188 0.949219 -6.144531 C 1.132812 -6.414062 1.488281 -6.546875 2.015625 -6.546875 C 2.066406 -6.546875 2.117188 -6.546875 2.171875 -6.542969 C 2.222656 -6.539062 2.285156 -6.535156 2.351562 -6.53125 L 2.351562 -5.808594 C 2.269531 -5.816406 2.210938 -5.820312 2.171875 -5.820312 C 2.136719 -5.820312 2.101562 -5.824219 2.070312 -5.824219 C 1.828125 -5.824219 1.6875 -5.761719 1.640625 -5.636719 C 1.59375 -5.511719 1.570312 -5.195312 1.570312 -4.683594 L 2.351562 -4.683594 L 2.351562 -4.0625 L 1.558594 -4.0625 L 1.558594 0 L 0.777344 0 L 0.777344 -4.0625 L 0.125 -4.0625 L 0.125 -4.683594 L 0.777344 -4.683594 Z M 0.777344 -5.421875 \"/>\n",
       "</symbol>\n",
       "<symbol overflow=\"visible\" id=\"glyph0-16\">\n",
       "<path style=\"stroke:none;\" d=\"M 1.1875 -1.253906 C 1.1875 -1.023438 1.269531 -0.84375 1.4375 -0.710938 C 1.605469 -0.578125 1.800781 -0.515625 2.03125 -0.515625 C 2.308594 -0.515625 2.578125 -0.578125 2.839844 -0.707031 C 3.277344 -0.921875 3.5 -1.273438 3.5 -1.757812 L 3.5 -2.394531 C 3.402344 -2.332031 3.277344 -2.28125 3.125 -2.242188 C 2.972656 -2.199219 2.824219 -2.171875 2.675781 -2.152344 L 2.195312 -2.09375 C 1.910156 -2.054688 1.695312 -1.992188 1.550781 -1.910156 C 1.308594 -1.773438 1.1875 -1.554688 1.1875 -1.253906 Z M 3.101562 -2.851562 C 3.285156 -2.875 3.40625 -2.953125 3.46875 -3.082031 C 3.503906 -3.152344 3.519531 -3.25 3.519531 -3.382812 C 3.519531 -3.652344 3.425781 -3.847656 3.230469 -3.96875 C 3.039062 -4.089844 2.765625 -4.152344 2.40625 -4.152344 C 1.996094 -4.152344 1.703125 -4.042969 1.53125 -3.820312 C 1.433594 -3.695312 1.371094 -3.511719 1.339844 -3.269531 L 0.601562 -3.269531 C 0.617188 -3.851562 0.804688 -4.253906 1.167969 -4.480469 C 1.527344 -4.707031 1.949219 -4.820312 2.425781 -4.820312 C 2.980469 -4.820312 3.429688 -4.714844 3.773438 -4.503906 C 4.117188 -4.292969 4.289062 -3.964844 4.289062 -3.519531 L 4.289062 -0.808594 C 4.289062 -0.726562 4.304688 -0.660156 4.339844 -0.609375 C 4.375 -0.5625 4.445312 -0.535156 4.554688 -0.535156 C 4.589844 -0.535156 4.628906 -0.539062 4.671875 -0.542969 C 4.714844 -0.546875 4.761719 -0.554688 4.8125 -0.5625 L 4.8125 0.0234375 C 4.6875 0.0585938 4.59375 0.078125 4.53125 0.0859375 C 4.464844 0.0976562 4.378906 0.101562 4.265625 0.101562 C 3.992188 0.101562 3.796875 0.00390625 3.671875 -0.1875 C 3.609375 -0.289062 3.5625 -0.4375 3.539062 -0.625 C 3.375 -0.414062 3.144531 -0.230469 2.84375 -0.0742188 C 2.542969 0.0820312 2.210938 0.15625 1.84375 0.15625 C 1.410156 0.15625 1.050781 0.0273438 0.777344 -0.238281 C 0.5 -0.503906 0.359375 -0.835938 0.359375 -1.234375 C 0.359375 -1.671875 0.496094 -2.007812 0.769531 -2.25 C 1.042969 -2.492188 1.398438 -2.636719 1.839844 -2.695312 Z M 3.101562 -2.851562 \"/>\n",
       "</symbol>\n",
       "<symbol overflow=\"visible\" id=\"glyph0-17\">\n",
       "<path style=\"stroke:none;\" d=\"M 2.539062 -4.8125 C 2.875 -4.8125 3.199219 -4.734375 3.511719 -4.578125 C 3.824219 -4.421875 4.0625 -4.21875 4.226562 -3.96875 C 4.386719 -3.730469 4.492188 -3.453125 4.542969 -3.136719 C 4.589844 -2.921875 4.613281 -2.574219 4.613281 -2.101562 L 1.164062 -2.101562 C 1.179688 -1.625 1.292969 -1.238281 1.503906 -0.953125 C 1.714844 -0.664062 2.039062 -0.519531 2.484375 -0.519531 C 2.898438 -0.519531 3.226562 -0.65625 3.472656 -0.925781 C 3.613281 -1.085938 3.710938 -1.269531 3.769531 -1.476562 L 4.546875 -1.476562 C 4.527344 -1.304688 4.460938 -1.109375 4.34375 -0.898438 C 4.226562 -0.6875 4.097656 -0.511719 3.953125 -0.378906 C 3.714844 -0.144531 3.417969 0.015625 3.0625 0.0976562 C 2.871094 0.144531 2.65625 0.167969 2.417969 0.167969 C 1.832031 0.167969 1.335938 -0.046875 0.925781 -0.472656 C 0.519531 -0.898438 0.316406 -1.496094 0.316406 -2.261719 C 0.316406 -3.019531 0.523438 -3.632812 0.929688 -4.105469 C 1.339844 -4.578125 1.878906 -4.8125 2.539062 -4.8125 Z M 3.800781 -2.730469 C 3.769531 -3.070312 3.695312 -3.34375 3.578125 -3.550781 C 3.359375 -3.929688 3 -4.121094 2.492188 -4.121094 C 2.128906 -4.121094 1.824219 -3.992188 1.578125 -3.730469 C 1.332031 -3.46875 1.203125 -3.132812 1.1875 -2.730469 Z M 3.800781 -2.730469 \"/>\n",
       "</symbol>\n",
       "<symbol overflow=\"visible\" id=\"glyph0-18\">\n",
       "<path style=\"stroke:none;\" d=\"M 0.519531 -6.476562 L 1.289062 -6.476562 L 1.289062 -4.136719 C 1.460938 -4.359375 1.667969 -4.53125 1.90625 -4.652344 C 2.148438 -4.769531 2.40625 -4.828125 2.6875 -4.828125 C 3.273438 -4.828125 3.75 -4.628906 4.117188 -4.226562 C 4.480469 -3.824219 4.664062 -3.226562 4.664062 -2.445312 C 4.664062 -1.699219 4.484375 -1.082031 4.121094 -0.589844 C 3.761719 -0.0976562 3.261719 0.148438 2.625 0.148438 C 2.265625 0.148438 1.964844 0.0625 1.71875 -0.109375 C 1.570312 -0.210938 1.414062 -0.375 1.25 -0.601562 L 1.25 0 L 0.519531 0 Z M 2.574219 -0.550781 C 3.003906 -0.550781 3.324219 -0.71875 3.535156 -1.058594 C 3.746094 -1.398438 3.855469 -1.847656 3.855469 -2.402344 C 3.855469 -2.898438 3.746094 -3.308594 3.535156 -3.632812 C 3.324219 -3.960938 3.011719 -4.121094 2.597656 -4.121094 C 2.238281 -4.121094 1.921875 -3.988281 1.648438 -3.722656 C 1.378906 -3.457031 1.242188 -3.015625 1.242188 -2.402344 C 1.242188 -1.960938 1.300781 -1.601562 1.410156 -1.328125 C 1.617188 -0.808594 2.007812 -0.550781 2.574219 -0.550781 Z M 2.574219 -0.550781 \"/>\n",
       "</symbol>\n",
       "<symbol overflow=\"visible\" id=\"glyph0-19\">\n",
       "<path style=\"stroke:none;\" d=\"M 0.5625 -6.457031 L 1.324219 -6.457031 L 1.324219 -2.707031 L 3.351562 -4.707031 L 4.363281 -4.707031 L 2.5625 -2.945312 L 4.464844 0 L 3.453125 0 L 1.984375 -2.375 L 1.324219 -1.765625 L 1.324219 0 L 0.5625 0 Z M 0.5625 -6.457031 \"/>\n",
       "</symbol>\n",
       "<symbol overflow=\"visible\" id=\"glyph0-20\">\n",
       "<path style=\"stroke:none;\" d=\"M 2.566406 -0.53125 C 2.9375 -0.53125 3.242188 -0.6875 3.488281 -0.996094 C 3.730469 -1.304688 3.855469 -1.765625 3.855469 -2.382812 C 3.855469 -2.757812 3.800781 -3.078125 3.691406 -3.347656 C 3.484375 -3.867188 3.109375 -4.125 2.566406 -4.125 C 2.019531 -4.125 1.644531 -3.851562 1.441406 -3.304688 C 1.332031 -3.011719 1.277344 -2.640625 1.277344 -2.1875 C 1.277344 -1.824219 1.332031 -1.515625 1.441406 -1.261719 C 1.648438 -0.773438 2.023438 -0.53125 2.566406 -0.53125 Z M 0.519531 -4.683594 L 1.289062 -4.683594 L 1.289062 -4.0625 C 1.445312 -4.273438 1.617188 -4.441406 1.804688 -4.558594 C 2.070312 -4.734375 2.386719 -4.820312 2.746094 -4.820312 C 3.28125 -4.820312 3.734375 -4.617188 4.105469 -4.207031 C 4.476562 -3.796875 4.664062 -3.214844 4.664062 -2.457031 C 4.664062 -1.429688 4.394531 -0.699219 3.859375 -0.257812 C 3.519531 0.0195312 3.125 0.15625 2.671875 0.15625 C 2.316406 0.15625 2.019531 0.0820312 1.78125 -0.0742188 C 1.640625 -0.164062 1.484375 -0.3125 1.308594 -0.527344 L 1.308594 1.875 L 0.519531 1.875 Z M 0.519531 -4.683594 \"/>\n",
       "</symbol>\n",
       "<symbol overflow=\"visible\" id=\"glyph0-21\">\n",
       "<path style=\"stroke:none;\" d=\"M 0.601562 -4.707031 L 1.351562 -4.707031 L 1.351562 -3.894531 C 1.414062 -4.050781 1.566406 -4.246094 1.804688 -4.472656 C 2.046875 -4.699219 2.324219 -4.8125 2.636719 -4.8125 C 2.652344 -4.8125 2.675781 -4.8125 2.710938 -4.808594 C 2.746094 -4.804688 2.804688 -4.796875 2.890625 -4.789062 L 2.890625 -3.953125 C 2.84375 -3.964844 2.800781 -3.96875 2.761719 -3.972656 C 2.722656 -3.976562 2.679688 -3.976562 2.632812 -3.976562 C 2.234375 -3.976562 1.929688 -3.847656 1.714844 -3.59375 C 1.5 -3.335938 1.394531 -3.039062 1.394531 -2.707031 L 1.394531 0 L 0.601562 0 Z M 0.601562 -4.707031 \"/>\n",
       "</symbol>\n",
       "<symbol overflow=\"visible\" id=\"glyph0-22\">\n",
       "<path style=\"stroke:none;\" d=\"M 0.96875 -4.707031 L 2.222656 -0.875 L 3.539062 -4.707031 L 4.402344 -4.707031 L 2.628906 0 L 1.785156 0 L 0.046875 -4.707031 Z M 0.96875 -4.707031 \"/>\n",
       "</symbol>\n",
       "<symbol overflow=\"visible\" id=\"glyph0-23\">\n",
       "<path style=\"stroke:none;\" d=\"M 1.082031 -2.296875 C 1.082031 -1.792969 1.1875 -1.371094 1.402344 -1.03125 C 1.617188 -0.691406 1.957031 -0.523438 2.429688 -0.523438 C 2.796875 -0.523438 3.097656 -0.679688 3.332031 -0.996094 C 3.570312 -1.3125 3.6875 -1.761719 3.6875 -2.351562 C 3.6875 -2.945312 3.566406 -3.386719 3.320312 -3.671875 C 3.078125 -3.957031 2.777344 -4.101562 2.421875 -4.101562 C 2.023438 -4.101562 1.699219 -3.949219 1.453125 -3.644531 C 1.203125 -3.339844 1.082031 -2.890625 1.082031 -2.296875 Z M 2.273438 -4.789062 C 2.632812 -4.789062 2.933594 -4.714844 3.175781 -4.5625 C 3.316406 -4.472656 3.476562 -4.320312 3.65625 -4.101562 L 3.65625 -6.476562 L 4.417969 -6.476562 L 4.417969 0 L 3.703125 0 L 3.703125 -0.65625 C 3.519531 -0.367188 3.300781 -0.15625 3.050781 -0.0273438 C 2.796875 0.101562 2.507812 0.167969 2.183594 0.167969 C 1.660156 0.167969 1.207031 -0.0546875 0.820312 -0.496094 C 0.4375 -0.9375 0.246094 -1.523438 0.246094 -2.253906 C 0.246094 -2.941406 0.421875 -3.535156 0.769531 -4.035156 C 1.121094 -4.539062 1.621094 -4.789062 2.273438 -4.789062 Z M 2.273438 -4.789062 \"/>\n",
       "</symbol>\n",
       "<symbol overflow=\"visible\" id=\"glyph0-24\">\n",
       "<path style=\"stroke:none;\" d=\"M 0.601562 -6.457031 L 1.394531 -6.457031 L 1.394531 0 L 0.601562 0 Z M 0.601562 -6.457031 \"/>\n",
       "</symbol>\n",
       "<symbol overflow=\"visible\" id=\"glyph0-25\">\n",
       "<path style=\"stroke:none;\" d=\"M 0.132812 -4.707031 L 1.15625 -4.707031 L 2.238281 -3.050781 L 3.332031 -4.707031 L 4.292969 -4.683594 L 2.707031 -2.414062 L 4.363281 0 L 3.351562 0 L 2.183594 -1.765625 L 1.050781 0 L 0.046875 0 L 1.703125 -2.414062 Z M 0.132812 -4.707031 \"/>\n",
       "</symbol>\n",
       "<symbol overflow=\"visible\" id=\"glyph0-26\">\n",
       "<path style=\"stroke:none;\" d=\"M 0.578125 -4.707031 L 1.363281 -4.707031 L 1.363281 -4.039062 C 1.550781 -4.269531 1.71875 -4.4375 1.871094 -4.542969 C 2.132812 -4.722656 2.429688 -4.8125 2.757812 -4.8125 C 3.132812 -4.8125 3.4375 -4.71875 3.664062 -4.535156 C 3.792969 -4.429688 3.910156 -4.273438 4.015625 -4.070312 C 4.191406 -4.320312 4.398438 -4.507812 4.636719 -4.628906 C 4.875 -4.75 5.140625 -4.8125 5.4375 -4.8125 C 6.070312 -4.8125 6.5 -4.582031 6.726562 -4.125 C 6.851562 -3.878906 6.914062 -3.550781 6.914062 -3.132812 L 6.914062 0 L 6.089844 0 L 6.089844 -3.269531 C 6.089844 -3.582031 6.011719 -3.796875 5.855469 -3.914062 C 5.699219 -4.03125 5.507812 -4.089844 5.28125 -4.089844 C 4.972656 -4.089844 4.703125 -3.988281 4.480469 -3.78125 C 4.257812 -3.570312 4.144531 -3.222656 4.144531 -2.738281 L 4.144531 0 L 3.339844 0 L 3.339844 -3.070312 C 3.339844 -3.390625 3.300781 -3.625 3.226562 -3.769531 C 3.105469 -3.988281 2.882812 -4.101562 2.554688 -4.101562 C 2.253906 -4.101562 1.984375 -3.984375 1.738281 -3.753906 C 1.492188 -3.523438 1.371094 -3.101562 1.371094 -2.496094 L 1.371094 0 L 0.578125 0 Z M 0.578125 -4.707031 \"/>\n",
       "</symbol>\n",
       "<symbol overflow=\"visible\" id=\"glyph0-27\">\n",
       "<path style=\"stroke:none;\" d=\"M 0.226562 -0.625 L 3.019531 -4 L 0.433594 -4 L 0.433594 -4.707031 L 4.082031 -4.707031 L 4.082031 -4.0625 L 1.308594 -0.707031 L 4.164062 -0.707031 L 4.164062 0 L 0.226562 0 Z M 0.226562 -0.625 \"/>\n",
       "</symbol>\n",
       "<symbol overflow=\"visible\" id=\"glyph0-28\">\n",
       "<path style=\"stroke:none;\" d=\"M 2.335938 0.171875 C 1.59375 0.171875 1.054688 -0.03125 0.71875 -0.441406 C 0.382812 -0.851562 0.214844 -1.347656 0.214844 -1.933594 L 1.042969 -1.933594 C 1.078125 -1.527344 1.152344 -1.230469 1.269531 -1.046875 C 1.476562 -0.714844 1.84375 -0.550781 2.382812 -0.550781 C 2.796875 -0.550781 3.132812 -0.660156 3.382812 -0.882812 C 3.636719 -1.105469 3.761719 -1.394531 3.761719 -1.746094 C 3.761719 -2.179688 3.628906 -2.480469 3.363281 -2.65625 C 3.097656 -2.828125 2.730469 -2.914062 2.257812 -2.914062 C 2.207031 -2.914062 2.152344 -2.914062 2.097656 -2.910156 C 2.042969 -2.910156 1.988281 -2.90625 1.933594 -2.90625 L 1.933594 -3.601562 C 2.015625 -3.59375 2.085938 -3.589844 2.140625 -3.585938 C 2.195312 -3.582031 2.257812 -3.582031 2.320312 -3.582031 C 2.617188 -3.582031 2.859375 -3.628906 3.050781 -3.722656 C 3.382812 -3.886719 3.550781 -4.179688 3.550781 -4.601562 C 3.550781 -4.914062 3.4375 -5.15625 3.21875 -5.328125 C 2.996094 -5.496094 2.734375 -5.582031 2.4375 -5.582031 C 1.910156 -5.582031 1.546875 -5.40625 1.34375 -5.054688 C 1.234375 -4.859375 1.171875 -4.585938 1.15625 -4.226562 L 0.375 -4.226562 C 0.375 -4.695312 0.46875 -5.09375 0.65625 -5.421875 C 0.976562 -6.007812 1.542969 -6.300781 2.355469 -6.300781 C 2.996094 -6.300781 3.492188 -6.160156 3.84375 -5.875 C 4.195312 -5.589844 4.371094 -5.171875 4.371094 -4.632812 C 4.371094 -4.246094 4.269531 -3.929688 4.0625 -3.691406 C 3.933594 -3.542969 3.765625 -3.425781 3.558594 -3.339844 C 3.890625 -3.25 4.148438 -3.074219 4.335938 -2.816406 C 4.523438 -2.554688 4.613281 -2.238281 4.613281 -1.863281 C 4.613281 -1.261719 4.417969 -0.773438 4.019531 -0.394531 C 3.625 -0.015625 3.0625 0.171875 2.335938 0.171875 Z M 2.335938 0.171875 \"/>\n",
       "</symbol>\n",
       "<symbol overflow=\"visible\" id=\"glyph0-29\">\n",
       "<path style=\"stroke:none;\" d=\"M 2.242188 -4.789062 C 2.609375 -4.789062 2.933594 -4.699219 3.207031 -4.515625 C 3.355469 -4.414062 3.507812 -4.265625 3.664062 -4.070312 L 3.664062 -4.664062 L 4.394531 -4.664062 L 4.394531 -0.382812 C 4.394531 0.214844 4.304688 0.6875 4.132812 1.03125 C 3.804688 1.671875 3.183594 1.992188 2.273438 1.992188 C 1.765625 1.992188 1.339844 1.878906 0.992188 1.648438 C 0.648438 1.421875 0.453125 1.066406 0.414062 0.585938 L 1.21875 0.585938 C 1.257812 0.796875 1.332031 0.957031 1.445312 1.070312 C 1.625 1.246094 1.90625 1.335938 2.289062 1.335938 C 2.894531 1.335938 3.292969 1.121094 3.480469 0.695312 C 3.59375 0.441406 3.644531 -0.0078125 3.632812 -0.65625 C 3.476562 -0.414062 3.285156 -0.234375 3.0625 -0.117188 C 2.839844 0 2.546875 0.0585938 2.179688 0.0585938 C 1.671875 0.0585938 1.222656 -0.125 0.839844 -0.484375 C 0.457031 -0.847656 0.269531 -1.445312 0.269531 -2.28125 C 0.269531 -3.070312 0.460938 -3.683594 0.847656 -4.125 C 1.230469 -4.570312 1.695312 -4.789062 2.242188 -4.789062 Z M 3.664062 -2.375 C 3.664062 -2.957031 3.546875 -3.386719 3.304688 -3.667969 C 3.0625 -3.949219 2.757812 -4.089844 2.386719 -4.089844 C 1.828125 -4.089844 1.449219 -3.832031 1.242188 -3.308594 C 1.132812 -3.03125 1.082031 -2.664062 1.082031 -2.214844 C 1.082031 -1.683594 1.1875 -1.28125 1.402344 -1.003906 C 1.617188 -0.726562 1.910156 -0.589844 2.273438 -0.589844 C 2.839844 -0.589844 3.242188 -0.84375 3.472656 -1.359375 C 3.601562 -1.648438 3.664062 -1.984375 3.664062 -2.375 Z M 3.664062 -2.375 \"/>\n",
       "</symbol>\n",
       "<symbol overflow=\"visible\" id=\"glyph0-30\">\n",
       "<path style=\"stroke:none;\" d=\"M 3.519531 -4.707031 L 4.394531 -4.707031 C 4.28125 -4.40625 4.035156 -3.714844 3.652344 -2.640625 C 3.363281 -1.832031 3.125 -1.171875 2.929688 -0.664062 C 2.472656 0.539062 2.152344 1.269531 1.964844 1.535156 C 1.777344 1.796875 1.453125 1.929688 0.996094 1.929688 C 0.886719 1.929688 0.800781 1.925781 0.742188 1.914062 C 0.679688 1.90625 0.605469 1.890625 0.519531 1.867188 L 0.519531 1.148438 C 0.65625 1.1875 0.757812 1.207031 0.816406 1.21875 C 0.878906 1.226562 0.933594 1.230469 0.980469 1.230469 C 1.125 1.230469 1.234375 1.207031 1.304688 1.15625 C 1.371094 1.109375 1.429688 1.050781 1.476562 0.980469 C 1.492188 0.957031 1.542969 0.835938 1.632812 0.621094 C 1.726562 0.402344 1.792969 0.242188 1.832031 0.136719 L 0.09375 -4.707031 L 0.988281 -4.707031 L 2.25 -0.875 Z M 3.519531 -4.707031 \"/>\n",
       "</symbol>\n",
       "<symbol overflow=\"visible\" id=\"glyph0-31\">\n",
       "<path style=\"stroke:none;\" d=\"M 2.632812 -6.320312 C 3.335938 -6.320312 3.824219 -6.136719 4.101562 -5.773438 C 4.378906 -5.40625 4.515625 -5.03125 4.515625 -4.644531 L 3.734375 -4.644531 C 3.6875 -4.894531 3.613281 -5.089844 3.511719 -5.230469 C 3.320312 -5.492188 3.03125 -5.625 2.644531 -5.625 C 2.203125 -5.625 1.851562 -5.421875 1.589844 -5.011719 C 1.328125 -4.601562 1.183594 -4.019531 1.15625 -3.257812 C 1.335938 -3.523438 1.566406 -3.722656 1.839844 -3.855469 C 2.09375 -3.972656 2.375 -4.03125 2.683594 -4.03125 C 3.210938 -4.03125 3.671875 -3.859375 4.066406 -3.523438 C 4.457031 -3.1875 4.652344 -2.683594 4.652344 -2.015625 C 4.652344 -1.445312 4.46875 -0.941406 4.09375 -0.5 C 3.722656 -0.0585938 3.195312 0.164062 2.503906 0.164062 C 1.914062 0.164062 1.40625 -0.0625 0.980469 -0.507812 C 0.550781 -0.953125 0.339844 -1.707031 0.339844 -2.765625 C 0.339844 -3.546875 0.433594 -4.210938 0.625 -4.753906 C 0.992188 -5.796875 1.660156 -6.320312 2.632812 -6.320312 Z M 2.574219 -0.539062 C 2.992188 -0.539062 3.300781 -0.679688 3.507812 -0.960938 C 3.714844 -1.242188 3.820312 -1.570312 3.820312 -1.953125 C 3.820312 -2.273438 3.726562 -2.582031 3.542969 -2.871094 C 3.359375 -3.164062 3.023438 -3.308594 2.535156 -3.308594 C 2.195312 -3.308594 1.898438 -3.195312 1.640625 -2.96875 C 1.382812 -2.746094 1.257812 -2.40625 1.257812 -1.953125 C 1.257812 -1.554688 1.375 -1.21875 1.605469 -0.945312 C 1.839844 -0.675781 2.164062 -0.539062 2.574219 -0.539062 Z M 2.574219 -0.539062 \"/>\n",
       "</symbol>\n",
       "<symbol overflow=\"visible\" id=\"glyph0-32\">\n",
       "<path style=\"stroke:none;\" d=\"M 0.777344 -5.421875 C 0.789062 -5.75 0.847656 -5.992188 0.949219 -6.144531 C 1.132812 -6.414062 1.488281 -6.546875 2.015625 -6.546875 C 2.066406 -6.546875 2.117188 -6.546875 2.171875 -6.542969 C 2.222656 -6.539062 2.285156 -6.535156 2.351562 -6.53125 L 2.351562 -5.808594 C 2.269531 -5.816406 2.210938 -5.820312 2.171875 -5.820312 C 2.136719 -5.820312 2.101562 -5.824219 2.070312 -5.824219 C 1.828125 -5.824219 1.6875 -5.761719 1.640625 -5.636719 C 1.59375 -5.511719 1.570312 -5.195312 1.570312 -4.683594 L 2.351562 -4.683594 L 2.351562 -4.0625 L 1.558594 -4.0625 L 1.558594 0 L 0.777344 0 L 0.777344 -4.0625 L 0.125 -4.0625 L 0.125 -4.683594 L 0.777344 -4.683594 Z M 3.109375 -5.558594 L 3.109375 -6.457031 L 3.902344 -6.457031 L 3.902344 -5.558594 Z M 3.109375 -4.683594 L 3.902344 -4.683594 L 3.902344 0 L 3.109375 0 Z M 3.109375 -4.683594 \"/>\n",
       "</symbol>\n",
       "<symbol overflow=\"visible\" id=\"glyph0-33\">\n",
       "<path style=\"stroke:none;\" d=\"M 2.976562 -2.226562 L 2.976562 -5.078125 L 0.957031 -2.226562 Z M 2.988281 0 L 2.988281 -1.539062 L 0.226562 -1.539062 L 0.226562 -2.3125 L 3.109375 -6.3125 L 3.78125 -6.3125 L 3.78125 -2.226562 L 4.707031 -2.226562 L 4.707031 -1.539062 L 3.78125 -1.539062 L 3.78125 0 Z M 2.988281 0 \"/>\n",
       "</symbol>\n",
       "<symbol overflow=\"visible\" id=\"glyph0-34\">\n",
       "<path style=\"stroke:none;\" d=\"M 0.859375 -4.457031 L 0.859375 -5.0625 C 1.433594 -5.117188 1.832031 -5.210938 2.054688 -5.339844 C 2.28125 -5.472656 2.449219 -5.78125 2.5625 -6.265625 L 3.1875 -6.265625 L 3.1875 0 L 2.34375 0 L 2.34375 -4.457031 Z M 0.859375 -4.457031 \"/>\n",
       "</symbol>\n",
       "<symbol overflow=\"visible\" id=\"glyph1-0\">\n",
       "<path style=\"stroke:none;\" d=\"M 0.167969 0 L 0.167969 -6.945312 L 7.335938 -6.945312 L 7.335938 0 Z M 6.394531 -0.945312 L 6.394531 -6.003906 L 1.113281 -6.003906 L 1.113281 -0.945312 Z M 6.394531 -0.945312 \"/>\n",
       "</symbol>\n",
       "<symbol overflow=\"visible\" id=\"glyph1-1\">\n",
       "<path style=\"stroke:none;\" d=\"M 5.613281 -0.691406 L 5.613281 0.0859375 L 0.3125 -2.511719 L 0.3125 -2.792969 L 5.613281 -5.394531 L 5.613281 -4.613281 L 1.6875 -2.660156 Z M 5.613281 -0.691406 \"/>\n",
       "</symbol>\n",
       "<symbol overflow=\"visible\" id=\"glyph1-2\">\n",
       "<path style=\"stroke:none;\" d=\"M 0.214844 -0.691406 L 5.515625 -0.691406 L 5.515625 0 L 0.214844 0 Z M 0.214844 -1.054688 L 0.214844 -1.832031 L 3.949219 -3.230469 L 0.214844 -4.613281 L 0.214844 -5.394531 L 5.515625 -3.363281 L 5.515625 -3.085938 Z M 0.214844 -1.054688 \"/>\n",
       "</symbol>\n",
       "</g>\n",
       "<filter id=\"alpha\" filterUnits=\"objectBoundingBox\" x=\"0%\" y=\"0%\" width=\"100%\" height=\"100%\">\n",
       "  <feColorMatrix type=\"matrix\" in=\"SourceGraphic\" values=\"0 0 0 0 1 0 0 0 0 1 0 0 0 0 1 0 0 0 1 0\"/>\n",
       "</filter>\n",
       "<mask id=\"mask0\">\n",
       "  <g filter=\"url(#alpha)\">\n",
       "<rect x=\"0\" y=\"0\" width=\"694\" height=\"234\" style=\"fill:rgb(0%,0%,0%);fill-opacity:0.8;stroke:none;\"/>\n",
       "  </g>\n",
       "</mask>\n",
       "<image id=\"image50\" width=\"68\" height=\"42\" xlink:href=\"data:image/png;base64,iVBORw0KGgoAAAANSUhEUgAAAEQAAAAqCAYAAAAK7f2YAAAABmJLR0QA/wD/AP+gvaeTAAAA5UlEQVRoge3QsQ2CQABG4bvjDLWJNFQWugQT0BlXsZY12MENDBMYO3ECEzrUwkglydn/CxwJ75vg5dmqqg5lWR6zbLU08xXa9vY4n5udz/O8KIpizjOMMcZuNtv15XLduySxPnbNFFhrjfdu4WKHTA1DBEMEQwRDBEMEQwRDBEMEQwRDBEMEQwRDBEMEQwRDBEMEQwRDBEMEQwRDBEMEQwRDBEMEQwRDBEMEQwRDBEMEQwRDBEOEC8GE2BFT4l6vdz+OY+yO6Lqu+30+37tvmuYwDEOfpukqdlQsSWLD8/lu67o+/QEsAy3h6QU4TgAAAABJRU5ErkJggg==\"/>\n",
       "</defs>\n",
       "<g id=\"surface1\">\n",
       "<rect x=\"0\" y=\"0\" width=\"694\" height=\"234\" style=\"fill:rgb(100%,100%,100%);fill-opacity:1;stroke:none;\"/>\n",
       "<g style=\"fill:rgb(26.666667%,26.666667%,26.27451%);fill-opacity:1;\">\n",
       "  <use xlink:href=\"#glyph0-1\" x=\"49.5\" y=\"128.598145\"/>\n",
       "  <use xlink:href=\"#glyph0-2\" x=\"55.999512\" y=\"128.598145\"/>\n",
       "  <use xlink:href=\"#glyph0-3\" x=\"61.004883\" y=\"128.598145\"/>\n",
       "  <use xlink:href=\"#glyph0-4\" x=\"66.010254\" y=\"128.598145\"/>\n",
       "  <use xlink:href=\"#glyph0-5\" x=\"68.009766\" y=\"128.598145\"/>\n",
       "  <use xlink:href=\"#glyph0-6\" x=\"72.509766\" y=\"128.598145\"/>\n",
       "  <use xlink:href=\"#glyph0-7\" x=\"77.515137\" y=\"128.598145\"/>\n",
       "  <use xlink:href=\"#glyph0-3\" x=\"82.015137\" y=\"128.598145\"/>\n",
       "  <use xlink:href=\"#glyph0-8\" x=\"87.020508\" y=\"128.598145\"/>\n",
       "  <use xlink:href=\"#glyph0-9\" x=\"92.025879\" y=\"128.598145\"/>\n",
       "  <use xlink:href=\"#glyph0-10\" x=\"97.03125\" y=\"128.598145\"/>\n",
       "  <use xlink:href=\"#glyph0-5\" x=\"99.531738\" y=\"128.598145\"/>\n",
       "  <use xlink:href=\"#glyph0-11\" x=\"104.031738\" y=\"128.598145\"/>\n",
       "  <use xlink:href=\"#glyph0-12\" x=\"113.167969\" y=\"128.598145\"/>\n",
       "  <use xlink:href=\"#glyph0-13\" x=\"118.17334\" y=\"128.598145\"/>\n",
       "  <use xlink:href=\"#glyph0-14\" x=\"120.673828\" y=\"128.598145\"/>\n",
       "  <use xlink:href=\"#glyph0-12\" x=\"125.679199\" y=\"128.598145\"/>\n",
       "</g>\n",
       "<g style=\"fill:rgb(26.666667%,26.666667%,26.27451%);fill-opacity:1;\">\n",
       "  <use xlink:href=\"#glyph0-15\" x=\"201.5\" y=\"128.598145\"/>\n",
       "  <use xlink:href=\"#glyph0-16\" x=\"204.000488\" y=\"128.598145\"/>\n",
       "  <use xlink:href=\"#glyph0-7\" x=\"209.005859\" y=\"128.598145\"/>\n",
       "  <use xlink:href=\"#glyph0-17\" x=\"213.505859\" y=\"128.598145\"/>\n",
       "  <use xlink:href=\"#glyph0-18\" x=\"218.51123\" y=\"128.598145\"/>\n",
       "  <use xlink:href=\"#glyph0-3\" x=\"223.516602\" y=\"128.598145\"/>\n",
       "  <use xlink:href=\"#glyph0-3\" x=\"228.521973\" y=\"128.598145\"/>\n",
       "  <use xlink:href=\"#glyph0-19\" x=\"233.527344\" y=\"128.598145\"/>\n",
       "  <use xlink:href=\"#glyph0-11\" x=\"238.027344\" y=\"128.598145\"/>\n",
       "  <use xlink:href=\"#glyph0-12\" x=\"247.163574\" y=\"128.598145\"/>\n",
       "  <use xlink:href=\"#glyph0-13\" x=\"252.168945\" y=\"128.598145\"/>\n",
       "  <use xlink:href=\"#glyph0-14\" x=\"254.669434\" y=\"128.598145\"/>\n",
       "  <use xlink:href=\"#glyph0-12\" x=\"259.674805\" y=\"128.598145\"/>\n",
       "</g>\n",
       "<path style=\" stroke:none;fill-rule:nonzero;fill:rgb(100%,100%,100%);fill-opacity:1;\" d=\"M 8.5 164.324219 L 26.972656 164.324219 L 26.972656 153 L 8.5 153 Z M 8.5 164.324219 \"/>\n",
       "<path style=\"fill-rule:nonzero;fill:rgb(99.607843%,99.607843%,73.333335%);fill-opacity:1;stroke-width:0.5;stroke-linecap:butt;stroke-linejoin:miter;stroke:rgb(26.666668%,26.666668%,26.274511%);stroke-opacity:1;stroke-miterlimit:4;\" d=\"M 16.372944 3.779622 C 16.372944 3.181966 16.228618 2.600911 15.956003 2.069661 C 15.683388 1.543945 15.287829 1.084635 14.806743 0.741536 C 14.320312 0.392904 13.759046 0.171549 13.171053 0.0830078 C 12.583059 0 11.984375 0.0553385 11.423109 0.249023 L 12.636513 3.779622 Z M 16.372944 3.779622 \" transform=\"matrix(0.730769,0,0,0.705882,8.5,153)\"/>\n",
       "<path style=\"fill-rule:nonzero;fill:rgb(63.137257%,85.490197%,70.588237%);fill-opacity:1;stroke-width:0.5;stroke-linecap:butt;stroke-linejoin:miter;stroke:rgb(26.666668%,26.666668%,26.274511%);stroke-opacity:1;stroke-miterlimit:4;\" d=\"M 11.423109 0.249023 C 10.776316 0.475911 10.199013 0.868815 9.760691 1.400065 C 9.327714 1.925781 9.044408 2.567708 8.942845 3.242839 C 8.846628 3.923503 8.9375 4.615234 9.20477 5.246094 C 9.477385 5.876953 9.910362 6.419271 10.471628 6.817708 C 11.027549 7.216146 11.685033 7.454102 12.369243 7.503906 C 13.053454 7.548177 13.737664 7.409831 14.347039 7.094401 C 14.956414 6.784505 15.469572 6.308594 15.822368 5.722005 C 16.18051 5.135417 16.372944 4.46582 16.372944 3.779622 L 12.636513 3.779622 Z M 11.423109 0.249023 \" transform=\"matrix(0.730769,0,0,0.705882,8.5,153)\"/>\n",
       "<path style=\" stroke:none;fill-rule:nonzero;fill:rgb(26.666668%,26.666668%,26.274511%);fill-opacity:1;\" d=\"M 8.933594 163.058594 L 8.933594 159.765625 L 9.453125 159.765625 L 9.453125 160.234375 C 9.703125 159.871094 10.066406 159.691406 10.539062 159.691406 C 10.746094 159.691406 10.933594 159.726562 11.105469 159.796875 C 11.277344 159.871094 11.40625 159.964844 11.492188 160.078125 C 11.578125 160.195312 11.640625 160.332031 11.671875 160.492188 C 11.695312 160.59375 11.707031 160.777344 11.707031 161.035156 L 11.707031 163.058594 L 11.125 163.058594 L 11.125 161.054688 C 11.125 160.828125 11.105469 160.660156 11.058594 160.546875 C 11.015625 160.433594 10.933594 160.34375 10.820312 160.277344 C 10.707031 160.210938 10.570312 160.175781 10.417969 160.175781 C 10.171875 160.175781 9.957031 160.25 9.78125 160.402344 C 9.601562 160.554688 9.511719 160.839844 9.511719 161.261719 L 9.511719 163.058594 Z M 8.933594 163.058594 \"/>\n",
       "<path style=\" stroke:none;fill-rule:nonzero;fill:rgb(26.666668%,26.666668%,26.274511%);fill-opacity:1;\" d=\"M 15.632812 160.386719 L 12.523438 160.386719 L 12.523438 159.863281 L 15.632812 159.863281 Z M 15.632812 161.765625 L 12.523438 161.765625 L 12.523438 161.246094 L 15.632812 161.246094 Z M 15.632812 161.765625 \"/>\n",
       "<path style=\" stroke:none;fill-rule:nonzero;fill:rgb(26.666668%,26.666668%,26.274511%);fill-opacity:1;\" d=\"M 19.308594 162.523438 L 19.308594 163.058594 L 16.199219 163.058594 C 16.195312 162.925781 16.214844 162.796875 16.265625 162.671875 C 16.34375 162.46875 16.472656 162.265625 16.644531 162.066406 C 16.820312 161.867188 17.070312 161.640625 17.402344 161.378906 C 17.914062 160.972656 18.257812 160.652344 18.4375 160.414062 C 18.621094 160.179688 18.710938 159.953125 18.710938 159.742188 C 18.710938 159.523438 18.628906 159.335938 18.460938 159.183594 C 18.300781 159.03125 18.085938 158.957031 17.824219 158.957031 C 17.542969 158.957031 17.320312 159.039062 17.15625 159.199219 C 16.988281 159.359375 16.902344 159.582031 16.902344 159.867188 L 16.308594 159.808594 C 16.347656 159.382812 16.5 159.054688 16.765625 158.832031 C 17.03125 158.605469 17.386719 158.492188 17.835938 158.492188 C 18.289062 158.492188 18.644531 158.613281 18.90625 158.855469 C 19.171875 159.097656 19.304688 159.398438 19.304688 159.757812 C 19.304688 159.9375 19.265625 160.117188 19.1875 160.292969 C 19.109375 160.46875 18.984375 160.652344 18.804688 160.847656 C 18.625 161.042969 18.328125 161.308594 17.914062 161.648438 C 17.566406 161.929688 17.34375 162.121094 17.242188 162.222656 C 17.144531 162.320312 17.066406 162.421875 17 162.523438 Z M 19.308594 162.523438 \"/>\n",
       "<path style=\" stroke:none;fill-rule:nonzero;fill:rgb(26.666668%,26.666668%,26.274511%);fill-opacity:1;\" d=\"M 20.820312 160.59375 C 20.578125 160.507812 20.402344 160.386719 20.285156 160.230469 C 20.171875 160.074219 20.113281 159.886719 20.113281 159.667969 C 20.113281 159.335938 20.234375 159.058594 20.480469 158.832031 C 20.726562 158.605469 21.054688 158.492188 21.464844 158.492188 C 21.875 158.492188 22.207031 158.609375 22.457031 158.839844 C 22.707031 159.070312 22.832031 159.351562 22.832031 159.683594 C 22.832031 159.894531 22.773438 160.078125 22.660156 160.234375 C 22.546875 160.386719 22.371094 160.507812 22.140625 160.59375 C 22.429688 160.683594 22.648438 160.832031 22.800781 161.035156 C 22.949219 161.238281 23.023438 161.480469 23.023438 161.761719 C 23.023438 162.148438 22.882812 162.476562 22.597656 162.742188 C 22.3125 163.003906 21.9375 163.136719 21.472656 163.136719 C 21.011719 163.136719 20.636719 163.003906 20.351562 162.738281 C 20.066406 162.472656 19.921875 162.140625 19.921875 161.746094 C 19.921875 161.449219 20 161.203125 20.15625 161.003906 C 20.3125 160.800781 20.53125 160.667969 20.820312 160.59375 Z M 20.703125 159.648438 C 20.703125 159.863281 20.773438 160.039062 20.917969 160.175781 C 21.0625 160.3125 21.25 160.378906 21.476562 160.378906 C 21.699219 160.378906 21.882812 160.3125 22.023438 160.175781 C 22.167969 160.042969 22.238281 159.875 22.238281 159.679688 C 22.238281 159.472656 22.164062 159.300781 22.019531 159.160156 C 21.871094 159.023438 21.6875 158.953125 21.472656 158.953125 C 21.25 158.953125 21.066406 159.019531 20.921875 159.15625 C 20.777344 159.292969 20.703125 159.457031 20.703125 159.648438 Z M 20.515625 161.746094 C 20.515625 161.90625 20.554688 162.0625 20.632812 162.210938 C 20.710938 162.359375 20.828125 162.476562 20.984375 162.558594 C 21.136719 162.636719 21.304688 162.679688 21.480469 162.679688 C 21.757812 162.679688 21.984375 162.59375 22.164062 162.421875 C 22.34375 162.25 22.433594 162.03125 22.433594 161.765625 C 22.433594 161.5 22.339844 161.277344 22.15625 161.101562 C 21.972656 160.921875 21.738281 160.835938 21.460938 160.835938 C 21.1875 160.835938 20.964844 160.921875 20.785156 161.097656 C 20.605469 161.269531 20.515625 161.488281 20.515625 161.746094 Z M 20.515625 161.746094 \"/>\n",
       "<path style=\" stroke:none;fill-rule:nonzero;fill:rgb(26.666668%,26.666668%,26.274511%);fill-opacity:1;\" d=\"M 25.441406 163.058594 L 25.441406 161.972656 L 23.398438 161.972656 L 23.398438 161.460938 L 25.546875 158.511719 L 26.019531 158.511719 L 26.019531 161.460938 L 26.652344 161.460938 L 26.652344 161.972656 L 26.019531 161.972656 L 26.019531 163.058594 Z M 25.441406 161.460938 L 25.441406 159.410156 L 23.964844 161.460938 Z M 25.441406 161.460938 \"/>\n",
       "<path style=\"fill:none;stroke-width:0.3;stroke-linecap:butt;stroke-linejoin:miter;stroke:rgb(26.666667%,26.666667%,26.27451%);stroke-opacity:1;stroke-miterlimit:10;\" d=\"M 72.078125 -97.882812 C 60.328125 -92.488281 43.691406 -84.855469 31.148438 -79.097656 \" transform=\"matrix(1,0,0,1,4,230)\"/>\n",
       "<path style=\"fill-rule:nonzero;fill:rgb(26.666667%,26.666667%,26.27451%);fill-opacity:1;stroke-width:0.3;stroke-linecap:butt;stroke-linejoin:miter;stroke:rgb(26.666667%,26.666667%,26.27451%);stroke-opacity:1;stroke-miterlimit:10;\" d=\"M 31.617188 -77.773438 L 27.398438 -77.378906 L 30.449219 -80.316406 Z M 31.617188 -77.773438 \" transform=\"matrix(1,0,0,1,4,230)\"/>\n",
       "<path style=\" stroke:none;fill-rule:nonzero;fill:rgb(100%,100%,100%);fill-opacity:1;\" d=\"M 49.5 164.765625 L 63.980469 164.765625 L 63.980469 154 L 49.5 154 Z M 49.5 164.765625 \"/>\n",
       "<path style=\"fill-rule:nonzero;fill:rgb(99.607843%,99.607843%,73.333335%);fill-opacity:1;stroke-width:0.5;stroke-linecap:butt;stroke-linejoin:miter;stroke:rgb(26.666668%,26.666668%,26.274511%);stroke-opacity:1;stroke-miterlimit:4;\" d=\"M 13.228906 3.105469 C 13.228906 2.79652 13.179688 2.482244 13.086719 2.183949 C 12.99375 1.885653 12.857031 1.603338 12.682031 1.347656 C 12.501562 1.091974 12.288281 0.862926 12.042187 0.671165 C 11.796094 0.474077 11.522656 0.324929 11.227344 0.213068 C 10.9375 0.101207 10.625781 0.0372869 10.314062 0.0159801 C 10.002344 0 9.690625 0.0266335 9.389844 0.106534 C 9.083594 0.181108 8.79375 0.303622 8.525781 0.463423 C 8.257812 0.628551 8.017187 0.825639 7.814844 1.065341 C 7.607031 1.299716 7.4375 1.560724 7.311719 1.848366 C 7.180469 2.130682 7.098438 2.434304 7.060156 2.74858 C 7.027344 3.057528 7.038281 3.371804 7.092969 3.680753 C 7.153125 3.984375 7.257031 4.28267 7.404687 4.559659 C 7.546875 4.836648 7.738281 5.087003 7.957031 5.305398 C 8.18125 5.529119 8.438281 5.710227 8.711719 5.854048 C 8.990625 5.997869 9.285938 6.099077 9.597656 6.152344 C 9.903906 6.210938 10.221094 6.216264 10.527344 6.178977 L 10.133594 3.105469 Z M 13.228906 3.105469 \" transform=\"matrix(0.714286,0,0,0.733333,49.5,154)\"/>\n",
       "<path style=\"fill-rule:nonzero;fill:rgb(63.137257%,85.490197%,70.588237%);fill-opacity:1;stroke-width:0.5;stroke-linecap:butt;stroke-linejoin:miter;stroke:rgb(26.666668%,26.666668%,26.274511%);stroke-opacity:1;stroke-miterlimit:4;\" d=\"M 10.527344 6.178977 C 11.276562 6.083097 11.960156 5.715554 12.457813 5.150923 C 12.955469 4.586293 13.228906 3.861861 13.228906 3.105469 L 10.133594 3.105469 Z M 10.527344 6.178977 \" transform=\"matrix(0.714286,0,0,0.733333,49.5,154)\"/>\n",
       "<path style=\" stroke:none;fill-rule:nonzero;fill:rgb(26.666668%,26.666668%,26.274511%);fill-opacity:1;\" d=\"M 49.925781 163.453125 L 49.925781 160.03125 L 50.433594 160.03125 L 50.433594 160.515625 C 50.675781 160.140625 51.03125 159.953125 51.492188 159.953125 C 51.695312 159.953125 51.878906 159.992188 52.046875 160.066406 C 52.214844 160.140625 52.34375 160.234375 52.425781 160.355469 C 52.507812 160.476562 52.566406 160.621094 52.601562 160.785156 C 52.621094 160.890625 52.632812 161.082031 52.632812 161.347656 L 52.632812 163.453125 L 52.066406 163.453125 L 52.066406 161.371094 C 52.066406 161.136719 52.046875 160.957031 52 160.839844 C 51.957031 160.722656 51.878906 160.632812 51.769531 160.5625 C 51.65625 160.492188 51.523438 160.457031 51.375 160.457031 C 51.132812 160.457031 50.925781 160.535156 50.75 160.691406 C 50.574219 160.847656 50.488281 161.144531 50.488281 161.582031 L 50.488281 163.453125 Z M 49.925781 163.453125 \"/>\n",
       "<path style=\" stroke:none;fill-rule:nonzero;fill:rgb(26.666668%,26.666668%,26.274511%);fill-opacity:1;\" d=\"M 56.472656 160.675781 L 53.433594 160.675781 L 53.433594 160.132812 L 56.472656 160.132812 Z M 56.472656 162.109375 L 53.433594 162.109375 L 53.433594 161.566406 L 56.472656 161.566406 Z M 56.472656 162.109375 \"/>\n",
       "<path style=\" stroke:none;fill-rule:nonzero;fill:rgb(26.666668%,26.666668%,26.274511%);fill-opacity:1;\" d=\"M 57.132812 159.347656 L 57.132812 158.789062 L 60.113281 158.789062 L 60.113281 159.242188 C 59.820312 159.5625 59.527344 159.988281 59.242188 160.515625 C 58.953125 161.046875 58.730469 161.59375 58.574219 162.15625 C 58.460938 162.550781 58.390625 162.984375 58.359375 163.453125 L 57.777344 163.453125 C 57.785156 163.082031 57.855469 162.632812 57.992188 162.105469 C 58.125 161.578125 58.320312 161.070312 58.578125 160.582031 C 58.832031 160.09375 59.101562 159.683594 59.386719 159.347656 Z M 57.132812 159.347656 \"/>\n",
       "<path style=\" stroke:none;fill-rule:nonzero;fill:rgb(26.666668%,26.666668%,26.274511%);fill-opacity:1;\" d=\"M 62.484375 163.453125 L 62.484375 162.320312 L 60.484375 162.320312 L 60.484375 161.789062 L 62.585938 158.730469 L 63.046875 158.730469 L 63.046875 161.789062 L 63.667969 161.789062 L 63.667969 162.320312 L 63.046875 162.320312 L 63.046875 163.453125 Z M 62.484375 161.789062 L 62.484375 159.660156 L 61.042969 161.789062 Z M 62.484375 161.789062 \"/>\n",
       "<path style=\"fill:none;stroke-width:0.3;stroke-linecap:butt;stroke-linejoin:miter;stroke:rgb(26.666667%,26.666667%,26.27451%);stroke-opacity:1;stroke-miterlimit:10;\" d=\"M 79.621094 -97.722656 C 75.507812 -93.667969 70.148438 -88.390625 65.285156 -83.597656 \" transform=\"matrix(1,0,0,1,4,230)\"/>\n",
       "<path style=\"fill-rule:nonzero;fill:rgb(26.666667%,26.666667%,26.27451%);fill-opacity:1;stroke-width:0.3;stroke-linecap:butt;stroke-linejoin:miter;stroke:rgb(26.666667%,26.666667%,26.27451%);stroke-opacity:1;stroke-miterlimit:10;\" d=\"M 66.167969 -82.5 L 62.335938 -80.691406 L 64.199219 -84.496094 Z M 66.167969 -82.5 \" transform=\"matrix(1,0,0,1,4,230)\"/>\n",
       "<g style=\"fill:rgb(26.666667%,26.666667%,26.27451%);fill-opacity:1;\">\n",
       "  <use xlink:href=\"#glyph0-2\" x=\"75\" y=\"162.098145\"/>\n",
       "  <use xlink:href=\"#glyph0-3\" x=\"80.005371\" y=\"162.098145\"/>\n",
       "  <use xlink:href=\"#glyph0-5\" x=\"85.010742\" y=\"162.098145\"/>\n",
       "  <use xlink:href=\"#glyph0-10\" x=\"89.510742\" y=\"162.098145\"/>\n",
       "  <use xlink:href=\"#glyph0-6\" x=\"92.01123\" y=\"162.098145\"/>\n",
       "  <use xlink:href=\"#glyph0-20\" x=\"97.016602\" y=\"162.098145\"/>\n",
       "  <use xlink:href=\"#glyph0-21\" x=\"102.021973\" y=\"162.098145\"/>\n",
       "  <use xlink:href=\"#glyph0-3\" x=\"105.019043\" y=\"162.098145\"/>\n",
       "  <use xlink:href=\"#glyph0-22\" x=\"110.024414\" y=\"162.098145\"/>\n",
       "  <use xlink:href=\"#glyph0-4\" x=\"114.524414\" y=\"162.098145\"/>\n",
       "  <use xlink:href=\"#glyph0-23\" x=\"116.523926\" y=\"162.098145\"/>\n",
       "  <use xlink:href=\"#glyph0-17\" x=\"121.529297\" y=\"162.098145\"/>\n",
       "  <use xlink:href=\"#glyph0-21\" x=\"126.534668\" y=\"162.098145\"/>\n",
       "  <use xlink:href=\"#glyph0-6\" x=\"129.531738\" y=\"162.098145\"/>\n",
       "  <use xlink:href=\"#glyph0-7\" x=\"134.537109\" y=\"162.098145\"/>\n",
       "  <use xlink:href=\"#glyph0-3\" x=\"139.037109\" y=\"162.098145\"/>\n",
       "  <use xlink:href=\"#glyph0-8\" x=\"144.04248\" y=\"162.098145\"/>\n",
       "  <use xlink:href=\"#glyph0-9\" x=\"149.047852\" y=\"162.098145\"/>\n",
       "  <use xlink:href=\"#glyph0-10\" x=\"154.053223\" y=\"162.098145\"/>\n",
       "  <use xlink:href=\"#glyph0-5\" x=\"156.553711\" y=\"162.098145\"/>\n",
       "  <use xlink:href=\"#glyph0-11\" x=\"161.053711\" y=\"162.098145\"/>\n",
       "  <use xlink:href=\"#glyph0-12\" x=\"170.189941\" y=\"162.098145\"/>\n",
       "  <use xlink:href=\"#glyph0-13\" x=\"175.195312\" y=\"162.098145\"/>\n",
       "  <use xlink:href=\"#glyph0-14\" x=\"177.695801\" y=\"162.098145\"/>\n",
       "  <use xlink:href=\"#glyph0-12\" x=\"182.701172\" y=\"162.098145\"/>\n",
       "</g>\n",
       "<g style=\"fill:rgb(26.666667%,26.666667%,26.27451%);fill-opacity:1;\">\n",
       "  <use xlink:href=\"#glyph0-9\" x=\"201.5\" y=\"162.098145\"/>\n",
       "  <use xlink:href=\"#glyph0-5\" x=\"206.505371\" y=\"162.098145\"/>\n",
       "  <use xlink:href=\"#glyph0-6\" x=\"211.005371\" y=\"162.098145\"/>\n",
       "  <use xlink:href=\"#glyph0-9\" x=\"216.010742\" y=\"162.098145\"/>\n",
       "  <use xlink:href=\"#glyph0-17\" x=\"221.016113\" y=\"162.098145\"/>\n",
       "  <use xlink:href=\"#glyph0-10\" x=\"226.021484\" y=\"162.098145\"/>\n",
       "  <use xlink:href=\"#glyph0-1\" x=\"228.521973\" y=\"162.098145\"/>\n",
       "  <use xlink:href=\"#glyph0-3\" x=\"235.021484\" y=\"162.098145\"/>\n",
       "  <use xlink:href=\"#glyph0-21\" x=\"240.026855\" y=\"162.098145\"/>\n",
       "  <use xlink:href=\"#glyph0-19\" x=\"243.023926\" y=\"162.098145\"/>\n",
       "  <use xlink:href=\"#glyph0-6\" x=\"247.523926\" y=\"162.098145\"/>\n",
       "  <use xlink:href=\"#glyph0-5\" x=\"252.529297\" y=\"162.098145\"/>\n",
       "  <use xlink:href=\"#glyph0-3\" x=\"257.029297\" y=\"162.098145\"/>\n",
       "  <use xlink:href=\"#glyph0-24\" x=\"262.034668\" y=\"162.098145\"/>\n",
       "  <use xlink:href=\"#glyph0-8\" x=\"264.03418\" y=\"162.098145\"/>\n",
       "  <use xlink:href=\"#glyph0-10\" x=\"269.039551\" y=\"162.098145\"/>\n",
       "  <use xlink:href=\"#glyph0-4\" x=\"271.540039\" y=\"162.098145\"/>\n",
       "  <use xlink:href=\"#glyph0-3\" x=\"273.539551\" y=\"162.098145\"/>\n",
       "  <use xlink:href=\"#glyph0-9\" x=\"278.544922\" y=\"162.098145\"/>\n",
       "  <use xlink:href=\"#glyph0-5\" x=\"283.550293\" y=\"162.098145\"/>\n",
       "  <use xlink:href=\"#glyph0-11\" x=\"288.050293\" y=\"162.098145\"/>\n",
       "  <use xlink:href=\"#glyph0-12\" x=\"297.186523\" y=\"162.098145\"/>\n",
       "  <use xlink:href=\"#glyph0-13\" x=\"302.191895\" y=\"162.098145\"/>\n",
       "  <use xlink:href=\"#glyph0-14\" x=\"304.692383\" y=\"162.098145\"/>\n",
       "  <use xlink:href=\"#glyph0-12\" x=\"309.697754\" y=\"162.098145\"/>\n",
       "</g>\n",
       "<path style=\" stroke:none;fill-rule:nonzero;fill:rgb(100%,100%,100%);fill-opacity:1;\" d=\"M 89.5 225.515625 L 118.171875 225.515625 L 118.171875 190 L 89.5 190 Z M 89.5 225.515625 \"/>\n",
       "<path style=\"fill-rule:nonzero;fill:rgb(99.607843%,99.607843%,73.333335%);fill-opacity:1;stroke-width:0.5;stroke-linecap:butt;stroke-linejoin:miter;stroke:rgb(26.666668%,26.666668%,26.274511%);stroke-opacity:1;stroke-miterlimit:4;\" d=\"M 38.558728 19.342665 C 38.558728 17.210612 38.206762 15.09451 37.508082 13.079427 C 36.814655 11.059028 35.790275 9.176866 34.476967 7.496745 C 33.163658 5.816623 31.577182 4.365126 29.78583 3.206055 C 27.999731 2.046984 26.029768 1.190972 23.959995 0.680556 C 21.890221 0.164822 19.746902 0 17.624596 0.191406 C 15.50229 0.377496 13.42201 0.919813 11.478314 1.791775 C 9.529364 2.65842 7.743265 3.849392 6.183055 5.306207 C 4.628098 6.763021 3.325296 8.469727 2.327182 10.357205 C 1.334321 12.239366 0.656654 14.281033 0.3257 16.386502 C 0 18.49197 0.0262662 20.639974 0.399246 22.740126 C 0.777478 24.840278 1.502425 26.860677 2.542565 28.721571 C 3.582705 30.582465 4.922279 32.25727 6.514009 33.682183 C 8.105738 35.10178 9.918103 36.250217 11.882812 37.074327 C 13.852775 37.898438 15.938308 38.392904 18.071121 38.531141 C 20.19868 38.674696 22.331492 38.456706 24.39076 37.898438 C 26.444774 37.334852 28.398976 36.436306 30.158809 35.234701 L 19.331897 19.342665 Z M 38.558728 19.342665 \" transform=\"matrix(0.74359,0,0,0.734694,89.5,190)\"/>\n",
       "<path style=\"fill-rule:nonzero;fill:rgb(63.137257%,85.490197%,70.588237%);fill-opacity:1;stroke-width:0.5;stroke-linecap:butt;stroke-linejoin:miter;stroke:rgb(26.666668%,26.666668%,26.274511%);stroke-opacity:1;stroke-miterlimit:4;\" d=\"M 30.158809 35.234701 C 32.748653 33.46951 34.865706 31.098199 36.331358 28.328125 C 37.791756 25.563368 38.558728 22.474284 38.558728 19.342665 L 19.331897 19.342665 Z M 30.158809 35.234701 \" transform=\"matrix(0.74359,0,0,0.734694,89.5,190)\"/>\n",
       "<path style=\" stroke:none;fill-rule:nonzero;fill:rgb(26.666668%,26.666668%,26.274511%);fill-opacity:1;\" d=\"M 91.195312 224.203125 L 91.195312 220.773438 L 91.722656 220.773438 L 91.722656 221.261719 C 91.980469 220.886719 92.347656 220.695312 92.828125 220.695312 C 93.039062 220.695312 93.230469 220.734375 93.40625 220.808594 C 93.582031 220.882812 93.714844 220.980469 93.800781 221.101562 C 93.886719 221.222656 93.949219 221.363281 93.984375 221.527344 C 94.003906 221.636719 94.015625 221.824219 94.015625 222.09375 L 94.015625 224.203125 L 93.425781 224.203125 L 93.425781 222.117188 C 93.425781 221.878906 93.402344 221.703125 93.359375 221.585938 C 93.3125 221.46875 93.230469 221.375 93.117188 221.304688 C 93 221.234375 92.863281 221.199219 92.707031 221.199219 C 92.453125 221.199219 92.238281 221.277344 92.054688 221.4375 C 91.875 221.59375 91.78125 221.890625 91.78125 222.328125 L 91.78125 224.203125 Z M 91.195312 224.203125 \"/>\n",
       "<path style=\" stroke:none;fill-rule:nonzero;fill:rgb(26.666668%,26.666668%,26.274511%);fill-opacity:1;\" d=\"M 98.011719 221.417969 L 94.847656 221.417969 L 94.847656 220.878906 L 98.011719 220.878906 Z M 98.011719 222.855469 L 94.847656 222.855469 L 94.847656 222.3125 L 98.011719 222.3125 Z M 98.011719 222.855469 \"/>\n",
       "<path style=\" stroke:none;fill-rule:nonzero;fill:rgb(26.666668%,26.666668%,26.274511%);fill-opacity:1;\" d=\"M 101.753906 223.644531 L 101.753906 224.203125 L 98.585938 224.203125 C 98.582031 224.0625 98.605469 223.929688 98.65625 223.800781 C 98.734375 223.585938 98.863281 223.375 99.042969 223.167969 C 99.21875 222.964844 99.476562 222.722656 99.8125 222.453125 C 100.332031 222.03125 100.683594 221.699219 100.867188 221.449219 C 101.050781 221.203125 101.144531 220.972656 101.144531 220.75 C 101.144531 220.519531 101.058594 220.328125 100.890625 220.167969 C 100.726562 220.011719 100.507812 219.933594 100.242188 219.933594 C 99.957031 219.933594 99.730469 220.015625 99.5625 220.183594 C 99.390625 220.351562 99.304688 220.582031 99.300781 220.878906 L 98.699219 220.820312 C 98.738281 220.375 98.894531 220.035156 99.164062 219.800781 C 99.433594 219.566406 99.796875 219.449219 100.253906 219.449219 C 100.714844 219.449219 101.078125 219.578125 101.34375 219.828125 C 101.613281 220.078125 101.746094 220.390625 101.746094 220.765625 C 101.746094 220.953125 101.707031 221.140625 101.628906 221.324219 C 101.550781 221.507812 101.421875 221.699219 101.238281 221.902344 C 101.058594 222.105469 100.753906 222.382812 100.332031 222.734375 C 99.980469 223.027344 99.753906 223.226562 99.652344 223.328125 C 99.550781 223.433594 99.46875 223.539062 99.402344 223.644531 Z M 101.753906 223.644531 \"/>\n",
       "<path style=\" stroke:none;fill-rule:nonzero;fill:rgb(26.666668%,26.666668%,26.274511%);fill-opacity:1;\" d=\"M 104.597656 224.203125 L 104.011719 224.203125 L 104.011719 220.5 C 103.871094 220.632812 103.683594 220.765625 103.453125 220.898438 C 103.222656 221.035156 103.019531 221.132812 102.835938 221.199219 L 102.835938 220.636719 C 103.164062 220.484375 103.453125 220.300781 103.699219 220.082031 C 103.945312 219.867188 104.117188 219.65625 104.21875 219.449219 L 104.597656 219.449219 Z M 104.597656 224.203125 \"/>\n",
       "<path style=\" stroke:none;fill-rule:nonzero;fill:rgb(26.666668%,26.666668%,26.274511%);fill-opacity:1;\" d=\"M 106.109375 222.953125 L 106.695312 222.875 C 106.765625 223.207031 106.878906 223.441406 107.042969 223.589844 C 107.203125 223.734375 107.402344 223.804688 107.636719 223.804688 C 107.910156 223.804688 108.144531 223.710938 108.335938 223.523438 C 108.527344 223.332031 108.621094 223.097656 108.621094 222.816406 C 108.621094 222.550781 108.535156 222.332031 108.359375 222.160156 C 108.179688 221.984375 107.957031 221.898438 107.683594 221.898438 C 107.574219 221.898438 107.433594 221.917969 107.269531 221.960938 L 107.335938 221.453125 C 107.375 221.457031 107.40625 221.457031 107.429688 221.457031 C 107.679688 221.457031 107.90625 221.394531 108.105469 221.265625 C 108.304688 221.136719 108.40625 220.9375 108.40625 220.667969 C 108.40625 220.453125 108.332031 220.277344 108.1875 220.136719 C 108.042969 220 107.851562 219.929688 107.621094 219.929688 C 107.394531 219.929688 107.203125 220 107.050781 220.140625 C 106.898438 220.285156 106.800781 220.496094 106.757812 220.78125 L 106.167969 220.675781 C 106.238281 220.289062 106.402344 219.984375 106.65625 219.773438 C 106.914062 219.558594 107.230469 219.449219 107.609375 219.449219 C 107.871094 219.449219 108.109375 219.507812 108.332031 219.617188 C 108.550781 219.726562 108.71875 219.878906 108.835938 220.070312 C 108.953125 220.261719 109.011719 220.464844 109.011719 220.679688 C 109.011719 220.886719 108.957031 221.070312 108.84375 221.238281 C 108.734375 221.40625 108.570312 221.539062 108.351562 221.640625 C 108.632812 221.703125 108.855469 221.835938 109.011719 222.042969 C 109.167969 222.246094 109.246094 222.5 109.246094 222.804688 C 109.246094 223.21875 109.09375 223.570312 108.789062 223.855469 C 108.484375 224.144531 108.097656 224.285156 107.632812 224.285156 C 107.210938 224.285156 106.863281 224.164062 106.585938 223.914062 C 106.308594 223.667969 106.148438 223.347656 106.109375 222.953125 Z M 106.109375 222.953125 \"/>\n",
       "<path style=\" stroke:none;fill-rule:nonzero;fill:rgb(26.666668%,26.666668%,26.274511%);fill-opacity:1;\" d=\"M 112.042969 224.203125 L 111.457031 224.203125 L 111.457031 220.5 C 111.3125 220.632812 111.128906 220.765625 110.898438 220.898438 C 110.667969 221.035156 110.460938 221.132812 110.277344 221.199219 L 110.277344 220.636719 C 110.609375 220.484375 110.894531 220.300781 111.140625 220.082031 C 111.386719 219.867188 111.5625 219.65625 111.664062 219.449219 L 112.042969 219.449219 Z M 112.042969 224.203125 \"/>\n",
       "<path style=\" stroke:none;fill-rule:nonzero;fill:rgb(26.666668%,26.666668%,26.274511%);fill-opacity:1;\" d=\"M 113.636719 223.109375 L 114.203125 223.058594 C 114.25 223.320312 114.34375 223.511719 114.476562 223.628906 C 114.613281 223.746094 114.785156 223.804688 114.996094 223.804688 C 115.179688 223.804688 115.335938 223.765625 115.472656 223.683594 C 115.609375 223.601562 115.71875 223.492188 115.808594 223.355469 C 115.894531 223.21875 115.96875 223.035156 116.027344 222.800781 C 116.085938 222.570312 116.113281 222.332031 116.113281 222.089844 C 116.113281 222.066406 116.113281 222.027344 116.113281 221.976562 C 115.996094 222.160156 115.832031 222.308594 115.628906 222.425781 C 115.425781 222.542969 115.207031 222.597656 114.96875 222.597656 C 114.570312 222.597656 114.234375 222.457031 113.960938 222.171875 C 113.6875 221.886719 113.550781 221.515625 113.550781 221.046875 C 113.550781 220.570312 113.695312 220.183594 113.980469 219.890625 C 114.265625 219.597656 114.625 219.449219 115.054688 219.449219 C 115.367188 219.449219 115.652344 219.535156 115.910156 219.699219 C 116.167969 219.863281 116.363281 220.101562 116.5 220.410156 C 116.632812 220.714844 116.699219 221.160156 116.699219 221.738281 C 116.699219 222.34375 116.632812 222.828125 116.5 223.183594 C 116.367188 223.542969 116.171875 223.816406 115.90625 224.003906 C 115.644531 224.191406 115.335938 224.285156 114.984375 224.285156 C 114.609375 224.285156 114.304688 224.179688 114.066406 223.976562 C 113.828125 223.769531 113.6875 223.480469 113.636719 223.109375 Z M 116.046875 221.019531 C 116.046875 220.6875 115.957031 220.421875 115.777344 220.226562 C 115.597656 220.03125 115.382812 219.933594 115.128906 219.933594 C 114.867188 219.933594 114.640625 220.039062 114.445312 220.25 C 114.25 220.457031 114.15625 220.730469 114.15625 221.070312 C 114.15625 221.371094 114.246094 221.613281 114.429688 221.804688 C 114.613281 221.992188 114.839844 222.085938 115.113281 222.085938 C 115.382812 222.085938 115.609375 221.992188 115.78125 221.804688 C 115.957031 221.613281 116.046875 221.351562 116.046875 221.019531 Z M 116.046875 221.019531 \"/>\n",
       "<path style=\"fill:none;stroke-width:0.3;stroke-linecap:butt;stroke-linejoin:miter;stroke:rgb(26.666667%,26.666667%,26.27451%);stroke-opacity:1;stroke-miterlimit:10;\" d=\"M 123.605469 -64.1875 C 121.117188 -59.832031 117.714844 -53.878906 114.253906 -47.820312 \" transform=\"matrix(1,0,0,1,4,230)\"/>\n",
       "<path style=\"fill-rule:nonzero;fill:rgb(26.666667%,26.666667%,26.27451%);fill-opacity:1;stroke-width:0.3;stroke-linecap:butt;stroke-linejoin:miter;stroke:rgb(26.666667%,26.666667%,26.27451%);stroke-opacity:1;stroke-miterlimit:10;\" d=\"M 115.296875 -46.824219 L 112.097656 -44.046875 L 112.867188 -48.210938 Z M 115.296875 -46.824219 \" transform=\"matrix(1,0,0,1,4,230)\"/>\n",
       "<path style=\" stroke:none;fill-rule:nonzero;fill:rgb(100%,100%,100%);fill-opacity:1;\" d=\"M 140.5 220.953125 L 162.964844 220.953125 L 162.964844 195 L 140.5 195 Z M 140.5 220.953125 \"/>\n",
       "<path style=\"fill-rule:nonzero;fill:rgb(99.607843%,99.607843%,73.333335%);fill-opacity:1;stroke-width:0.5;stroke-linecap:butt;stroke-linejoin:miter;stroke:rgb(26.666668%,26.666668%,26.274511%);stroke-opacity:1;stroke-miterlimit:4;\" d=\"M 27.935802 12.888371 C 27.935802 11.310847 27.64623 9.74384 27.072351 8.271484 C 26.503736 6.804387 25.671875 5.447716 24.608356 4.280349 C 23.544837 3.112981 22.28125 2.150691 20.870245 1.446064 C 19.459239 0.741436 17.92714 0.29973 16.358186 0.152494 C 14.783967 0 13.199219 0.141977 11.682914 0.567909 C 10.161345 0.99384 8.734545 1.698468 7.470958 2.644982 C 6.207371 3.591496 5.133322 4.758864 4.296196 6.09976 C 3.459069 7.435397 2.87466 8.918269 2.574558 10.464243 C 2.279721 12.015475 2.269192 13.608774 2.548234 15.160006 C 2.827276 16.711238 3.39589 18.199369 4.217221 19.545523 C 5.033288 20.891677 6.096807 22.080078 7.349864 23.037109 C 8.602921 23.999399 10.019192 24.719802 11.535496 25.166767 C 13.0518 25.608474 14.631284 25.771484 16.205503 25.640024 C 17.779721 25.508564 19.311821 25.087891 20.733356 24.399038 C 22.149626 23.704928 23.429008 22.763672 24.503057 21.606821 C 25.582371 20.44997 26.435292 19.109075 27.019701 17.641977 L 15.141984 12.888371 Z M 27.935802 12.888371 \" transform=\"matrix(0.741935,0,0,0.742857,140.5,195)\"/>\n",
       "<path style=\"fill-rule:nonzero;fill:rgb(63.137257%,85.490197%,70.588237%);fill-opacity:1;stroke-width:0.5;stroke-linecap:butt;stroke-linejoin:miter;stroke:rgb(26.666668%,26.666668%,26.274511%);stroke-opacity:1;stroke-miterlimit:4;\" d=\"M 27.019701 17.641977 C 27.319803 16.890024 27.551461 16.10652 27.704144 15.307242 C 27.856827 14.513221 27.935802 13.698167 27.935802 12.888371 L 15.141984 12.888371 Z M 27.019701 17.641977 \" transform=\"matrix(0.741935,0,0,0.742857,140.5,195)\"/>\n",
       "<path style=\" stroke:none;fill-rule:nonzero;fill:rgb(26.666668%,26.666668%,26.274511%);fill-opacity:1;\" d=\"M 140.941406 219.625 L 140.941406 216.15625 L 141.46875 216.15625 L 141.46875 216.652344 C 141.722656 216.269531 142.089844 216.078125 142.570312 216.078125 C 142.777344 216.078125 142.96875 216.117188 143.144531 216.191406 C 143.320312 216.265625 143.453125 216.367188 143.539062 216.488281 C 143.625 216.609375 143.6875 216.753906 143.722656 216.921875 C 143.742188 217.03125 143.753906 217.222656 143.753906 217.492188 L 143.753906 219.625 L 143.167969 219.625 L 143.167969 217.515625 C 143.167969 217.277344 143.144531 217.097656 143.097656 216.976562 C 143.050781 216.859375 142.972656 216.765625 142.855469 216.695312 C 142.738281 216.625 142.601562 216.589844 142.445312 216.589844 C 142.195312 216.589844 141.980469 216.667969 141.800781 216.828125 C 141.617188 216.984375 141.527344 217.285156 141.527344 217.730469 L 141.527344 219.625 Z M 140.941406 219.625 \"/>\n",
       "<path style=\" stroke:none;fill-rule:nonzero;fill:rgb(26.666668%,26.666668%,26.274511%);fill-opacity:1;\" d=\"M 147.742188 216.808594 L 144.585938 216.808594 L 144.585938 216.261719 L 147.742188 216.261719 Z M 147.742188 218.261719 L 144.585938 218.261719 L 144.585938 217.714844 L 147.742188 217.714844 Z M 147.742188 218.261719 \"/>\n",
       "<path style=\" stroke:none;fill-rule:nonzero;fill:rgb(26.666668%,26.666668%,26.274511%);fill-opacity:1;\" d=\"M 149.292969 217.03125 C 149.050781 216.941406 148.871094 216.8125 148.75 216.648438 C 148.636719 216.480469 148.578125 216.285156 148.578125 216.054688 C 148.578125 215.703125 148.703125 215.414062 148.949219 215.175781 C 149.203125 214.9375 149.535156 214.820312 149.949219 214.820312 C 150.367188 214.820312 150.703125 214.941406 150.957031 215.183594 C 151.210938 215.425781 151.339844 215.722656 151.339844 216.070312 C 151.339844 216.292969 151.28125 216.484375 151.164062 216.648438 C 151.046875 216.8125 150.871094 216.941406 150.632812 217.03125 C 150.925781 217.125 151.152344 217.28125 151.304688 217.492188 C 151.457031 217.707031 151.535156 217.960938 151.535156 218.257812 C 151.535156 218.664062 151.386719 219.007812 151.097656 219.289062 C 150.8125 219.566406 150.429688 219.707031 149.957031 219.707031 C 149.488281 219.707031 149.105469 219.566406 148.816406 219.289062 C 148.527344 219.007812 148.382812 218.660156 148.382812 218.242188 C 148.382812 217.929688 148.460938 217.667969 148.621094 217.460938 C 148.777344 217.25 149.003906 217.105469 149.292969 217.03125 Z M 149.175781 216.03125 C 149.175781 216.257812 149.25 216.445312 149.394531 216.589844 C 149.539062 216.730469 149.730469 216.804688 149.960938 216.804688 C 150.1875 216.804688 150.375 216.734375 150.519531 216.589844 C 150.664062 216.449219 150.734375 216.273438 150.734375 216.066406 C 150.734375 215.851562 150.660156 215.667969 150.511719 215.523438 C 150.363281 215.375 150.175781 215.300781 149.957031 215.300781 C 149.730469 215.300781 149.546875 215.375 149.398438 215.519531 C 149.25 215.660156 149.175781 215.832031 149.175781 216.03125 Z M 148.988281 218.242188 C 148.988281 218.410156 149.027344 218.574219 149.105469 218.730469 C 149.1875 218.886719 149.304688 219.007812 149.460938 219.09375 C 149.617188 219.179688 149.785156 219.222656 149.964844 219.222656 C 150.246094 219.222656 150.476562 219.132812 150.660156 218.953125 C 150.84375 218.773438 150.933594 218.542969 150.933594 218.261719 C 150.933594 217.980469 150.839844 217.746094 150.652344 217.5625 C 150.464844 217.375 150.226562 217.285156 149.945312 217.285156 C 149.667969 217.285156 149.441406 217.375 149.257812 217.558594 C 149.078125 217.742188 148.988281 217.96875 148.988281 218.242188 Z M 148.988281 218.242188 \"/>\n",
       "<path style=\" stroke:none;fill-rule:nonzero;fill:rgb(26.666668%,26.666668%,26.274511%);fill-opacity:1;\" d=\"M 154.3125 219.625 L 153.726562 219.625 L 153.726562 215.878906 C 153.585938 216.015625 153.402344 216.148438 153.171875 216.285156 C 152.941406 216.421875 152.734375 216.519531 152.554688 216.589844 L 152.554688 216.019531 C 152.882812 215.867188 153.167969 215.679688 153.414062 215.460938 C 153.660156 215.238281 153.835938 215.027344 153.9375 214.820312 L 154.3125 214.820312 Z M 154.3125 219.625 \"/>\n",
       "<path style=\" stroke:none;fill-rule:nonzero;fill:rgb(26.666668%,26.666668%,26.274511%);fill-opacity:1;\" d=\"M 155.816406 218.371094 L 156.433594 218.320312 C 156.480469 218.617188 156.585938 218.84375 156.75 218.996094 C 156.917969 219.148438 157.117188 219.222656 157.355469 219.222656 C 157.636719 219.222656 157.875 219.117188 158.070312 218.902344 C 158.265625 218.691406 158.363281 218.40625 158.363281 218.054688 C 158.363281 217.71875 158.269531 217.457031 158.082031 217.261719 C 157.894531 217.066406 157.648438 216.96875 157.34375 216.96875 C 157.152344 216.96875 156.984375 217.011719 156.832031 217.101562 C 156.679688 217.183594 156.558594 217.296875 156.472656 217.433594 L 155.921875 217.363281 L 156.382812 214.902344 L 158.761719 214.902344 L 158.761719 215.464844 L 156.855469 215.464844 L 156.597656 216.75 C 156.882812 216.550781 157.183594 216.449219 157.5 216.449219 C 157.917969 216.449219 158.269531 216.597656 158.554688 216.886719 C 158.84375 217.175781 158.988281 217.546875 158.988281 218.003906 C 158.988281 218.433594 158.859375 218.808594 158.609375 219.125 C 158.300781 219.511719 157.882812 219.707031 157.355469 219.707031 C 156.917969 219.707031 156.5625 219.585938 156.289062 219.339844 C 156.015625 219.097656 155.855469 218.773438 155.816406 218.371094 Z M 155.816406 218.371094 \"/>\n",
       "<path style=\" stroke:none;fill-rule:nonzero;fill:rgb(26.666668%,26.666668%,26.274511%);fill-opacity:1;\" d=\"M 161.742188 219.625 L 161.15625 219.625 L 161.15625 215.878906 C 161.015625 216.015625 160.828125 216.148438 160.597656 216.285156 C 160.371094 216.421875 160.164062 216.519531 159.980469 216.589844 L 159.980469 216.019531 C 160.308594 215.867188 160.597656 215.679688 160.84375 215.460938 C 161.085938 215.238281 161.261719 215.027344 161.363281 214.820312 L 161.742188 214.820312 Z M 161.742188 219.625 \"/>\n",
       "<path style=\"fill:none;stroke-width:0.3;stroke-linecap:butt;stroke-linejoin:miter;stroke:rgb(26.666667%,26.666667%,26.27451%);stroke-opacity:1;stroke-miterlimit:10;\" d=\"M 130.28125 -64.1875 C 132.492188 -58.773438 135.707031 -50.890625 138.765625 -43.402344 \" transform=\"matrix(1,0,0,1,4,230)\"/>\n",
       "<path style=\"fill-rule:nonzero;fill:rgb(26.666667%,26.666667%,26.27451%);fill-opacity:1;stroke-width:0.3;stroke-linecap:butt;stroke-linejoin:miter;stroke:rgb(26.666667%,26.666667%,26.27451%);stroke-opacity:1;stroke-miterlimit:10;\" d=\"M 140.222656 -43.535156 L 140.4375 -39.300781 L 137.628906 -42.476562 Z M 140.222656 -43.535156 \" transform=\"matrix(1,0,0,1,4,230)\"/>\n",
       "<path style=\" stroke:none;fill-rule:nonzero;fill:rgb(100%,100%,100%);fill-opacity:1;\" d=\"M 226.5 218.753906 L 248.964844 218.753906 L 248.964844 198 L 226.5 198 Z M 226.5 218.753906 \"/>\n",
       "<path style=\"fill-rule:nonzero;fill:rgb(99.607843%,99.607843%,73.333335%);fill-opacity:1;stroke-width:0.5;stroke-linecap:butt;stroke-linejoin:miter;stroke:rgb(26.666668%,26.666668%,26.274511%);stroke-opacity:1;stroke-miterlimit:4;\" d=\"M 24.955842 9.828497 C 24.955842 8.555432 24.703125 7.28776 24.21875 6.106399 C 23.734375 4.925037 23.023607 3.846168 22.128567 2.939918 C 21.228261 2.028274 20.164742 1.300037 18.985394 0.803757 C 17.811311 0.302083 16.547724 0.0323661 15.273607 0.016183 C 13.994226 0 12.725374 0.231957 11.535496 0.701265 C 10.350883 1.170573 9.261039 1.866443 8.339674 2.751116 C 7.418308 3.635789 6.681216 4.69308 6.165251 5.863653 C 5.649287 7.034226 5.36498 8.291109 5.328125 9.569568 C 5.296535 10.842634 5.512398 12.115699 5.965183 13.313244 C 6.417969 14.505394 7.097147 15.600446 7.971128 16.533668 C 8.845109 17.46689 9.892833 18.222098 11.051121 18.750744 C 12.214674 19.284784 13.467731 19.586868 14.747113 19.635417 C 16.02123 19.68936 17.295346 19.489769 18.495754 19.052827 C 19.696162 18.615885 20.8018 17.946987 21.74949 17.089286 C 22.691916 16.22619 23.460598 15.190476 24.008152 14.036086 C 24.555707 12.881696 24.871603 11.630208 24.940048 10.357143 L 15.141984 9.828497 Z M 24.955842 9.828497 \" transform=\"matrix(0.741935,0,0,0.724138,226.5,198)\"/>\n",
       "<path style=\"fill-rule:nonzero;fill:rgb(63.137257%,85.490197%,70.588237%);fill-opacity:1;stroke-width:0.5;stroke-linecap:butt;stroke-linejoin:miter;stroke:rgb(26.666668%,26.666668%,26.274511%);stroke-opacity:1;stroke-miterlimit:4;\" d=\"M 24.940048 10.357143 C 24.945312 10.270833 24.950577 10.179129 24.950577 10.09282 C 24.955842 10.00651 24.955842 9.920201 24.955842 9.828497 L 15.141984 9.828497 Z M 24.940048 10.357143 \" transform=\"matrix(0.741935,0,0,0.724138,226.5,198)\"/>\n",
       "<path style=\" stroke:none;fill-rule:nonzero;fill:rgb(26.666668%,26.666668%,26.274511%);fill-opacity:1;\" d=\"M 226.941406 217.460938 L 226.941406 214.078125 L 227.46875 214.078125 L 227.46875 214.558594 C 227.722656 214.1875 228.089844 214.003906 228.570312 214.003906 C 228.777344 214.003906 228.96875 214.039062 229.144531 214.113281 C 229.320312 214.1875 229.453125 214.28125 229.539062 214.402344 C 229.625 214.519531 229.6875 214.660156 229.722656 214.824219 C 229.742188 214.929688 229.753906 215.117188 229.753906 215.378906 L 229.753906 217.460938 L 229.167969 217.460938 L 229.167969 215.402344 C 229.167969 215.167969 229.144531 214.996094 229.097656 214.878906 C 229.050781 214.765625 228.972656 214.671875 228.855469 214.605469 C 228.738281 214.535156 228.601562 214.5 228.445312 214.5 C 228.195312 214.5 227.980469 214.578125 227.800781 214.730469 C 227.617188 214.886719 227.527344 215.179688 227.527344 215.613281 L 227.527344 217.460938 Z M 226.941406 217.460938 \"/>\n",
       "<path style=\" stroke:none;fill-rule:nonzero;fill:rgb(26.666668%,26.666668%,26.274511%);fill-opacity:1;\" d=\"M 233.742188 214.714844 L 230.585938 214.714844 L 230.585938 214.179688 L 233.742188 214.179688 Z M 233.742188 216.132812 L 230.585938 216.132812 L 230.585938 215.597656 L 233.742188 215.597656 Z M 233.742188 216.132812 \"/>\n",
       "<path style=\" stroke:none;fill-rule:nonzero;fill:rgb(26.666668%,26.666668%,26.274511%);fill-opacity:1;\" d=\"M 236.273438 217.460938 L 236.273438 216.34375 L 234.199219 216.34375 L 234.199219 215.816406 L 236.378906 212.792969 L 236.859375 212.792969 L 236.859375 215.816406 L 237.503906 215.816406 L 237.503906 216.34375 L 236.859375 216.34375 L 236.859375 217.460938 Z M 236.273438 215.816406 L 236.273438 213.714844 L 234.773438 215.816406 Z M 236.273438 215.816406 \"/>\n",
       "<path style=\" stroke:none;fill-rule:nonzero;fill:rgb(26.666668%,26.666668%,26.274511%);fill-opacity:1;\" d=\"M 239.984375 217.460938 L 239.984375 216.34375 L 237.910156 216.34375 L 237.910156 215.816406 L 240.09375 212.792969 L 240.570312 212.792969 L 240.570312 215.816406 L 241.21875 215.816406 L 241.21875 216.34375 L 240.570312 216.34375 L 240.570312 217.460938 Z M 239.984375 215.816406 L 239.984375 213.714844 L 238.488281 215.816406 Z M 239.984375 215.816406 \"/>\n",
       "<path style=\" stroke:none;fill-rule:nonzero;fill:rgb(26.666668%,26.666668%,26.274511%);fill-opacity:1;\" d=\"M 241.816406 216.238281 L 242.433594 216.1875 C 242.480469 216.480469 242.585938 216.699219 242.75 216.847656 C 242.917969 216.996094 243.117188 217.066406 243.355469 217.066406 C 243.636719 217.066406 243.875 216.964844 244.070312 216.757812 C 244.265625 216.546875 244.363281 216.273438 244.363281 215.929688 C 244.363281 215.601562 244.269531 215.34375 244.082031 215.15625 C 243.894531 214.964844 243.648438 214.871094 243.34375 214.871094 C 243.152344 214.871094 242.984375 214.914062 242.832031 214.996094 C 242.679688 215.082031 242.558594 215.191406 242.472656 215.324219 L 241.921875 215.253906 L 242.382812 212.859375 L 244.761719 212.859375 L 244.761719 213.40625 L 242.855469 213.40625 L 242.597656 214.660156 C 242.882812 214.464844 243.183594 214.367188 243.5 214.367188 C 243.917969 214.367188 244.269531 214.507812 244.554688 214.789062 C 244.84375 215.070312 244.988281 215.433594 244.988281 215.878906 C 244.988281 216.300781 244.859375 216.664062 244.609375 216.972656 C 244.300781 217.351562 243.882812 217.539062 243.355469 217.539062 C 242.917969 217.539062 242.5625 217.417969 242.289062 217.183594 C 242.015625 216.945312 241.855469 216.628906 241.816406 216.238281 Z M 241.816406 216.238281 \"/>\n",
       "<path style=\" stroke:none;fill-rule:nonzero;fill:rgb(26.666668%,26.666668%,26.274511%);fill-opacity:1;\" d=\"M 247.742188 217.460938 L 247.15625 217.460938 L 247.15625 213.808594 C 247.015625 213.941406 246.828125 214.070312 246.597656 214.203125 C 246.371094 214.335938 246.164062 214.433594 245.980469 214.5 L 245.980469 213.945312 C 246.308594 213.796875 246.597656 213.613281 246.84375 213.398438 C 247.085938 213.183594 247.261719 212.976562 247.363281 212.773438 L 247.742188 212.773438 Z M 247.742188 217.460938 \"/>\n",
       "<path style=\"fill:none;stroke-width:0.3;stroke-linecap:butt;stroke-linejoin:miter;stroke:rgb(26.666667%,26.666667%,26.27451%);stroke-opacity:1;stroke-miterlimit:10;\" d=\"M 251.578125 -64.1875 C 248.984375 -58.128906 245.066406 -48.984375 241.539062 -40.757812 \" transform=\"matrix(1,0,0,1,4,230)\"/>\n",
       "<path style=\"fill-rule:nonzero;fill:rgb(26.666667%,26.666667%,26.27451%);fill-opacity:1;stroke-width:0.3;stroke-linecap:butt;stroke-linejoin:miter;stroke:rgb(26.666667%,26.666667%,26.27451%);stroke-opacity:1;stroke-miterlimit:10;\" d=\"M 242.710938 -39.933594 L 239.847656 -36.808594 L 240.136719 -41.039062 Z M 242.710938 -39.933594 \" transform=\"matrix(1,0,0,1,4,230)\"/>\n",
       "<path style=\" stroke:none;fill-rule:nonzero;fill:rgb(100%,100%,100%);fill-opacity:1;\" d=\"M 271.5 213.8125 L 285.980469 213.8125 L 285.980469 203 L 271.5 203 Z M 271.5 213.8125 \"/>\n",
       "<path style=\"fill-rule:nonzero;fill:rgb(99.607843%,99.607843%,73.333335%);fill-opacity:1;stroke-width:0.5;stroke-linecap:butt;stroke-linejoin:miter;stroke:rgb(26.666668%,26.666668%,26.274511%);stroke-opacity:1;stroke-miterlimit:4;\" d=\"M 13.261719 3.142756 C 13.261719 2.74858 13.185156 2.354403 13.0375 1.986861 C 12.895312 1.619318 12.676562 1.283736 12.408594 0.996094 C 12.135156 0.708452 11.8125 0.474077 11.451563 0.308949 C 11.096094 0.143821 10.707812 0.0426136 10.314063 0.0213068 C 9.920313 0 9.521094 0.053267 9.149219 0.175781 C 8.771875 0.303622 8.421875 0.495384 8.121094 0.751065 C 7.820312 1.006747 7.56875 1.315696 7.382812 1.667259 C 7.196875 2.013494 7.076563 2.397017 7.032813 2.785866 C 6.989062 3.180043 7.016406 3.579545 7.120313 3.957741 C 7.224219 4.341264 7.399219 4.698153 7.634375 5.017756 C 7.875 5.332031 8.170313 5.598366 8.503906 5.806108 C 8.842969 6.013849 9.214844 6.152344 9.608594 6.221591 C 9.996875 6.285511 10.396094 6.280185 10.778906 6.200284 C 11.167188 6.115057 11.533594 5.960582 11.867188 5.742188 C 12.195312 5.523793 12.479688 5.246804 12.703906 4.921875 C 12.928125 4.596946 13.092188 4.229403 13.179688 3.845881 L 10.133594 3.142756 Z M 13.261719 3.142756 \" transform=\"matrix(0.714286,0,0,0.733333,271.5,203)\"/>\n",
       "<path style=\"fill-rule:nonzero;fill:rgb(63.137257%,85.490197%,70.588237%);fill-opacity:1;stroke-width:0.5;stroke-linecap:butt;stroke-linejoin:miter;stroke:rgb(26.666668%,26.666668%,26.274511%);stroke-opacity:1;stroke-miterlimit:4;\" d=\"M 13.179688 3.845881 C 13.207031 3.728693 13.228906 3.611506 13.239844 3.494318 C 13.250781 3.377131 13.261719 3.259943 13.261719 3.142756 L 10.133594 3.142756 Z M 13.179688 3.845881 \" transform=\"matrix(0.714286,0,0,0.733333,271.5,203)\"/>\n",
       "<path style=\" stroke:none;fill-rule:nonzero;fill:rgb(26.666668%,26.666668%,26.274511%);fill-opacity:1;\" d=\"M 271.925781 212.503906 L 271.925781 209.078125 L 272.433594 209.078125 L 272.433594 209.566406 C 272.675781 209.191406 273.03125 209.003906 273.492188 209.003906 C 273.695312 209.003906 273.878906 209.039062 274.046875 209.113281 C 274.214844 209.1875 274.34375 209.285156 274.425781 209.40625 C 274.507812 209.527344 274.566406 209.667969 274.601562 209.832031 C 274.621094 209.941406 274.632812 210.128906 274.632812 210.398438 L 274.632812 212.503906 L 274.066406 212.503906 L 274.066406 210.421875 C 274.066406 210.183594 274.046875 210.007812 274 209.890625 C 273.957031 209.773438 273.878906 209.679688 273.769531 209.609375 C 273.65625 209.539062 273.523438 209.503906 273.375 209.503906 C 273.132812 209.503906 272.925781 209.585938 272.75 209.742188 C 272.574219 209.898438 272.488281 210.195312 272.488281 210.632812 L 272.488281 212.503906 Z M 271.925781 212.503906 \"/>\n",
       "<path style=\" stroke:none;fill-rule:nonzero;fill:rgb(26.666668%,26.666668%,26.274511%);fill-opacity:1;\" d=\"M 278.472656 209.722656 L 275.433594 209.722656 L 275.433594 209.183594 L 278.472656 209.183594 Z M 278.472656 211.160156 L 275.433594 211.160156 L 275.433594 210.617188 L 278.472656 210.617188 Z M 278.472656 211.160156 \"/>\n",
       "<path style=\" stroke:none;fill-rule:nonzero;fill:rgb(26.666668%,26.666668%,26.274511%);fill-opacity:1;\" d=\"M 279.964844 209.941406 C 279.730469 209.851562 279.558594 209.726562 279.445312 209.5625 C 279.332031 209.398438 279.277344 209.203125 279.277344 208.976562 C 279.277344 208.632812 279.394531 208.34375 279.636719 208.109375 C 279.878906 207.875 280.195312 207.757812 280.597656 207.757812 C 281 207.757812 281.320312 207.878906 281.566406 208.117188 C 281.8125 208.359375 281.933594 208.648438 281.933594 208.992188 C 281.933594 209.210938 281.878906 209.402344 281.765625 209.566406 C 281.652344 209.726562 281.484375 209.851562 281.257812 209.941406 C 281.539062 210.035156 281.753906 210.1875 281.902344 210.398438 C 282.046875 210.609375 282.121094 210.859375 282.121094 211.152344 C 282.121094 211.554688 281.984375 211.894531 281.703125 212.171875 C 281.425781 212.445312 281.058594 212.582031 280.605469 212.582031 C 280.152344 212.582031 279.785156 212.445312 279.507812 212.167969 C 279.230469 211.894531 279.089844 211.546875 279.089844 211.136719 C 279.089844 210.828125 279.164062 210.570312 279.316406 210.363281 C 279.46875 210.15625 279.6875 210.015625 279.964844 209.941406 Z M 279.851562 208.957031 C 279.851562 209.179688 279.921875 209.363281 280.0625 209.503906 C 280.203125 209.648438 280.386719 209.71875 280.609375 209.71875 C 280.828125 209.71875 281.003906 209.648438 281.144531 209.507812 C 281.285156 209.367188 281.355469 209.195312 281.355469 208.988281 C 281.355469 208.777344 281.28125 208.597656 281.136719 208.453125 C 280.996094 208.308594 280.816406 208.234375 280.601562 208.234375 C 280.386719 208.234375 280.207031 208.304688 280.066406 208.449219 C 279.925781 208.589844 279.851562 208.761719 279.851562 208.957031 Z M 279.671875 211.140625 C 279.671875 211.304688 279.710938 211.464844 279.785156 211.621094 C 279.863281 211.773438 279.976562 211.894531 280.125 211.980469 C 280.277344 212.0625 280.4375 212.105469 280.613281 212.105469 C 280.882812 212.105469 281.105469 212.015625 281.28125 211.839844 C 281.457031 211.660156 281.542969 211.433594 281.542969 211.160156 C 281.542969 210.878906 281.453125 210.648438 281.273438 210.464844 C 281.09375 210.28125 280.867188 210.191406 280.59375 210.191406 C 280.328125 210.191406 280.105469 210.28125 279.933594 210.460938 C 279.757812 210.644531 279.671875 210.867188 279.671875 211.140625 Z M 279.671875 211.140625 \"/>\n",
       "<path style=\" stroke:none;fill-rule:nonzero;fill:rgb(26.666668%,26.666668%,26.274511%);fill-opacity:1;\" d=\"M 282.675781 211.253906 L 283.238281 211.179688 C 283.304688 211.507812 283.414062 211.742188 283.570312 211.890625 C 283.726562 212.035156 283.917969 212.105469 284.140625 212.105469 C 284.40625 212.105469 284.628906 212.011719 284.8125 211.824219 C 284.996094 211.632812 285.089844 211.398438 285.089844 211.121094 C 285.089844 210.855469 285.003906 210.632812 284.835938 210.460938 C 284.664062 210.289062 284.449219 210.203125 284.1875 210.203125 C 284.082031 210.203125 283.949219 210.222656 283.789062 210.265625 L 283.851562 209.757812 C 283.890625 209.761719 283.917969 209.761719 283.941406 209.761719 C 284.183594 209.761719 284.398438 209.699219 284.59375 209.570312 C 284.785156 209.441406 284.882812 209.242188 284.882812 208.972656 C 284.882812 208.761719 284.8125 208.585938 284.671875 208.445312 C 284.53125 208.304688 284.351562 208.234375 284.128906 208.234375 C 283.910156 208.234375 283.726562 208.304688 283.578125 208.449219 C 283.433594 208.589844 283.339844 208.804688 283.296875 209.085938 L 282.730469 208.984375 C 282.800781 208.59375 282.957031 208.292969 283.203125 208.078125 C 283.445312 207.867188 283.75 207.757812 284.117188 207.757812 C 284.367188 207.757812 284.597656 207.8125 284.808594 207.925781 C 285.019531 208.035156 285.183594 208.1875 285.292969 208.378906 C 285.40625 208.570312 285.460938 208.773438 285.460938 208.988281 C 285.460938 209.191406 285.410156 209.375 285.300781 209.542969 C 285.195312 209.710938 285.039062 209.84375 284.828125 209.945312 C 285.101562 210.007812 285.3125 210.140625 285.460938 210.34375 C 285.613281 210.546875 285.6875 210.800781 285.6875 211.105469 C 285.6875 211.519531 285.542969 211.871094 285.25 212.15625 C 284.957031 212.441406 284.585938 212.585938 284.136719 212.585938 C 283.734375 212.585938 283.398438 212.460938 283.132812 212.214844 C 282.863281 211.96875 282.710938 211.648438 282.675781 211.253906 Z M 282.675781 211.253906 \"/>\n",
       "<path style=\"fill:none;stroke-width:0.3;stroke-linecap:butt;stroke-linejoin:miter;stroke:rgb(26.666667%,26.666667%,26.27451%);stroke-opacity:1;stroke-miterlimit:10;\" d=\"M 257.28125 -64.1875 C 260.285156 -56.824219 265.152344 -44.898438 268.949219 -35.601562 \" transform=\"matrix(1,0,0,1,4,230)\"/>\n",
       "<path style=\"fill-rule:nonzero;fill:rgb(26.666667%,26.666667%,26.27451%);fill-opacity:1;stroke-width:0.3;stroke-linecap:butt;stroke-linejoin:miter;stroke:rgb(26.666667%,26.666667%,26.27451%);stroke-opacity:1;stroke-miterlimit:10;\" d=\"M 270.285156 -36.03125 L 270.5 -31.796875 L 267.691406 -34.972656 Z M 270.285156 -36.03125 \" transform=\"matrix(1,0,0,1,4,230)\"/>\n",
       "<path style=\"fill:none;stroke-width:0.3;stroke-linecap:butt;stroke-linejoin:miter;stroke:rgb(26.666667%,26.666667%,26.27451%);stroke-opacity:1;stroke-miterlimit:10;\" d=\"M 209.347656 -97.882812 C 192.722656 -92.421875 169.09375 -84.660156 151.492188 -78.878906 \" transform=\"matrix(1,0,0,1,4,230)\"/>\n",
       "<path style=\"fill-rule:nonzero;fill:rgb(26.666667%,26.666667%,26.27451%);fill-opacity:1;stroke-width:0.3;stroke-linecap:butt;stroke-linejoin:miter;stroke:rgb(26.666667%,26.666667%,26.27451%);stroke-opacity:1;stroke-miterlimit:10;\" d=\"M 151.847656 -77.523438 L 147.609375 -77.605469 L 150.972656 -80.183594 Z M 151.847656 -77.523438 \" transform=\"matrix(1,0,0,1,4,230)\"/>\n",
       "<path style=\"fill:none;stroke-width:0.3;stroke-linecap:butt;stroke-linejoin:miter;stroke:rgb(26.666667%,26.666667%,26.27451%);stroke-opacity:1;stroke-miterlimit:10;\" d=\"M 234.558594 -97.722656 C 238.082031 -93 242.847656 -86.613281 246.835938 -81.269531 \" transform=\"matrix(1,0,0,1,4,230)\"/>\n",
       "<path style=\"fill-rule:nonzero;fill:rgb(26.666667%,26.666667%,26.27451%);fill-opacity:1;stroke-width:0.3;stroke-linecap:butt;stroke-linejoin:miter;stroke:rgb(26.666667%,26.666667%,26.27451%);stroke-opacity:1;stroke-miterlimit:10;\" d=\"M 248.179688 -81.8125 L 249.449219 -77.769531 L 245.933594 -80.136719 Z M 248.179688 -81.8125 \" transform=\"matrix(1,0,0,1,4,230)\"/>\n",
       "<g style=\"fill:rgb(26.666667%,26.666667%,26.27451%);fill-opacity:1;\">\n",
       "  <use xlink:href=\"#glyph0-9\" x=\"236\" y=\"98.598145\"/>\n",
       "  <use xlink:href=\"#glyph0-5\" x=\"241.005371\" y=\"98.598145\"/>\n",
       "  <use xlink:href=\"#glyph0-6\" x=\"245.505371\" y=\"98.598145\"/>\n",
       "  <use xlink:href=\"#glyph0-17\" x=\"250.510742\" y=\"98.598145\"/>\n",
       "  <use xlink:href=\"#glyph0-25\" x=\"255.516113\" y=\"98.598145\"/>\n",
       "  <use xlink:href=\"#glyph0-4\" x=\"260.016113\" y=\"98.598145\"/>\n",
       "  <use xlink:href=\"#glyph0-5\" x=\"262.015625\" y=\"98.598145\"/>\n",
       "  <use xlink:href=\"#glyph0-10\" x=\"266.515625\" y=\"98.598145\"/>\n",
       "  <use xlink:href=\"#glyph0-5\" x=\"269.016113\" y=\"98.598145\"/>\n",
       "  <use xlink:href=\"#glyph0-11\" x=\"273.516113\" y=\"98.598145\"/>\n",
       "  <use xlink:href=\"#glyph0-12\" x=\"282.652344\" y=\"98.598145\"/>\n",
       "  <use xlink:href=\"#glyph0-13\" x=\"287.657715\" y=\"98.598145\"/>\n",
       "  <use xlink:href=\"#glyph0-14\" x=\"290.158203\" y=\"98.598145\"/>\n",
       "  <use xlink:href=\"#glyph0-12\" x=\"295.163574\" y=\"98.598145\"/>\n",
       "</g>\n",
       "<path style=\"fill:none;stroke-width:0.3;stroke-linecap:butt;stroke-linejoin:miter;stroke:rgb(26.666667%,26.666667%,26.27451%);stroke-opacity:1;stroke-miterlimit:10;\" d=\"M 231.851562 -128.996094 C 203.035156 -124.140625 160.832031 -117.027344 129.316406 -111.714844 \" transform=\"matrix(1,0,0,1,4,230)\"/>\n",
       "<path style=\"fill-rule:nonzero;fill:rgb(26.666667%,26.666667%,26.27451%);fill-opacity:1;stroke-width:0.3;stroke-linecap:butt;stroke-linejoin:miter;stroke:rgb(26.666667%,26.666667%,26.27451%);stroke-opacity:1;stroke-miterlimit:10;\" d=\"M 129.3125 -110.296875 L 125.136719 -111.011719 L 128.847656 -113.058594 Z M 129.3125 -110.296875 \" transform=\"matrix(1,0,0,1,4,230)\"/>\n",
       "<path style=\"fill:none;stroke-width:0.3;stroke-linecap:butt;stroke-linejoin:miter;stroke:rgb(26.666667%,26.666667%,26.27451%);stroke-opacity:1;stroke-miterlimit:10;\" d=\"M 256.730469 -127.84375 C 251.929688 -123.726562 245.691406 -118.378906 240.398438 -113.839844 \" transform=\"matrix(1,0,0,1,4,230)\"/>\n",
       "<path style=\"fill-rule:nonzero;fill:rgb(26.666667%,26.666667%,26.27451%);fill-opacity:1;stroke-width:0.3;stroke-linecap:butt;stroke-linejoin:miter;stroke:rgb(26.666667%,26.666667%,26.27451%);stroke-opacity:1;stroke-miterlimit:10;\" d=\"M 241.195312 -112.679688 L 237.246094 -111.140625 L 239.371094 -114.804688 Z M 241.195312 -112.679688 \" transform=\"matrix(1,0,0,1,4,230)\"/>\n",
       "<g style=\"fill:rgb(26.666667%,26.666667%,26.27451%);fill-opacity:1;\">\n",
       "  <use xlink:href=\"#glyph0-9\" x=\"329\" y=\"98.598145\"/>\n",
       "  <use xlink:href=\"#glyph0-5\" x=\"334.005371\" y=\"98.598145\"/>\n",
       "  <use xlink:href=\"#glyph0-6\" x=\"338.505371\" y=\"98.598145\"/>\n",
       "  <use xlink:href=\"#glyph0-16\" x=\"343.510742\" y=\"98.598145\"/>\n",
       "  <use xlink:href=\"#glyph0-26\" x=\"348.516113\" y=\"98.598145\"/>\n",
       "  <use xlink:href=\"#glyph0-16\" x=\"356.013184\" y=\"98.598145\"/>\n",
       "  <use xlink:href=\"#glyph0-27\" x=\"361.018555\" y=\"98.598145\"/>\n",
       "  <use xlink:href=\"#glyph0-3\" x=\"365.518555\" y=\"98.598145\"/>\n",
       "  <use xlink:href=\"#glyph0-9\" x=\"370.523926\" y=\"98.598145\"/>\n",
       "  <use xlink:href=\"#glyph0-6\" x=\"375.529297\" y=\"98.598145\"/>\n",
       "  <use xlink:href=\"#glyph0-21\" x=\"380.534668\" y=\"98.598145\"/>\n",
       "  <use xlink:href=\"#glyph0-3\" x=\"383.531738\" y=\"98.598145\"/>\n",
       "  <use xlink:href=\"#glyph0-8\" x=\"388.537109\" y=\"98.598145\"/>\n",
       "  <use xlink:href=\"#glyph0-10\" x=\"393.54248\" y=\"98.598145\"/>\n",
       "  <use xlink:href=\"#glyph0-17\" x=\"396.042969\" y=\"98.598145\"/>\n",
       "  <use xlink:href=\"#glyph0-14\" x=\"401.04834\" y=\"98.598145\"/>\n",
       "  <use xlink:href=\"#glyph0-28\" x=\"406.053711\" y=\"98.598145\"/>\n",
       "  <use xlink:href=\"#glyph0-11\" x=\"411.059082\" y=\"98.598145\"/>\n",
       "  <use xlink:href=\"#glyph0-12\" x=\"420.195312\" y=\"98.598145\"/>\n",
       "  <use xlink:href=\"#glyph0-13\" x=\"425.200684\" y=\"98.598145\"/>\n",
       "  <use xlink:href=\"#glyph0-14\" x=\"427.701172\" y=\"98.598145\"/>\n",
       "  <use xlink:href=\"#glyph0-12\" x=\"432.706543\" y=\"98.598145\"/>\n",
       "</g>\n",
       "<g style=\"fill:rgb(26.666667%,26.666667%,26.27451%);fill-opacity:1;\">\n",
       "  <use xlink:href=\"#glyph0-5\" x=\"323\" y=\"162.098145\"/>\n",
       "  <use xlink:href=\"#glyph0-20\" x=\"327.5\" y=\"162.098145\"/>\n",
       "  <use xlink:href=\"#glyph0-15\" x=\"332.505371\" y=\"162.098145\"/>\n",
       "  <use xlink:href=\"#glyph0-6\" x=\"335.005859\" y=\"162.098145\"/>\n",
       "  <use xlink:href=\"#glyph0-17\" x=\"340.01123\" y=\"162.098145\"/>\n",
       "  <use xlink:href=\"#glyph0-25\" x=\"345.016602\" y=\"162.098145\"/>\n",
       "  <use xlink:href=\"#glyph0-4\" x=\"349.516602\" y=\"162.098145\"/>\n",
       "  <use xlink:href=\"#glyph0-5\" x=\"351.516113\" y=\"162.098145\"/>\n",
       "  <use xlink:href=\"#glyph0-10\" x=\"356.016113\" y=\"162.098145\"/>\n",
       "  <use xlink:href=\"#glyph0-5\" x=\"358.516602\" y=\"162.098145\"/>\n",
       "  <use xlink:href=\"#glyph0-11\" x=\"363.016602\" y=\"162.098145\"/>\n",
       "  <use xlink:href=\"#glyph0-12\" x=\"372.152832\" y=\"162.098145\"/>\n",
       "  <use xlink:href=\"#glyph0-13\" x=\"377.158203\" y=\"162.098145\"/>\n",
       "  <use xlink:href=\"#glyph0-14\" x=\"379.658691\" y=\"162.098145\"/>\n",
       "  <use xlink:href=\"#glyph0-12\" x=\"384.664062\" y=\"162.098145\"/>\n",
       "</g>\n",
       "<g style=\"fill:rgb(26.666667%,26.666667%,26.27451%);fill-opacity:1;\">\n",
       "  <use xlink:href=\"#glyph0-26\" x=\"404\" y=\"162.098145\"/>\n",
       "  <use xlink:href=\"#glyph0-25\" x=\"411.49707\" y=\"162.098145\"/>\n",
       "  <use xlink:href=\"#glyph0-6\" x=\"415.99707\" y=\"162.098145\"/>\n",
       "  <use xlink:href=\"#glyph0-29\" x=\"421.002441\" y=\"162.098145\"/>\n",
       "  <use xlink:href=\"#glyph0-3\" x=\"426.007812\" y=\"162.098145\"/>\n",
       "  <use xlink:href=\"#glyph0-3\" x=\"431.013184\" y=\"162.098145\"/>\n",
       "  <use xlink:href=\"#glyph0-29\" x=\"436.018555\" y=\"162.098145\"/>\n",
       "  <use xlink:href=\"#glyph0-24\" x=\"441.023926\" y=\"162.098145\"/>\n",
       "  <use xlink:href=\"#glyph0-17\" x=\"443.023437\" y=\"162.098145\"/>\n",
       "  <use xlink:href=\"#glyph0-11\" x=\"448.028809\" y=\"162.098145\"/>\n",
       "  <use xlink:href=\"#glyph0-12\" x=\"457.165039\" y=\"162.098145\"/>\n",
       "  <use xlink:href=\"#glyph0-13\" x=\"462.17041\" y=\"162.098145\"/>\n",
       "  <use xlink:href=\"#glyph0-14\" x=\"464.670898\" y=\"162.098145\"/>\n",
       "  <use xlink:href=\"#glyph0-12\" x=\"469.67627\" y=\"162.098145\"/>\n",
       "</g>\n",
       "<path style=\" stroke:none;fill-rule:nonzero;fill:rgb(100%,100%,100%);fill-opacity:1;\" d=\"M 316.5 217.398438 L 338.964844 217.398438 L 338.964844 199 L 316.5 199 Z M 316.5 217.398438 \"/>\n",
       "<path style=\"fill-rule:nonzero;fill:rgb(99.607843%,99.607843%,73.333335%);fill-opacity:1;stroke-width:0.5;stroke-linecap:butt;stroke-linejoin:miter;stroke:rgb(26.666668%,26.666668%,26.274511%);stroke-opacity:1;stroke-miterlimit:4;\" d=\"M 23.27106 8.167763 C 23.27106 7.125411 23.070992 6.09375 22.681386 5.126234 C 22.29178 4.158717 21.723166 3.276727 21.001868 2.528372 C 20.280571 1.780016 19.41712 1.170641 18.469429 0.748355 C 17.516474 0.320724 16.495075 0.0801809 15.452615 0.0427632 C 14.415421 0 13.378227 0.160362 12.393682 0.513158 C 11.414402 0.860609 10.514096 1.400493 9.734885 2.090049 C 8.955673 2.784951 8.318614 3.618832 7.855299 4.554276 C 7.391984 5.484375 7.112942 6.5 7.033967 7.537007 C 6.949728 8.574013 7.070822 9.621711 7.386719 10.610609 C 7.697351 11.604852 8.19752 12.529605 8.860904 13.331414 C 9.524287 14.138569 10.335088 14.806743 11.245924 15.303865 C 12.162024 15.806332 13.162364 16.121711 14.199558 16.244655 C 15.231488 16.362253 16.279212 16.287418 17.284817 16.009457 C 18.290421 15.736842 19.232846 15.271793 20.059443 14.641036 C 20.891304 14.01028 21.591542 13.224507 22.123302 12.331826 C 22.655061 11.439145 23.013077 10.450247 23.176291 9.418586 L 15.141984 8.167763 Z M 23.27106 8.167763 \" transform=\"matrix(0.741935,0,0,0.730769,316.5,199)\"/>\n",
       "<path style=\"fill-rule:nonzero;fill:rgb(63.137257%,85.490197%,70.588237%);fill-opacity:1;stroke-width:0.5;stroke-linecap:butt;stroke-linejoin:miter;stroke:rgb(26.666668%,26.666668%,26.274511%);stroke-opacity:1;stroke-miterlimit:4;\" d=\"M 23.176291 9.418586 C 23.20788 9.215461 23.234205 9.00699 23.25 8.793174 C 23.265795 8.584704 23.27106 8.376234 23.27106 8.167763 L 15.141984 8.167763 Z M 23.176291 9.418586 \" transform=\"matrix(0.741935,0,0,0.730769,316.5,199)\"/>\n",
       "<path style=\" stroke:none;fill-rule:nonzero;fill:rgb(26.666668%,26.666668%,26.274511%);fill-opacity:1;\" d=\"M 316.941406 216.09375 L 316.941406 212.683594 L 317.46875 212.683594 L 317.46875 213.167969 C 317.722656 212.792969 318.089844 212.605469 318.570312 212.605469 C 318.777344 212.605469 318.96875 212.640625 319.144531 212.714844 C 319.320312 212.789062 319.453125 212.886719 319.539062 213.007812 C 319.625 213.128906 319.6875 213.269531 319.722656 213.433594 C 319.742188 213.542969 319.753906 213.726562 319.753906 213.996094 L 319.753906 216.09375 L 319.167969 216.09375 L 319.167969 214.019531 C 319.167969 213.78125 319.144531 213.605469 319.097656 213.488281 C 319.050781 213.375 318.972656 213.28125 318.855469 213.210938 C 318.738281 213.140625 318.601562 213.105469 318.445312 213.105469 C 318.195312 213.105469 317.980469 213.183594 317.800781 213.339844 C 317.617188 213.496094 317.527344 213.792969 317.527344 214.230469 L 317.527344 216.09375 Z M 316.941406 216.09375 \"/>\n",
       "<path style=\" stroke:none;fill-rule:nonzero;fill:rgb(26.666668%,26.666668%,26.274511%);fill-opacity:1;\" d=\"M 323.742188 213.324219 L 320.585938 213.324219 L 320.585938 212.785156 L 323.742188 212.785156 Z M 323.742188 214.753906 L 320.585938 214.753906 L 320.585938 214.214844 L 323.742188 214.214844 Z M 323.742188 214.753906 \"/>\n",
       "<path style=\" stroke:none;fill-rule:nonzero;fill:rgb(26.666668%,26.666668%,26.274511%);fill-opacity:1;\" d=\"M 327.476562 215.539062 L 327.476562 216.09375 L 324.316406 216.09375 C 324.3125 215.953125 324.335938 215.820312 324.382812 215.691406 C 324.464844 215.480469 324.59375 215.269531 324.769531 215.066406 C 324.945312 214.859375 325.203125 214.621094 325.539062 214.351562 C 326.058594 213.933594 326.410156 213.601562 326.589844 213.355469 C 326.773438 213.109375 326.867188 212.878906 326.867188 212.660156 C 326.867188 212.429688 326.78125 212.238281 326.613281 212.082031 C 326.449219 211.921875 326.230469 211.84375 325.964844 211.84375 C 325.683594 211.84375 325.457031 211.929688 325.285156 212.09375 C 325.117188 212.261719 325.03125 212.492188 325.027344 212.789062 L 324.425781 212.726562 C 324.46875 212.285156 324.621094 211.945312 324.890625 211.714844 C 325.160156 211.480469 325.523438 211.367188 325.980469 211.367188 C 326.4375 211.367188 326.800781 211.492188 327.066406 211.742188 C 327.335938 211.992188 327.46875 212.300781 327.46875 212.671875 C 327.46875 212.863281 327.429688 213.046875 327.351562 213.230469 C 327.273438 213.410156 327.144531 213.601562 326.960938 213.804688 C 326.78125 214.003906 326.476562 214.28125 326.058594 214.632812 C 325.703125 214.921875 325.476562 215.121094 325.378906 215.226562 C 325.277344 215.328125 325.195312 215.433594 325.128906 215.539062 Z M 327.476562 215.539062 \"/>\n",
       "<path style=\" stroke:none;fill-rule:nonzero;fill:rgb(26.666668%,26.666668%,26.274511%);fill-opacity:1;\" d=\"M 329.007812 213.539062 C 328.761719 213.453125 328.582031 213.328125 328.464844 213.164062 C 328.347656 213 328.289062 212.804688 328.289062 212.578125 C 328.289062 212.238281 328.414062 211.949219 328.664062 211.714844 C 328.914062 211.484375 329.246094 211.367188 329.660156 211.367188 C 330.078125 211.367188 330.414062 211.484375 330.671875 211.722656 C 330.925781 211.964844 331.050781 212.253906 331.050781 212.597656 C 331.050781 212.816406 330.992188 213.003906 330.875 213.167969 C 330.761719 213.328125 330.585938 213.453125 330.347656 213.539062 C 330.640625 213.632812 330.863281 213.785156 331.015625 213.996094 C 331.171875 214.207031 331.246094 214.457031 331.246094 214.746094 C 331.246094 215.148438 331.101562 215.488281 330.8125 215.761719 C 330.523438 216.035156 330.144531 216.171875 329.671875 216.171875 C 329.199219 216.171875 328.820312 216.035156 328.53125 215.761719 C 328.242188 215.484375 328.097656 215.140625 328.097656 214.730469 C 328.097656 214.425781 328.175781 214.167969 328.332031 213.960938 C 328.492188 213.757812 328.714844 213.613281 329.007812 213.539062 Z M 328.890625 212.558594 C 328.890625 212.78125 328.960938 212.964844 329.109375 213.105469 C 329.253906 213.246094 329.441406 213.320312 329.675781 213.320312 C 329.902344 213.320312 330.085938 213.25 330.230469 213.109375 C 330.375 212.96875 330.449219 212.796875 330.449219 212.59375 C 330.449219 212.378906 330.375 212.203125 330.222656 212.058594 C 330.074219 211.914062 329.890625 211.839844 329.667969 211.839844 C 329.445312 211.839844 329.257812 211.910156 329.109375 212.054688 C 328.964844 212.195312 328.890625 212.363281 328.890625 212.558594 Z M 328.699219 214.734375 C 328.699219 214.898438 328.742188 215.058594 328.820312 215.214844 C 328.898438 215.367188 329.015625 215.488281 329.171875 215.570312 C 329.332031 215.65625 329.5 215.699219 329.679688 215.699219 C 329.960938 215.699219 330.191406 215.609375 330.371094 215.433594 C 330.554688 215.253906 330.648438 215.027344 330.648438 214.753906 C 330.648438 214.476562 330.554688 214.246094 330.367188 214.0625 C 330.175781 213.882812 329.941406 213.789062 329.660156 213.789062 C 329.382812 213.789062 329.152344 213.878906 328.972656 214.058594 C 328.792969 214.238281 328.699219 214.464844 328.699219 214.734375 Z M 328.699219 214.734375 \"/>\n",
       "<path style=\" stroke:none;fill-rule:nonzero;fill:rgb(26.666668%,26.666668%,26.274511%);fill-opacity:1;\" d=\"M 332.71875 213.539062 C 332.476562 213.453125 332.296875 213.328125 332.179688 213.164062 C 332.0625 213 332.003906 212.804688 332.003906 212.578125 C 332.003906 212.238281 332.128906 211.949219 332.378906 211.714844 C 332.628906 211.484375 332.960938 211.367188 333.375 211.367188 C 333.792969 211.367188 334.128906 211.484375 334.382812 211.722656 C 334.636719 211.964844 334.765625 212.253906 334.765625 212.597656 C 334.765625 212.816406 334.707031 213.003906 334.589844 213.167969 C 334.472656 213.328125 334.296875 213.453125 334.0625 213.539062 C 334.355469 213.632812 334.578125 213.785156 334.730469 213.996094 C 334.882812 214.207031 334.960938 214.457031 334.960938 214.746094 C 334.960938 215.148438 334.816406 215.488281 334.527344 215.761719 C 334.238281 216.035156 333.859375 216.171875 333.386719 216.171875 C 332.914062 216.171875 332.535156 216.035156 332.246094 215.761719 C 331.957031 215.484375 331.8125 215.140625 331.8125 214.730469 C 331.8125 214.425781 331.890625 214.167969 332.046875 213.960938 C 332.207031 213.757812 332.429688 213.613281 332.71875 213.539062 Z M 332.605469 212.558594 C 332.605469 212.78125 332.675781 212.964844 332.820312 213.105469 C 332.96875 213.246094 333.15625 213.320312 333.390625 213.320312 C 333.617188 213.320312 333.800781 213.25 333.945312 213.109375 C 334.089844 212.96875 334.164062 212.796875 334.164062 212.59375 C 334.164062 212.378906 334.085938 212.203125 333.9375 212.058594 C 333.789062 211.914062 333.605469 211.839844 333.382812 211.839844 C 333.160156 211.839844 332.972656 211.910156 332.824219 212.054688 C 332.675781 212.195312 332.605469 212.363281 332.605469 212.558594 Z M 332.414062 214.734375 C 332.414062 214.898438 332.453125 215.058594 332.535156 215.214844 C 332.613281 215.367188 332.730469 215.488281 332.886719 215.570312 C 333.042969 215.65625 333.210938 215.699219 333.390625 215.699219 C 333.671875 215.699219 333.902344 215.609375 334.085938 215.433594 C 334.269531 215.253906 334.359375 215.027344 334.359375 214.753906 C 334.359375 214.476562 334.265625 214.246094 334.078125 214.0625 C 333.890625 213.882812 333.65625 213.789062 333.371094 213.789062 C 333.097656 213.789062 332.867188 213.878906 332.6875 214.058594 C 332.503906 214.238281 332.414062 214.464844 332.414062 214.734375 Z M 332.414062 214.734375 \"/>\n",
       "<path style=\" stroke:none;fill-rule:nonzero;fill:rgb(26.666668%,26.666668%,26.274511%);fill-opacity:1;\" d=\"M 335.53125 213.773438 C 335.53125 213.214844 335.589844 212.765625 335.707031 212.425781 C 335.820312 212.085938 335.996094 211.824219 336.222656 211.640625 C 336.453125 211.457031 336.742188 211.367188 337.089844 211.367188 C 337.347656 211.367188 337.570312 211.417969 337.765625 211.519531 C 337.957031 211.621094 338.117188 211.765625 338.242188 211.957031 C 338.371094 212.148438 338.46875 212.382812 338.539062 212.660156 C 338.613281 212.933594 338.648438 213.304688 338.648438 213.773438 C 338.648438 214.324219 338.589844 214.769531 338.476562 215.109375 C 338.359375 215.449219 338.1875 215.710938 337.957031 215.894531 C 337.730469 216.082031 337.441406 216.171875 337.089844 216.171875 C 336.628906 216.171875 336.265625 216.011719 336.003906 215.683594 C 335.6875 215.292969 335.53125 214.65625 335.53125 213.773438 Z M 336.132812 213.773438 C 336.132812 214.542969 336.226562 215.058594 336.410156 215.316406 C 336.59375 215.570312 336.820312 215.699219 337.089844 215.699219 C 337.359375 215.699219 337.585938 215.570312 337.769531 215.3125 C 337.953125 215.054688 338.046875 214.542969 338.046875 213.773438 C 338.046875 212.996094 337.953125 212.480469 337.769531 212.226562 C 337.585938 211.972656 337.355469 211.84375 337.082031 211.84375 C 336.8125 211.84375 336.597656 211.957031 336.4375 212.183594 C 336.234375 212.46875 336.132812 213 336.132812 213.773438 Z M 336.132812 213.773438 \"/>\n",
       "<path style=\"fill:none;stroke-width:0.3;stroke-linecap:butt;stroke-linejoin:miter;stroke:rgb(26.666667%,26.666667%,26.27451%);stroke-opacity:1;stroke-miterlimit:10;\" d=\"M 348.46875 -64.1875 C 344.65625 -57.742188 338.773438 -47.808594 333.675781 -39.195312 \" transform=\"matrix(1,0,0,1,4,230)\"/>\n",
       "<path style=\"fill-rule:nonzero;fill:rgb(26.666667%,26.666667%,26.27451%);fill-opacity:1;stroke-width:0.3;stroke-linecap:butt;stroke-linejoin:miter;stroke:rgb(26.666667%,26.666667%,26.27451%);stroke-opacity:1;stroke-miterlimit:10;\" d=\"M 334.792969 -38.328125 L 331.550781 -35.601562 L 332.382812 -39.753906 Z M 334.792969 -38.328125 \" transform=\"matrix(1,0,0,1,4,230)\"/>\n",
       "<path style=\" stroke:none;fill-rule:nonzero;fill:rgb(100%,100%,100%);fill-opacity:1;\" d=\"M 361.5 219.671875 L 383.964844 219.671875 L 383.964844 196 L 361.5 196 Z M 361.5 219.671875 \"/>\n",
       "<path style=\"fill-rule:nonzero;fill:rgb(99.607843%,99.607843%,73.333335%);fill-opacity:1;stroke-width:0.5;stroke-linecap:butt;stroke-linejoin:miter;stroke:rgb(26.666668%,26.666668%,26.274511%);stroke-opacity:1;stroke-miterlimit:4;\" d=\"M 26.819633 11.703613 C 26.819633 10.188965 26.524796 8.685059 25.950917 7.283203 C 25.377038 5.881348 24.534647 4.603027 23.471128 3.518066 C 22.412874 2.438477 21.149287 1.57373 19.754076 0.977539 C 18.358865 0.375977 16.863621 0.0537109 15.347317 0.0268555 C 13.831012 0 12.325238 0.268555 10.908967 0.816406 C 9.497962 1.364258 8.202785 2.186035 7.102412 3.228027 C 6.002038 4.27002 5.117527 5.521484 4.490999 6.901855 C 3.869735 8.282227 3.522249 9.775391 3.469599 11.290039 C 3.411685 12.804688 3.653872 14.319336 4.180367 15.742676 C 4.701596 17.160645 5.496603 18.471191 6.523268 19.588379 C 7.544667 20.710938 8.776664 21.618652 10.14555 22.263184 C 11.519701 22.913086 13.004416 23.289062 14.515455 23.369629 C 16.03176 23.450195 17.548064 23.235352 18.980129 22.73584 C 20.412194 22.241699 21.733696 21.468262 22.870924 20.463867 C 24.008152 19.459473 24.934783 18.245605 25.608696 16.886719 C 26.282609 15.527832 26.682745 14.050781 26.793308 12.536133 L 15.141984 11.703613 Z M 26.819633 11.703613 \" transform=\"matrix(0.741935,0,0,0.727273,361.5,196)\"/>\n",
       "<path style=\"fill-rule:nonzero;fill:rgb(63.137257%,85.490197%,70.588237%);fill-opacity:1;stroke-width:0.5;stroke-linecap:butt;stroke-linejoin:miter;stroke:rgb(26.666668%,26.666668%,26.274511%);stroke-opacity:1;stroke-miterlimit:4;\" d=\"M 26.793308 12.536133 C 26.798573 12.396484 26.809103 12.262207 26.814368 12.122559 C 26.819633 11.98291 26.819633 11.843262 26.819633 11.703613 L 15.141984 11.703613 Z M 26.793308 12.536133 \" transform=\"matrix(0.741935,0,0,0.727273,361.5,196)\"/>\n",
       "<path style=\" stroke:none;fill-rule:nonzero;fill:rgb(26.666668%,26.666668%,26.274511%);fill-opacity:1;\" d=\"M 361.941406 218.371094 L 361.941406 214.976562 L 362.46875 214.976562 L 362.46875 215.460938 C 362.722656 215.089844 363.089844 214.902344 363.570312 214.902344 C 363.777344 214.902344 363.96875 214.9375 364.144531 215.011719 C 364.320312 215.085938 364.453125 215.183594 364.539062 215.300781 C 364.625 215.421875 364.6875 215.5625 364.722656 215.726562 C 364.742188 215.832031 364.753906 216.019531 364.753906 216.285156 L 364.753906 218.371094 L 364.167969 218.371094 L 364.167969 216.308594 C 364.167969 216.074219 364.144531 215.898438 364.097656 215.78125 C 364.050781 215.667969 363.972656 215.574219 363.855469 215.503906 C 363.738281 215.4375 363.601562 215.402344 363.445312 215.402344 C 363.195312 215.402344 362.980469 215.476562 362.800781 215.632812 C 362.617188 215.789062 362.527344 216.085938 362.527344 216.519531 L 362.527344 218.371094 Z M 361.941406 218.371094 \"/>\n",
       "<path style=\" stroke:none;fill-rule:nonzero;fill:rgb(26.666668%,26.666668%,26.274511%);fill-opacity:1;\" d=\"M 368.742188 215.617188 L 365.585938 215.617188 L 365.585938 215.082031 L 368.742188 215.082031 Z M 368.742188 217.039062 L 365.585938 217.039062 L 365.585938 216.503906 L 368.742188 216.503906 Z M 368.742188 217.039062 \"/>\n",
       "<path style=\" stroke:none;fill-rule:nonzero;fill:rgb(26.666668%,26.666668%,26.274511%);fill-opacity:1;\" d=\"M 372.433594 214.835938 L 371.851562 214.878906 C 371.800781 214.652344 371.726562 214.488281 371.628906 214.386719 C 371.472656 214.222656 371.277344 214.140625 371.042969 214.140625 C 370.855469 214.140625 370.691406 214.191406 370.550781 214.292969 C 370.367188 214.425781 370.222656 214.621094 370.113281 214.875 C 370.007812 215.125 369.953125 215.488281 369.949219 215.957031 C 370.089844 215.746094 370.261719 215.589844 370.464844 215.488281 C 370.671875 215.382812 370.886719 215.332031 371.109375 215.332031 C 371.5 215.332031 371.832031 215.472656 372.109375 215.757812 C 372.382812 216.039062 372.519531 216.402344 372.519531 216.851562 C 372.519531 217.144531 372.457031 217.417969 372.328125 217.671875 C 372.199219 217.921875 372.019531 218.117188 371.792969 218.25 C 371.566406 218.386719 371.3125 218.453125 371.023438 218.453125 C 370.535156 218.453125 370.136719 218.277344 369.828125 217.925781 C 369.519531 217.570312 369.363281 216.988281 369.363281 216.179688 C 369.363281 215.273438 369.535156 214.617188 369.875 214.207031 C 370.171875 213.847656 370.574219 213.667969 371.078125 213.667969 C 371.457031 213.667969 371.761719 213.773438 372.003906 213.976562 C 372.242188 214.183594 372.386719 214.46875 372.433594 214.835938 Z M 370.039062 216.855469 C 370.039062 217.054688 370.082031 217.242188 370.167969 217.421875 C 370.253906 217.605469 370.375 217.742188 370.527344 217.839844 C 370.683594 217.933594 370.84375 217.980469 371.015625 217.980469 C 371.261719 217.980469 371.476562 217.882812 371.652344 217.6875 C 371.832031 217.488281 371.921875 217.222656 371.921875 216.886719 C 371.921875 216.5625 371.832031 216.308594 371.65625 216.121094 C 371.480469 215.933594 371.257812 215.839844 370.992188 215.839844 C 370.726562 215.839844 370.5 215.933594 370.316406 216.121094 C 370.132812 216.308594 370.039062 216.550781 370.039062 216.855469 Z M 370.039062 216.855469 \"/>\n",
       "<path style=\" stroke:none;fill-rule:nonzero;fill:rgb(26.666668%,26.666668%,26.274511%);fill-opacity:1;\" d=\"M 376.148438 214.835938 L 375.566406 214.878906 C 375.511719 214.652344 375.441406 214.488281 375.34375 214.386719 C 375.183594 214.222656 374.988281 214.140625 374.757812 214.140625 C 374.570312 214.140625 374.40625 214.191406 374.265625 214.292969 C 374.082031 214.425781 373.933594 214.621094 373.828125 214.875 C 373.722656 215.125 373.664062 215.488281 373.660156 215.957031 C 373.800781 215.746094 373.976562 215.589844 374.179688 215.488281 C 374.382812 215.382812 374.597656 215.332031 374.824219 215.332031 C 375.214844 215.332031 375.546875 215.472656 375.820312 215.757812 C 376.097656 216.039062 376.234375 216.402344 376.234375 216.851562 C 376.234375 217.144531 376.167969 217.417969 376.039062 217.671875 C 375.910156 217.921875 375.734375 218.117188 375.507812 218.25 C 375.28125 218.386719 375.023438 218.453125 374.738281 218.453125 C 374.25 218.453125 373.847656 218.277344 373.539062 217.925781 C 373.230469 217.570312 373.078125 216.988281 373.078125 216.179688 C 373.078125 215.273438 373.25 214.617188 373.589844 214.207031 C 373.886719 213.847656 374.289062 213.667969 374.792969 213.667969 C 375.167969 213.667969 375.476562 213.773438 375.71875 213.976562 C 375.957031 214.183594 376.101562 214.46875 376.148438 214.835938 Z M 373.753906 216.855469 C 373.753906 217.054688 373.796875 217.242188 373.882812 217.421875 C 373.96875 217.605469 374.085938 217.742188 374.242188 217.839844 C 374.394531 217.933594 374.558594 217.980469 374.726562 217.980469 C 374.976562 217.980469 375.1875 217.882812 375.367188 217.6875 C 375.546875 217.488281 375.632812 217.222656 375.632812 216.886719 C 375.632812 216.5625 375.546875 216.308594 375.371094 216.121094 C 375.195312 215.933594 374.972656 215.839844 374.703125 215.839844 C 374.441406 215.839844 374.214844 215.933594 374.03125 216.121094 C 373.84375 216.308594 373.753906 216.550781 373.753906 216.855469 Z M 373.753906 216.855469 \"/>\n",
       "<path style=\" stroke:none;fill-rule:nonzero;fill:rgb(26.666668%,26.666668%,26.274511%);fill-opacity:1;\" d=\"M 379.902344 217.820312 L 379.902344 218.371094 L 376.742188 218.371094 C 376.738281 218.234375 376.761719 218.101562 376.8125 217.972656 C 376.890625 217.761719 377.019531 217.554688 377.195312 217.351562 C 377.375 217.144531 377.628906 216.910156 377.964844 216.640625 C 378.484375 216.222656 378.835938 215.890625 379.019531 215.648438 C 379.203125 215.402344 379.292969 215.171875 379.292969 214.957031 C 379.292969 214.726562 379.210938 214.535156 379.042969 214.378906 C 378.875 214.222656 378.660156 214.144531 378.390625 214.144531 C 378.109375 214.144531 377.882812 214.226562 377.714844 214.394531 C 377.542969 214.558594 377.457031 214.789062 377.457031 215.082031 L 376.851562 215.023438 C 376.894531 214.582031 377.050781 214.246094 377.320312 214.015625 C 377.589844 213.785156 377.949219 213.667969 378.40625 213.667969 C 378.863281 213.667969 379.226562 213.792969 379.496094 214.042969 C 379.761719 214.292969 379.894531 214.601562 379.894531 214.96875 C 379.894531 215.15625 379.855469 215.339844 379.777344 215.523438 C 379.699219 215.703125 379.570312 215.894531 379.390625 216.09375 C 379.207031 216.292969 378.90625 216.570312 378.484375 216.917969 C 378.132812 217.207031 377.90625 217.40625 377.804688 217.507812 C 377.707031 217.613281 377.625 217.714844 377.558594 217.820312 Z M 379.902344 217.820312 \"/>\n",
       "<path style=\" stroke:none;fill-rule:nonzero;fill:rgb(26.666668%,26.666668%,26.274511%);fill-opacity:1;\" d=\"M 380.53125 216.0625 C 380.53125 215.507812 380.589844 215.0625 380.707031 214.726562 C 380.820312 214.386719 380.996094 214.125 381.222656 213.945312 C 381.453125 213.761719 381.742188 213.667969 382.089844 213.667969 C 382.347656 213.667969 382.570312 213.71875 382.765625 213.820312 C 382.957031 213.921875 383.117188 214.066406 383.242188 214.257812 C 383.371094 214.449219 383.46875 214.679688 383.539062 214.953125 C 383.613281 215.226562 383.648438 215.597656 383.648438 216.0625 C 383.648438 216.613281 383.589844 217.054688 383.476562 217.394531 C 383.359375 217.730469 383.1875 217.992188 382.957031 218.175781 C 382.730469 218.359375 382.441406 218.453125 382.089844 218.453125 C 381.628906 218.453125 381.265625 218.289062 381.003906 217.96875 C 380.6875 217.578125 380.53125 216.941406 380.53125 216.0625 Z M 381.132812 216.0625 C 381.132812 216.832031 381.226562 217.34375 381.410156 217.597656 C 381.59375 217.851562 381.820312 217.980469 382.089844 217.980469 C 382.359375 217.980469 382.585938 217.851562 382.769531 217.597656 C 382.953125 217.339844 383.046875 216.828125 383.046875 216.0625 C 383.046875 215.289062 382.953125 214.777344 382.769531 214.523438 C 382.585938 214.273438 382.355469 214.144531 382.082031 214.144531 C 381.8125 214.144531 381.597656 214.257812 381.4375 214.480469 C 381.234375 214.765625 381.132812 215.292969 381.132812 216.0625 Z M 381.132812 216.0625 \"/>\n",
       "<path style=\"fill:none;stroke-width:0.3;stroke-linecap:butt;stroke-linejoin:miter;stroke:rgb(26.666667%,26.666667%,26.27451%);stroke-opacity:1;stroke-miterlimit:10;\" d=\"M 354.726562 -64.1875 C 356.613281 -58.402344 359.421875 -49.800781 362.011719 -41.867188 \" transform=\"matrix(1,0,0,1,4,230)\"/>\n",
       "<path style=\"fill-rule:nonzero;fill:rgb(26.666667%,26.666667%,26.27451%);fill-opacity:1;stroke-width:0.3;stroke-linecap:butt;stroke-linejoin:miter;stroke:rgb(26.666667%,26.666667%,26.27451%);stroke-opacity:1;stroke-miterlimit:10;\" d=\"M 363.351562 -42.28125 L 363.261719 -38.042969 L 360.6875 -41.414062 Z M 363.351562 -42.28125 \" transform=\"matrix(1,0,0,1,4,230)\"/>\n",
       "<path style=\" stroke:none;fill-rule:nonzero;fill:rgb(100%,100%,100%);fill-opacity:1;\" d=\"M 411.5 216.625 L 433.964844 216.625 L 433.964844 199 L 411.5 199 Z M 411.5 216.625 \"/>\n",
       "<path style=\"fill-rule:nonzero;fill:rgb(99.607843%,99.607843%,73.333335%);fill-opacity:1;stroke-width:0.5;stroke-linecap:butt;stroke-linejoin:miter;stroke:rgb(26.666668%,26.666668%,26.274511%);stroke-opacity:1;stroke-miterlimit:4;\" d=\"M 22.481318 7.34375 C 22.481318 6.380208 22.29178 5.427083 21.923234 4.536458 C 21.554688 3.651042 21.017663 2.838542 20.338485 2.161458 C 19.659307 1.479167 18.85377 0.9375 17.963995 0.567708 C 17.074219 0.197917 16.121264 0.00520833 15.163043 0.00520833 C 14.199558 0 13.246603 0.1875 12.356827 0.552083 C 11.467052 0.916667 10.65625 1.453125 9.971807 2.130208 C 9.287364 2.807292 8.745075 3.614583 8.371264 4.5 C 8.002717 5.385417 7.807914 6.338542 7.802649 7.302083 C 7.797385 8.265625 7.981658 9.21875 8.339674 10.109375 C 8.702955 11 9.23998 11.8125 9.913893 12.494792 C 10.587806 13.182292 11.393342 13.729167 12.277853 14.104167 C 13.167629 14.473958 14.115319 14.671875 15.078804 14.682292 C 16.042289 14.6875 16.995245 14.510417 17.890285 14.145833 C 18.780061 13.786458 19.590863 13.255208 20.280571 12.583333 C 20.965014 11.911458 21.512568 11.104167 21.891644 10.223958 C 22.27072 9.338542 22.470788 8.385417 22.481318 7.421875 L 15.141984 7.34375 Z M 22.481318 7.34375 \" transform=\"matrix(0.741935,0,0,0.75,411.5,199)\"/>\n",
       "<path style=\"fill-rule:nonzero;fill:rgb(63.137257%,85.490197%,70.588237%);fill-opacity:1;stroke-width:0.5;stroke-linecap:butt;stroke-linejoin:miter;stroke:rgb(26.666668%,26.666668%,26.274511%);stroke-opacity:1;stroke-miterlimit:4;\" d=\"M 22.481318 7.421875 C 22.481318 7.411458 22.481318 7.395833 22.481318 7.385417 C 22.481318 7.369792 22.481318 7.354167 22.481318 7.34375 L 15.141984 7.34375 Z M 22.481318 7.421875 \" transform=\"matrix(0.741935,0,0,0.75,411.5,199)\"/>\n",
       "<path style=\" stroke:none;fill-rule:nonzero;fill:rgb(26.666668%,26.666668%,26.274511%);fill-opacity:1;\" d=\"M 411.941406 215.285156 L 411.941406 211.78125 L 412.46875 211.78125 L 412.46875 212.28125 C 412.722656 211.894531 413.089844 211.703125 413.570312 211.703125 C 413.777344 211.703125 413.96875 211.742188 414.144531 211.816406 C 414.320312 211.894531 414.453125 211.992188 414.539062 212.117188 C 414.625 212.238281 414.6875 212.386719 414.722656 212.554688 C 414.742188 212.664062 414.753906 212.855469 414.753906 213.128906 L 414.753906 215.285156 L 414.167969 215.285156 L 414.167969 213.152344 C 414.167969 212.910156 414.144531 212.730469 414.097656 212.613281 C 414.050781 212.492188 413.972656 212.398438 413.855469 212.324219 C 413.738281 212.253906 413.601562 212.21875 413.445312 212.21875 C 413.195312 212.21875 412.980469 212.296875 412.800781 212.457031 C 412.617188 212.621094 412.527344 212.921875 412.527344 213.371094 L 412.527344 215.285156 Z M 411.941406 215.285156 \"/>\n",
       "<path style=\" stroke:none;fill-rule:nonzero;fill:rgb(26.666668%,26.666668%,26.274511%);fill-opacity:1;\" d=\"M 418.742188 212.441406 L 415.585938 212.441406 L 415.585938 211.886719 L 418.742188 211.886719 Z M 418.742188 213.910156 L 415.585938 213.910156 L 415.585938 213.355469 L 418.742188 213.355469 Z M 418.742188 213.910156 \"/>\n",
       "<path style=\" stroke:none;fill-rule:nonzero;fill:rgb(26.666668%,26.666668%,26.274511%);fill-opacity:1;\" d=\"M 422.476562 214.710938 L 422.476562 215.285156 L 419.316406 215.285156 C 419.3125 215.140625 419.335938 215.003906 419.382812 214.871094 C 419.464844 214.652344 419.59375 214.441406 419.769531 214.230469 C 419.945312 214.019531 420.203125 213.773438 420.539062 213.496094 C 421.058594 213.066406 421.410156 212.726562 421.589844 212.472656 C 421.773438 212.222656 421.867188 211.984375 421.867188 211.757812 C 421.867188 211.523438 421.78125 211.328125 421.613281 211.164062 C 421.449219 211.003906 421.230469 210.921875 420.964844 210.921875 C 420.683594 210.921875 420.457031 211.007812 420.285156 211.179688 C 420.117188 211.351562 420.03125 211.589844 420.027344 211.890625 L 419.425781 211.828125 C 419.46875 211.375 419.621094 211.027344 419.890625 210.789062 C 420.160156 210.550781 420.523438 210.433594 420.980469 210.433594 C 421.4375 210.433594 421.800781 210.558594 422.066406 210.816406 C 422.335938 211.074219 422.46875 211.394531 422.46875 211.773438 C 422.46875 211.964844 422.429688 212.15625 422.351562 212.34375 C 422.273438 212.53125 422.144531 212.726562 421.960938 212.933594 C 421.78125 213.140625 421.476562 213.421875 421.058594 213.785156 C 420.703125 214.082031 420.476562 214.285156 420.378906 214.390625 C 420.277344 214.5 420.195312 214.605469 420.128906 214.710938 Z M 422.476562 214.710938 \"/>\n",
       "<path style=\" stroke:none;fill-rule:nonzero;fill:rgb(26.666668%,26.666668%,26.274511%);fill-opacity:1;\" d=\"M 426.1875 214.710938 L 426.1875 215.285156 L 423.027344 215.285156 C 423.023438 215.140625 423.046875 215.003906 423.097656 214.871094 C 423.179688 214.652344 423.304688 214.441406 423.484375 214.230469 C 423.660156 214.019531 423.917969 213.773438 424.253906 213.496094 C 424.773438 213.066406 425.121094 212.726562 425.304688 212.472656 C 425.488281 212.222656 425.578125 211.984375 425.578125 211.757812 C 425.578125 211.523438 425.496094 211.328125 425.328125 211.164062 C 425.164062 211.003906 424.945312 210.921875 424.679688 210.921875 C 424.394531 210.921875 424.171875 211.007812 424 211.179688 C 423.832031 211.351562 423.746094 211.589844 423.742188 211.890625 L 423.140625 211.828125 C 423.179688 211.375 423.335938 211.027344 423.605469 210.789062 C 423.875 210.550781 424.238281 210.433594 424.691406 210.433594 C 425.152344 210.433594 425.511719 210.558594 425.78125 210.816406 C 426.046875 211.074219 426.183594 211.394531 426.183594 211.773438 C 426.183594 211.964844 426.144531 212.15625 426.0625 212.34375 C 425.988281 212.53125 425.855469 212.726562 425.675781 212.933594 C 425.492188 213.140625 425.191406 213.421875 424.769531 213.785156 C 424.417969 214.082031 424.191406 214.285156 424.089844 214.390625 C 423.992188 214.5 423.910156 214.605469 423.84375 214.710938 Z M 426.1875 214.710938 \"/>\n",
       "<path style=\" stroke:none;fill-rule:nonzero;fill:rgb(26.666668%,26.666668%,26.274511%);fill-opacity:1;\" d=\"M 426.816406 214.019531 L 427.433594 213.964844 C 427.480469 214.269531 427.585938 214.496094 427.75 214.648438 C 427.917969 214.800781 428.117188 214.878906 428.355469 214.878906 C 428.636719 214.878906 428.875 214.769531 429.070312 214.554688 C 429.265625 214.339844 429.363281 214.054688 429.363281 213.699219 C 429.363281 213.359375 429.269531 213.09375 429.082031 212.898438 C 428.894531 212.703125 428.648438 212.601562 428.34375 212.601562 C 428.152344 212.601562 427.984375 212.648438 427.832031 212.734375 C 427.679688 212.820312 427.558594 212.933594 427.472656 213.070312 L 426.921875 213 L 427.382812 210.515625 L 429.761719 210.515625 L 429.761719 211.085938 L 427.855469 211.085938 L 427.597656 212.382812 C 427.882812 212.179688 428.183594 212.078125 428.5 212.078125 C 428.917969 212.078125 429.269531 212.226562 429.554688 212.519531 C 429.84375 212.808594 429.988281 213.1875 429.988281 213.644531 C 429.988281 214.082031 429.859375 214.460938 429.609375 214.777344 C 429.300781 215.171875 428.882812 215.367188 428.355469 215.367188 C 427.917969 215.367188 427.5625 215.242188 427.289062 214.996094 C 427.015625 214.75 426.855469 214.425781 426.816406 214.019531 Z M 426.816406 214.019531 \"/>\n",
       "<path style=\" stroke:none;fill-rule:nonzero;fill:rgb(26.666668%,26.666668%,26.274511%);fill-opacity:1;\" d=\"M 430.570312 211.085938 L 430.570312 210.515625 L 433.664062 210.515625 L 433.664062 210.976562 C 433.359375 211.304688 433.058594 211.738281 432.757812 212.28125 C 432.460938 212.824219 432.230469 213.382812 432.066406 213.957031 C 431.949219 214.359375 431.875 214.800781 431.84375 215.285156 L 431.238281 215.285156 C 431.246094 214.902344 431.320312 214.445312 431.460938 213.90625 C 431.601562 213.367188 431.804688 212.847656 432.070312 212.347656 C 432.332031 211.847656 432.613281 211.425781 432.910156 211.085938 Z M 430.570312 211.085938 \"/>\n",
       "<path style=\"fill:none;stroke-width:0.3;stroke-linecap:butt;stroke-linejoin:miter;stroke:rgb(26.666667%,26.666667%,26.27451%);stroke-opacity:1;stroke-miterlimit:10;\" d=\"M 433.136719 -64.1875 C 430.910156 -57.769531 427.480469 -47.882812 424.5 -39.292969 \" transform=\"matrix(1,0,0,1,4,230)\"/>\n",
       "<path style=\"fill-rule:nonzero;fill:rgb(26.666667%,26.666667%,26.27451%);fill-opacity:1;stroke-width:0.3;stroke-linecap:butt;stroke-linejoin:miter;stroke:rgb(26.666667%,26.666667%,26.27451%);stroke-opacity:1;stroke-miterlimit:10;\" d=\"M 425.714844 -38.523438 L 423.082031 -35.203125 L 423.070312 -39.441406 Z M 425.714844 -38.523438 \" transform=\"matrix(1,0,0,1,4,230)\"/>\n",
       "<path style=\" stroke:none;fill-rule:nonzero;fill:rgb(100%,100%,100%);fill-opacity:1;\" d=\"M 456.5 216.765625 L 478.964844 216.765625 L 478.964844 200 L 456.5 200 Z M 456.5 216.765625 \"/>\n",
       "<path style=\"fill-rule:nonzero;fill:rgb(99.607843%,99.607843%,73.333335%);fill-opacity:1;stroke-width:0.5;stroke-linecap:butt;stroke-linejoin:miter;stroke:rgb(26.666668%,26.666668%,26.274511%);stroke-opacity:1;stroke-miterlimit:4;\" d=\"M 22.086447 6.954963 C 22.086447 6.051241 21.907439 5.152803 21.565217 4.3125 C 21.217731 3.477482 20.717561 2.716452 20.080503 2.071691 C 19.443444 1.42693 18.685292 0.914292 17.853431 0.560202 C 17.016304 0.206112 16.121264 0.0211397 15.215693 0.0105699 C 14.310122 0 13.415082 0.169118 12.57269 0.502068 C 11.730299 0.835018 10.961617 1.331801 10.314029 1.960708 C 9.661175 2.589614 9.139946 3.340074 8.776664 4.169807 C 8.413383 4.99954 8.21858 5.892693 8.19752 6.8017 C 8.176461 7.705423 8.334409 8.60386 8.660836 9.449449 C 8.987262 10.295037 9.471637 11.066636 10.092901 11.727252 C 10.719429 12.382583 11.461787 12.91636 12.288383 13.286305 C 13.11498 13.65625 14.004755 13.862362 14.910326 13.894072 C 15.810632 13.925781 16.716202 13.777803 17.563859 13.460708 C 18.411515 13.148897 19.190727 12.667969 19.85411 12.054917 C 20.522758 11.436581 21.059783 10.696691 21.438859 9.877528 C 21.8232 9.058364 22.039062 8.170496 22.075917 7.261489 L 15.141984 6.954963 Z M 22.086447 6.954963 \" transform=\"matrix(0.741935,0,0,0.73913,456.5,200)\"/>\n",
       "<path style=\"fill-rule:nonzero;fill:rgb(63.137257%,85.490197%,70.588237%);fill-opacity:1;stroke-width:0.5;stroke-linecap:butt;stroke-linejoin:miter;stroke:rgb(26.666668%,26.666668%,26.274511%);stroke-opacity:1;stroke-miterlimit:4;\" d=\"M 22.075917 7.261489 C 22.081182 7.213925 22.081182 7.161075 22.081182 7.108226 C 22.086447 7.055377 22.086447 7.007812 22.086447 6.954963 L 15.141984 6.954963 Z M 22.075917 7.261489 \" transform=\"matrix(0.741935,0,0,0.73913,456.5,200)\"/>\n",
       "<path style=\" stroke:none;fill-rule:nonzero;fill:rgb(26.666668%,26.666668%,26.274511%);fill-opacity:1;\" d=\"M 456.941406 215.445312 L 456.941406 211.996094 L 457.46875 211.996094 L 457.46875 212.484375 C 457.722656 212.105469 458.089844 211.917969 458.570312 211.917969 C 458.777344 211.917969 458.96875 211.953125 459.144531 212.03125 C 459.320312 212.105469 459.453125 212.203125 459.539062 212.324219 C 459.625 212.445312 459.6875 212.589844 459.722656 212.753906 C 459.742188 212.863281 459.753906 213.054688 459.753906 213.324219 L 459.753906 215.445312 L 459.167969 215.445312 L 459.167969 213.347656 C 459.167969 213.109375 459.144531 212.929688 459.097656 212.8125 C 459.050781 212.695312 458.972656 212.601562 458.855469 212.53125 C 458.738281 212.460938 458.601562 212.425781 458.445312 212.425781 C 458.195312 212.425781 457.980469 212.503906 457.800781 212.660156 C 457.617188 212.820312 457.527344 213.121094 457.527344 213.5625 L 457.527344 215.445312 Z M 456.941406 215.445312 \"/>\n",
       "<path style=\" stroke:none;fill-rule:nonzero;fill:rgb(26.666668%,26.666668%,26.274511%);fill-opacity:1;\" d=\"M 463.742188 212.644531 L 460.585938 212.644531 L 460.585938 212.097656 L 463.742188 212.097656 Z M 463.742188 214.089844 L 460.585938 214.089844 L 460.585938 213.546875 L 463.742188 213.546875 Z M 463.742188 214.089844 \"/>\n",
       "<path style=\" stroke:none;fill-rule:nonzero;fill:rgb(26.666668%,26.666668%,26.274511%);fill-opacity:1;\" d=\"M 466.601562 215.445312 L 466.015625 215.445312 L 466.015625 211.71875 C 465.871094 211.855469 465.6875 211.988281 465.457031 212.121094 C 465.226562 212.257812 465.023438 212.359375 464.839844 212.425781 L 464.839844 211.859375 C 465.167969 211.707031 465.457031 211.519531 465.699219 211.300781 C 465.945312 211.082031 466.121094 210.871094 466.222656 210.664062 L 466.601562 210.664062 Z M 466.601562 215.445312 \"/>\n",
       "<path style=\" stroke:none;fill-rule:nonzero;fill:rgb(26.666668%,26.666668%,26.274511%);fill-opacity:1;\" d=\"M 468.191406 214.34375 L 468.757812 214.292969 C 468.804688 214.554688 468.894531 214.75 469.03125 214.867188 C 469.164062 214.988281 469.335938 215.046875 469.546875 215.046875 C 469.726562 215.046875 469.886719 215.003906 470.023438 214.921875 C 470.160156 214.839844 470.269531 214.730469 470.355469 214.59375 C 470.445312 214.457031 470.515625 214.269531 470.574219 214.035156 C 470.632812 213.800781 470.664062 213.5625 470.664062 213.320312 C 470.664062 213.296875 470.664062 213.257812 470.660156 213.203125 C 470.542969 213.390625 470.382812 213.542969 470.179688 213.65625 C 469.976562 213.773438 469.757812 213.832031 469.519531 213.832031 C 469.125 213.832031 468.789062 213.6875 468.515625 213.402344 C 468.242188 213.117188 468.105469 212.738281 468.105469 212.273438 C 468.105469 211.789062 468.246094 211.398438 468.53125 211.105469 C 468.820312 210.8125 469.175781 210.664062 469.605469 210.664062 C 469.917969 210.664062 470.203125 210.746094 470.460938 210.914062 C 470.71875 211.082031 470.914062 211.320312 471.046875 211.628906 C 471.179688 211.9375 471.246094 212.382812 471.246094 212.96875 C 471.246094 213.574219 471.179688 214.058594 471.046875 214.421875 C 470.914062 214.78125 470.71875 215.054688 470.457031 215.242188 C 470.195312 215.433594 469.886719 215.527344 469.535156 215.527344 C 469.160156 215.527344 468.855469 215.421875 468.617188 215.214844 C 468.382812 215.007812 468.238281 214.71875 468.191406 214.34375 Z M 470.59375 212.242188 C 470.59375 211.90625 470.503906 211.640625 470.324219 211.445312 C 470.148438 211.246094 469.929688 211.148438 469.679688 211.148438 C 469.417969 211.148438 469.191406 211.253906 468.996094 211.464844 C 468.804688 211.679688 468.707031 211.953125 468.707031 212.292969 C 468.707031 212.59375 468.800781 212.839844 468.984375 213.03125 C 469.167969 213.21875 469.394531 213.316406 469.660156 213.316406 C 469.933594 213.316406 470.15625 213.21875 470.332031 213.03125 C 470.507812 212.839844 470.59375 212.578125 470.59375 212.242188 Z M 470.59375 212.242188 \"/>\n",
       "<path style=\" stroke:none;fill-rule:nonzero;fill:rgb(26.666668%,26.666668%,26.274511%);fill-opacity:1;\" d=\"M 471.855469 211.308594 L 471.855469 210.746094 L 474.953125 210.746094 L 474.953125 211.199219 C 474.648438 211.523438 474.34375 211.949219 474.046875 212.484375 C 473.746094 213.019531 473.515625 213.570312 473.355469 214.136719 C 473.234375 214.535156 473.160156 214.972656 473.128906 215.445312 L 472.527344 215.445312 C 472.53125 215.070312 472.605469 214.617188 472.746094 214.085938 C 472.886719 213.558594 473.089844 213.046875 473.355469 212.550781 C 473.621094 212.058594 473.898438 211.644531 474.199219 211.308594 Z M 471.855469 211.308594 \"/>\n",
       "<path style=\" stroke:none;fill-rule:nonzero;fill:rgb(26.666668%,26.666668%,26.274511%);fill-opacity:1;\" d=\"M 475.535156 214.1875 L 476.121094 214.109375 C 476.1875 214.441406 476.304688 214.679688 476.464844 214.828125 C 476.628906 214.972656 476.824219 215.046875 477.058594 215.046875 C 477.332031 215.046875 477.566406 214.949219 477.757812 214.761719 C 477.945312 214.570312 478.042969 214.332031 478.042969 214.050781 C 478.042969 213.785156 477.953125 213.5625 477.777344 213.386719 C 477.601562 213.214844 477.378906 213.125 477.105469 213.125 C 476.996094 213.125 476.859375 213.148438 476.691406 213.191406 L 476.757812 212.675781 C 476.796875 212.683594 476.828125 212.683594 476.851562 212.683594 C 477.101562 212.683594 477.328125 212.621094 477.527344 212.492188 C 477.726562 212.359375 477.828125 212.160156 477.828125 211.886719 C 477.828125 211.675781 477.753906 211.496094 477.609375 211.355469 C 477.460938 211.214844 477.273438 211.144531 477.042969 211.144531 C 476.816406 211.144531 476.625 211.214844 476.472656 211.359375 C 476.320312 211.503906 476.222656 211.714844 476.179688 212 L 475.59375 211.898438 C 475.664062 211.507812 475.828125 211.203125 476.082031 210.988281 C 476.335938 210.773438 476.652344 210.664062 477.03125 210.664062 C 477.292969 210.664062 477.53125 210.71875 477.75 210.832031 C 477.96875 210.941406 478.136719 211.09375 478.253906 211.289062 C 478.371094 211.480469 478.429688 211.683594 478.429688 211.902344 C 478.429688 212.105469 478.375 212.292969 478.261719 212.464844 C 478.152344 212.632812 477.988281 212.765625 477.773438 212.867188 C 478.054688 212.929688 478.273438 213.066406 478.429688 213.269531 C 478.585938 213.476562 478.664062 213.730469 478.664062 214.039062 C 478.664062 214.453125 478.511719 214.808594 478.207031 215.097656 C 477.902344 215.386719 477.519531 215.53125 477.054688 215.53125 C 476.632812 215.53125 476.285156 215.40625 476.007812 215.15625 C 475.730469 214.90625 475.574219 214.585938 475.535156 214.1875 Z M 475.535156 214.1875 \"/>\n",
       "<path style=\"fill:none;stroke-width:0.3;stroke-linecap:butt;stroke-linejoin:miter;stroke:rgb(26.666667%,26.666667%,26.27451%);stroke-opacity:1;stroke-miterlimit:10;\" d=\"M 439.394531 -64.1875 C 443.179688 -57.558594 449.078125 -47.238281 454.09375 -38.460938 \" transform=\"matrix(1,0,0,1,4,230)\"/>\n",
       "<path style=\"fill-rule:nonzero;fill:rgb(26.666667%,26.666667%,26.27451%);fill-opacity:1;stroke-width:0.3;stroke-linecap:butt;stroke-linejoin:miter;stroke:rgb(26.666667%,26.666667%,26.27451%);stroke-opacity:1;stroke-miterlimit:10;\" d=\"M 455.410156 -38.976562 L 456.179688 -34.808594 L 452.980469 -37.589844 Z M 455.410156 -38.976562 \" transform=\"matrix(1,0,0,1,4,230)\"/>\n",
       "<g style=\"fill:rgb(26.666667%,26.666667%,26.27451%);fill-opacity:1;\">\n",
       "  <use xlink:href=\"#glyph0-15\" x=\"354.5\" y=\"128.598145\"/>\n",
       "  <use xlink:href=\"#glyph0-16\" x=\"357.000488\" y=\"128.598145\"/>\n",
       "  <use xlink:href=\"#glyph0-7\" x=\"362.005859\" y=\"128.598145\"/>\n",
       "  <use xlink:href=\"#glyph0-17\" x=\"366.505859\" y=\"128.598145\"/>\n",
       "  <use xlink:href=\"#glyph0-18\" x=\"371.51123\" y=\"128.598145\"/>\n",
       "  <use xlink:href=\"#glyph0-3\" x=\"376.516602\" y=\"128.598145\"/>\n",
       "  <use xlink:href=\"#glyph0-3\" x=\"381.521973\" y=\"128.598145\"/>\n",
       "  <use xlink:href=\"#glyph0-19\" x=\"386.527344\" y=\"128.598145\"/>\n",
       "  <use xlink:href=\"#glyph0-11\" x=\"391.027344\" y=\"128.598145\"/>\n",
       "  <use xlink:href=\"#glyph0-12\" x=\"400.163574\" y=\"128.598145\"/>\n",
       "  <use xlink:href=\"#glyph0-13\" x=\"405.168945\" y=\"128.598145\"/>\n",
       "  <use xlink:href=\"#glyph0-14\" x=\"407.669434\" y=\"128.598145\"/>\n",
       "  <use xlink:href=\"#glyph0-12\" x=\"412.674805\" y=\"128.598145\"/>\n",
       "</g>\n",
       "<path style=\"fill:none;stroke-width:0.3;stroke-linecap:butt;stroke-linejoin:miter;stroke:rgb(26.666667%,26.666667%,26.27451%);stroke-opacity:1;stroke-miterlimit:10;\" d=\"M 376.429688 -97.722656 C 372.117188 -92.90625 366.261719 -86.367188 361.421875 -80.960938 \" transform=\"matrix(1,0,0,1,4,230)\"/>\n",
       "<path style=\"fill-rule:nonzero;fill:rgb(26.666667%,26.666667%,26.27451%);fill-opacity:1;stroke-width:0.3;stroke-linecap:butt;stroke-linejoin:miter;stroke:rgb(26.666667%,26.666667%,26.27451%);stroke-opacity:1;stroke-miterlimit:10;\" d=\"M 362.273438 -79.816406 L 358.5625 -77.769531 L 360.1875 -81.683594 Z M 362.273438 -79.816406 \" transform=\"matrix(1,0,0,1,4,230)\"/>\n",
       "<path style=\"fill:none;stroke-width:0.3;stroke-linecap:butt;stroke-linejoin:miter;stroke:rgb(26.666667%,26.666667%,26.27451%);stroke-opacity:1;stroke-miterlimit:10;\" d=\"M 392.972656 -97.882812 C 401.101562 -92.742188 412.457031 -85.566406 421.386719 -79.921875 \" transform=\"matrix(1,0,0,1,4,230)\"/>\n",
       "<path style=\"fill-rule:nonzero;fill:rgb(26.666667%,26.666667%,26.27451%);fill-opacity:1;stroke-width:0.3;stroke-linecap:butt;stroke-linejoin:miter;stroke:rgb(26.666667%,26.666667%,26.27451%);stroke-opacity:1;stroke-miterlimit:10;\" d=\"M 422.417969 -80.925781 L 425.050781 -77.605469 L 420.921875 -78.558594 Z M 422.417969 -80.925781 \" transform=\"matrix(1,0,0,1,4,230)\"/>\n",
       "<g style=\"fill:rgb(26.666667%,26.666667%,26.27451%);fill-opacity:1;\">\n",
       "  <use xlink:href=\"#glyph0-7\" x=\"471\" y=\"128.598145\"/>\n",
       "  <use xlink:href=\"#glyph0-16\" x=\"475.5\" y=\"128.598145\"/>\n",
       "  <use xlink:href=\"#glyph0-10\" x=\"480.505371\" y=\"128.598145\"/>\n",
       "  <use xlink:href=\"#glyph0-17\" x=\"483.005859\" y=\"128.598145\"/>\n",
       "  <use xlink:href=\"#glyph0-29\" x=\"488.01123\" y=\"128.598145\"/>\n",
       "  <use xlink:href=\"#glyph0-3\" x=\"493.016602\" y=\"128.598145\"/>\n",
       "  <use xlink:href=\"#glyph0-21\" x=\"498.021973\" y=\"128.598145\"/>\n",
       "  <use xlink:href=\"#glyph0-30\" x=\"501.019043\" y=\"128.598145\"/>\n",
       "  <use xlink:href=\"#glyph0-6\" x=\"505.519043\" y=\"128.598145\"/>\n",
       "  <use xlink:href=\"#glyph0-24\" x=\"510.524414\" y=\"128.598145\"/>\n",
       "  <use xlink:href=\"#glyph0-4\" x=\"512.523926\" y=\"128.598145\"/>\n",
       "  <use xlink:href=\"#glyph0-5\" x=\"514.523438\" y=\"128.598145\"/>\n",
       "  <use xlink:href=\"#glyph0-10\" x=\"519.023438\" y=\"128.598145\"/>\n",
       "  <use xlink:href=\"#glyph0-6\" x=\"521.523926\" y=\"128.598145\"/>\n",
       "  <use xlink:href=\"#glyph0-7\" x=\"526.529297\" y=\"128.598145\"/>\n",
       "  <use xlink:href=\"#glyph0-3\" x=\"531.029297\" y=\"128.598145\"/>\n",
       "  <use xlink:href=\"#glyph0-8\" x=\"536.034668\" y=\"128.598145\"/>\n",
       "  <use xlink:href=\"#glyph0-9\" x=\"541.040039\" y=\"128.598145\"/>\n",
       "  <use xlink:href=\"#glyph0-10\" x=\"546.04541\" y=\"128.598145\"/>\n",
       "  <use xlink:href=\"#glyph0-5\" x=\"548.545898\" y=\"128.598145\"/>\n",
       "  <use xlink:href=\"#glyph0-11\" x=\"553.045898\" y=\"128.598145\"/>\n",
       "  <use xlink:href=\"#glyph0-31\" x=\"562.182129\" y=\"128.598145\"/>\n",
       "  <use xlink:href=\"#glyph0-13\" x=\"567.1875\" y=\"128.598145\"/>\n",
       "  <use xlink:href=\"#glyph0-14\" x=\"569.687988\" y=\"128.598145\"/>\n",
       "  <use xlink:href=\"#glyph0-12\" x=\"574.693359\" y=\"128.598145\"/>\n",
       "</g>\n",
       "<g style=\"fill:rgb(26.666667%,26.666667%,26.27451%);fill-opacity:1;\">\n",
       "  <use xlink:href=\"#glyph0-24\" x=\"482\" y=\"162.098145\"/>\n",
       "  <use xlink:href=\"#glyph0-16\" x=\"483.999512\" y=\"162.098145\"/>\n",
       "  <use xlink:href=\"#glyph0-10\" x=\"489.004883\" y=\"162.098145\"/>\n",
       "  <use xlink:href=\"#glyph0-17\" x=\"491.505371\" y=\"162.098145\"/>\n",
       "  <use xlink:href=\"#glyph0-5\" x=\"496.510742\" y=\"162.098145\"/>\n",
       "  <use xlink:href=\"#glyph0-10\" x=\"501.010742\" y=\"162.098145\"/>\n",
       "  <use xlink:href=\"#glyph0-6\" x=\"503.51123\" y=\"162.098145\"/>\n",
       "  <use xlink:href=\"#glyph0-26\" x=\"508.516602\" y=\"162.098145\"/>\n",
       "  <use xlink:href=\"#glyph0-25\" x=\"516.013672\" y=\"162.098145\"/>\n",
       "  <use xlink:href=\"#glyph0-6\" x=\"520.513672\" y=\"162.098145\"/>\n",
       "  <use xlink:href=\"#glyph0-3\" x=\"525.519043\" y=\"162.098145\"/>\n",
       "  <use xlink:href=\"#glyph0-15\" x=\"530.524414\" y=\"162.098145\"/>\n",
       "  <use xlink:href=\"#glyph0-32\" x=\"533.024902\" y=\"162.098145\"/>\n",
       "  <use xlink:href=\"#glyph0-7\" x=\"537.524902\" y=\"162.098145\"/>\n",
       "  <use xlink:href=\"#glyph0-17\" x=\"542.024902\" y=\"162.098145\"/>\n",
       "  <use xlink:href=\"#glyph0-28\" x=\"547.030273\" y=\"162.098145\"/>\n",
       "  <use xlink:href=\"#glyph0-31\" x=\"552.035645\" y=\"162.098145\"/>\n",
       "  <use xlink:href=\"#glyph0-14\" x=\"557.041016\" y=\"162.098145\"/>\n",
       "  <use xlink:href=\"#glyph0-11\" x=\"562.046387\" y=\"162.098145\"/>\n",
       "  <use xlink:href=\"#glyph0-12\" x=\"571.182617\" y=\"162.098145\"/>\n",
       "  <use xlink:href=\"#glyph0-13\" x=\"576.187988\" y=\"162.098145\"/>\n",
       "  <use xlink:href=\"#glyph0-14\" x=\"578.688477\" y=\"162.098145\"/>\n",
       "  <use xlink:href=\"#glyph0-12\" x=\"583.693848\" y=\"162.098145\"/>\n",
       "</g>\n",
       "<g style=\"fill:rgb(26.666667%,26.666667%,26.27451%);fill-opacity:1;\">\n",
       "  <use xlink:href=\"#glyph0-1\" x=\"603\" y=\"162.098145\"/>\n",
       "  <use xlink:href=\"#glyph0-2\" x=\"609.499512\" y=\"162.098145\"/>\n",
       "  <use xlink:href=\"#glyph0-3\" x=\"614.504883\" y=\"162.098145\"/>\n",
       "  <use xlink:href=\"#glyph0-4\" x=\"619.510254\" y=\"162.098145\"/>\n",
       "  <use xlink:href=\"#glyph0-5\" x=\"621.509766\" y=\"162.098145\"/>\n",
       "  <use xlink:href=\"#glyph0-6\" x=\"626.009766\" y=\"162.098145\"/>\n",
       "  <use xlink:href=\"#glyph0-7\" x=\"631.015137\" y=\"162.098145\"/>\n",
       "  <use xlink:href=\"#glyph0-3\" x=\"635.515137\" y=\"162.098145\"/>\n",
       "  <use xlink:href=\"#glyph0-8\" x=\"640.520508\" y=\"162.098145\"/>\n",
       "  <use xlink:href=\"#glyph0-9\" x=\"645.525879\" y=\"162.098145\"/>\n",
       "  <use xlink:href=\"#glyph0-10\" x=\"650.53125\" y=\"162.098145\"/>\n",
       "  <use xlink:href=\"#glyph0-5\" x=\"653.031738\" y=\"162.098145\"/>\n",
       "  <use xlink:href=\"#glyph0-11\" x=\"657.531738\" y=\"162.098145\"/>\n",
       "  <use xlink:href=\"#glyph0-33\" x=\"666.667969\" y=\"162.098145\"/>\n",
       "  <use xlink:href=\"#glyph0-34\" x=\"671.67334\" y=\"162.098145\"/>\n",
       "  <use xlink:href=\"#glyph0-13\" x=\"676.678711\" y=\"162.098145\"/>\n",
       "  <use xlink:href=\"#glyph0-14\" x=\"679.179199\" y=\"162.098145\"/>\n",
       "  <use xlink:href=\"#glyph0-12\" x=\"684.18457\" y=\"162.098145\"/>\n",
       "</g>\n",
       "<path style=\" stroke:none;fill-rule:nonzero;fill:rgb(100%,100%,100%);fill-opacity:1;\" d=\"M 510.5 213.539062 L 528.972656 213.539062 L 528.972656 202 L 510.5 202 Z M 510.5 213.539062 \"/>\n",
       "<path style=\"fill-rule:nonzero;fill:rgb(99.607843%,99.607843%,73.333335%);fill-opacity:1;stroke-width:0.5;stroke-linecap:butt;stroke-linejoin:miter;stroke:rgb(26.666668%,26.666668%,26.274511%);stroke-opacity:1;stroke-miterlimit:4;\" d=\"M 16.068257 3.447917 C 16.068257 3.0625 15.998766 2.671875 15.870477 2.307292 C 15.742188 1.9375 15.549753 1.598958 15.303865 1.291667 C 15.057977 0.989583 14.76398 0.734375 14.432566 0.526042 C 14.101151 0.322917 13.737664 0.177083 13.352796 0.0989583 C 12.973273 0.015625 12.583059 0 12.192845 0.0520833 C 11.807977 0.0989583 11.433799 0.21875 11.086349 0.390625 C 10.738898 0.567708 10.42352 0.802083 10.15625 1.083333 C 9.88898 1.364583 9.669819 1.692708 9.509457 2.046875 C 9.349095 2.40625 9.252878 2.786458 9.220806 3.171875 C 9.188734 3.5625 9.226151 3.953125 9.322368 4.328125 C 9.423931 4.703125 9.584293 5.0625 9.808799 5.385417 C 10.027961 5.703125 10.300576 5.984375 10.610609 6.21875 C 10.925987 6.447917 11.278783 6.619792 11.652961 6.734375 C 12.027138 6.84375 12.412007 6.895833 12.80222 6.875 C 13.192434 6.854167 13.577303 6.770833 13.935444 6.625 C 14.298931 6.473958 14.630345 6.265625 14.918997 6.010417 L 12.636513 3.447917 Z M 16.068257 3.447917 \" transform=\"matrix(0.730769,0,0,0.75,510.5,202)\"/>\n",
       "<path style=\"fill-rule:nonzero;fill:rgb(63.137257%,85.490197%,70.588237%);fill-opacity:1;stroke-width:0.5;stroke-linecap:butt;stroke-linejoin:miter;stroke:rgb(26.666668%,26.666668%,26.274511%);stroke-opacity:1;stroke-miterlimit:4;\" d=\"M 14.918997 6.010417 C 15.282484 5.6875 15.571135 5.291667 15.768914 4.854167 C 15.966694 4.411458 16.068257 3.932292 16.068257 3.447917 L 12.636513 3.447917 Z M 14.918997 6.010417 \" transform=\"matrix(0.730769,0,0,0.75,510.5,202)\"/>\n",
       "<path style=\" stroke:none;fill-rule:nonzero;fill:rgb(26.666668%,26.666668%,26.274511%);fill-opacity:1;\" d=\"M 510.933594 212.195312 L 510.933594 208.695312 L 511.453125 208.695312 L 511.453125 209.195312 C 511.703125 208.808594 512.066406 208.617188 512.539062 208.617188 C 512.746094 208.617188 512.933594 208.65625 513.105469 208.730469 C 513.277344 208.804688 513.40625 208.90625 513.492188 209.027344 C 513.578125 209.152344 513.640625 209.296875 513.671875 209.464844 C 513.695312 209.578125 513.707031 209.769531 513.707031 210.042969 L 513.707031 212.195312 L 513.125 212.195312 L 513.125 210.066406 C 513.125 209.824219 513.105469 209.644531 513.058594 209.523438 C 513.015625 209.40625 512.933594 209.308594 512.820312 209.238281 C 512.707031 209.167969 512.570312 209.132812 512.417969 209.132812 C 512.171875 209.132812 511.957031 209.210938 511.78125 209.371094 C 511.601562 209.53125 511.511719 209.835938 511.511719 210.285156 L 511.511719 212.195312 Z M 510.933594 212.195312 \"/>\n",
       "<path style=\" stroke:none;fill-rule:nonzero;fill:rgb(26.666668%,26.666668%,26.274511%);fill-opacity:1;\" d=\"M 517.632812 209.355469 L 514.523438 209.355469 L 514.523438 208.800781 L 517.632812 208.800781 Z M 517.632812 210.820312 L 514.523438 210.820312 L 514.523438 210.269531 L 517.632812 210.269531 Z M 517.632812 210.820312 \"/>\n",
       "<path style=\" stroke:none;fill-rule:nonzero;fill:rgb(26.666668%,26.666668%,26.274511%);fill-opacity:1;\" d=\"M 520.449219 212.195312 L 519.871094 212.195312 L 519.871094 208.417969 C 519.730469 208.550781 519.550781 208.6875 519.324219 208.824219 C 519.097656 208.960938 518.894531 209.0625 518.714844 209.132812 L 518.714844 208.558594 C 519.039062 208.402344 519.320312 208.210938 519.5625 207.992188 C 519.804688 207.769531 519.976562 207.554688 520.078125 207.34375 L 520.449219 207.34375 Z M 520.449219 212.195312 \"/>\n",
       "<path style=\" stroke:none;fill-rule:nonzero;fill:rgb(26.666668%,26.666668%,26.274511%);fill-opacity:1;\" d=\"M 521.96875 207.996094 L 521.96875 207.425781 L 525.015625 207.425781 L 525.015625 207.890625 C 524.714844 208.214844 524.417969 208.652344 524.125 209.195312 C 523.828125 209.738281 523.601562 210.292969 523.441406 210.867188 C 523.328125 211.273438 523.253906 211.714844 523.21875 212.195312 L 522.625 212.195312 C 522.632812 211.816406 522.707031 211.355469 522.84375 210.820312 C 522.984375 210.28125 523.183594 209.761719 523.445312 209.261719 C 523.703125 208.761719 523.980469 208.339844 524.273438 207.996094 Z M 521.96875 207.996094 \"/>\n",
       "<path style=\" stroke:none;fill-rule:nonzero;fill:rgb(26.666668%,26.666668%,26.274511%);fill-opacity:1;\" d=\"M 525.671875 211.078125 L 526.230469 211.027344 C 526.277344 211.292969 526.367188 211.488281 526.5 211.609375 C 526.632812 211.730469 526.800781 211.792969 527.007812 211.792969 C 527.1875 211.792969 527.34375 211.75 527.476562 211.664062 C 527.609375 211.582031 527.71875 211.46875 527.804688 211.332031 C 527.890625 211.191406 527.964844 211.003906 528.019531 210.765625 C 528.078125 210.527344 528.109375 210.285156 528.109375 210.039062 C 528.109375 210.015625 528.105469 209.976562 528.105469 209.921875 C 527.988281 210.109375 527.832031 210.265625 527.632812 210.382812 C 527.429688 210.5 527.214844 210.558594 526.980469 210.558594 C 526.589844 210.558594 526.261719 210.414062 525.992188 210.125 C 525.722656 209.832031 525.585938 209.449219 525.585938 208.976562 C 525.585938 208.484375 525.726562 208.089844 526.011719 207.792969 C 526.292969 207.492188 526.644531 207.34375 527.066406 207.34375 C 527.375 207.34375 527.652344 207.429688 527.90625 207.597656 C 528.160156 207.769531 528.355469 208.007812 528.484375 208.324219 C 528.617188 208.636719 528.683594 209.089844 528.683594 209.683594 C 528.683594 210.300781 528.617188 210.789062 528.488281 211.15625 C 528.355469 211.523438 528.160156 211.800781 527.902344 211.992188 C 527.644531 212.183594 527.34375 212.277344 526.996094 212.277344 C 526.628906 212.277344 526.328125 212.171875 526.09375 211.964844 C 525.859375 211.753906 525.722656 211.460938 525.671875 211.078125 Z M 528.039062 208.945312 C 528.039062 208.605469 527.953125 208.335938 527.773438 208.136719 C 527.597656 207.9375 527.386719 207.835938 527.136719 207.835938 C 526.882812 207.835938 526.65625 207.945312 526.46875 208.160156 C 526.277344 208.375 526.179688 208.652344 526.179688 208.996094 C 526.179688 209.304688 526.273438 209.554688 526.453125 209.746094 C 526.632812 209.9375 526.855469 210.035156 527.121094 210.035156 C 527.390625 210.035156 527.609375 209.9375 527.78125 209.746094 C 527.953125 209.554688 528.039062 209.285156 528.039062 208.945312 Z M 528.039062 208.945312 \"/>\n",
       "<path style=\"fill:none;stroke-width:0.3;stroke-linecap:butt;stroke-linejoin:miter;stroke:rgb(26.666667%,26.666667%,26.27451%);stroke-opacity:1;stroke-miterlimit:10;\" d=\"M 529.273438 -64.1875 C 526.921875 -56.980469 523.140625 -45.402344 520.136719 -36.199219 \" transform=\"matrix(1,0,0,1,4,230)\"/>\n",
       "<path style=\"fill-rule:nonzero;fill:rgb(26.666667%,26.666667%,26.27451%);fill-opacity:1;stroke-width:0.3;stroke-linecap:butt;stroke-linejoin:miter;stroke:rgb(26.666667%,26.666667%,26.27451%);stroke-opacity:1;stroke-miterlimit:10;\" d=\"M 521.390625 -35.527344 L 518.816406 -32.160156 L 518.726562 -36.398438 Z M 521.390625 -35.527344 \" transform=\"matrix(1,0,0,1,4,230)\"/>\n",
       "<path style=\" stroke:none;fill-rule:nonzero;fill:rgb(100%,100%,100%);fill-opacity:1;\" d=\"M 551.5 213.902344 L 565.980469 213.902344 L 565.980469 203 L 551.5 203 Z M 551.5 213.902344 \"/>\n",
       "<path style=\"fill-rule:nonzero;fill:rgb(99.607843%,99.607843%,73.333335%);fill-opacity:1;stroke-width:0.5;stroke-linecap:butt;stroke-linejoin:miter;stroke:rgb(26.666668%,26.666668%,26.274511%);stroke-opacity:1;stroke-miterlimit:4;\" d=\"M 13.294531 3.222656 C 13.294531 2.583452 13.103125 1.960227 12.742188 1.432884 C 12.38125 0.90554 11.867188 0.50071 11.271094 0.271662 C 10.675 0.0426136 10.024219 0 9.400781 0.149148 C 8.782813 0.298295 8.219531 0.628551 7.792969 1.102628 L 10.133594 3.222656 Z M 13.294531 3.222656 \" transform=\"matrix(0.714286,0,0,0.733333,551.5,203)\"/>\n",
       "<path style=\"fill-rule:nonzero;fill:rgb(63.137257%,85.490197%,70.588237%);fill-opacity:1;stroke-width:0.5;stroke-linecap:butt;stroke-linejoin:miter;stroke:rgb(26.666668%,26.666668%,26.274511%);stroke-opacity:1;stroke-miterlimit:4;\" d=\"M 7.792969 1.102628 C 7.448438 1.480824 7.202344 1.944247 7.071094 2.439631 C 6.945312 2.935014 6.939844 3.457031 7.060156 3.957741 C 7.180469 4.453125 7.421094 4.916548 7.754688 5.305398 C 8.09375 5.68892 8.520313 5.987216 9.001563 6.173651 C 9.477344 6.354759 9.996875 6.424006 10.505469 6.360085 C 11.014063 6.301491 11.500781 6.120384 11.921875 5.827415 C 12.348438 5.539773 12.692969 5.150923 12.933594 4.692827 C 13.16875 4.240057 13.294531 3.73402 13.294531 3.222656 L 10.133594 3.222656 Z M 7.792969 1.102628 \" transform=\"matrix(0.714286,0,0,0.733333,551.5,203)\"/>\n",
       "<path style=\" stroke:none;fill-rule:nonzero;fill:rgb(26.666668%,26.666668%,26.274511%);fill-opacity:1;\" d=\"M 551.925781 212.589844 L 551.925781 209.167969 L 552.433594 209.167969 L 552.433594 209.65625 C 552.675781 209.277344 553.03125 209.089844 553.492188 209.089844 C 553.695312 209.089844 553.878906 209.128906 554.046875 209.203125 C 554.214844 209.277344 554.34375 209.375 554.425781 209.492188 C 554.507812 209.613281 554.566406 209.757812 554.601562 209.921875 C 554.621094 210.03125 554.632812 210.21875 554.632812 210.484375 L 554.632812 212.589844 L 554.066406 212.589844 L 554.066406 210.507812 C 554.066406 210.273438 554.046875 210.09375 554 209.980469 C 553.957031 209.863281 553.878906 209.769531 553.769531 209.699219 C 553.65625 209.628906 553.523438 209.59375 553.375 209.59375 C 553.132812 209.59375 552.925781 209.671875 552.75 209.828125 C 552.574219 209.984375 552.488281 210.28125 552.488281 210.722656 L 552.488281 212.589844 Z M 551.925781 212.589844 \"/>\n",
       "<path style=\" stroke:none;fill-rule:nonzero;fill:rgb(26.666668%,26.666668%,26.274511%);fill-opacity:1;\" d=\"M 558.472656 209.8125 L 555.433594 209.8125 L 555.433594 209.269531 L 558.472656 209.269531 Z M 558.472656 211.246094 L 555.433594 211.246094 L 555.433594 210.707031 L 558.472656 210.707031 Z M 558.472656 211.246094 \"/>\n",
       "<path style=\" stroke:none;fill-rule:nonzero;fill:rgb(26.666668%,26.666668%,26.274511%);fill-opacity:1;\" d=\"M 559.179688 211.5 L 559.722656 211.445312 C 559.769531 211.707031 559.859375 211.898438 559.988281 212.015625 C 560.117188 212.136719 560.285156 212.195312 560.488281 212.195312 C 560.660156 212.195312 560.8125 212.152344 560.941406 212.070312 C 561.074219 211.988281 561.179688 211.882812 561.265625 211.746094 C 561.347656 211.609375 561.417969 211.425781 561.476562 211.191406 C 561.53125 210.960938 561.5625 210.722656 561.5625 210.484375 C 561.5625 210.457031 561.558594 210.417969 561.558594 210.367188 C 561.445312 210.550781 561.289062 210.703125 561.09375 210.816406 C 560.898438 210.933594 560.6875 210.988281 560.457031 210.988281 C 560.078125 210.988281 559.753906 210.847656 559.492188 210.5625 C 559.226562 210.28125 559.097656 209.90625 559.097656 209.441406 C 559.097656 208.964844 559.234375 208.578125 559.507812 208.285156 C 559.785156 207.992188 560.128906 207.847656 560.542969 207.847656 C 560.84375 207.847656 561.117188 207.929688 561.363281 208.09375 C 561.613281 208.261719 561.800781 208.496094 561.929688 208.804688 C 562.058594 209.109375 562.121094 209.550781 562.121094 210.132812 C 562.121094 210.734375 562.058594 211.214844 561.929688 211.574219 C 561.804688 211.929688 561.613281 212.203125 561.359375 212.390625 C 561.109375 212.578125 560.8125 212.671875 560.476562 212.671875 C 560.113281 212.671875 559.820312 212.570312 559.59375 212.363281 C 559.363281 212.160156 559.226562 211.871094 559.179688 211.5 Z M 561.496094 209.414062 C 561.496094 209.078125 561.40625 208.816406 561.234375 208.621094 C 561.0625 208.425781 560.855469 208.328125 560.613281 208.328125 C 560.359375 208.328125 560.144531 208.433594 559.957031 208.644531 C 559.769531 208.851562 559.675781 209.125 559.675781 209.460938 C 559.675781 209.761719 559.765625 210.007812 559.941406 210.195312 C 560.121094 210.382812 560.335938 210.476562 560.597656 210.476562 C 560.859375 210.476562 561.074219 210.382812 561.242188 210.195312 C 561.410156 210.007812 561.496094 209.746094 561.496094 209.414062 Z M 561.496094 209.414062 \"/>\n",
       "<path style=\" stroke:none;fill-rule:nonzero;fill:rgb(26.666668%,26.666668%,26.274511%);fill-opacity:1;\" d=\"M 564.484375 212.589844 L 564.484375 211.460938 L 562.484375 211.460938 L 562.484375 210.925781 L 564.585938 207.867188 L 565.046875 207.867188 L 565.046875 210.925781 L 565.667969 210.925781 L 565.667969 211.460938 L 565.046875 211.460938 L 565.046875 212.589844 Z M 564.484375 210.925781 L 564.484375 208.796875 L 563.042969 210.925781 Z M 564.484375 210.925781 \"/>\n",
       "<path style=\"fill:none;stroke-width:0.3;stroke-linecap:butt;stroke-linejoin:miter;stroke:rgb(26.666667%,26.666667%,26.27451%);stroke-opacity:1;stroke-miterlimit:10;\" d=\"M 534.699219 -64.1875 C 538.152344 -56.824219 543.753906 -44.898438 548.117188 -35.601562 \" transform=\"matrix(1,0,0,1,4,230)\"/>\n",
       "<path style=\"fill-rule:nonzero;fill:rgb(26.666667%,26.666667%,26.27451%);fill-opacity:1;stroke-width:0.3;stroke-linecap:butt;stroke-linejoin:miter;stroke:rgb(26.666667%,26.666667%,26.27451%);stroke-opacity:1;stroke-miterlimit:10;\" d=\"M 549.46875 -36.015625 L 549.902344 -31.796875 L 546.933594 -34.824219 Z M 549.46875 -36.015625 \" transform=\"matrix(1,0,0,1,4,230)\"/>\n",
       "<path style=\" stroke:none;fill-rule:nonzero;fill:rgb(100%,100%,100%);fill-opacity:1;\" d=\"M 621.5 214.945312 L 639.972656 214.945312 L 639.972656 202 L 621.5 202 Z M 621.5 214.945312 \"/>\n",
       "<path style=\"fill-rule:nonzero;fill:rgb(99.607843%,99.607843%,73.333335%);fill-opacity:1;stroke-width:0.5;stroke-linecap:butt;stroke-linejoin:miter;stroke:rgb(26.666668%,26.666668%,26.274511%);stroke-opacity:1;stroke-miterlimit:4;\" d=\"M 17.297697 4.667668 C 17.297697 4.05649 17.180099 3.45613 16.944901 2.89363 C 16.715049 2.33113 16.378289 1.822716 15.950658 1.390024 C 15.523026 0.957332 15.015214 0.616587 14.459293 0.378606 C 13.898026 0.140625 13.299342 0.016226 12.695312 0.00540865 C 12.085938 0 11.481908 0.113582 10.920641 0.335337 C 10.35403 0.557091 9.840872 0.892428 9.402549 1.314303 C 8.964227 1.736178 8.616776 2.239183 8.370888 2.790865 C 8.130345 3.347957 7.996711 3.948317 7.980674 4.554087 C 7.964638 5.159856 8.071546 5.765625 8.290707 6.333534 C 8.504523 6.901442 8.830592 7.415264 9.247533 7.858774 C 9.664474 8.302284 10.161595 8.659255 10.717516 8.908053 C 11.268092 9.156851 11.866776 9.297476 12.470806 9.319111 C 13.080181 9.340745 13.684211 9.243389 14.250822 9.032452 C 14.82278 8.821514 15.346628 8.502404 15.790296 8.091346 C 16.239309 7.680288 16.602796 7.188101 16.859375 6.636418 C 17.115954 6.090144 17.26028 5.495192 17.292352 4.884014 L 12.636513 4.667668 Z M 17.297697 4.667668 \" transform=\"matrix(0.730769,0,0,0.722222,621.5,202)\"/>\n",
       "<path style=\"fill-rule:nonzero;fill:rgb(63.137257%,85.490197%,70.588237%);fill-opacity:1;stroke-width:0.5;stroke-linecap:butt;stroke-linejoin:miter;stroke:rgb(26.666668%,26.666668%,26.274511%);stroke-opacity:1;stroke-miterlimit:4;\" d=\"M 17.292352 4.884014 C 17.292352 4.851562 17.292352 4.813702 17.292352 4.775841 C 17.297697 4.737981 17.297697 4.70012 17.297697 4.667668 L 12.636513 4.667668 Z M 17.292352 4.884014 \" transform=\"matrix(0.730769,0,0,0.722222,621.5,202)\"/>\n",
       "<path style=\" stroke:none;fill-rule:nonzero;fill:rgb(26.666668%,26.666668%,26.274511%);fill-opacity:1;\" d=\"M 621.933594 213.65625 L 621.933594 210.285156 L 622.453125 210.285156 L 622.453125 210.761719 C 622.703125 210.394531 623.066406 210.207031 623.539062 210.207031 C 623.746094 210.207031 623.933594 210.246094 624.105469 210.316406 C 624.277344 210.390625 624.40625 210.488281 624.492188 210.605469 C 624.578125 210.722656 624.640625 210.863281 624.671875 211.027344 C 624.695312 211.132812 624.707031 211.316406 624.707031 211.582031 L 624.707031 213.65625 L 624.125 213.65625 L 624.125 211.605469 C 624.125 211.371094 624.105469 211.199219 624.058594 211.082031 C 624.015625 210.96875 623.933594 210.875 623.820312 210.808594 C 623.707031 210.738281 623.570312 210.703125 623.417969 210.703125 C 623.171875 210.703125 622.957031 210.78125 622.78125 210.933594 C 622.601562 211.089844 622.511719 211.382812 622.511719 211.8125 L 622.511719 213.65625 Z M 621.933594 213.65625 \"/>\n",
       "<path style=\" stroke:none;fill-rule:nonzero;fill:rgb(26.666668%,26.666668%,26.274511%);fill-opacity:1;\" d=\"M 628.632812 210.917969 L 625.523438 210.917969 L 625.523438 210.386719 L 628.632812 210.386719 Z M 628.632812 212.332031 L 625.523438 212.332031 L 625.523438 211.796875 L 628.632812 211.796875 Z M 628.632812 212.332031 \"/>\n",
       "<path style=\" stroke:none;fill-rule:nonzero;fill:rgb(26.666668%,26.666668%,26.274511%);fill-opacity:1;\" d=\"M 632.269531 210.140625 L 631.695312 210.1875 C 631.644531 209.960938 631.570312 209.796875 631.476562 209.695312 C 631.320312 209.535156 631.128906 209.453125 630.898438 209.453125 C 630.714844 209.453125 630.554688 209.503906 630.414062 209.605469 C 630.234375 209.734375 630.089844 209.929688 629.984375 210.179688 C 629.878906 210.429688 629.824219 210.789062 629.820312 211.253906 C 629.960938 211.046875 630.128906 210.890625 630.332031 210.789062 C 630.53125 210.6875 630.742188 210.636719 630.964844 210.636719 C 631.347656 210.636719 631.675781 210.777344 631.949219 211.058594 C 632.21875 211.335938 632.355469 211.699219 632.355469 212.144531 C 632.355469 212.4375 632.292969 212.707031 632.164062 212.957031 C 632.035156 213.207031 631.859375 213.402344 631.636719 213.535156 C 631.414062 213.667969 631.164062 213.734375 630.878906 213.734375 C 630.398438 213.734375 630.003906 213.558594 629.703125 213.210938 C 629.398438 212.859375 629.246094 212.28125 629.246094 211.476562 C 629.246094 210.578125 629.414062 209.925781 629.75 209.515625 C 630.042969 209.160156 630.4375 208.984375 630.933594 208.984375 C 631.304688 208.984375 631.609375 209.085938 631.84375 209.289062 C 632.082031 209.496094 632.222656 209.78125 632.269531 210.140625 Z M 629.910156 212.148438 C 629.910156 212.34375 629.953125 212.53125 630.039062 212.710938 C 630.121094 212.890625 630.238281 213.027344 630.390625 213.125 C 630.542969 213.21875 630.703125 213.265625 630.871094 213.265625 C 631.113281 213.265625 631.324219 213.167969 631.5 212.972656 C 631.675781 212.777344 631.765625 212.515625 631.765625 212.179688 C 631.765625 211.859375 631.675781 211.605469 631.503906 211.417969 C 631.328125 211.234375 631.113281 211.140625 630.847656 211.140625 C 630.585938 211.140625 630.367188 211.234375 630.183594 211.417969 C 630 211.605469 629.910156 211.847656 629.910156 212.148438 Z M 629.910156 212.148438 \"/>\n",
       "<path style=\" stroke:none;fill-rule:nonzero;fill:rgb(26.666668%,26.666668%,26.274511%);fill-opacity:1;\" d=\"M 635.929688 210.140625 L 635.355469 210.1875 C 635.300781 209.960938 635.230469 209.796875 635.136719 209.695312 C 634.980469 209.535156 634.785156 209.453125 634.558594 209.453125 C 634.375 209.453125 634.210938 209.503906 634.074219 209.605469 C 633.890625 209.734375 633.746094 209.929688 633.640625 210.179688 C 633.535156 210.429688 633.484375 210.789062 633.476562 211.253906 C 633.617188 211.046875 633.789062 210.890625 633.988281 210.789062 C 634.191406 210.6875 634.402344 210.636719 634.621094 210.636719 C 635.007812 210.636719 635.335938 210.777344 635.605469 211.058594 C 635.878906 211.335938 636.011719 211.699219 636.011719 212.144531 C 636.011719 212.4375 635.949219 212.707031 635.820312 212.957031 C 635.695312 213.207031 635.519531 213.402344 635.296875 213.535156 C 635.074219 213.667969 634.820312 213.734375 634.539062 213.734375 C 634.054688 213.734375 633.664062 213.558594 633.359375 213.210938 C 633.054688 212.859375 632.902344 212.28125 632.902344 211.476562 C 632.902344 210.578125 633.070312 209.925781 633.40625 209.515625 C 633.699219 209.160156 634.097656 208.984375 634.59375 208.984375 C 634.964844 208.984375 635.265625 209.085938 635.503906 209.289062 C 635.738281 209.496094 635.882812 209.78125 635.929688 210.140625 Z M 633.570312 212.148438 C 633.570312 212.34375 633.609375 212.53125 633.695312 212.710938 C 633.78125 212.890625 633.898438 213.027344 634.050781 213.125 C 634.203125 213.21875 634.363281 213.265625 634.527344 213.265625 C 634.773438 213.265625 634.980469 213.167969 635.15625 212.972656 C 635.332031 212.777344 635.421875 212.515625 635.421875 212.179688 C 635.421875 211.859375 635.335938 211.605469 635.160156 211.417969 C 634.988281 211.234375 634.769531 211.140625 634.507812 211.140625 C 634.246094 211.140625 634.023438 211.234375 633.839844 211.417969 C 633.660156 211.605469 633.570312 211.847656 633.570312 212.148438 Z M 633.570312 212.148438 \"/>\n",
       "<path style=\" stroke:none;fill-rule:nonzero;fill:rgb(26.666668%,26.666668%,26.274511%);fill-opacity:1;\" d=\"M 638.765625 213.65625 L 638.1875 213.65625 L 638.1875 210.015625 C 638.046875 210.144531 637.863281 210.277344 637.640625 210.40625 C 637.414062 210.539062 637.210938 210.636719 637.03125 210.703125 L 637.03125 210.152344 C 637.355469 210 637.636719 209.820312 637.878906 209.605469 C 638.121094 209.390625 638.292969 209.183594 638.390625 208.984375 L 638.765625 208.984375 Z M 638.765625 213.65625 \"/>\n",
       "<path style=\"fill:none;stroke-width:0.3;stroke-linecap:butt;stroke-linejoin:miter;stroke:rgb(26.666667%,26.666667%,26.27451%);stroke-opacity:1;stroke-miterlimit:10;\" d=\"M 640.273438 -64.1875 C 637.972656 -57.136719 634.304688 -45.902344 631.332031 -36.796875 \" transform=\"matrix(1,0,0,1,4,230)\"/>\n",
       "<path style=\"fill-rule:nonzero;fill:rgb(26.666667%,26.666667%,26.27451%);fill-opacity:1;stroke-width:0.3;stroke-linecap:butt;stroke-linejoin:miter;stroke:rgb(26.666667%,26.666667%,26.27451%);stroke-opacity:1;stroke-miterlimit:10;\" d=\"M 632.511719 -35.894531 L 629.9375 -32.527344 L 629.847656 -36.765625 Z M 632.511719 -35.894531 \" transform=\"matrix(1,0,0,1,4,230)\"/>\n",
       "<path style=\" stroke:none;fill-rule:nonzero;fill:rgb(100%,100%,100%);fill-opacity:1;\" d=\"M 662.5 213.644531 L 676.980469 213.644531 L 676.980469 203 L 662.5 203 Z M 662.5 213.644531 \"/>\n",
       "<path style=\"fill-rule:nonzero;fill:rgb(99.607843%,99.607843%,73.333335%);fill-opacity:1;stroke-width:0.5;stroke-linecap:butt;stroke-linejoin:miter;stroke:rgb(26.666668%,26.666668%,26.274511%);stroke-opacity:1;stroke-miterlimit:4;\" d=\"M 13.146875 3.030895 C 13.146875 2.652699 13.075781 2.274503 12.939063 1.92294 C 12.796875 1.566051 12.589063 1.246449 12.332031 0.96946 C 12.069531 0.692472 11.763281 0.46875 11.41875 0.303622 C 11.074219 0.143821 10.702344 0.0479403 10.325 0.0213068 C 9.947656 0 9.564844 0.0479403 9.203906 0.165128 C 8.842969 0.282315 8.509375 0.46875 8.214063 0.708452 C 7.924219 0.95348 7.678125 1.246449 7.497656 1.576705 C 7.311719 1.912287 7.196875 2.274503 7.147656 2.652699 C 7.098438 3.030895 7.125781 3.414418 7.21875 3.78196 C 7.311719 4.149503 7.475781 4.495739 7.7 4.799361 C 7.924219 5.10831 8.203125 5.369318 8.520313 5.571733 C 8.842969 5.779474 9.198438 5.917969 9.570312 5.987216 C 9.942188 6.06179 10.325 6.06179 10.702344 5.987216 C 11.074219 5.917969 11.429688 5.779474 11.752344 5.571733 C 12.069531 5.369318 12.348438 5.10831 12.572656 4.799361 C 12.796875 4.495739 12.960938 4.149503 13.053906 3.78196 L 10.133594 3.030895 Z M 13.146875 3.030895 \" transform=\"matrix(0.714286,0,0,0.733333,662.5,203)\"/>\n",
       "<path style=\"fill-rule:nonzero;fill:rgb(63.137257%,85.490197%,70.588237%);fill-opacity:1;stroke-width:0.5;stroke-linecap:butt;stroke-linejoin:miter;stroke:rgb(26.666668%,26.666668%,26.274511%);stroke-opacity:1;stroke-miterlimit:4;\" d=\"M 13.053906 3.78196 C 13.086719 3.659446 13.108594 3.531605 13.125 3.409091 C 13.141406 3.28125 13.146875 3.158736 13.146875 3.030895 L 10.133594 3.030895 Z M 13.053906 3.78196 \" transform=\"matrix(0.714286,0,0,0.733333,662.5,203)\"/>\n",
       "<path style=\" stroke:none;fill-rule:nonzero;fill:rgb(26.666668%,26.666668%,26.274511%);fill-opacity:1;\" d=\"M 662.925781 212.332031 L 662.925781 208.910156 L 663.433594 208.910156 L 663.433594 209.394531 C 663.675781 209.019531 664.03125 208.832031 664.492188 208.832031 C 664.695312 208.832031 664.878906 208.871094 665.046875 208.945312 C 665.214844 209.019531 665.34375 209.113281 665.425781 209.234375 C 665.507812 209.355469 665.566406 209.5 665.601562 209.664062 C 665.621094 209.769531 665.632812 209.960938 665.632812 210.226562 L 665.632812 212.332031 L 665.066406 212.332031 L 665.066406 210.25 C 665.066406 210.015625 665.046875 209.835938 665 209.71875 C 664.957031 209.601562 664.878906 209.511719 664.769531 209.441406 C 664.65625 209.371094 664.523438 209.335938 664.375 209.335938 C 664.132812 209.335938 663.925781 209.414062 663.75 209.570312 C 663.574219 209.726562 663.488281 210.023438 663.488281 210.460938 L 663.488281 212.332031 Z M 662.925781 212.332031 \"/>\n",
       "<path style=\" stroke:none;fill-rule:nonzero;fill:rgb(26.666668%,26.666668%,26.274511%);fill-opacity:1;\" d=\"M 669.472656 209.554688 L 666.433594 209.554688 L 666.433594 209.011719 L 669.472656 209.011719 Z M 669.472656 210.988281 L 666.433594 210.988281 L 666.433594 210.445312 L 669.472656 210.445312 Z M 669.472656 210.988281 \"/>\n",
       "<path style=\" stroke:none;fill-rule:nonzero;fill:rgb(26.666668%,26.666668%,26.274511%);fill-opacity:1;\" d=\"M 670.097656 211.09375 L 670.6875 211.042969 C 670.734375 211.339844 670.835938 211.5625 670.996094 211.710938 C 671.15625 211.863281 671.347656 211.9375 671.574219 211.9375 C 671.847656 211.9375 672.078125 211.832031 672.265625 211.621094 C 672.453125 211.410156 672.546875 211.128906 672.546875 210.78125 C 672.546875 210.453125 672.457031 210.191406 672.277344 210 C 672.09375 209.808594 671.859375 209.710938 671.566406 209.710938 C 671.382812 209.710938 671.21875 209.753906 671.070312 209.839844 C 670.925781 209.925781 670.8125 210.035156 670.726562 210.167969 L 670.195312 210.097656 L 670.640625 207.671875 L 672.929688 207.671875 L 672.929688 208.226562 L 671.09375 208.226562 L 670.847656 209.496094 C 671.121094 209.296875 671.414062 209.199219 671.714844 209.199219 C 672.117188 209.199219 672.457031 209.34375 672.730469 209.628906 C 673.007812 209.914062 673.148438 210.28125 673.148438 210.730469 C 673.148438 211.160156 673.027344 211.527344 672.785156 211.839844 C 672.488281 212.222656 672.085938 212.414062 671.574219 212.414062 C 671.15625 212.414062 670.816406 212.292969 670.550781 212.050781 C 670.285156 211.8125 670.132812 211.492188 670.097656 211.09375 Z M 670.097656 211.09375 \"/>\n",
       "<path style=\" stroke:none;fill-rule:nonzero;fill:rgb(26.666668%,26.666668%,26.274511%);fill-opacity:1;\" d=\"M 673.671875 210.003906 C 673.671875 209.445312 673.726562 208.996094 673.839844 208.652344 C 673.953125 208.3125 674.117188 208.050781 674.335938 207.867188 C 674.558594 207.679688 674.835938 207.589844 675.171875 207.589844 C 675.417969 207.589844 675.636719 207.640625 675.820312 207.742188 C 676.007812 207.84375 676.160156 207.992188 676.28125 208.183594 C 676.40625 208.375 676.5 208.609375 676.570312 208.886719 C 676.636719 209.160156 676.671875 209.535156 676.671875 210.003906 C 676.671875 210.558594 676.617188 211.003906 676.503906 211.34375 C 676.394531 211.683594 676.230469 211.949219 676.007812 212.132812 C 675.789062 212.320312 675.507812 212.414062 675.171875 212.414062 C 674.726562 212.414062 674.378906 212.25 674.125 211.921875 C 673.824219 211.53125 673.671875 210.890625 673.671875 210.003906 Z M 674.253906 210.003906 C 674.253906 210.777344 674.339844 211.292969 674.519531 211.550781 C 674.695312 211.808594 674.914062 211.9375 675.171875 211.9375 C 675.429688 211.9375 675.648438 211.808594 675.828125 211.550781 C 676.003906 211.292969 676.089844 210.777344 676.089844 210.003906 C 676.089844 209.222656 676.003906 208.707031 675.828125 208.453125 C 675.648438 208.195312 675.429688 208.070312 675.164062 208.070312 C 674.90625 208.070312 674.699219 208.183594 674.542969 208.40625 C 674.347656 208.695312 674.253906 209.226562 674.253906 210.003906 Z M 674.253906 210.003906 \"/>\n",
       "<path style=\"fill:none;stroke-width:0.3;stroke-linecap:butt;stroke-linejoin:miter;stroke:rgb(26.666667%,26.666667%,26.27451%);stroke-opacity:1;stroke-miterlimit:10;\" d=\"M 645.699219 -64.1875 C 649.152344 -56.824219 654.753906 -44.898438 659.117188 -35.601562 \" transform=\"matrix(1,0,0,1,4,230)\"/>\n",
       "<path style=\"fill-rule:nonzero;fill:rgb(26.666667%,26.666667%,26.27451%);fill-opacity:1;stroke-width:0.3;stroke-linecap:butt;stroke-linejoin:miter;stroke:rgb(26.666667%,26.666667%,26.27451%);stroke-opacity:1;stroke-miterlimit:10;\" d=\"M 660.46875 -36.015625 L 660.902344 -31.796875 L 657.933594 -34.824219 Z M 660.46875 -36.015625 \" transform=\"matrix(1,0,0,1,4,230)\"/>\n",
       "<path style=\"fill:none;stroke-width:0.3;stroke-linecap:butt;stroke-linejoin:miter;stroke:rgb(26.666667%,26.666667%,26.27451%);stroke-opacity:1;stroke-miterlimit:10;\" d=\"M 523.523438 -97.722656 C 524.878906 -93.179688 526.691406 -87.101562 528.25 -81.890625 \" transform=\"matrix(1,0,0,1,4,230)\"/>\n",
       "<path style=\"fill-rule:nonzero;fill:rgb(26.666667%,26.666667%,26.27451%);fill-opacity:1;stroke-width:0.3;stroke-linecap:butt;stroke-linejoin:miter;stroke:rgb(26.666667%,26.666667%,26.27451%);stroke-opacity:1;stroke-miterlimit:10;\" d=\"M 529.675781 -82.003906 L 529.480469 -77.769531 L 526.992188 -81.203125 Z M 529.675781 -82.003906 \" transform=\"matrix(1,0,0,1,4,230)\"/>\n",
       "<path style=\"fill:none;stroke-width:0.3;stroke-linecap:butt;stroke-linejoin:miter;stroke:rgb(26.666667%,26.666667%,26.27451%);stroke-opacity:1;stroke-miterlimit:10;\" d=\"M 545.117188 -97.960938 C 565.105469 -92.425781 593.777344 -84.488281 614.835938 -78.660156 \" transform=\"matrix(1,0,0,1,4,230)\"/>\n",
       "<path style=\"fill-rule:nonzero;fill:rgb(26.666667%,26.666667%,26.27451%);fill-opacity:1;stroke-width:0.3;stroke-linecap:butt;stroke-linejoin:miter;stroke:rgb(26.666667%,26.666667%,26.27451%);stroke-opacity:1;stroke-miterlimit:10;\" d=\"M 615.460938 -79.9375 L 618.941406 -77.523438 L 614.714844 -77.242188 Z M 615.460938 -79.9375 \" transform=\"matrix(1,0,0,1,4,230)\"/>\n",
       "<path style=\"fill:none;stroke-width:0.3;stroke-linecap:butt;stroke-linejoin:miter;stroke:rgb(26.666667%,26.666667%,26.27451%);stroke-opacity:1;stroke-miterlimit:10;\" d=\"M 380.164062 -127.84375 C 380.539062 -124.113281 381.011719 -119.375 381.433594 -115.144531 \" transform=\"matrix(1,0,0,1,4,230)\"/>\n",
       "<path style=\"fill-rule:nonzero;fill:rgb(26.666667%,26.666667%,26.27451%);fill-opacity:1;stroke-width:0.3;stroke-linecap:butt;stroke-linejoin:miter;stroke:rgb(26.666667%,26.666667%,26.27451%);stroke-opacity:1;stroke-miterlimit:10;\" d=\"M 382.832031 -115.257812 L 381.835938 -111.140625 L 380.042969 -114.980469 Z M 382.832031 -115.257812 \" transform=\"matrix(1,0,0,1,4,230)\"/>\n",
       "<path style=\"fill:none;stroke-width:0.3;stroke-linecap:butt;stroke-linejoin:miter;stroke:rgb(26.666667%,26.666667%,26.27451%);stroke-opacity:1;stroke-miterlimit:10;\" d=\"M 410.3125 -127.992188 C 432.671875 -123.265625 462.964844 -116.867188 486.285156 -111.941406 \" transform=\"matrix(1,0,0,1,4,230)\"/>\n",
       "<path style=\"fill-rule:nonzero;fill:rgb(26.666667%,26.666667%,26.27451%);fill-opacity:1;stroke-width:0.3;stroke-linecap:butt;stroke-linejoin:miter;stroke:rgb(26.666667%,26.666667%,26.27451%);stroke-opacity:1;stroke-miterlimit:10;\" d=\"M 486.632812 -113.296875 L 490.257812 -111.101562 L 486.054688 -110.558594 Z M 486.632812 -113.296875 \" transform=\"matrix(1,0,0,1,4,230)\"/>\n",
       "<g style=\"fill:rgb(26.666667%,26.666667%,26.27451%);fill-opacity:1;\">\n",
       "  <use xlink:href=\"#glyph0-1\" x=\"270\" y=\"38.098145\"/>\n",
       "  <use xlink:href=\"#glyph0-17\" x=\"276.499512\" y=\"38.098145\"/>\n",
       "  <use xlink:href=\"#glyph0-18\" x=\"281.504883\" y=\"38.098145\"/>\n",
       "  <use xlink:href=\"#glyph0-6\" x=\"286.510254\" y=\"38.098145\"/>\n",
       "  <use xlink:href=\"#glyph0-10\" x=\"291.515625\" y=\"38.098145\"/>\n",
       "  <use xlink:href=\"#glyph0-17\" x=\"294.016113\" y=\"38.098145\"/>\n",
       "  <use xlink:href=\"#glyph0-7\" x=\"299.021484\" y=\"38.098145\"/>\n",
       "  <use xlink:href=\"#glyph0-2\" x=\"303.521484\" y=\"38.098145\"/>\n",
       "  <use xlink:href=\"#glyph0-6\" x=\"308.526855\" y=\"38.098145\"/>\n",
       "  <use xlink:href=\"#glyph0-7\" x=\"313.532227\" y=\"38.098145\"/>\n",
       "  <use xlink:href=\"#glyph0-3\" x=\"318.032227\" y=\"38.098145\"/>\n",
       "  <use xlink:href=\"#glyph0-8\" x=\"323.037598\" y=\"38.098145\"/>\n",
       "  <use xlink:href=\"#glyph0-9\" x=\"328.042969\" y=\"38.098145\"/>\n",
       "  <use xlink:href=\"#glyph0-10\" x=\"333.04834\" y=\"38.098145\"/>\n",
       "  <use xlink:href=\"#glyph0-5\" x=\"335.548828\" y=\"38.098145\"/>\n",
       "  <use xlink:href=\"#glyph0-11\" x=\"340.048828\" y=\"38.098145\"/>\n",
       "  <use xlink:href=\"#glyph0-33\" x=\"349.185059\" y=\"38.098145\"/>\n",
       "  <use xlink:href=\"#glyph0-13\" x=\"354.19043\" y=\"38.098145\"/>\n",
       "  <use xlink:href=\"#glyph0-14\" x=\"356.690918\" y=\"38.098145\"/>\n",
       "  <use xlink:href=\"#glyph0-12\" x=\"361.696289\" y=\"38.098145\"/>\n",
       "</g>\n",
       "<path style=\"fill:none;stroke-width:0.3;stroke-linecap:butt;stroke-linejoin:miter;stroke:rgb(26.666667%,26.666667%,26.27451%);stroke-opacity:1;stroke-miterlimit:10;\" d=\"M 308.765625 -188.058594 C 299.949219 -177.390625 283.023438 -156.914062 272.847656 -144.601562 \" transform=\"matrix(1,0,0,1,4,230)\"/>\n",
       "<path style=\"fill-rule:nonzero;fill:rgb(26.666667%,26.666667%,26.27451%);fill-opacity:1;stroke-width:0.3;stroke-linecap:butt;stroke-linejoin:miter;stroke:rgb(26.666667%,26.666667%,26.27451%);stroke-opacity:1;stroke-miterlimit:10;\" d=\"M 273.796875 -143.550781 L 270.167969 -141.359375 L 271.636719 -145.335938 Z M 273.796875 -143.550781 \" transform=\"matrix(1,0,0,1,4,230)\"/>\n",
       "<g style=\"fill:rgb(0%,0%,0%);fill-opacity:1;\">\n",
       "  <use xlink:href=\"#glyph1-1\" x=\"292.5\" y=\"77.199219\"/>\n",
       "</g>\n",
       "<path style=\"fill:none;stroke-width:0.3;stroke-linecap:butt;stroke-linejoin:miter;stroke:rgb(26.666667%,26.666667%,26.27451%);stroke-opacity:1;stroke-miterlimit:10;\" d=\"M 321.703125 -188.292969 C 333.285156 -177.515625 356.074219 -156.304688 369.3125 -143.980469 \" transform=\"matrix(1,0,0,1,4,230)\"/>\n",
       "<path style=\"fill-rule:nonzero;fill:rgb(26.666667%,26.666667%,26.27451%);fill-opacity:1;stroke-width:0.3;stroke-linecap:butt;stroke-linejoin:miter;stroke:rgb(26.666667%,26.666667%,26.27451%);stroke-opacity:1;stroke-miterlimit:10;\" d=\"M 370.488281 -144.800781 L 372.460938 -141.050781 L 368.578125 -142.753906 Z M 370.488281 -144.800781 \" transform=\"matrix(1,0,0,1,4,230)\"/>\n",
       "<g style=\"fill:rgb(0%,0%,0%);fill-opacity:1;\">\n",
       "  <use xlink:href=\"#glyph1-2\" x=\"367.5\" y=\"77.199219\"/>\n",
       "</g>\n",
       "<path style=\" stroke:none;fill-rule:nonzero;fill:rgb(100%,100%,100%);fill-opacity:1;\" d=\"M 376.5 55.335938 L 443.226562 55.335938 L 443.226562 14 L 376.5 14 Z M 376.5 55.335938 \"/>\n",
       "<use xlink:href=\"#image50\" mask=\"url(#mask0)\" transform=\"matrix(1,0,0,1,376,14)\"/>\n",
       "<path style=\" stroke:none;fill-rule:nonzero;fill:rgb(26.666668%,26.666668%,26.274511%);fill-opacity:1;\" d=\"M 384.539062 21.296875 L 384.539062 24.632812 L 385.039062 24.632812 C 385.613281 24.632812 386.046875 24.492188 386.351562 24.203125 C 386.652344 23.917969 386.804688 23.503906 386.804688 22.957031 C 386.804688 22.417969 386.652344 22.003906 386.351562 21.722656 C 386.050781 21.4375 385.613281 21.296875 385.039062 21.296875 Z M 383.140625 20.230469 L 384.613281 20.230469 C 385.4375 20.230469 386.050781 20.289062 386.457031 20.410156 C 386.859375 20.527344 387.203125 20.726562 387.492188 21.011719 C 387.746094 21.257812 387.9375 21.542969 388.058594 21.867188 C 388.183594 22.1875 388.246094 22.550781 388.246094 22.957031 C 388.246094 23.371094 388.183594 23.742188 388.058594 24.0625 C 387.9375 24.386719 387.746094 24.671875 387.492188 24.917969 C 387.203125 25.203125 386.855469 25.402344 386.445312 25.523438 C 386.039062 25.640625 385.429688 25.699219 384.613281 25.699219 L 383.140625 25.699219 Z M 383.140625 20.230469 \"/>\n",
       "<path style=\" stroke:none;fill-rule:nonzero;fill:rgb(26.666668%,26.666668%,26.274511%);fill-opacity:1;\" d=\"M 391.199219 22.4375 C 390.910156 22.4375 390.6875 22.539062 390.539062 22.75 C 390.386719 22.957031 390.3125 23.257812 390.3125 23.652344 C 390.3125 24.042969 390.386719 24.34375 390.539062 24.554688 C 390.6875 24.761719 390.910156 24.867188 391.199219 24.867188 C 391.480469 24.867188 391.699219 24.761719 391.847656 24.554688 C 392 24.34375 392.074219 24.042969 392.074219 23.652344 C 392.074219 23.257812 392 22.957031 391.847656 22.75 C 391.699219 22.539062 391.480469 22.4375 391.199219 22.4375 Z M 391.199219 21.5 C 391.898438 21.5 392.445312 21.6875 392.839844 22.070312 C 393.234375 22.449219 393.429688 22.976562 393.429688 23.652344 C 393.429688 24.324219 393.234375 24.851562 392.839844 25.234375 C 392.445312 25.613281 391.898438 25.804688 391.199219 25.804688 C 390.496094 25.804688 389.945312 25.613281 389.550781 25.234375 C 389.152344 24.851562 388.953125 24.324219 388.953125 23.652344 C 388.953125 22.976562 389.152344 22.449219 389.550781 22.070312 C 389.945312 21.6875 390.496094 21.5 391.199219 21.5 Z M 391.199219 21.5 \"/>\n",
       "<path style=\" stroke:none;fill-rule:nonzero;fill:rgb(26.666668%,26.666668%,26.274511%);fill-opacity:1;\" d=\"M 398.148438 22.277344 C 398.3125 22.023438 398.507812 21.832031 398.734375 21.699219 C 398.960938 21.566406 399.210938 21.5 399.480469 21.5 C 399.949219 21.5 400.304688 21.644531 400.550781 21.933594 C 400.796875 22.222656 400.917969 22.648438 400.917969 23.203125 L 400.917969 25.699219 L 399.609375 25.699219 L 399.609375 23.558594 C 399.613281 23.527344 399.613281 23.496094 399.613281 23.460938 C 399.617188 23.425781 399.617188 23.378906 399.617188 23.316406 C 399.617188 23.023438 399.574219 22.8125 399.488281 22.683594 C 399.402344 22.550781 399.265625 22.488281 399.078125 22.488281 C 398.832031 22.488281 398.640625 22.589844 398.503906 22.792969 C 398.371094 23 398.300781 23.296875 398.296875 23.683594 L 398.296875 25.699219 L 396.988281 25.699219 L 396.988281 23.558594 C 396.988281 23.105469 396.949219 22.8125 396.871094 22.683594 C 396.792969 22.550781 396.65625 22.488281 396.457031 22.488281 C 396.207031 22.488281 396.015625 22.589844 395.878906 22.796875 C 395.742188 23.003906 395.675781 23.296875 395.675781 23.679688 L 395.675781 25.699219 L 394.367188 25.699219 L 394.367188 21.597656 L 395.675781 21.597656 L 395.675781 22.195312 C 395.835938 21.964844 396.019531 21.792969 396.226562 21.675781 C 396.433594 21.558594 396.664062 21.5 396.914062 21.5 C 397.191406 21.5 397.441406 21.566406 397.65625 21.703125 C 397.871094 21.839844 398.035156 22.03125 398.148438 22.277344 Z M 398.148438 22.277344 \"/>\n",
       "<path style=\" stroke:none;fill-rule:nonzero;fill:rgb(26.666668%,26.666668%,26.274511%);fill-opacity:1;\" d=\"M 403.957031 23.851562 C 403.683594 23.851562 403.480469 23.898438 403.34375 23.992188 C 403.207031 24.085938 403.136719 24.222656 403.136719 24.402344 C 403.136719 24.566406 403.195312 24.699219 403.304688 24.792969 C 403.414062 24.886719 403.566406 24.933594 403.765625 24.933594 C 404.007812 24.933594 404.214844 24.84375 404.382812 24.667969 C 404.550781 24.492188 404.632812 24.269531 404.632812 24.003906 L 404.632812 23.851562 Z M 405.945312 23.359375 L 405.945312 25.699219 L 404.632812 25.699219 L 404.632812 25.089844 C 404.457031 25.339844 404.261719 25.519531 404.042969 25.636719 C 403.824219 25.75 403.558594 25.804688 403.246094 25.804688 C 402.824219 25.804688 402.484375 25.679688 402.21875 25.433594 C 401.957031 25.183594 401.828125 24.863281 401.828125 24.46875 C 401.828125 23.988281 401.992188 23.632812 402.320312 23.410156 C 402.648438 23.183594 403.164062 23.074219 403.867188 23.074219 L 404.632812 23.074219 L 404.632812 22.96875 C 404.632812 22.761719 404.550781 22.609375 404.390625 22.515625 C 404.226562 22.417969 403.972656 22.371094 403.628906 22.371094 C 403.351562 22.371094 403.089844 22.398438 402.851562 22.453125 C 402.613281 22.511719 402.386719 22.59375 402.183594 22.707031 L 402.183594 21.707031 C 402.460938 21.636719 402.742188 21.585938 403.023438 21.550781 C 403.304688 21.515625 403.585938 21.5 403.867188 21.5 C 404.601562 21.5 405.128906 21.644531 405.457031 21.9375 C 405.78125 22.226562 405.945312 22.703125 405.945312 23.359375 Z M 405.945312 23.359375 \"/>\n",
       "<path style=\" stroke:none;fill-rule:nonzero;fill:rgb(26.666668%,26.666668%,26.274511%);fill-opacity:1;\" d=\"M 407.15625 21.597656 L 408.457031 21.597656 L 408.457031 25.699219 L 407.15625 25.699219 Z M 407.15625 20 L 408.457031 20 L 408.457031 21.070312 L 407.15625 21.070312 Z M 407.15625 20 \"/>\n",
       "<path style=\" stroke:none;fill-rule:nonzero;fill:rgb(26.666668%,26.666668%,26.274511%);fill-opacity:1;\" d=\"M 413.800781 23.203125 L 413.800781 25.699219 L 412.492188 25.699219 L 412.492188 23.789062 C 412.492188 23.433594 412.484375 23.1875 412.46875 23.054688 C 412.453125 22.921875 412.425781 22.820312 412.386719 22.757812 C 412.335938 22.671875 412.265625 22.605469 412.179688 22.558594 C 412.089844 22.511719 411.992188 22.488281 411.878906 22.488281 C 411.609375 22.488281 411.394531 22.59375 411.242188 22.804688 C 411.085938 23.015625 411.007812 23.308594 411.007812 23.679688 L 411.007812 25.699219 L 409.707031 25.699219 L 409.707031 21.597656 L 411.007812 21.597656 L 411.007812 22.195312 C 411.203125 21.957031 411.414062 21.78125 411.632812 21.667969 C 411.855469 21.554688 412.097656 21.5 412.363281 21.5 C 412.835938 21.5 413.191406 21.644531 413.433594 21.933594 C 413.679688 22.222656 413.800781 22.648438 413.800781 23.203125 Z M 413.800781 23.203125 \"/>\n",
       "<path style=\" stroke:none;fill-rule:nonzero;fill:rgb(26.666668%,26.666668%,26.274511%);fill-opacity:1;\" d=\"M 417.007812 20.230469 L 422.011719 20.230469 L 422.011719 21.296875 L 420.210938 21.296875 L 420.210938 25.699219 L 418.8125 25.699219 L 418.8125 21.296875 L 417.007812 21.296875 Z M 417.007812 20.230469 \"/>\n",
       "<path style=\" stroke:none;fill-rule:nonzero;fill:rgb(26.666668%,26.666668%,26.274511%);fill-opacity:1;\" d=\"M 422.128906 21.597656 L 423.429688 21.597656 L 424.527344 24.378906 L 425.457031 21.597656 L 426.757812 21.597656 L 425.042969 26.085938 C 424.871094 26.542969 424.671875 26.863281 424.441406 27.042969 C 424.214844 27.226562 423.914062 27.316406 423.535156 27.316406 L 422.785156 27.316406 L 422.785156 26.457031 L 423.191406 26.457031 C 423.410156 26.457031 423.570312 26.421875 423.671875 26.351562 C 423.773438 26.28125 423.851562 26.152344 423.90625 25.96875 L 423.945312 25.855469 Z M 422.128906 21.597656 \"/>\n",
       "<path style=\" stroke:none;fill-rule:nonzero;fill:rgb(26.666668%,26.666668%,26.274511%);fill-opacity:1;\" d=\"M 428.816406 25.105469 L 428.816406 27.257812 L 427.515625 27.257812 L 427.515625 21.597656 L 428.816406 21.597656 L 428.816406 22.195312 C 428.996094 21.957031 429.195312 21.78125 429.414062 21.667969 C 429.632812 21.554688 429.882812 21.5 430.167969 21.5 C 430.667969 21.5 431.082031 21.699219 431.402344 22.101562 C 431.726562 22.503906 431.886719 23.019531 431.886719 23.652344 C 431.886719 24.285156 431.726562 24.800781 431.402344 25.203125 C 431.082031 25.605469 430.667969 25.804688 430.167969 25.804688 C 429.882812 25.804688 429.632812 25.75 429.414062 25.636719 C 429.195312 25.519531 428.996094 25.34375 428.816406 25.105469 Z M 429.683594 22.449219 C 429.40625 22.449219 429.191406 22.554688 429.039062 22.757812 C 428.890625 22.964844 428.816406 23.261719 428.816406 23.652344 C 428.816406 24.039062 428.890625 24.335938 429.039062 24.542969 C 429.191406 24.75 429.40625 24.851562 429.683594 24.851562 C 429.960938 24.851562 430.175781 24.75 430.320312 24.546875 C 430.46875 24.339844 430.542969 24.042969 430.542969 23.652344 C 430.542969 23.261719 430.46875 22.964844 430.320312 22.757812 C 430.175781 22.554688 429.960938 22.449219 429.683594 22.449219 Z M 429.683594 22.449219 \"/>\n",
       "<path style=\" stroke:none;fill-rule:nonzero;fill:rgb(26.666668%,26.666668%,26.274511%);fill-opacity:1;\" d=\"M 436.910156 23.636719 L 436.910156 24.011719 L 433.867188 24.011719 C 433.898438 24.316406 434.007812 24.546875 434.199219 24.703125 C 434.386719 24.855469 434.652344 24.933594 434.988281 24.933594 C 435.261719 24.933594 435.542969 24.890625 435.832031 24.808594 C 436.117188 24.726562 436.414062 24.605469 436.71875 24.4375 L 436.71875 25.449219 C 436.410156 25.566406 436.101562 25.65625 435.792969 25.714844 C 435.484375 25.773438 435.179688 25.804688 434.871094 25.804688 C 434.132812 25.804688 433.5625 25.617188 433.152344 25.238281 C 432.742188 24.863281 432.539062 24.332031 432.539062 23.652344 C 432.539062 22.984375 432.742188 22.457031 433.140625 22.074219 C 433.542969 21.691406 434.09375 21.5 434.796875 21.5 C 435.4375 21.5 435.949219 21.691406 436.332031 22.082031 C 436.71875 22.46875 436.910156 22.988281 436.910156 23.636719 Z M 435.570312 23.203125 C 435.570312 22.953125 435.5 22.75 435.355469 22.597656 C 435.210938 22.445312 435.023438 22.371094 434.789062 22.371094 C 434.539062 22.371094 434.332031 22.441406 434.175781 22.582031 C 434.019531 22.726562 433.921875 22.933594 433.882812 23.203125 Z M 435.570312 23.203125 \"/>\n",
       "<path style=\"fill-rule:nonzero;fill:rgb(99.607843%,99.607843%,73.333335%);fill-opacity:1;stroke-width:0.4;stroke-linecap:butt;stroke-linejoin:miter;stroke:rgb(26.666668%,26.666668%,26.274511%);stroke-opacity:1;stroke-miterlimit:4;\" d=\"M 8.731343 30.354167 L 28.728428 30.354167 L 28.728428 23.354167 L 8.731343 23.354167 Z M 8.731343 30.354167 \" transform=\"matrix(0.744444,0,0,0.75,376.5,14)\"/>\n",
       "<path style=\" stroke:none;fill-rule:nonzero;fill:rgb(26.666668%,26.666668%,26.274511%);fill-opacity:1;\" d=\"M 401.855469 31.5 L 401.855469 32.664062 L 403.234375 32.664062 L 403.234375 33.1875 L 401.855469 33.1875 L 401.855469 35.414062 C 401.855469 35.75 401.902344 35.964844 401.992188 36.058594 C 402.082031 36.15625 402.269531 36.203125 402.546875 36.203125 L 403.234375 36.203125 L 403.234375 36.765625 L 402.546875 36.765625 C 402.03125 36.765625 401.675781 36.667969 401.476562 36.476562 C 401.28125 36.28125 401.183594 35.925781 401.183594 35.414062 L 401.183594 33.1875 L 400.691406 33.1875 L 400.691406 32.664062 L 401.183594 32.664062 L 401.183594 31.5 Z M 401.855469 31.5 \"/>\n",
       "<path style=\" stroke:none;fill-rule:nonzero;fill:rgb(26.666668%,26.666668%,26.274511%);fill-opacity:1;\" d=\"M 406.472656 33.292969 C 406.398438 33.25 406.316406 33.21875 406.226562 33.199219 C 406.136719 33.175781 406.039062 33.164062 405.933594 33.164062 C 405.554688 33.164062 405.265625 33.289062 405.0625 33.539062 C 404.859375 33.785156 404.757812 34.140625 404.757812 34.605469 L 404.757812 36.765625 L 404.085938 36.765625 L 404.085938 32.664062 L 404.757812 32.664062 L 404.757812 33.300781 C 404.902344 33.050781 405.082031 32.867188 405.308594 32.746094 C 405.535156 32.625 405.808594 32.566406 406.132812 32.566406 C 406.175781 32.566406 406.226562 32.570312 406.285156 32.574219 C 406.339844 32.582031 406.402344 32.589844 406.46875 32.601562 Z M 406.472656 33.292969 \"/>\n",
       "<path style=\" stroke:none;fill-rule:nonzero;fill:rgb(26.666668%,26.666668%,26.274511%);fill-opacity:1;\" d=\"M 407.105469 35.148438 L 407.105469 32.664062 L 407.773438 32.664062 L 407.773438 35.121094 C 407.773438 35.511719 407.847656 35.800781 408 35.996094 C 408.148438 36.191406 408.375 36.285156 408.675781 36.285156 C 409.035156 36.285156 409.320312 36.171875 409.53125 35.9375 C 409.742188 35.707031 409.84375 35.390625 409.84375 34.988281 L 409.84375 32.664062 L 410.515625 32.664062 L 410.515625 36.765625 L 409.84375 36.765625 L 409.84375 36.136719 C 409.683594 36.382812 409.496094 36.570312 409.28125 36.691406 C 409.066406 36.8125 408.816406 36.871094 408.535156 36.871094 C 408.066406 36.871094 407.710938 36.726562 407.46875 36.433594 C 407.226562 36.140625 407.105469 35.710938 407.105469 35.148438 Z M 408.789062 32.566406 Z M 408.789062 32.566406 \"/>\n",
       "<path style=\" stroke:none;fill-rule:nonzero;fill:rgb(26.666668%,26.666668%,26.274511%);fill-opacity:1;\" d=\"M 414.488281 32.785156 L 414.488281 33.421875 C 414.296875 33.324219 414.101562 33.25 413.898438 33.203125 C 413.695312 33.152344 413.484375 33.128906 413.265625 33.128906 C 412.933594 33.128906 412.683594 33.179688 412.519531 33.28125 C 412.351562 33.386719 412.269531 33.539062 412.269531 33.746094 C 412.269531 33.902344 412.328125 34.023438 412.449219 34.113281 C 412.566406 34.203125 412.804688 34.285156 413.164062 34.367188 L 413.394531 34.417969 C 413.867188 34.519531 414.207031 34.664062 414.40625 34.851562 C 414.605469 35.039062 414.707031 35.300781 414.707031 35.632812 C 414.707031 36.015625 414.554688 36.316406 414.257812 36.539062 C 413.957031 36.761719 413.546875 36.871094 413.023438 36.871094 C 412.804688 36.871094 412.578125 36.851562 412.339844 36.808594 C 412.105469 36.765625 411.855469 36.699219 411.59375 36.617188 L 411.59375 35.917969 C 411.839844 36.050781 412.085938 36.148438 412.324219 36.210938 C 412.5625 36.277344 412.800781 36.308594 413.039062 36.308594 C 413.351562 36.308594 413.59375 36.253906 413.761719 36.144531 C 413.933594 36.035156 414.019531 35.882812 414.019531 35.683594 C 414.019531 35.503906 413.957031 35.363281 413.835938 35.265625 C 413.710938 35.167969 413.445312 35.074219 413.03125 34.980469 L 412.796875 34.925781 C 412.382812 34.839844 412.082031 34.703125 411.898438 34.523438 C 411.714844 34.339844 411.625 34.089844 411.625 33.773438 C 411.625 33.386719 411.757812 33.089844 412.03125 32.882812 C 412.300781 32.671875 412.6875 32.566406 413.1875 32.566406 C 413.433594 32.566406 413.664062 32.585938 413.882812 32.621094 C 414.101562 32.65625 414.304688 32.710938 414.488281 32.785156 Z M 414.488281 32.785156 \"/>\n",
       "<path style=\" stroke:none;fill-rule:nonzero;fill:rgb(26.666668%,26.666668%,26.274511%);fill-opacity:1;\" d=\"M 416.433594 31.5 L 416.433594 32.664062 L 417.808594 32.664062 L 417.808594 33.1875 L 416.433594 33.1875 L 416.433594 35.414062 C 416.433594 35.75 416.476562 35.964844 416.566406 36.058594 C 416.660156 36.15625 416.84375 36.203125 417.125 36.203125 L 417.808594 36.203125 L 417.808594 36.765625 L 417.125 36.765625 C 416.605469 36.765625 416.25 36.667969 416.054688 36.476562 C 415.859375 36.28125 415.761719 35.925781 415.761719 35.414062 L 415.761719 33.1875 L 415.269531 33.1875 L 415.269531 32.664062 L 415.761719 32.664062 L 415.761719 31.5 Z M 416.433594 31.5 \"/>\n",
       "<path style=\" stroke:none;fill-rule:nonzero;fill:rgb(26.666668%,26.666668%,26.274511%);fill-opacity:1;\" d=\"M 422.171875 34.546875 L 422.171875 34.875 L 419.097656 34.875 C 419.125 35.339844 419.265625 35.691406 419.511719 35.9375 C 419.761719 36.179688 420.105469 36.300781 420.550781 36.300781 C 420.808594 36.300781 421.054688 36.269531 421.296875 36.207031 C 421.539062 36.140625 421.777344 36.046875 422.015625 35.917969 L 422.015625 36.558594 C 421.777344 36.660156 421.53125 36.738281 421.277344 36.792969 C 421.023438 36.84375 420.769531 36.871094 420.511719 36.871094 C 419.859375 36.871094 419.347656 36.683594 418.96875 36.300781 C 418.589844 35.921875 418.398438 35.40625 418.398438 34.753906 C 418.398438 34.082031 418.578125 33.550781 418.9375 33.15625 C 419.296875 32.761719 419.785156 32.566406 420.394531 32.566406 C 420.941406 32.566406 421.375 32.742188 421.695312 33.097656 C 422.011719 33.453125 422.171875 33.9375 422.171875 34.546875 Z M 421.503906 34.347656 C 421.5 33.980469 421.394531 33.6875 421.195312 33.46875 C 420.996094 33.246094 420.730469 33.136719 420.402344 33.136719 C 420.027344 33.136719 419.730469 33.242188 419.503906 33.457031 C 419.28125 33.667969 419.152344 33.96875 419.117188 34.351562 Z M 421.503906 34.347656 \"/>\n",
       "<path style=\" stroke:none;fill-rule:nonzero;fill:rgb(26.666668%,26.666668%,26.274511%);fill-opacity:1;\" d=\"M 425.949219 33.285156 L 425.949219 31.066406 L 426.617188 31.066406 L 426.617188 36.765625 L 425.949219 36.765625 L 425.949219 36.152344 C 425.808594 36.394531 425.628906 36.574219 425.414062 36.695312 C 425.203125 36.8125 424.945312 36.871094 424.644531 36.871094 C 424.152344 36.871094 423.75 36.675781 423.441406 36.28125 C 423.132812 35.882812 422.976562 35.363281 422.976562 34.71875 C 422.976562 34.074219 423.132812 33.554688 423.441406 33.160156 C 423.75 32.761719 424.152344 32.566406 424.644531 32.566406 C 424.945312 32.566406 425.203125 32.625 425.414062 32.742188 C 425.628906 32.863281 425.808594 33.042969 425.949219 33.285156 Z M 423.667969 34.71875 C 423.667969 35.214844 423.769531 35.601562 423.972656 35.882812 C 424.175781 36.167969 424.453125 36.308594 424.808594 36.308594 C 425.160156 36.308594 425.4375 36.167969 425.640625 35.882812 C 425.847656 35.601562 425.949219 35.214844 425.949219 34.71875 C 425.949219 34.222656 425.847656 33.835938 425.640625 33.550781 C 425.4375 33.269531 425.160156 33.128906 424.808594 33.128906 C 424.453125 33.128906 424.175781 33.269531 423.972656 33.550781 C 423.769531 33.835938 423.667969 34.222656 423.667969 34.71875 Z M 423.667969 34.71875 \"/>\n",
       "<path style=\"fill-rule:nonzero;fill:rgb(63.137257%,85.490197%,70.588237%);fill-opacity:1;stroke-width:0.4;stroke-linecap:butt;stroke-linejoin:miter;stroke:rgb(26.666668%,26.666668%,26.274511%);stroke-opacity:1;stroke-miterlimit:4;\" d=\"M 8.731343 45.03125 L 28.728428 45.03125 L 28.728428 38.03125 L 8.731343 38.03125 Z M 8.731343 45.03125 \" transform=\"matrix(0.744444,0,0,0.75,376.5,14)\"/>\n",
       "<path style=\" stroke:none;fill-rule:nonzero;fill:rgb(26.666668%,26.666668%,26.274511%);fill-opacity:1;\" d=\"M 401.125 46.15625 L 401.125 43.671875 L 401.792969 43.671875 L 401.792969 46.128906 C 401.792969 46.519531 401.867188 46.808594 402.019531 47.003906 C 402.167969 47.199219 402.394531 47.296875 402.695312 47.296875 C 403.054688 47.296875 403.339844 47.179688 403.550781 46.945312 C 403.761719 46.714844 403.867188 46.398438 403.867188 45.996094 L 403.867188 43.671875 L 404.535156 43.671875 L 404.535156 47.773438 L 403.867188 47.773438 L 403.867188 47.144531 C 403.703125 47.394531 403.515625 47.578125 403.300781 47.699219 C 403.085938 47.820312 402.835938 47.882812 402.554688 47.882812 C 402.085938 47.882812 401.730469 47.734375 401.488281 47.441406 C 401.246094 47.148438 401.125 46.71875 401.125 46.15625 Z M 402.808594 43.574219 Z M 402.808594 43.574219 \"/>\n",
       "<path style=\" stroke:none;fill-rule:nonzero;fill:rgb(26.666668%,26.666668%,26.274511%);fill-opacity:1;\" d=\"M 409.296875 45.296875 L 409.296875 47.773438 L 408.628906 47.773438 L 408.628906 45.320312 C 408.628906 44.933594 408.554688 44.640625 408.402344 44.449219 C 408.253906 44.257812 408.027344 44.160156 407.726562 44.160156 C 407.367188 44.160156 407.082031 44.277344 406.871094 44.507812 C 406.664062 44.738281 406.558594 45.054688 406.558594 45.457031 L 406.558594 47.773438 L 405.886719 47.773438 L 405.886719 43.671875 L 406.558594 43.671875 L 406.558594 44.308594 C 406.71875 44.0625 406.90625 43.878906 407.125 43.757812 C 407.339844 43.636719 407.59375 43.574219 407.875 43.574219 C 408.34375 43.574219 408.695312 43.71875 408.9375 44.011719 C 409.175781 44.304688 409.296875 44.730469 409.296875 45.296875 Z M 409.296875 45.296875 \"/>\n",
       "<path style=\" stroke:none;fill-rule:nonzero;fill:rgb(26.666668%,26.666668%,26.274511%);fill-opacity:1;\" d=\"M 411.292969 42.507812 L 411.292969 43.671875 L 412.667969 43.671875 L 412.667969 44.195312 L 411.292969 44.195312 L 411.292969 46.421875 C 411.292969 46.757812 411.335938 46.972656 411.429688 47.066406 C 411.519531 47.164062 411.703125 47.210938 411.984375 47.210938 L 412.667969 47.210938 L 412.667969 47.773438 L 411.984375 47.773438 C 411.464844 47.773438 411.109375 47.675781 410.914062 47.484375 C 410.71875 47.289062 410.621094 46.9375 410.621094 46.421875 L 410.621094 44.195312 L 410.128906 44.195312 L 410.128906 43.671875 L 410.621094 43.671875 L 410.621094 42.507812 Z M 411.292969 42.507812 \"/>\n",
       "<path style=\" stroke:none;fill-rule:nonzero;fill:rgb(26.666668%,26.666668%,26.274511%);fill-opacity:1;\" d=\"M 415.910156 44.300781 C 415.832031 44.257812 415.75 44.226562 415.664062 44.207031 C 415.574219 44.183594 415.476562 44.175781 415.371094 44.175781 C 414.992188 44.175781 414.703125 44.296875 414.5 44.546875 C 414.296875 44.792969 414.195312 45.148438 414.195312 45.613281 L 414.195312 47.773438 L 413.523438 47.773438 L 413.523438 43.671875 L 414.195312 43.671875 L 414.195312 44.308594 C 414.335938 44.0625 414.519531 43.875 414.746094 43.757812 C 414.972656 43.636719 415.246094 43.574219 415.566406 43.574219 C 415.613281 43.574219 415.664062 43.578125 415.71875 43.582031 C 415.777344 43.589844 415.835938 43.597656 415.90625 43.609375 Z M 415.910156 44.300781 \"/>\n",
       "<path style=\" stroke:none;fill-rule:nonzero;fill:rgb(26.666668%,26.666668%,26.274511%);fill-opacity:1;\" d=\"M 416.542969 46.15625 L 416.542969 43.671875 L 417.210938 43.671875 L 417.210938 46.128906 C 417.210938 46.519531 417.285156 46.808594 417.433594 47.003906 C 417.585938 47.199219 417.8125 47.296875 418.113281 47.296875 C 418.472656 47.296875 418.757812 47.179688 418.964844 46.945312 C 419.175781 46.714844 419.28125 46.398438 419.28125 45.996094 L 419.28125 43.671875 L 419.949219 43.671875 L 419.949219 47.773438 L 419.28125 47.773438 L 419.28125 47.144531 C 419.121094 47.394531 418.929688 47.578125 418.714844 47.699219 C 418.503906 47.820312 418.253906 47.882812 417.96875 47.882812 C 417.503906 47.882812 417.148438 47.734375 416.902344 47.441406 C 416.664062 47.148438 416.542969 46.71875 416.542969 46.15625 Z M 418.222656 43.574219 Z M 418.222656 43.574219 \"/>\n",
       "<path style=\" stroke:none;fill-rule:nonzero;fill:rgb(26.666668%,26.666668%,26.274511%);fill-opacity:1;\" d=\"M 423.921875 43.792969 L 423.921875 44.429688 C 423.734375 44.332031 423.539062 44.261719 423.335938 44.210938 C 423.132812 44.164062 422.921875 44.136719 422.703125 44.136719 C 422.371094 44.136719 422.121094 44.1875 421.957031 44.292969 C 421.789062 44.394531 421.707031 44.546875 421.707031 44.753906 C 421.707031 44.910156 421.765625 45.03125 421.882812 45.121094 C 422.003906 45.210938 422.242188 45.296875 422.601562 45.375 L 422.828125 45.425781 C 423.304688 45.53125 423.640625 45.675781 423.84375 45.859375 C 424.042969 46.046875 424.140625 46.308594 424.140625 46.640625 C 424.140625 47.023438 423.992188 47.324219 423.691406 47.546875 C 423.394531 47.769531 422.980469 47.882812 422.457031 47.882812 C 422.242188 47.882812 422.015625 47.859375 421.777344 47.816406 C 421.539062 47.773438 421.292969 47.710938 421.03125 47.625 L 421.03125 46.929688 C 421.277344 47.058594 421.519531 47.15625 421.761719 47.21875 C 422 47.285156 422.238281 47.316406 422.472656 47.316406 C 422.789062 47.316406 423.03125 47.261719 423.199219 47.152344 C 423.371094 47.042969 423.453125 46.890625 423.453125 46.695312 C 423.453125 46.511719 423.394531 46.371094 423.269531 46.273438 C 423.148438 46.175781 422.878906 46.082031 422.464844 45.992188 L 422.234375 45.9375 C 421.820312 45.847656 421.519531 45.714844 421.335938 45.53125 C 421.152344 45.347656 421.058594 45.101562 421.058594 44.78125 C 421.058594 44.398438 421.195312 44.097656 421.464844 43.890625 C 421.738281 43.679688 422.125 43.574219 422.621094 43.574219 C 422.871094 43.574219 423.101562 43.59375 423.320312 43.628906 C 423.539062 43.664062 423.738281 43.71875 423.921875 43.792969 Z M 423.921875 43.792969 \"/>\n",
       "<path style=\" stroke:none;fill-rule:nonzero;fill:rgb(26.666668%,26.666668%,26.274511%);fill-opacity:1;\" d=\"M 425.867188 42.507812 L 425.867188 43.671875 L 427.246094 43.671875 L 427.246094 44.195312 L 425.867188 44.195312 L 425.867188 46.421875 C 425.867188 46.757812 425.914062 46.972656 426.003906 47.066406 C 426.09375 47.164062 426.28125 47.210938 426.558594 47.210938 L 427.246094 47.210938 L 427.246094 47.773438 L 426.558594 47.773438 C 426.042969 47.773438 425.6875 47.675781 425.492188 47.484375 C 425.292969 47.289062 425.195312 46.9375 425.195312 46.421875 L 425.195312 44.195312 L 424.707031 44.195312 L 424.707031 43.671875 L 425.195312 43.671875 L 425.195312 42.507812 Z M 425.867188 42.507812 \"/>\n",
       "<path style=\" stroke:none;fill-rule:nonzero;fill:rgb(26.666668%,26.666668%,26.274511%);fill-opacity:1;\" d=\"M 431.609375 45.554688 L 431.609375 45.882812 L 428.53125 45.882812 C 428.5625 46.347656 428.699219 46.703125 428.949219 46.945312 C 429.199219 47.1875 429.542969 47.308594 429.988281 47.308594 C 430.242188 47.308594 430.492188 47.277344 430.734375 47.214844 C 430.976562 47.152344 431.214844 47.054688 431.453125 46.929688 L 431.453125 47.566406 C 431.210938 47.667969 430.964844 47.746094 430.714844 47.800781 C 430.460938 47.855469 430.207031 47.882812 429.945312 47.882812 C 429.296875 47.882812 428.78125 47.691406 428.402344 47.308594 C 428.023438 46.929688 427.835938 46.414062 427.835938 45.761719 C 427.835938 45.09375 428.015625 44.558594 428.375 44.167969 C 428.734375 43.773438 429.21875 43.574219 429.832031 43.574219 C 430.378906 43.574219 430.8125 43.753906 431.128906 44.109375 C 431.449219 44.460938 431.609375 44.945312 431.609375 45.554688 Z M 430.9375 45.355469 C 430.933594 44.988281 430.832031 44.695312 430.632812 44.476562 C 430.433594 44.253906 430.167969 44.144531 429.835938 44.144531 C 429.464844 44.144531 429.167969 44.25 428.941406 44.464844 C 428.71875 44.675781 428.589844 44.976562 428.554688 45.363281 Z M 430.9375 45.355469 \"/>\n",
       "<path style=\" stroke:none;fill-rule:nonzero;fill:rgb(26.666668%,26.666668%,26.274511%);fill-opacity:1;\" d=\"M 435.382812 44.296875 L 435.382812 42.074219 L 436.054688 42.074219 L 436.054688 47.773438 L 435.382812 47.773438 L 435.382812 47.160156 C 435.246094 47.402344 435.066406 47.585938 434.851562 47.703125 C 434.636719 47.820312 434.378906 47.882812 434.078125 47.882812 C 433.585938 47.882812 433.1875 47.683594 432.878906 47.289062 C 432.570312 46.890625 432.414062 46.371094 432.414062 45.726562 C 432.414062 45.082031 432.570312 44.5625 432.878906 44.167969 C 433.1875 43.773438 433.585938 43.574219 434.078125 43.574219 C 434.378906 43.574219 434.636719 43.632812 434.851562 43.753906 C 435.066406 43.871094 435.246094 44.050781 435.382812 44.296875 Z M 433.105469 45.726562 C 433.105469 46.222656 433.207031 46.609375 433.410156 46.894531 C 433.613281 47.175781 433.890625 47.316406 434.242188 47.316406 C 434.597656 47.316406 434.875 47.175781 435.078125 46.894531 C 435.28125 46.609375 435.382812 46.222656 435.382812 45.726562 C 435.382812 45.230469 435.28125 44.84375 435.078125 44.5625 C 434.875 44.277344 434.597656 44.136719 434.242188 44.136719 C 433.890625 44.136719 433.613281 44.277344 433.410156 44.5625 C 433.207031 44.84375 433.105469 45.230469 433.105469 45.726562 Z M 433.105469 45.726562 \"/>\n",
       "</g>\n",
       "</svg>\n"
      ],
      "text/plain": [
       "<dtreeviz.trees.DTreeViz at 0x1a4092df28>"
      ]
     },
     "execution_count": 30,
     "metadata": {},
     "output_type": "execute_result"
    }
   ],
   "source": [
    "# viz = dtreeviz(classifier,\n",
    "#               X_train,\n",
    "#               y_viz,\n",
    "#               target_name='Domain Type',\n",
    "#               feature_names=X_train.columns, \n",
    "#               class_names=[\"trusted\", \"untrusted\"],\n",
    "#               fancy=False )  # fance=False to remove histograms/scatterplots from decision nodes\n",
    "# viz"
   ]
  },
  {
   "cell_type": "markdown",
   "metadata": {},
   "source": [
    "## Feature Importance"
   ]
  },
  {
   "cell_type": "code",
   "execution_count": 31,
   "metadata": {
    "ExecuteTime": {
     "end_time": "2019-06-21T07:11:33.169621Z",
     "start_time": "2019-06-21T07:11:33.139196Z"
    }
   },
   "outputs": [
    {
     "name": "stdout",
     "output_type": "stream",
     "text": [
      "Feature ranking:\n",
      "No.1 feature: category_list_counts (0.0742)\n",
      "No.2 feature: web_tech_counts (0.0714)\n",
      "No.3 feature: whois_counts (0.0614)\n",
      "No.4 feature: ns_exists (0.0526)\n",
      "No.5 feature: host_provider_counts (0.0481)\n",
      "No.6 feature: mail_provider_counts (0.0428)\n",
      "No.7 feature: ns_amazon_route53 (0.0381)\n",
      "No.8 feature: mx_exists (0.0364)\n",
      "No.9 feature: ns_godaddy (0.0362)\n",
      "No.10 feature: company_name_counts (0.0355)\n",
      "No.11 feature: facebook (0.0351)\n",
      "No.12 feature: app_list_exist (0.0291)\n",
      "No.13 feature: registrar_counts (0.0291)\n",
      "No.14 feature: spf_ends_in_inappropriate_all (0.0268)\n",
      "No.15 feature: mx_internal (0.0209)\n",
      "No.16 feature: twitter (0.0208)\n",
      "No.17 feature: ns_network_solutions (0.0181)\n",
      "No.18 feature: instagram (0.0172)\n",
      "No.19 feature: spf_exists (0.0172)\n",
      "No.20 feature: mx_google (0.0168)\n"
     ]
    }
   ],
   "source": [
    "importances = rf.feature_importances_\n",
    "std = np.std([tree.feature_importances_ for tree in rf.estimators_], axis=0)\n",
    "indices = np.argsort(importances)[::-1]\n",
    "\n",
    "# Print the feature ranking\n",
    "print(\"Feature ranking:\")\n",
    "\n",
    "for i in range(20):\n",
    "    print(f\"No.{i + 1} feature: {X.columns[indices[i]]} ({round(importances[indices[i]], 4)})\")"
   ]
  },
  {
   "cell_type": "markdown",
   "metadata": {},
   "source": [
    "# 3. Make predictions\n",
    "----"
   ]
  },
  {
   "cell_type": "markdown",
   "metadata": {},
   "source": [
    "## Predict on whole test set\n",
    "Our model will make predictions on both the probabilities to be trusted or untrusted.  \n",
    "The visualization below shows only the probability distribution for all the test set domains **to be trusted**"
   ]
  },
  {
   "cell_type": "code",
   "execution_count": 32,
   "metadata": {
    "ExecuteTime": {
     "end_time": "2019-06-21T07:19:44.148742Z",
     "start_time": "2019-06-21T07:19:43.547046Z"
    }
   },
   "outputs": [
    {
     "data": {
      "text/plain": [
       "(array([5.000e+00, 6.400e+01, 9.000e+00, 3.600e+01, 5.200e+01, 2.320e+02,\n",
       "        2.210e+02, 1.568e+03, 2.067e+03, 8.015e+03]),\n",
       " array([0.03226376, 0.12903738, 0.225811  , 0.32258463, 0.41935825,\n",
       "        0.51613188, 0.6129055 , 0.70967913, 0.80645275, 0.90322638,\n",
       "        1.        ]),\n",
       " <a list of 10 Patch objects>)"
      ]
     },
     "execution_count": 32,
     "metadata": {},
     "output_type": "execute_result"
    },
    {
     "data": {
      "image/png": "[encoded data removed]",
      "text/plain": [
       "<Figure size 1440x360 with 1 Axes>"
      ]
     },
     "metadata": {
      "needs_background": "light"
     },
     "output_type": "display_data"
    }
   ],
   "source": [
    "plt.rcParams['figure.figsize'] = [20, 5]\n",
    "proba = rf.predict_proba(X_test)\n",
    "good_prob = [p[0] for p in proba]\n",
    "plt.hist(good_prob)"
   ]
  },
  {
   "cell_type": "markdown",
   "metadata": {
    "ExecuteTime": {
     "end_time": "2019-06-19T20:16:36.043993Z",
     "start_time": "2019-06-19T20:16:36.041128Z"
    }
   },
   "source": [
    "## Single prediction\n",
    "Now Let's randomly choose a domain from the test set and make a soft prediction, i.e.\n",
    "- generate a probability that this incoming domain is **to be trusted**"
   ]
  },
  {
   "cell_type": "code",
   "execution_count": 33,
   "metadata": {
    "ExecuteTime": {
     "end_time": "2019-06-21T07:20:07.576767Z",
     "start_time": "2019-06-21T07:20:07.554696Z"
    }
   },
   "outputs": [
    {
     "data": {
      "text/html": [
       "<div>\n",
       "<style scoped>\n",
       "    .dataframe tbody tr th:only-of-type {\n",
       "        vertical-align: middle;\n",
       "    }\n",
       "\n",
       "    .dataframe tbody tr th {\n",
       "        vertical-align: top;\n",
       "    }\n",
       "\n",
       "    .dataframe thead th {\n",
       "        text-align: right;\n",
       "    }\n",
       "</style>\n",
       "<table border=\"1\" class=\"dataframe\">\n",
       "  <thead>\n",
       "    <tr style=\"text-align: right;\">\n",
       "      <th></th>\n",
       "      <th>whois_counts</th>\n",
       "      <th>company_name_counts</th>\n",
       "      <th>host_provider_counts</th>\n",
       "      <th>mail_provider_counts</th>\n",
       "      <th>registrar_counts</th>\n",
       "      <th>security_trail_exist</th>\n",
       "      <th>app_list_exist</th>\n",
       "      <th>category_list_counts</th>\n",
       "      <th>web_tech_counts</th>\n",
       "      <th>linkedin</th>\n",
       "      <th>...</th>\n",
       "      <th>ns_neustar</th>\n",
       "      <th>ns_noip</th>\n",
       "      <th>ns_ns1</th>\n",
       "      <th>ns_register_com</th>\n",
       "      <th>ns_sprint</th>\n",
       "      <th>ns_total_uptime</th>\n",
       "      <th>ns_verisign</th>\n",
       "      <th>ns_verizon</th>\n",
       "      <th>dmarc_easydmarc</th>\n",
       "      <th>ns_cloudflare</th>\n",
       "    </tr>\n",
       "  </thead>\n",
       "  <tbody>\n",
       "    <tr>\n",
       "      <th>22292</th>\n",
       "      <td>0</td>\n",
       "      <td>0</td>\n",
       "      <td>0</td>\n",
       "      <td>0</td>\n",
       "      <td>0</td>\n",
       "      <td>0</td>\n",
       "      <td>1</td>\n",
       "      <td>11</td>\n",
       "      <td>11</td>\n",
       "      <td>0</td>\n",
       "      <td>...</td>\n",
       "      <td>0</td>\n",
       "      <td>0</td>\n",
       "      <td>0</td>\n",
       "      <td>0</td>\n",
       "      <td>0</td>\n",
       "      <td>0</td>\n",
       "      <td>0</td>\n",
       "      <td>0</td>\n",
       "      <td>0</td>\n",
       "      <td>0</td>\n",
       "    </tr>\n",
       "  </tbody>\n",
       "</table>\n",
       "<p>1 rows × 146 columns</p>\n",
       "</div>"
      ],
      "text/plain": [
       "       whois_counts  company_name_counts  host_provider_counts  \\\n",
       "22292             0                    0                     0   \n",
       "\n",
       "       mail_provider_counts  registrar_counts  security_trail_exist  \\\n",
       "22292                     0                 0                     0   \n",
       "\n",
       "       app_list_exist  category_list_counts  web_tech_counts  linkedin  ...  \\\n",
       "22292               1                    11               11         0  ...   \n",
       "\n",
       "       ns_neustar  ns_noip  ns_ns1  ns_register_com  ns_sprint  \\\n",
       "22292           0        0       0                0          0   \n",
       "\n",
       "       ns_total_uptime  ns_verisign  ns_verizon  dmarc_easydmarc  \\\n",
       "22292                0            0           0                0   \n",
       "\n",
       "       ns_cloudflare  \n",
       "22292              0  \n",
       "\n",
       "[1 rows x 146 columns]"
      ]
     },
     "execution_count": 33,
     "metadata": {},
     "output_type": "execute_result"
    }
   ],
   "source": [
    "chosen_domain = X_test.sample(1)\n",
    "chosen_domain"
   ]
  },
  {
   "cell_type": "markdown",
   "metadata": {},
   "source": [
    "### The actual label of this first domain from test set"
   ]
  },
  {
   "cell_type": "code",
   "execution_count": 34,
   "metadata": {
    "ExecuteTime": {
     "end_time": "2019-06-21T07:20:17.209800Z",
     "start_time": "2019-06-21T07:20:17.205584Z"
    }
   },
   "outputs": [
    {
     "data": {
      "text/plain": [
       "'trusted'"
      ]
     },
     "execution_count": 34,
     "metadata": {},
     "output_type": "execute_result"
    }
   ],
   "source": [
    "chosen_idx = chosen_domain.index[0] # which is 81210\n",
    "y_test[chosen_idx]"
   ]
  },
  {
   "cell_type": "markdown",
   "metadata": {},
   "source": [
    "### Make a prediction"
   ]
  },
  {
   "cell_type": "code",
   "execution_count": 35,
   "metadata": {
    "ExecuteTime": {
     "end_time": "2019-06-21T07:20:20.728354Z",
     "start_time": "2019-06-21T07:20:20.714869Z"
    }
   },
   "outputs": [
    {
     "data": {
      "text/plain": [
       "array([[0.96966486, 0.03033514]])"
      ]
     },
     "execution_count": 35,
     "metadata": {},
     "output_type": "execute_result"
    }
   ],
   "source": [
    "proba = rf.predict_proba(chosen_domain)\n",
    "proba"
   ]
  },
  {
   "cell_type": "code",
   "execution_count": 36,
   "metadata": {
    "ExecuteTime": {
     "end_time": "2019-06-21T07:20:24.352797Z",
     "start_time": "2019-06-21T07:20:24.349590Z"
    }
   },
   "outputs": [
    {
     "name": "stdout",
     "output_type": "stream",
     "text": [
      "The probability for the first domain to be trusted is 0.97\n"
     ]
    }
   ],
   "source": [
    "print(\"The probability for the first domain to be trusted is\", round(proba[0][0], 3))"
   ]
  },
  {
   "cell_type": "markdown",
   "metadata": {},
   "source": [
    "# Save & Load models\n",
    "----"
   ]
  },
  {
   "cell_type": "markdown",
   "metadata": {},
   "source": [
    "## Make directory in current folder to save our models"
   ]
  },
  {
   "cell_type": "code",
   "execution_count": 38,
   "metadata": {
    "ExecuteTime": {
     "end_time": "2019-06-21T07:21:09.785934Z",
     "start_time": "2019-06-21T07:21:09.782746Z"
    }
   },
   "outputs": [],
   "source": [
    "model_path = Path(\"./saved_models\")\n",
    "model_path.mkdir(parents=True, exist_ok=True)"
   ]
  },
  {
   "cell_type": "code",
   "execution_count": 39,
   "metadata": {
    "ExecuteTime": {
     "end_time": "2019-06-21T07:21:11.474372Z",
     "start_time": "2019-06-21T07:21:11.471655Z"
    }
   },
   "outputs": [],
   "source": [
    "lr_path = model_path/'LR_model.sav'\n",
    "rf_path = model_path/'RF_model.sav'"
   ]
  },
  {
   "cell_type": "markdown",
   "metadata": {},
   "source": [
    "### Save model to local directory"
   ]
  },
  {
   "cell_type": "code",
   "execution_count": 40,
   "metadata": {
    "ExecuteTime": {
     "end_time": "2019-06-21T07:21:14.229838Z",
     "start_time": "2019-06-21T07:21:14.131196Z"
    }
   },
   "outputs": [],
   "source": [
    "pickle.dump(lr, open(lr_path, 'wb'))\n",
    "pickle.dump(rf, open(rf_path, 'wb'))"
   ]
  },
  {
   "cell_type": "markdown",
   "metadata": {},
   "source": [
    "### Load the model from local directory"
   ]
  },
  {
   "cell_type": "code",
   "execution_count": 41,
   "metadata": {
    "ExecuteTime": {
     "end_time": "2019-06-21T07:21:15.909893Z",
     "start_time": "2019-06-21T07:21:15.826343Z"
    }
   },
   "outputs": [],
   "source": [
    "loaded_LR = pickle.load(open(lr_path, 'rb'))\n",
    "loaded_RF = pickle.load(open(rf_path, 'rb'))"
   ]
  },
  {
   "cell_type": "markdown",
   "metadata": {},
   "source": [
    "### Make predictions"
   ]
  },
  {
   "cell_type": "code",
   "execution_count": 42,
   "metadata": {
    "ExecuteTime": {
     "end_time": "2019-06-21T07:23:28.417281Z",
     "start_time": "2019-06-21T07:23:28.062481Z"
    }
   },
   "outputs": [],
   "source": [
    "pred = loaded_RF.predict_proba(X_test)"
   ]
  },
  {
   "cell_type": "code",
   "execution_count": null,
   "metadata": {},
   "outputs": [],
   "source": []
  }
 ],
 "metadata": {
  "kernelspec": {
   "display_name": "Python 3",
   "language": "python",
   "name": "python3"
  },
  "language_info": {
   "codemirror_mode": {
    "name": "ipython",
    "version": 3
   },
   "file_extension": ".py",
   "mimetype": "text/x-python",
   "name": "python",
   "nbconvert_exporter": "python",
   "pygments_lexer": "ipython3",
   "version": "3.7.3"
  }
 },
 "nbformat": 4,
 "nbformat_minor": 2
}
