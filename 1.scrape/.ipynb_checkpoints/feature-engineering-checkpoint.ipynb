{
 "cells": [
  {
   "cell_type": "markdown",
   "metadata": {},
   "source": [
    "# Feature Engineering Demonstration"
   ]
  },
  {
   "cell_type": "markdown",
   "metadata": {},
   "source": [
    "This notebook shows a demonstration on Feature Engineering, which is how to create additional columns from API scraped records and scraped social media links, specifically:\n",
    "- How to clean the Social Media Links\n",
    "- How to generate numeric and boolean columns from the below API scraped records:\n",
    "    1. SecurityTrails: Raw content\n",
    "    2. Wappalyzer: Raw content\n",
    "- How to combine them into one dataset for model training\n",
    "\n",
    "#### Note: This notebook is for demonstration purpose. The Feature Engineering functionality in the notebook has been covered in our respective python scripts. So, don't worry about running the scripts.\n",
    "(i.e. `security_trail.py`, `wappalyzer.py`, `social_scrape.py`)"
   ]
  },
  {
   "cell_type": "code",
   "execution_count": 1,
   "metadata": {
    "ExecuteTime": {
     "end_time": "2019-06-21T06:41:59.796605Z",
     "start_time": "2019-06-21T06:41:59.369418Z"
    }
   },
   "outputs": [],
   "source": [
    "from pathlib import Path\n",
    "import pandas as pd\n",
    "import numpy as np\n",
    "import ast"
   ]
  },
  {
   "cell_type": "markdown",
   "metadata": {},
   "source": [
    "# Load Data\n",
    "Assume the csv files are saved in a folder from current directory called `data`"
   ]
  },
  {
   "cell_type": "code",
   "execution_count": 2,
   "metadata": {
    "ExecuteTime": {
     "end_time": "2019-06-21T06:42:00.738824Z",
     "start_time": "2019-06-21T06:42:00.728683Z"
    }
   },
   "outputs": [
    {
     "data": {
      "text/plain": [
       "[PosixPath('../data/domain_130k_social_links.csv'),\n",
       " PosixPath('../data/.DS_Store'),\n",
       " PosixPath('../data/README.md'),\n",
       " PosixPath('../data/domain_130k_API_records.csv')]"
      ]
     },
     "execution_count": 2,
     "metadata": {},
     "output_type": "execute_result"
    }
   ],
   "source": [
    "PATH = Path(\"../data\")\n",
    "list(PATH.iterdir())"
   ]
  },
  {
   "cell_type": "code",
   "execution_count": 3,
   "metadata": {
    "ExecuteTime": {
     "end_time": "2019-06-21T06:42:03.949722Z",
     "start_time": "2019-06-21T06:42:01.736313Z"
    }
   },
   "outputs": [],
   "source": [
    "df = pd.read_csv(PATH/'domain_130k_API_records.csv', low_memory=False)\n",
    "df_links = pd.read_csv(PATH/'domain_130k_social_links.csv', low_memory=False)"
   ]
  },
  {
   "cell_type": "markdown",
   "metadata": {},
   "source": [
    "#### Make sure the missing data:`[]`, `NaN` is unified as `None`"
   ]
  },
  {
   "cell_type": "code",
   "execution_count": 4,
   "metadata": {
    "ExecuteTime": {
     "end_time": "2019-06-21T06:42:05.144791Z",
     "start_time": "2019-06-21T06:42:05.054078Z"
    }
   },
   "outputs": [],
   "source": [
    "df.replace({'[]':None, np.NaN: None, }, inplace=True)"
   ]
  },
  {
   "cell_type": "code",
   "execution_count": 5,
   "metadata": {
    "ExecuteTime": {
     "end_time": "2019-06-21T06:42:07.491098Z",
     "start_time": "2019-06-21T06:42:07.475071Z"
    }
   },
   "outputs": [
    {
     "data": {
      "text/html": [
       "<div>\n",
       "<style scoped>\n",
       "    .dataframe tbody tr th:only-of-type {\n",
       "        vertical-align: middle;\n",
       "    }\n",
       "\n",
       "    .dataframe tbody tr th {\n",
       "        vertical-align: top;\n",
       "    }\n",
       "\n",
       "    .dataframe thead th {\n",
       "        text-align: right;\n",
       "    }\n",
       "</style>\n",
       "<table border=\"1\" class=\"dataframe\">\n",
       "  <thead>\n",
       "    <tr style=\"text-align: right;\">\n",
       "      <th></th>\n",
       "      <th>domain</th>\n",
       "      <th>label</th>\n",
       "      <th>security_trails</th>\n",
       "      <th>app_list</th>\n",
       "    </tr>\n",
       "  </thead>\n",
       "  <tbody>\n",
       "    <tr>\n",
       "      <th>0</th>\n",
       "      <td>assecosol.com</td>\n",
       "      <td>trusted</td>\n",
       "      <td>[{'whois': {'registrar': 'Ascio Technologies, ...</td>\n",
       "      <td>None</td>\n",
       "    </tr>\n",
       "    <tr>\n",
       "      <th>1</th>\n",
       "      <td>jewishexperience.org</td>\n",
       "      <td>trusted</td>\n",
       "      <td>[{'whois': {'registrar': 'Register.com, Inc.',...</td>\n",
       "      <td>[[['SEO'], 'Yoast SEO'], [['Reverse Proxy', 'W...</td>\n",
       "    </tr>\n",
       "    <tr>\n",
       "      <th>2</th>\n",
       "      <td>ssrefl.com</td>\n",
       "      <td>trusted</td>\n",
       "      <td>None</td>\n",
       "      <td>[[['Reverse Proxy', 'Web Servers'], 'Nginx'], ...</td>\n",
       "    </tr>\n",
       "    <tr>\n",
       "      <th>3</th>\n",
       "      <td>garverteam.com</td>\n",
       "      <td>trusted</td>\n",
       "      <td>None</td>\n",
       "      <td>[[['Reverse Proxy', 'Web Servers'], 'Nginx'], ...</td>\n",
       "    </tr>\n",
       "    <tr>\n",
       "      <th>4</th>\n",
       "      <td>digitalinspiration.com</td>\n",
       "      <td>trusted</td>\n",
       "      <td>[{'whois': {'registrar': 'Gandi SAS', 'expires...</td>\n",
       "      <td>[[['Analytics'], 'Google Analytics'], [['JavaS...</td>\n",
       "    </tr>\n",
       "  </tbody>\n",
       "</table>\n",
       "</div>"
      ],
      "text/plain": [
       "                   domain    label  \\\n",
       "0           assecosol.com  trusted   \n",
       "1    jewishexperience.org  trusted   \n",
       "2              ssrefl.com  trusted   \n",
       "3          garverteam.com  trusted   \n",
       "4  digitalinspiration.com  trusted   \n",
       "\n",
       "                                     security_trails  \\\n",
       "0  [{'whois': {'registrar': 'Ascio Technologies, ...   \n",
       "1  [{'whois': {'registrar': 'Register.com, Inc.',...   \n",
       "2                                               None   \n",
       "3                                               None   \n",
       "4  [{'whois': {'registrar': 'Gandi SAS', 'expires...   \n",
       "\n",
       "                                            app_list  \n",
       "0                                               None  \n",
       "1  [[['SEO'], 'Yoast SEO'], [['Reverse Proxy', 'W...  \n",
       "2  [[['Reverse Proxy', 'Web Servers'], 'Nginx'], ...  \n",
       "3  [[['Reverse Proxy', 'Web Servers'], 'Nginx'], ...  \n",
       "4  [[['Analytics'], 'Google Analytics'], [['JavaS...  "
      ]
     },
     "execution_count": 5,
     "metadata": {},
     "output_type": "execute_result"
    }
   ],
   "source": [
    "df.head()"
   ]
  },
  {
   "cell_type": "markdown",
   "metadata": {},
   "source": [
    "# Clean Social Media Links Data\n",
    "- Remove prefix: `https://www.` \n",
    "  \n",
    "- Rename `url` to `domain`\n",
    "  \n",
    "- Map values: `'N': 0, 'Y': 1`"
   ]
  },
  {
   "cell_type": "code",
   "execution_count": 6,
   "metadata": {
    "ExecuteTime": {
     "end_time": "2019-06-21T06:42:11.249780Z",
     "start_time": "2019-06-21T06:42:11.246740Z"
    }
   },
   "outputs": [],
   "source": [
    "# remove prefix\n",
    "def get_domain(val):\n",
    "    return str(val)[12:]"
   ]
  },
  {
   "cell_type": "code",
   "execution_count": 7,
   "metadata": {
    "ExecuteTime": {
     "end_time": "2019-06-21T06:42:12.670530Z",
     "start_time": "2019-06-21T06:42:12.377540Z"
    }
   },
   "outputs": [],
   "source": [
    "df_links['url'] = df_links['url'].apply(get_domain)\n",
    "df_links.rename(index=str, columns={'url': 'domain'}, inplace=True)\n",
    "df_links.replace({'N': 0, 'Y': 1}, inplace=True)"
   ]
  },
  {
   "cell_type": "code",
   "execution_count": 8,
   "metadata": {
    "ExecuteTime": {
     "end_time": "2019-06-21T06:42:13.798453Z",
     "start_time": "2019-06-21T06:42:13.786836Z"
    }
   },
   "outputs": [
    {
     "data": {
      "text/html": [
       "<div>\n",
       "<style scoped>\n",
       "    .dataframe tbody tr th:only-of-type {\n",
       "        vertical-align: middle;\n",
       "    }\n",
       "\n",
       "    .dataframe tbody tr th {\n",
       "        vertical-align: top;\n",
       "    }\n",
       "\n",
       "    .dataframe thead th {\n",
       "        text-align: right;\n",
       "    }\n",
       "</style>\n",
       "<table border=\"1\" class=\"dataframe\">\n",
       "  <thead>\n",
       "    <tr style=\"text-align: right;\">\n",
       "      <th></th>\n",
       "      <th>domain</th>\n",
       "      <th>tld</th>\n",
       "      <th>linkedin</th>\n",
       "      <th>facebook</th>\n",
       "      <th>twitter</th>\n",
       "      <th>youtube</th>\n",
       "      <th>instagram</th>\n",
       "    </tr>\n",
       "  </thead>\n",
       "  <tbody>\n",
       "    <tr>\n",
       "      <th>0</th>\n",
       "      <td>propertygrams.com</td>\n",
       "      <td>com</td>\n",
       "      <td>0</td>\n",
       "      <td>1</td>\n",
       "      <td>1</td>\n",
       "      <td>0</td>\n",
       "      <td>0</td>\n",
       "    </tr>\n",
       "    <tr>\n",
       "      <th>1</th>\n",
       "      <td>tracyreal.estate</td>\n",
       "      <td>estate</td>\n",
       "      <td>0</td>\n",
       "      <td>0</td>\n",
       "      <td>0</td>\n",
       "      <td>0</td>\n",
       "      <td>0</td>\n",
       "    </tr>\n",
       "    <tr>\n",
       "      <th>2</th>\n",
       "      <td>assecosol.com</td>\n",
       "      <td>com</td>\n",
       "      <td>0</td>\n",
       "      <td>0</td>\n",
       "      <td>0</td>\n",
       "      <td>0</td>\n",
       "      <td>0</td>\n",
       "    </tr>\n",
       "    <tr>\n",
       "      <th>3</th>\n",
       "      <td>jewishexperience.org</td>\n",
       "      <td>org</td>\n",
       "      <td>0</td>\n",
       "      <td>1</td>\n",
       "      <td>1</td>\n",
       "      <td>1</td>\n",
       "      <td>1</td>\n",
       "    </tr>\n",
       "    <tr>\n",
       "      <th>4</th>\n",
       "      <td>ssrefl.com</td>\n",
       "      <td>com</td>\n",
       "      <td>0</td>\n",
       "      <td>0</td>\n",
       "      <td>0</td>\n",
       "      <td>0</td>\n",
       "      <td>0</td>\n",
       "    </tr>\n",
       "  </tbody>\n",
       "</table>\n",
       "</div>"
      ],
      "text/plain": [
       "                 domain     tld  linkedin  facebook  twitter  youtube  \\\n",
       "0     propertygrams.com     com         0         1        1        0   \n",
       "1      tracyreal.estate  estate         0         0        0        0   \n",
       "2         assecosol.com     com         0         0        0        0   \n",
       "3  jewishexperience.org     org         0         1        1        1   \n",
       "4            ssrefl.com     com         0         0        0        0   \n",
       "\n",
       "   instagram  \n",
       "0          0  \n",
       "1          0  \n",
       "2          0  \n",
       "3          1  \n",
       "4          0  "
      ]
     },
     "execution_count": 8,
     "metadata": {},
     "output_type": "execute_result"
    }
   ],
   "source": [
    "df_links.head()"
   ]
  },
  {
   "cell_type": "markdown",
   "metadata": {},
   "source": [
    "# Feature Engineering functions"
   ]
  },
  {
   "cell_type": "markdown",
   "metadata": {},
   "source": [
    "### Get the length of the cell value"
   ]
  },
  {
   "cell_type": "code",
   "execution_count": 9,
   "metadata": {
    "ExecuteTime": {
     "end_time": "2019-06-21T06:42:17.060009Z",
     "start_time": "2019-06-21T06:42:17.056135Z"
    }
   },
   "outputs": [],
   "source": [
    "def get_len(val):\n",
    "    \"\"\"\n",
    "    :param val: cell value as a list or as a set\n",
    "    :return: length of the list or of the set\n",
    "    \"\"\"\n",
    "    if isinstance(val, list) or isinstance(val, set):\n",
    "        return len(val)\n",
    "    else:\n",
    "        return 0"
   ]
  },
  {
   "cell_type": "markdown",
   "metadata": {},
   "source": [
    "#### Whether the cell value exists"
   ]
  },
  {
   "cell_type": "code",
   "execution_count": 10,
   "metadata": {
    "ExecuteTime": {
     "end_time": "2019-06-21T06:42:18.529625Z",
     "start_time": "2019-06-21T06:42:18.526092Z"
    }
   },
   "outputs": [],
   "source": [
    "def val_exists(val):\n",
    "    \"\"\"\n",
    "    :param val: cell value as a list object\n",
    "    :return: Boolean of whether the cell value contains SecurityTrails\n",
    "    \"\"\"\n",
    "    if val:\n",
    "        return len(val) > 0\n",
    "    else:\n",
    "        return 0"
   ]
  },
  {
   "cell_type": "markdown",
   "metadata": {},
   "source": [
    "# 1. SecurityTrails Records\n",
    "#### Given a list of API scraped records and the original DataFrame with the domains and SecurityTrails results create a multitude of features that contribute to our ML models, return a DataFrame object\n",
    "#### the columns include:  \n",
    "* `WHOIS_counts`: num of WHOIS records  \n",
    "  \n",
    "* `company_list`: a list of unique company names   \n",
    "  \n",
    "* `company_name_counts`: num of unique company names  \n",
    "  \n",
    "* `host_provider`: a list of unique host providers  \n",
    "  \n",
    "* `host_provider_counts`: num of unique host providers  \n",
    "  \n",
    "* `mail_provider`: a list of unique mail providers  \n",
    "  \n",
    "* `mail_provider_counts`: num of unique mail providers  \n",
    "  \n",
    "* `registrar`: a list of unique registrar names  \n",
    "  \n",
    "* `registrar_counts`: num of unique registrar names called  \n",
    "  \n",
    "* `security_trail_exist`: whether SecurityTrails records exist  "
   ]
  },
  {
   "cell_type": "markdown",
   "metadata": {},
   "source": [
    "#### Load all the SecurityTrails records from column `security_trails` into a list"
   ]
  },
  {
   "cell_type": "code",
   "execution_count": 11,
   "metadata": {
    "ExecuteTime": {
     "end_time": "2019-06-21T06:42:20.181838Z",
     "start_time": "2019-06-21T06:42:20.172840Z"
    },
    "scrolled": false
   },
   "outputs": [
    {
     "data": {
      "text/plain": [
       "\"[{'whois': {'registrar': 'Ascio Technologies, Inc. Danmark - Filial af Ascio technologies, Inc. USA', 'expiresDate': 1522080002000, 'createdDate': 1395849602000}, 'mail_provider': [], 'hostname': 'ass\""
      ]
     },
     "execution_count": 11,
     "metadata": {},
     "output_type": "execute_result"
    }
   ],
   "source": [
    "security_trails_records = df['security_trails']\n",
    "first_record = security_trails_records[0]\n",
    "first_record[:200] # first 200 charater of first_record in string format"
   ]
  },
  {
   "cell_type": "code",
   "execution_count": 12,
   "metadata": {
    "ExecuteTime": {
     "end_time": "2019-06-21T06:42:21.362635Z",
     "start_time": "2019-06-21T06:42:21.358884Z"
    }
   },
   "outputs": [
    {
     "name": "stdout",
     "output_type": "stream",
     "text": [
      "The type of SecurityTrails record is <class 'str'>\n"
     ]
    }
   ],
   "source": [
    "print('The type of SecurityTrails record is', type(first_record))"
   ]
  },
  {
   "cell_type": "markdown",
   "metadata": {},
   "source": [
    "### Use  `ast.literal_eval` to convert the string format into list of list"
   ]
  },
  {
   "cell_type": "code",
   "execution_count": 13,
   "metadata": {
    "ExecuteTime": {
     "end_time": "2019-06-21T06:42:22.666831Z",
     "start_time": "2019-06-21T06:42:22.661454Z"
    }
   },
   "outputs": [
    {
     "name": "stdout",
     "output_type": "stream",
     "text": [
      "Type of the record now is <class 'list'>\n"
     ]
    }
   ],
   "source": [
    "first_record = ast.literal_eval(first_record)\n",
    "print('Type of the record now is', type(first_record))"
   ]
  },
  {
   "cell_type": "markdown",
   "metadata": {},
   "source": [
    "### Let's take the first record and convert the list of list into a DataFrame"
   ]
  },
  {
   "cell_type": "code",
   "execution_count": 14,
   "metadata": {
    "ExecuteTime": {
     "end_time": "2019-06-21T06:42:23.035706Z",
     "start_time": "2019-06-21T06:42:23.018126Z"
    },
    "scrolled": false
   },
   "outputs": [
    {
     "data": {
      "text/html": [
       "<div>\n",
       "<style scoped>\n",
       "    .dataframe tbody tr th:only-of-type {\n",
       "        vertical-align: middle;\n",
       "    }\n",
       "\n",
       "    .dataframe tbody tr th {\n",
       "        vertical-align: top;\n",
       "    }\n",
       "\n",
       "    .dataframe thead th {\n",
       "        text-align: right;\n",
       "    }\n",
       "</style>\n",
       "<table border=\"1\" class=\"dataframe\">\n",
       "  <thead>\n",
       "    <tr style=\"text-align: right;\">\n",
       "      <th></th>\n",
       "      <th>alexa_rank</th>\n",
       "      <th>computed</th>\n",
       "      <th>host_provider</th>\n",
       "      <th>hostname</th>\n",
       "      <th>mail_provider</th>\n",
       "      <th>whois</th>\n",
       "    </tr>\n",
       "  </thead>\n",
       "  <tbody>\n",
       "    <tr>\n",
       "      <th>0</th>\n",
       "      <td>None</td>\n",
       "      <td>{'company_name': 'Asseco Solutions, a.s.'}</td>\n",
       "      <td>[ACTIVE 24]</td>\n",
       "      <td>asseco.solutions</td>\n",
       "      <td>[]</td>\n",
       "      <td>{'registrar': 'Ascio Technologies, Inc. Danmar...</td>\n",
       "    </tr>\n",
       "    <tr>\n",
       "      <th>1</th>\n",
       "      <td>None</td>\n",
       "      <td>{'company_name': 'Asseco Solutions, a.s.'}</td>\n",
       "      <td>[ACTIVE 24]</td>\n",
       "      <td>asseco-solutions.at</td>\n",
       "      <td>[]</td>\n",
       "      <td>{'registrar': None, 'expiresDate': None, 'crea...</td>\n",
       "    </tr>\n",
       "    <tr>\n",
       "      <th>2</th>\n",
       "      <td>None</td>\n",
       "      <td>{'company_name': 'Asseco Solutions'}</td>\n",
       "      <td>[ACTIVE 24]</td>\n",
       "      <td>asseco-solutions.com</td>\n",
       "      <td>[]</td>\n",
       "      <td>{'registrar': 'Ascio Technologies, Inc. Danmar...</td>\n",
       "    </tr>\n",
       "    <tr>\n",
       "      <th>3</th>\n",
       "      <td>None</td>\n",
       "      <td>{'company_name': 'Asseco Solutions'}</td>\n",
       "      <td>[ACTIVE 24]</td>\n",
       "      <td>assecosol.com</td>\n",
       "      <td>[Microsoft Corporation, TelemaxX Telekommunika...</td>\n",
       "      <td>{'registrar': 'Ascio Technologies, Inc. Danmar...</td>\n",
       "    </tr>\n",
       "    <tr>\n",
       "      <th>4</th>\n",
       "      <td>None</td>\n",
       "      <td>{'company_name': 'PragueBest s.r.o.'}</td>\n",
       "      <td>[ACTIVE 24]</td>\n",
       "      <td>assecosol.at</td>\n",
       "      <td>[]</td>\n",
       "      <td>{'registrar': None, 'expiresDate': None, 'crea...</td>\n",
       "    </tr>\n",
       "  </tbody>\n",
       "</table>\n",
       "</div>"
      ],
      "text/plain": [
       "  alexa_rank                                    computed host_provider  \\\n",
       "0       None  {'company_name': 'Asseco Solutions, a.s.'}   [ACTIVE 24]   \n",
       "1       None  {'company_name': 'Asseco Solutions, a.s.'}   [ACTIVE 24]   \n",
       "2       None        {'company_name': 'Asseco Solutions'}   [ACTIVE 24]   \n",
       "3       None        {'company_name': 'Asseco Solutions'}   [ACTIVE 24]   \n",
       "4       None       {'company_name': 'PragueBest s.r.o.'}   [ACTIVE 24]   \n",
       "\n",
       "               hostname                                      mail_provider  \\\n",
       "0      asseco.solutions                                                 []   \n",
       "1   asseco-solutions.at                                                 []   \n",
       "2  asseco-solutions.com                                                 []   \n",
       "3         assecosol.com  [Microsoft Corporation, TelemaxX Telekommunika...   \n",
       "4          assecosol.at                                                 []   \n",
       "\n",
       "                                               whois  \n",
       "0  {'registrar': 'Ascio Technologies, Inc. Danmar...  \n",
       "1  {'registrar': None, 'expiresDate': None, 'crea...  \n",
       "2  {'registrar': 'Ascio Technologies, Inc. Danmar...  \n",
       "3  {'registrar': 'Ascio Technologies, Inc. Danmar...  \n",
       "4  {'registrar': None, 'expiresDate': None, 'crea...  "
      ]
     },
     "execution_count": 14,
     "metadata": {},
     "output_type": "execute_result"
    }
   ],
   "source": [
    "first_record_table = pd.DataFrame(first_record)\n",
    "first_record_table.head()"
   ]
  },
  {
   "cell_type": "markdown",
   "metadata": {},
   "source": [
    "### Now we can proceed with the Feature engineering to create features from each of the record table"
   ]
  },
  {
   "cell_type": "code",
   "execution_count": 15,
   "metadata": {
    "ExecuteTime": {
     "end_time": "2019-06-21T06:42:24.051406Z",
     "start_time": "2019-06-21T06:42:24.048200Z"
    }
   },
   "outputs": [],
   "source": [
    "# Initiate empty lists\n",
    "whois_counts = []\n",
    "company_list = []\n",
    "host_provider_list = []\n",
    "mail_provider_list = []\n",
    "registrar_list = []"
   ]
  },
  {
   "cell_type": "markdown",
   "metadata": {},
   "source": [
    "### Iterate through all the security_trails_records"
   ]
  },
  {
   "cell_type": "code",
   "execution_count": 16,
   "metadata": {
    "ExecuteTime": {
     "end_time": "2019-06-21T06:44:04.993639Z",
     "start_time": "2019-06-21T06:42:25.297938Z"
    }
   },
   "outputs": [],
   "source": [
    "for record in security_trails_records:\n",
    "    if record:\n",
    "        record = ast.literal_eval(record)\n",
    "        whois_counts.append(len(record))\n",
    "        \n",
    "        table = pd.DataFrame(record)\n",
    "        \n",
    "        # init empty sets for:\n",
    "        unique_company_name = set()\n",
    "        unique_host_provider = set()\n",
    "        unique_mail_provider = set()\n",
    "        unique_registrar = set()\n",
    "        \n",
    "        # For company name\n",
    "        for item in table['computed']:\n",
    "            company_name = item['company_name']\n",
    "            if company_name:\n",
    "                company_name = company_name.lower()\n",
    "                if ',' in company_name:\n",
    "                    # remove the postfix to avoid duplicates\n",
    "                    company_name = company_name.split(',')[0]\n",
    "                unique_company_name.add(company_name)\n",
    "        company_list.append(unique_company_name)\n",
    "        \n",
    "         # For host provider\n",
    "        for item in table['host_provider']:\n",
    "            if item:\n",
    "                host_provider = set(item)\n",
    "                unique_host_provider.update(host_provider)\n",
    "        host_provider_list.append(unique_host_provider)\n",
    "\n",
    "        # For mail provider\n",
    "        for item in table['mail_provider']:\n",
    "            if item:\n",
    "                mail_provider = set(item)\n",
    "                unique_mail_provider.update(mail_provider)\n",
    "        mail_provider_list.append(unique_mail_provider)\n",
    "\n",
    "        # For registrar\n",
    "        for item in table['whois']:\n",
    "            registrar = item['registrar']\n",
    "            if registrar:\n",
    "                registrar = registrar.lower()\n",
    "                if ',' in registrar:\n",
    "                    # remove the postfix to avoid duplicates\n",
    "                    registrar = registrar.split(',')[0]\n",
    "                unique_registrar.add(registrar)\n",
    "        registrar_list.append(unique_registrar)\n",
    "    \n",
    "    # when the record is None\n",
    "    else:\n",
    "        whois_counts.append(0)\n",
    "        company_list.append(None)\n",
    "        host_provider_list.append(None)\n",
    "        mail_provider_list.append(None)\n",
    "        registrar_list.append(None)"
   ]
  },
  {
   "cell_type": "code",
   "execution_count": 17,
   "metadata": {
    "ExecuteTime": {
     "end_time": "2019-06-21T06:44:19.858351Z",
     "start_time": "2019-06-21T06:44:19.387913Z"
    }
   },
   "outputs": [],
   "source": [
    "df['whois_counts'] = pd.Series(whois_counts).astype(int)\n",
    "\n",
    "df['company_name'] = pd.Series(company_list)\n",
    "df['company_name_counts'] = df['company_name'].apply(get_len).astype(int)\n",
    "\n",
    "df['host_provider'] = pd.Series(host_provider_list)\n",
    "df['host_provider_counts'] = df['host_provider'].apply(get_len).astype(int)\n",
    "\n",
    "df['mail_provider'] = pd.Series(mail_provider_list)\n",
    "df['mail_provider_counts'] = df['mail_provider'].apply(get_len).astype(int)\n",
    "\n",
    "df['registrar'] = pd.Series(registrar_list)\n",
    "df['registrar_counts'] = df['registrar'].apply(get_len).astype(int)\n",
    "\n",
    "df['security_trail_exist'] = df['security_trails'].apply(val_exists).astype(int)"
   ]
  },
  {
   "cell_type": "markdown",
   "metadata": {},
   "source": [
    "# 2. Features from Wappalyzer Records\n",
    "#### Given a list of API scraped records and the original DataFrame with the domains and Wappalyzer results create a multitude of features that contribute to our ML models, return a DataFrame object\n",
    "#### the columns include:  \n",
    "* `app_list_exist`: whether Wapplayer records exist  \n",
    "  \n",
    "* `category_list`: a list of unique categories   \n",
    "  \n",
    "* `category_list_counts`: num of unique categories  \n",
    "  \n",
    "* `web_tech`: a list of unique web technologies  \n",
    "  \n",
    "* `web_tech_counts`: num of unique web technologies  "
   ]
  },
  {
   "cell_type": "markdown",
   "metadata": {},
   "source": [
    "#### Load all the Wappalyzer records from column `app_list` into a list"
   ]
  },
  {
   "cell_type": "code",
   "execution_count": 18,
   "metadata": {
    "ExecuteTime": {
     "end_time": "2019-06-21T06:44:22.457717Z",
     "start_time": "2019-06-21T06:44:22.452953Z"
    }
   },
   "outputs": [
    {
     "data": {
      "text/plain": [
       "\"[[['SEO'], 'Yoast SEO'], [['Reverse Proxy', 'Web Servers'], 'Nginx'], [['Blogs', 'CMS'], 'WordPress'], [['JavaScript Libraries'], 'jQuery'], [['Databases'], 'MySQL'], [['Programming Languages'], 'PHP'], [['JavaScript Libraries'], 'jQuery Migrate'], [['Font Scripts'], 'Google Font API'], [['JavaScript Libraries'], 'Lightbox']]\""
      ]
     },
     "execution_count": 18,
     "metadata": {},
     "output_type": "execute_result"
    }
   ],
   "source": [
    "wappalyzer_records = df['app_list']\n",
    "second_record = wappalyzer_records[1]\n",
    "second_record"
   ]
  },
  {
   "cell_type": "code",
   "execution_count": 19,
   "metadata": {
    "ExecuteTime": {
     "end_time": "2019-06-21T06:44:23.542841Z",
     "start_time": "2019-06-21T06:44:23.539505Z"
    }
   },
   "outputs": [
    {
     "name": "stdout",
     "output_type": "stream",
     "text": [
      "The type of Wappalyzer record is <class 'str'>\n"
     ]
    }
   ],
   "source": [
    "print('The type of Wappalyzer record is', type(second_record))"
   ]
  },
  {
   "cell_type": "markdown",
   "metadata": {},
   "source": [
    "### Use  `ast.literal_eval` to convert the string format into list of list"
   ]
  },
  {
   "cell_type": "code",
   "execution_count": 20,
   "metadata": {
    "ExecuteTime": {
     "end_time": "2019-06-21T06:44:25.097892Z",
     "start_time": "2019-06-21T06:44:25.094173Z"
    }
   },
   "outputs": [
    {
     "name": "stdout",
     "output_type": "stream",
     "text": [
      "Type of the record now is <class 'list'>\n"
     ]
    }
   ],
   "source": [
    "second_record = ast.literal_eval(second_record)\n",
    "print('Type of the record now is', type(second_record))"
   ]
  },
  {
   "cell_type": "markdown",
   "metadata": {},
   "source": [
    "### Let's take the third record and convert the list of list into a DataFrame"
   ]
  },
  {
   "cell_type": "code",
   "execution_count": 21,
   "metadata": {
    "ExecuteTime": {
     "end_time": "2019-06-21T06:44:26.289812Z",
     "start_time": "2019-06-21T06:44:26.279527Z"
    }
   },
   "outputs": [
    {
     "data": {
      "text/html": [
       "<div>\n",
       "<style scoped>\n",
       "    .dataframe tbody tr th:only-of-type {\n",
       "        vertical-align: middle;\n",
       "    }\n",
       "\n",
       "    .dataframe tbody tr th {\n",
       "        vertical-align: top;\n",
       "    }\n",
       "\n",
       "    .dataframe thead th {\n",
       "        text-align: right;\n",
       "    }\n",
       "</style>\n",
       "<table border=\"1\" class=\"dataframe\">\n",
       "  <thead>\n",
       "    <tr style=\"text-align: right;\">\n",
       "      <th></th>\n",
       "      <th>0</th>\n",
       "      <th>1</th>\n",
       "    </tr>\n",
       "  </thead>\n",
       "  <tbody>\n",
       "    <tr>\n",
       "      <th>0</th>\n",
       "      <td>[SEO]</td>\n",
       "      <td>Yoast SEO</td>\n",
       "    </tr>\n",
       "    <tr>\n",
       "      <th>1</th>\n",
       "      <td>[Reverse Proxy, Web Servers]</td>\n",
       "      <td>Nginx</td>\n",
       "    </tr>\n",
       "    <tr>\n",
       "      <th>2</th>\n",
       "      <td>[Blogs, CMS]</td>\n",
       "      <td>WordPress</td>\n",
       "    </tr>\n",
       "    <tr>\n",
       "      <th>3</th>\n",
       "      <td>[JavaScript Libraries]</td>\n",
       "      <td>jQuery</td>\n",
       "    </tr>\n",
       "    <tr>\n",
       "      <th>4</th>\n",
       "      <td>[Databases]</td>\n",
       "      <td>MySQL</td>\n",
       "    </tr>\n",
       "    <tr>\n",
       "      <th>5</th>\n",
       "      <td>[Programming Languages]</td>\n",
       "      <td>PHP</td>\n",
       "    </tr>\n",
       "    <tr>\n",
       "      <th>6</th>\n",
       "      <td>[JavaScript Libraries]</td>\n",
       "      <td>jQuery Migrate</td>\n",
       "    </tr>\n",
       "    <tr>\n",
       "      <th>7</th>\n",
       "      <td>[Font Scripts]</td>\n",
       "      <td>Google Font API</td>\n",
       "    </tr>\n",
       "    <tr>\n",
       "      <th>8</th>\n",
       "      <td>[JavaScript Libraries]</td>\n",
       "      <td>Lightbox</td>\n",
       "    </tr>\n",
       "  </tbody>\n",
       "</table>\n",
       "</div>"
      ],
      "text/plain": [
       "                              0                1\n",
       "0                         [SEO]        Yoast SEO\n",
       "1  [Reverse Proxy, Web Servers]            Nginx\n",
       "2                  [Blogs, CMS]        WordPress\n",
       "3        [JavaScript Libraries]           jQuery\n",
       "4                   [Databases]            MySQL\n",
       "5       [Programming Languages]              PHP\n",
       "6        [JavaScript Libraries]   jQuery Migrate\n",
       "7                [Font Scripts]  Google Font API\n",
       "8        [JavaScript Libraries]         Lightbox"
      ]
     },
     "execution_count": 21,
     "metadata": {},
     "output_type": "execute_result"
    }
   ],
   "source": [
    "second_record_table = pd.DataFrame(second_record)\n",
    "second_record_table"
   ]
  },
  {
   "cell_type": "markdown",
   "metadata": {},
   "source": [
    "### Now we can proceed with the Feature engineering to create features from each of the record table"
   ]
  },
  {
   "cell_type": "code",
   "execution_count": 22,
   "metadata": {
    "ExecuteTime": {
     "end_time": "2019-06-21T06:44:27.837989Z",
     "start_time": "2019-06-21T06:44:27.835552Z"
    }
   },
   "outputs": [],
   "source": [
    "# Initiate empty lists\n",
    "category_list = []\n",
    "web_tech_list = []"
   ]
  },
  {
   "cell_type": "code",
   "execution_count": 23,
   "metadata": {
    "ExecuteTime": {
     "end_time": "2019-06-21T06:44:50.900384Z",
     "start_time": "2019-06-21T06:44:28.421913Z"
    }
   },
   "outputs": [],
   "source": [
    "for record in wappalyzer_records:\n",
    "    if record:\n",
    "        record = ast.literal_eval(record)\n",
    "        table = pd.DataFrame(record)\n",
    "\n",
    "        # init empty sets for:\n",
    "        unique_category = set()\n",
    "        unique_web_tech = set()\n",
    "\n",
    "        for item in table[0]:\n",
    "            if item:\n",
    "                category_name = set(item)\n",
    "                unique_category.update(category_name)\n",
    "        category_list.append(unique_category)\n",
    "\n",
    "        for item in table[1]:\n",
    "            if item:\n",
    "                unique_web_tech.add(item)\n",
    "        web_tech_list.append(unique_web_tech)\n",
    "    \n",
    "    # when the record is None\n",
    "    else:\n",
    "        category_list.append(None)\n",
    "        web_tech_list.append(None)"
   ]
  },
  {
   "cell_type": "code",
   "execution_count": 24,
   "metadata": {
    "ExecuteTime": {
     "end_time": "2019-06-21T06:44:56.915765Z",
     "start_time": "2019-06-21T06:44:56.683975Z"
    }
   },
   "outputs": [],
   "source": [
    "df['app_list_exist'] = df['app_list'].apply(val_exists).astype(int)\n",
    "\n",
    "df['category_list'] = pd.Series(category_list)\n",
    "df['category_list_counts'] = df['category_list'].apply(get_len).astype(int)\n",
    "\n",
    "df['web_tech'] = pd.Series(category_list)\n",
    "df['web_tech_counts'] = df['web_tech'].apply(get_len).astype(int)"
   ]
  },
  {
   "cell_type": "markdown",
   "metadata": {},
   "source": [
    "# Join Datasets"
   ]
  },
  {
   "cell_type": "code",
   "execution_count": 25,
   "metadata": {
    "ExecuteTime": {
     "end_time": "2019-06-21T06:44:58.082846Z",
     "start_time": "2019-06-21T06:44:57.890830Z"
    }
   },
   "outputs": [],
   "source": [
    "df = pd.merge(df, df_links, on='domain')"
   ]
  },
  {
   "cell_type": "markdown",
   "metadata": {},
   "source": [
    "# Show the Features Created"
   ]
  },
  {
   "cell_type": "code",
   "execution_count": 26,
   "metadata": {
    "ExecuteTime": {
     "end_time": "2019-06-21T06:45:00.087089Z",
     "start_time": "2019-06-21T06:45:00.054316Z"
    }
   },
   "outputs": [
    {
     "data": {
      "text/html": [
       "<div>\n",
       "<style scoped>\n",
       "    .dataframe tbody tr th:only-of-type {\n",
       "        vertical-align: middle;\n",
       "    }\n",
       "\n",
       "    .dataframe tbody tr th {\n",
       "        vertical-align: top;\n",
       "    }\n",
       "\n",
       "    .dataframe thead th {\n",
       "        text-align: right;\n",
       "    }\n",
       "</style>\n",
       "<table border=\"1\" class=\"dataframe\">\n",
       "  <thead>\n",
       "    <tr style=\"text-align: right;\">\n",
       "      <th></th>\n",
       "      <th>domain</th>\n",
       "      <th>label</th>\n",
       "      <th>security_trails</th>\n",
       "      <th>app_list</th>\n",
       "      <th>whois_counts</th>\n",
       "      <th>company_name</th>\n",
       "      <th>company_name_counts</th>\n",
       "      <th>host_provider</th>\n",
       "      <th>host_provider_counts</th>\n",
       "      <th>mail_provider</th>\n",
       "      <th>...</th>\n",
       "      <th>category_list</th>\n",
       "      <th>category_list_counts</th>\n",
       "      <th>web_tech</th>\n",
       "      <th>web_tech_counts</th>\n",
       "      <th>tld</th>\n",
       "      <th>linkedin</th>\n",
       "      <th>facebook</th>\n",
       "      <th>twitter</th>\n",
       "      <th>youtube</th>\n",
       "      <th>instagram</th>\n",
       "    </tr>\n",
       "  </thead>\n",
       "  <tbody>\n",
       "    <tr>\n",
       "      <th>0</th>\n",
       "      <td>assecosol.com</td>\n",
       "      <td>trusted</td>\n",
       "      <td>[{'whois': {'registrar': 'Ascio Technologies, ...</td>\n",
       "      <td>None</td>\n",
       "      <td>20</td>\n",
       "      <td>{praguebest s.r.o., asseco solutions}</td>\n",
       "      <td>2</td>\n",
       "      <td>{SuperNetwork s.r.o., WIA spol. s.r.o., ACTIVE...</td>\n",
       "      <td>6</td>\n",
       "      <td>{ACTIVE 24, Microsoft Corporation, TelemaxX Te...</td>\n",
       "      <td>...</td>\n",
       "      <td>None</td>\n",
       "      <td>0</td>\n",
       "      <td>None</td>\n",
       "      <td>0</td>\n",
       "      <td>com</td>\n",
       "      <td>0</td>\n",
       "      <td>0</td>\n",
       "      <td>0</td>\n",
       "      <td>0</td>\n",
       "      <td>0</td>\n",
       "    </tr>\n",
       "    <tr>\n",
       "      <th>1</th>\n",
       "      <td>jewishexperience.org</td>\n",
       "      <td>trusted</td>\n",
       "      <td>[{'whois': {'registrar': 'Register.com, Inc.',...</td>\n",
       "      <td>[[['SEO'], 'Yoast SEO'], [['Reverse Proxy', 'W...</td>\n",
       "      <td>1</td>\n",
       "      <td>{manhattan jewish experience synagogue}</td>\n",
       "      <td>1</td>\n",
       "      <td>{SingleHop LLC}</td>\n",
       "      <td>1</td>\n",
       "      <td>{Intermedia.net, Inc.}</td>\n",
       "      <td>...</td>\n",
       "      <td>{JavaScript Libraries, Font Scripts, SEO, Prog...</td>\n",
       "      <td>9</td>\n",
       "      <td>{JavaScript Libraries, Font Scripts, SEO, Prog...</td>\n",
       "      <td>9</td>\n",
       "      <td>org</td>\n",
       "      <td>0</td>\n",
       "      <td>1</td>\n",
       "      <td>1</td>\n",
       "      <td>1</td>\n",
       "      <td>1</td>\n",
       "    </tr>\n",
       "    <tr>\n",
       "      <th>2</th>\n",
       "      <td>ssrefl.com</td>\n",
       "      <td>trusted</td>\n",
       "      <td>None</td>\n",
       "      <td>[[['Reverse Proxy', 'Web Servers'], 'Nginx'], ...</td>\n",
       "      <td>0</td>\n",
       "      <td>None</td>\n",
       "      <td>0</td>\n",
       "      <td>None</td>\n",
       "      <td>0</td>\n",
       "      <td>None</td>\n",
       "      <td>...</td>\n",
       "      <td>{JavaScript Libraries, Font Scripts, Web Frame...</td>\n",
       "      <td>13</td>\n",
       "      <td>{JavaScript Libraries, Font Scripts, Web Frame...</td>\n",
       "      <td>13</td>\n",
       "      <td>com</td>\n",
       "      <td>0</td>\n",
       "      <td>0</td>\n",
       "      <td>0</td>\n",
       "      <td>0</td>\n",
       "      <td>0</td>\n",
       "    </tr>\n",
       "    <tr>\n",
       "      <th>3</th>\n",
       "      <td>garverteam.com</td>\n",
       "      <td>trusted</td>\n",
       "      <td>None</td>\n",
       "      <td>[[['Reverse Proxy', 'Web Servers'], 'Nginx'], ...</td>\n",
       "      <td>0</td>\n",
       "      <td>None</td>\n",
       "      <td>0</td>\n",
       "      <td>None</td>\n",
       "      <td>0</td>\n",
       "      <td>None</td>\n",
       "      <td>...</td>\n",
       "      <td>{JavaScript Libraries, Widgets, Font Scripts, ...</td>\n",
       "      <td>10</td>\n",
       "      <td>{JavaScript Libraries, Widgets, Font Scripts, ...</td>\n",
       "      <td>10</td>\n",
       "      <td>com</td>\n",
       "      <td>1</td>\n",
       "      <td>1</td>\n",
       "      <td>0</td>\n",
       "      <td>0</td>\n",
       "      <td>0</td>\n",
       "    </tr>\n",
       "    <tr>\n",
       "      <th>4</th>\n",
       "      <td>digitalinspiration.com</td>\n",
       "      <td>trusted</td>\n",
       "      <td>[{'whois': {'registrar': 'Gandi SAS', 'expires...</td>\n",
       "      <td>[[['Analytics'], 'Google Analytics'], [['JavaS...</td>\n",
       "      <td>20</td>\n",
       "      <td>{n/a, mr amit agarwal}</td>\n",
       "      <td>2</td>\n",
       "      <td>{Cloudflare, Inc., Fastly, New Dream Network, ...</td>\n",
       "      <td>5</td>\n",
       "      <td>{GANDI SAS, Google LLC, WorldStream B.V.}</td>\n",
       "      <td>...</td>\n",
       "      <td>{JavaScript Libraries, Font Scripts, Ecommerce...</td>\n",
       "      <td>12</td>\n",
       "      <td>{JavaScript Libraries, Font Scripts, Ecommerce...</td>\n",
       "      <td>12</td>\n",
       "      <td>com</td>\n",
       "      <td>0</td>\n",
       "      <td>1</td>\n",
       "      <td>1</td>\n",
       "      <td>1</td>\n",
       "      <td>0</td>\n",
       "    </tr>\n",
       "  </tbody>\n",
       "</table>\n",
       "<p>5 rows × 25 columns</p>\n",
       "</div>"
      ],
      "text/plain": [
       "                   domain    label  \\\n",
       "0           assecosol.com  trusted   \n",
       "1    jewishexperience.org  trusted   \n",
       "2              ssrefl.com  trusted   \n",
       "3          garverteam.com  trusted   \n",
       "4  digitalinspiration.com  trusted   \n",
       "\n",
       "                                     security_trails  \\\n",
       "0  [{'whois': {'registrar': 'Ascio Technologies, ...   \n",
       "1  [{'whois': {'registrar': 'Register.com, Inc.',...   \n",
       "2                                               None   \n",
       "3                                               None   \n",
       "4  [{'whois': {'registrar': 'Gandi SAS', 'expires...   \n",
       "\n",
       "                                            app_list  whois_counts  \\\n",
       "0                                               None            20   \n",
       "1  [[['SEO'], 'Yoast SEO'], [['Reverse Proxy', 'W...             1   \n",
       "2  [[['Reverse Proxy', 'Web Servers'], 'Nginx'], ...             0   \n",
       "3  [[['Reverse Proxy', 'Web Servers'], 'Nginx'], ...             0   \n",
       "4  [[['Analytics'], 'Google Analytics'], [['JavaS...            20   \n",
       "\n",
       "                              company_name  company_name_counts  \\\n",
       "0    {praguebest s.r.o., asseco solutions}                    2   \n",
       "1  {manhattan jewish experience synagogue}                    1   \n",
       "2                                     None                    0   \n",
       "3                                     None                    0   \n",
       "4                   {n/a, mr amit agarwal}                    2   \n",
       "\n",
       "                                       host_provider  host_provider_counts  \\\n",
       "0  {SuperNetwork s.r.o., WIA spol. s.r.o., ACTIVE...                     6   \n",
       "1                                    {SingleHop LLC}                     1   \n",
       "2                                               None                     0   \n",
       "3                                               None                     0   \n",
       "4  {Cloudflare, Inc., Fastly, New Dream Network, ...                     5   \n",
       "\n",
       "                                       mail_provider  ...  \\\n",
       "0  {ACTIVE 24, Microsoft Corporation, TelemaxX Te...  ...   \n",
       "1                             {Intermedia.net, Inc.}  ...   \n",
       "2                                               None  ...   \n",
       "3                                               None  ...   \n",
       "4          {GANDI SAS, Google LLC, WorldStream B.V.}  ...   \n",
       "\n",
       "                                       category_list category_list_counts  \\\n",
       "0                                               None                    0   \n",
       "1  {JavaScript Libraries, Font Scripts, SEO, Prog...                    9   \n",
       "2  {JavaScript Libraries, Font Scripts, Web Frame...                   13   \n",
       "3  {JavaScript Libraries, Widgets, Font Scripts, ...                   10   \n",
       "4  {JavaScript Libraries, Font Scripts, Ecommerce...                   12   \n",
       "\n",
       "                                            web_tech  web_tech_counts  tld  \\\n",
       "0                                               None                0  com   \n",
       "1  {JavaScript Libraries, Font Scripts, SEO, Prog...                9  org   \n",
       "2  {JavaScript Libraries, Font Scripts, Web Frame...               13  com   \n",
       "3  {JavaScript Libraries, Widgets, Font Scripts, ...               10  com   \n",
       "4  {JavaScript Libraries, Font Scripts, Ecommerce...               12  com   \n",
       "\n",
       "  linkedin  facebook twitter  youtube instagram  \n",
       "0        0         0       0        0         0  \n",
       "1        0         1       1        1         1  \n",
       "2        0         0       0        0         0  \n",
       "3        1         1       0        0         0  \n",
       "4        0         1       1        1         0  \n",
       "\n",
       "[5 rows x 25 columns]"
      ]
     },
     "execution_count": 26,
     "metadata": {},
     "output_type": "execute_result"
    }
   ],
   "source": [
    "df.head()"
   ]
  },
  {
   "cell_type": "markdown",
   "metadata": {},
   "source": [
    "# Save to local file"
   ]
  },
  {
   "cell_type": "code",
   "execution_count": 27,
   "metadata": {
    "ExecuteTime": {
     "end_time": "2019-06-21T06:45:12.183328Z",
     "start_time": "2019-06-21T06:45:04.834262Z"
    }
   },
   "outputs": [],
   "source": [
    "df.to_csv(PATH/'domain_130k_features.csv', index=False)"
   ]
  },
  {
   "cell_type": "code",
   "execution_count": null,
   "metadata": {},
   "outputs": [],
   "source": []
  }
 ],
 "metadata": {
  "kernelspec": {
   "display_name": "Python 3",
   "language": "python",
   "name": "python3"
  },
  "language_info": {
   "codemirror_mode": {
    "name": "ipython",
    "version": 3
   },
   "file_extension": ".py",
   "mimetype": "text/x-python",
   "name": "python",
   "nbconvert_exporter": "python",
   "pygments_lexer": "ipython3",
   "version": "3.7.2"
  }
 },
 "nbformat": 4,
 "nbformat_minor": 2
}
