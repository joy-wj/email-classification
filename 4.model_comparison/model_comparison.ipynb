{
 "cells": [
  {
   "cell_type": "markdown",
   "metadata": {},
   "source": [
    "# Model Comparisons\n",
    "\n",
    "This notebook shows a few comparisons with the use of different sets of data, below is a summary of the data properties we used to compare our model performances. The csv files are saved in [Data folder link](https://drive.google.com/drive/folders/1eImejP0Yh5Wf0pd1PAfwiVDReUCgM45a)\n",
    "\n",
    "### Unbalanced VS Balanced data\n",
    "| __Data files__   |  __# of Data points__ | __Features without DNS data__ |__Trusted / Untrusted Balance__| \n",
    "|:------:|:------:|:------:|:------:|\n",
    "| `domain_40k_features.csv`| 40k | API records + Social Links | 90%-10% (Unbalanced) | \n",
    "| `domain_46k_features.csv` | 46k | API records + Social Links| 50%-50% (Balanced)| \n",
    "| `domain_130k_features.csv` | 130k | API records + Social Links | 90%-10% (Unbalanced)| \n",
    "\n",
    "### We will demonstrate below approaches in order to solve the unbalanced situation and further improve our model.\n",
    "\n",
    "- Up-Samplying\n",
    "- Down-Samplying\n",
    "- One-Hot Encoding\n",
    "\n",
    "### There are 6 sets of models created in total:\n",
    "Note that after removing the 'pending' labels, the 130k data becomes 60k.\n",
    "\n",
    "| __Feature sets__ |__Balanced?__| __LR Models__ |__LR f1-scores__|__RF Models__|__RF f1-scores__| \n",
    "|:------:|:------:|:------:|:------:|:------:|:------:|\n",
    "| 40k |No| lr1 | trusted: 0.96, untrusted: 0 | rf1 | trusted: 0.96, untrusted: 0| \n",
    "| 46k |Yes| lr2 | trusted: 0.89, untrusted: 0.89 | rf2 | trusted: 0.90, untrusted: 0.90| \n",
    "| 60k |No| lr3 | trusted: 0.95, untrusted: 0 | rf3 | trusted: 0.95, untrusted: 0| \n",
    "| Down-sampled |Yes| lr4 | trusted: 0.74, untrusted: 0.76 | rf4 | trusted: 0.74, untrusted: 0.76| \n",
    "| Up-sampled |Yes| lr5 | trusted: 0.74, untrusted: 0.76 | rf5 | trusted: 0.76, untrusted: 0.79| \n",
    "| 46k + One Hot Encoding |Yes| lr6 | trusted: 0.91, untrusted: 0.92 | rf6 | trusted: 0.91, untrusted: 0.92|\n",
    "\n",
    "As you can see from the above table, Model set 6 has both Balanced property and the highest f1-score. \n",
    "#### Hence, we are able to achieve a 92% f1-score for a balanced model performance. This is without any DNS data involved. More details below:"
   ]
  },
  {
   "cell_type": "code",
   "execution_count": 1,
   "metadata": {
    "ExecuteTime": {
     "end_time": "2019-06-22T00:47:16.567305Z",
     "start_time": "2019-06-22T00:47:14.356476Z"
    }
   },
   "outputs": [],
   "source": [
    "import pandas as pd\n",
    "import numpy as np\n",
    "from pathlib import Path\n",
    "import matplotlib.pyplot as plt\n",
    "import seaborn as sns\n",
    "import pickle\n",
    "import ast\n",
    "\n",
    "import warnings\n",
    "warnings.filterwarnings('ignore')\n",
    "\n",
    "from sklearn.model_selection import train_test_split\n",
    "from sklearn.ensemble import RandomForestClassifier\n",
    "from sklearn.linear_model import LogisticRegression\n",
    "from sklearn.metrics import classification_report\n",
    "from sklearn.utils import resample"
   ]
  },
  {
   "cell_type": "code",
   "execution_count": 2,
   "metadata": {
    "ExecuteTime": {
     "end_time": "2019-06-22T00:47:17.805113Z",
     "start_time": "2019-06-22T00:47:17.798535Z"
    }
   },
   "outputs": [
    {
     "data": {
      "text/plain": [
       "[PosixPath('../data/test_combined.csv'),\n",
       " PosixPath('../data/domain_130k_features.csv'),\n",
       " PosixPath('../data/domain_130k_features_dns.csv'),\n",
       " PosixPath('../data/.DS_Store'),\n",
       " PosixPath('../data/domain_130k_all.csv'),\n",
       " PosixPath('../data/domain_130k_dns.csv'),\n",
       " PosixPath('../data/test_sample.csv'),\n",
       " PosixPath('../data/domain_40k_features.csv'),\n",
       " PosixPath('../data/README.md'),\n",
       " PosixPath('../data/domain_46k_features.csv'),\n",
       " PosixPath('../data/.ipynb_checkpoints'),\n",
       " PosixPath('../data/test_domain_100.csv')]"
      ]
     },
     "execution_count": 2,
     "metadata": {},
     "output_type": "execute_result"
    }
   ],
   "source": [
    "PATH = Path(\"../data\")\n",
    "list(PATH.iterdir())"
   ]
  },
  {
   "cell_type": "code",
   "execution_count": 3,
   "metadata": {
    "ExecuteTime": {
     "end_time": "2019-06-22T00:43:00.484084Z",
     "start_time": "2019-06-22T00:42:56.072063Z"
    }
   },
   "outputs": [],
   "source": [
    "df_1 = pd.read_csv(PATH/'domain_40k_features.csv', low_memory=False)\n",
    "df_2 = pd.read_csv(PATH/'domain_46k_features.csv', low_memory=False)\n",
    "df_3 = pd.read_csv(PATH/'domain_130k_features.csv', low_memory=False)"
   ]
  },
  {
   "cell_type": "code",
   "execution_count": 4,
   "metadata": {
    "ExecuteTime": {
     "end_time": "2019-06-22T00:43:01.228830Z",
     "start_time": "2019-06-22T00:43:00.487782Z"
    }
   },
   "outputs": [],
   "source": [
    "df_1.replace({'[]': None, np.NaN: None}, inplace=True)\n",
    "df_2.replace({'[]': None, np.NaN: None}, inplace=True)\n",
    "df_3.replace({'[]': None, np.NaN: None}, inplace=True)"
   ]
  },
  {
   "cell_type": "markdown",
   "metadata": {},
   "source": [
    "## Remove all the 'pending' labels"
   ]
  },
  {
   "cell_type": "code",
   "execution_count": 5,
   "metadata": {
    "ExecuteTime": {
     "end_time": "2019-06-22T00:43:01.295907Z",
     "start_time": "2019-06-22T00:43:01.231236Z"
    }
   },
   "outputs": [],
   "source": [
    "df_40k = df_1[df_1['label']!='pending']\n",
    "df_46k= df_2[df_2['label']!='pending']\n",
    "df_60k = df_3[df_3['label']!='pending']"
   ]
  },
  {
   "cell_type": "markdown",
   "metadata": {},
   "source": [
    "## Model 1 - 40k: Unbalanced data"
   ]
  },
  {
   "cell_type": "code",
   "execution_count": 6,
   "metadata": {
    "ExecuteTime": {
     "end_time": "2019-06-22T00:43:01.308177Z",
     "start_time": "2019-06-22T00:43:01.297793Z"
    }
   },
   "outputs": [
    {
     "data": {
      "text/plain": [
       "trusted      37671\n",
       "untrusted     3428\n",
       "Name: label, dtype: int64"
      ]
     },
     "execution_count": 6,
     "metadata": {},
     "output_type": "execute_result"
    }
   ],
   "source": [
    "df_40k.label.value_counts()"
   ]
  },
  {
   "cell_type": "code",
   "execution_count": 7,
   "metadata": {
    "ExecuteTime": {
     "end_time": "2019-06-22T00:43:01.332061Z",
     "start_time": "2019-06-22T00:43:01.310110Z"
    }
   },
   "outputs": [],
   "source": [
    "X, y = df_40k.select_dtypes(exclude='object'), df_40k['label']\n",
    "X_train, X_test, y_train, y_test = train_test_split(X, y, test_size=0.2, random_state=42)"
   ]
  },
  {
   "cell_type": "code",
   "execution_count": 8,
   "metadata": {
    "ExecuteTime": {
     "end_time": "2019-06-22T00:43:01.658598Z",
     "start_time": "2019-06-22T00:43:01.334296Z"
    }
   },
   "outputs": [
    {
     "name": "stdout",
     "output_type": "stream",
     "text": [
      "              precision    recall  f1-score   support\n",
      "\n",
      "     trusted       1.00      0.92      0.96      8220\n",
      "   untrusted       0.00      0.00      0.00         0\n",
      "\n",
      "   micro avg       0.92      0.92      0.92      8220\n",
      "   macro avg       0.50      0.46      0.48      8220\n",
      "weighted avg       1.00      0.92      0.96      8220\n",
      "\n"
     ]
    }
   ],
   "source": [
    "lr1 = LogisticRegression()\n",
    "lr1.fit(X_train, y_train)\n",
    "\n",
    "print(classification_report(lr1.predict(X_test), y_test))"
   ]
  },
  {
   "cell_type": "code",
   "execution_count": 9,
   "metadata": {
    "ExecuteTime": {
     "end_time": "2019-06-22T00:43:02.747681Z",
     "start_time": "2019-06-22T00:43:01.660895Z"
    }
   },
   "outputs": [
    {
     "name": "stdout",
     "output_type": "stream",
     "text": [
      "              precision    recall  f1-score   support\n",
      "\n",
      "     trusted       1.00      0.92      0.96      8208\n",
      "   untrusted       0.00      0.08      0.00        12\n",
      "\n",
      "   micro avg       0.92      0.92      0.92      8220\n",
      "   macro avg       0.50      0.50      0.48      8220\n",
      "weighted avg       1.00      0.92      0.96      8220\n",
      "\n"
     ]
    }
   ],
   "source": [
    "rf1 = RandomForestClassifier(n_estimators=100)\n",
    "rf1.fit(X_train, y_train)\n",
    "\n",
    "print(classification_report(rf1.predict(X_test), y_test))"
   ]
  },
  {
   "cell_type": "markdown",
   "metadata": {},
   "source": [
    "# Model 2 - 46k: balanced data"
   ]
  },
  {
   "cell_type": "code",
   "execution_count": 10,
   "metadata": {
    "ExecuteTime": {
     "end_time": "2019-06-22T00:43:02.757987Z",
     "start_time": "2019-06-22T00:43:02.749687Z"
    }
   },
   "outputs": [
    {
     "data": {
      "text/plain": [
       "untrusted    23329\n",
       "trusted      23329\n",
       "Name: label, dtype: int64"
      ]
     },
     "execution_count": 10,
     "metadata": {},
     "output_type": "execute_result"
    }
   ],
   "source": [
    "df_46k.label.value_counts()"
   ]
  },
  {
   "cell_type": "code",
   "execution_count": 11,
   "metadata": {
    "ExecuteTime": {
     "end_time": "2019-06-22T00:43:02.779551Z",
     "start_time": "2019-06-22T00:43:02.759880Z"
    }
   },
   "outputs": [],
   "source": [
    "X, y = df_46k.select_dtypes(exclude='object'), df_46k['label']\n",
    "X_train, X_test, y_train, y_test = train_test_split(X, y, test_size=0.2, random_state=42)"
   ]
  },
  {
   "cell_type": "code",
   "execution_count": 12,
   "metadata": {
    "ExecuteTime": {
     "end_time": "2019-06-22T00:43:03.077960Z",
     "start_time": "2019-06-22T00:43:02.782454Z"
    }
   },
   "outputs": [
    {
     "name": "stdout",
     "output_type": "stream",
     "text": [
      "              precision    recall  f1-score   support\n",
      "\n",
      "     trusted       0.89      0.90      0.89      4603\n",
      "   untrusted       0.90      0.89      0.89      4729\n",
      "\n",
      "   micro avg       0.89      0.89      0.89      9332\n",
      "   macro avg       0.89      0.89      0.89      9332\n",
      "weighted avg       0.89      0.89      0.89      9332\n",
      "\n"
     ]
    }
   ],
   "source": [
    "lr2 = LogisticRegression()\n",
    "lr2.fit(X_train, y_train)\n",
    "\n",
    "print(classification_report(lr2.predict(X_test), y_test))"
   ]
  },
  {
   "cell_type": "code",
   "execution_count": 13,
   "metadata": {
    "ExecuteTime": {
     "end_time": "2019-06-22T00:43:04.450410Z",
     "start_time": "2019-06-22T00:43:03.079987Z"
    }
   },
   "outputs": [
    {
     "name": "stdout",
     "output_type": "stream",
     "text": [
      "              precision    recall  f1-score   support\n",
      "\n",
      "     trusted       0.87      0.92      0.90      4422\n",
      "   untrusted       0.92      0.88      0.90      4910\n",
      "\n",
      "   micro avg       0.90      0.90      0.90      9332\n",
      "   macro avg       0.90      0.90      0.90      9332\n",
      "weighted avg       0.90      0.90      0.90      9332\n",
      "\n"
     ]
    }
   ],
   "source": [
    "rf2 = RandomForestClassifier(n_estimators=100)\n",
    "rf2.fit(X_train, y_train)\n",
    "\n",
    "print(classification_report(rf2.predict(X_test), y_test))"
   ]
  },
  {
   "cell_type": "markdown",
   "metadata": {},
   "source": [
    "# Model 3 - 60k: Unbalanced data"
   ]
  },
  {
   "cell_type": "code",
   "execution_count": 14,
   "metadata": {
    "ExecuteTime": {
     "end_time": "2019-06-22T00:43:04.461874Z",
     "start_time": "2019-06-22T00:43:04.452730Z"
    }
   },
   "outputs": [
    {
     "data": {
      "text/plain": [
       "trusted      55976\n",
       "untrusted     5370\n",
       "Name: label, dtype: int64"
      ]
     },
     "execution_count": 14,
     "metadata": {},
     "output_type": "execute_result"
    }
   ],
   "source": [
    "df_60k.label.value_counts()"
   ]
  },
  {
   "cell_type": "code",
   "execution_count": 15,
   "metadata": {
    "ExecuteTime": {
     "end_time": "2019-06-22T00:43:04.494464Z",
     "start_time": "2019-06-22T00:43:04.463952Z"
    }
   },
   "outputs": [],
   "source": [
    "X, y = df_60k.select_dtypes(exclude='object'), df_60k['label']\n",
    "X_train, X_test, y_train, y_test = train_test_split(X, y, test_size=0.2, random_state=42)"
   ]
  },
  {
   "cell_type": "code",
   "execution_count": 16,
   "metadata": {
    "ExecuteTime": {
     "end_time": "2019-06-22T00:43:04.959244Z",
     "start_time": "2019-06-22T00:43:04.496567Z"
    }
   },
   "outputs": [
    {
     "name": "stdout",
     "output_type": "stream",
     "text": [
      "              precision    recall  f1-score   support\n",
      "\n",
      "     trusted       1.00      0.91      0.95     12270\n",
      "   untrusted       0.00      0.00      0.00         0\n",
      "\n",
      "   micro avg       0.91      0.91      0.91     12270\n",
      "   macro avg       0.50      0.46      0.48     12270\n",
      "weighted avg       1.00      0.91      0.95     12270\n",
      "\n"
     ]
    }
   ],
   "source": [
    "lr3 = LogisticRegression()\n",
    "lr3.fit(X_train, y_train)\n",
    "\n",
    "print(classification_report(lr3.predict(X_test), y_test))"
   ]
  },
  {
   "cell_type": "code",
   "execution_count": 17,
   "metadata": {
    "ExecuteTime": {
     "end_time": "2019-06-22T00:43:06.664535Z",
     "start_time": "2019-06-22T00:43:04.961443Z"
    }
   },
   "outputs": [
    {
     "name": "stdout",
     "output_type": "stream",
     "text": [
      "              precision    recall  f1-score   support\n",
      "\n",
      "     trusted       1.00      0.91      0.95     12261\n",
      "   untrusted       0.00      0.00      0.00         9\n",
      "\n",
      "   micro avg       0.91      0.91      0.91     12270\n",
      "   macro avg       0.50      0.46      0.48     12270\n",
      "weighted avg       1.00      0.91      0.95     12270\n",
      "\n"
     ]
    }
   ],
   "source": [
    "rf3 = RandomForestClassifier(n_estimators=100)\n",
    "rf3.fit(X_train, y_train)\n",
    "\n",
    "print(classification_report(rf3.predict(X_test), y_test))"
   ]
  },
  {
   "cell_type": "markdown",
   "metadata": {},
   "source": [
    "# Combined three datasets --> 146k data"
   ]
  },
  {
   "cell_type": "code",
   "execution_count": 18,
   "metadata": {
    "ExecuteTime": {
     "end_time": "2019-06-22T00:43:06.790262Z",
     "start_time": "2019-06-22T00:43:06.669437Z"
    }
   },
   "outputs": [],
   "source": [
    "df_146k = pd.concat([df_40k, df_46k, df_60k], axis=0)"
   ]
  },
  {
   "cell_type": "code",
   "execution_count": 19,
   "metadata": {
    "ExecuteTime": {
     "end_time": "2019-06-22T00:43:06.812103Z",
     "start_time": "2019-06-22T00:43:06.792840Z"
    }
   },
   "outputs": [
    {
     "data": {
      "text/plain": [
       "trusted      116976\n",
       "untrusted     32127\n",
       "Name: label, dtype: int64"
      ]
     },
     "execution_count": 19,
     "metadata": {},
     "output_type": "execute_result"
    }
   ],
   "source": [
    "df_146k.label.value_counts()"
   ]
  },
  {
   "cell_type": "markdown",
   "metadata": {},
   "source": [
    "# Model 4: Down-Samplying"
   ]
  },
  {
   "cell_type": "code",
   "execution_count": 20,
   "metadata": {
    "ExecuteTime": {
     "end_time": "2019-06-22T00:43:07.018910Z",
     "start_time": "2019-06-22T00:43:06.814596Z"
    }
   },
   "outputs": [],
   "source": [
    "trusted = df_146k[df_146k['label']=='trusted']\n",
    "untrusted = df_146k[df_146k['label']=='untrusted']"
   ]
  },
  {
   "cell_type": "code",
   "execution_count": 21,
   "metadata": {
    "ExecuteTime": {
     "end_time": "2019-06-22T00:43:07.043049Z",
     "start_time": "2019-06-22T00:43:07.021337Z"
    }
   },
   "outputs": [],
   "source": [
    "trusted_downsampled = resample(trusted, \n",
    "                               replace=False, # untrusted << trusted, no need to replace\n",
    "                               n_samples=len(untrusted), \n",
    "                               random_state=123)"
   ]
  },
  {
   "cell_type": "code",
   "execution_count": 22,
   "metadata": {
    "ExecuteTime": {
     "end_time": "2019-06-22T00:43:07.104696Z",
     "start_time": "2019-06-22T00:43:07.044860Z"
    }
   },
   "outputs": [],
   "source": [
    "df_down = pd.concat([trusted_downsampled, untrusted], axis=0)"
   ]
  },
  {
   "cell_type": "code",
   "execution_count": 23,
   "metadata": {
    "ExecuteTime": {
     "end_time": "2019-06-22T00:43:07.198666Z",
     "start_time": "2019-06-22T00:43:07.106712Z"
    }
   },
   "outputs": [],
   "source": [
    "X, y = df_down.select_dtypes(exclude='object'), df_down['label']\n",
    "X_train, X_test, y_train, y_test = train_test_split(X, y, test_size=0.2, random_state=42)"
   ]
  },
  {
   "cell_type": "code",
   "execution_count": 24,
   "metadata": {
    "ExecuteTime": {
     "end_time": "2019-06-22T00:43:07.718428Z",
     "start_time": "2019-06-22T00:43:07.200979Z"
    }
   },
   "outputs": [
    {
     "name": "stdout",
     "output_type": "stream",
     "text": [
      "              precision    recall  f1-score   support\n",
      "\n",
      "     trusted       0.71      0.77      0.74      5858\n",
      "   untrusted       0.79      0.73      0.76      6993\n",
      "\n",
      "   micro avg       0.75      0.75      0.75     12851\n",
      "   macro avg       0.75      0.75      0.75     12851\n",
      "weighted avg       0.75      0.75      0.75     12851\n",
      "\n"
     ]
    }
   ],
   "source": [
    "lr4 = LogisticRegression()\n",
    "lr4.fit(X_train, y_train)\n",
    "\n",
    "print(classification_report(lr4.predict(X_test), y_test))"
   ]
  },
  {
   "cell_type": "code",
   "execution_count": 25,
   "metadata": {
    "ExecuteTime": {
     "end_time": "2019-06-22T00:43:09.589318Z",
     "start_time": "2019-06-22T00:43:07.720476Z"
    }
   },
   "outputs": [
    {
     "name": "stdout",
     "output_type": "stream",
     "text": [
      "              precision    recall  f1-score   support\n",
      "\n",
      "     trusted       0.68      0.80      0.74      5478\n",
      "   untrusted       0.83      0.73      0.77      7373\n",
      "\n",
      "   micro avg       0.76      0.76      0.76     12851\n",
      "   macro avg       0.76      0.76      0.76     12851\n",
      "weighted avg       0.77      0.76      0.76     12851\n",
      "\n"
     ]
    }
   ],
   "source": [
    "rf4 = RandomForestClassifier(n_estimators=100)\n",
    "rf4.fit(X_train, y_train)\n",
    "\n",
    "print(classification_report(rf4.predict(X_test), y_test))"
   ]
  },
  {
   "cell_type": "markdown",
   "metadata": {},
   "source": [
    "# Model 5: Up-Samplying"
   ]
  },
  {
   "cell_type": "code",
   "execution_count": 26,
   "metadata": {
    "ExecuteTime": {
     "end_time": "2019-06-22T00:43:09.622369Z",
     "start_time": "2019-06-22T00:43:09.591229Z"
    }
   },
   "outputs": [],
   "source": [
    "untrusted_upsampled = resample(untrusted, \n",
    "                               replace=True, # untrusted << trusted, need to replace\n",
    "                               n_samples=len(trusted), \n",
    "                               random_state=123)"
   ]
  },
  {
   "cell_type": "code",
   "execution_count": 27,
   "metadata": {
    "ExecuteTime": {
     "end_time": "2019-06-22T00:43:09.785703Z",
     "start_time": "2019-06-22T00:43:09.626029Z"
    }
   },
   "outputs": [],
   "source": [
    "df_up = pd.concat([trusted, untrusted_upsampled], axis=0)"
   ]
  },
  {
   "cell_type": "code",
   "execution_count": 28,
   "metadata": {
    "ExecuteTime": {
     "end_time": "2019-06-22T00:43:10.044588Z",
     "start_time": "2019-06-22T00:43:09.787920Z"
    }
   },
   "outputs": [],
   "source": [
    "X, y = df_up.select_dtypes(exclude='object'), df_up['label']\n",
    "X_train, X_test, y_train, y_test = train_test_split(X, y, test_size=0.2, random_state=42)"
   ]
  },
  {
   "cell_type": "code",
   "execution_count": 29,
   "metadata": {
    "ExecuteTime": {
     "end_time": "2019-06-22T00:43:12.113582Z",
     "start_time": "2019-06-22T00:43:10.046582Z"
    }
   },
   "outputs": [
    {
     "name": "stdout",
     "output_type": "stream",
     "text": [
      "              precision    recall  f1-score   support\n",
      "\n",
      "     trusted       0.72      0.77      0.74     21578\n",
      "   untrusted       0.79      0.74      0.76     25213\n",
      "\n",
      "   micro avg       0.75      0.75      0.75     46791\n",
      "   macro avg       0.75      0.75      0.75     46791\n",
      "weighted avg       0.76      0.75      0.75     46791\n",
      "\n"
     ]
    }
   ],
   "source": [
    "lr5 = LogisticRegression()\n",
    "lr5.fit(X_train, y_train)\n",
    "\n",
    "print(classification_report(lr5.predict(X_test), y_test))"
   ]
  },
  {
   "cell_type": "code",
   "execution_count": 30,
   "metadata": {
    "ExecuteTime": {
     "end_time": "2019-06-22T00:43:20.494979Z",
     "start_time": "2019-06-22T00:43:12.115932Z"
    }
   },
   "outputs": [
    {
     "name": "stdout",
     "output_type": "stream",
     "text": [
      "              precision    recall  f1-score   support\n",
      "\n",
      "     trusted       0.70      0.82      0.76     19850\n",
      "   untrusted       0.85      0.74      0.79     26941\n",
      "\n",
      "   micro avg       0.78      0.78      0.78     46791\n",
      "   macro avg       0.78      0.78      0.78     46791\n",
      "weighted avg       0.79      0.78      0.78     46791\n",
      "\n"
     ]
    }
   ],
   "source": [
    "rf5 = RandomForestClassifier(n_estimators=100)\n",
    "rf5.fit(X_train, y_train)\n",
    "\n",
    "print(classification_report(rf5.predict(X_test), y_test))"
   ]
  },
  {
   "cell_type": "markdown",
   "metadata": {},
   "source": [
    "### Model 2 is still the best, now we need to further improve model 2"
   ]
  },
  {
   "cell_type": "markdown",
   "metadata": {},
   "source": [
    "# One-hot encoding to create first 30 categories"
   ]
  },
  {
   "cell_type": "code",
   "execution_count": 31,
   "metadata": {
    "ExecuteTime": {
     "end_time": "2019-06-22T00:43:20.504069Z",
     "start_time": "2019-06-22T00:43:20.497044Z"
    }
   },
   "outputs": [],
   "source": [
    "tld_cat = df_46k.tld.value_counts()[:30].keys().tolist()\n",
    "tld_cat.append('other')"
   ]
  },
  {
   "cell_type": "code",
   "execution_count": 32,
   "metadata": {
    "ExecuteTime": {
     "end_time": "2019-06-22T00:43:20.510572Z",
     "start_time": "2019-06-22T00:43:20.506241Z"
    }
   },
   "outputs": [
    {
     "data": {
      "text/plain": [
       "31"
      ]
     },
     "execution_count": 32,
     "metadata": {},
     "output_type": "execute_result"
    }
   ],
   "source": [
    "len(tld_cat)"
   ]
  },
  {
   "cell_type": "code",
   "execution_count": 33,
   "metadata": {
    "ExecuteTime": {
     "end_time": "2019-06-22T00:43:20.519911Z",
     "start_time": "2019-06-22T00:43:20.513097Z"
    }
   },
   "outputs": [],
   "source": [
    "df_46k['tld_type'] =  pd.Categorical(df_46k['tld'], categories=tld_cat)\n",
    "df_46k['tld_type'].fillna('other', inplace=True)"
   ]
  },
  {
   "cell_type": "code",
   "execution_count": 34,
   "metadata": {
    "ExecuteTime": {
     "end_time": "2019-06-22T00:43:20.527105Z",
     "start_time": "2019-06-22T00:43:20.521586Z"
    }
   },
   "outputs": [],
   "source": [
    "tld_enc = pd.get_dummies(df_46k['tld_type'])"
   ]
  },
  {
   "cell_type": "code",
   "execution_count": 35,
   "metadata": {
    "ExecuteTime": {
     "end_time": "2019-06-22T00:43:20.610779Z",
     "start_time": "2019-06-22T00:43:20.530469Z"
    }
   },
   "outputs": [],
   "source": [
    "df_46k = pd.concat([df_46k, tld_enc], axis=1)\n",
    "df_46k.drop(['tld_type'], axis=1, inplace=True)"
   ]
  },
  {
   "cell_type": "code",
   "execution_count": 36,
   "metadata": {
    "ExecuteTime": {
     "end_time": "2019-06-22T00:43:20.637413Z",
     "start_time": "2019-06-22T00:43:20.612744Z"
    }
   },
   "outputs": [
    {
     "data": {
      "text/html": [
       "<div>\n",
       "<style scoped>\n",
       "    .dataframe tbody tr th:only-of-type {\n",
       "        vertical-align: middle;\n",
       "    }\n",
       "\n",
       "    .dataframe tbody tr th {\n",
       "        vertical-align: top;\n",
       "    }\n",
       "\n",
       "    .dataframe thead th {\n",
       "        text-align: right;\n",
       "    }\n",
       "</style>\n",
       "<table border=\"1\" class=\"dataframe\">\n",
       "  <thead>\n",
       "    <tr style=\"text-align: right;\">\n",
       "      <th></th>\n",
       "      <th>domain</th>\n",
       "      <th>label</th>\n",
       "      <th>app_list</th>\n",
       "      <th>security_trails</th>\n",
       "      <th>whois_counts</th>\n",
       "      <th>company_name</th>\n",
       "      <th>company_name_counts</th>\n",
       "      <th>host_provider</th>\n",
       "      <th>host_provider_counts</th>\n",
       "      <th>mail_provider</th>\n",
       "      <th>...</th>\n",
       "      <th>bid</th>\n",
       "      <th>ca</th>\n",
       "      <th>it</th>\n",
       "      <th>cn</th>\n",
       "      <th>co</th>\n",
       "      <th>cl</th>\n",
       "      <th>eu</th>\n",
       "      <th>fr</th>\n",
       "      <th>biz</th>\n",
       "      <th>other</th>\n",
       "    </tr>\n",
       "  </thead>\n",
       "  <tbody>\n",
       "    <tr>\n",
       "      <th>0</th>\n",
       "      <td>walmart.com</td>\n",
       "      <td>trusted</td>\n",
       "      <td>[[['Advertising Networks'], 'AppNexus'], [['An...</td>\n",
       "      <td>[{'whois': {'registrar': 'CSC Corporate Domain...</td>\n",
       "      <td>100</td>\n",
       "      <td>{'wal-mart stores'}</td>\n",
       "      <td>1</td>\n",
       "      <td>{'China Telecom (Group)', 'Rackspace Hosting',...</td>\n",
       "      <td>21</td>\n",
       "      <td>{'Rackspace Hosting', 'MessageLabs Inc.', 'Pro...</td>\n",
       "      <td>...</td>\n",
       "      <td>0</td>\n",
       "      <td>0</td>\n",
       "      <td>0</td>\n",
       "      <td>0</td>\n",
       "      <td>0</td>\n",
       "      <td>0</td>\n",
       "      <td>0</td>\n",
       "      <td>0</td>\n",
       "      <td>0</td>\n",
       "      <td>0</td>\n",
       "    </tr>\n",
       "    <tr>\n",
       "      <th>1</th>\n",
       "      <td>exxonmobil.com</td>\n",
       "      <td>trusted</td>\n",
       "      <td>[[['JavaScript Frameworks'], 'AngularJS'], [['...</td>\n",
       "      <td>[{'whois': {'registrar': 'DreamHost, LLC', 'ex...</td>\n",
       "      <td>100</td>\n",
       "      <td>{'esso norge as', 'exxon mobil corporation', '...</td>\n",
       "      <td>3</td>\n",
       "      <td>{'AT&amp;T Services, Inc.', 'SherWeb inc.', 'Racks...</td>\n",
       "      <td>17</td>\n",
       "      <td>{'COGECODATA', 'U.S. BANCORP', 'SherWeb inc.',...</td>\n",
       "      <td>...</td>\n",
       "      <td>0</td>\n",
       "      <td>0</td>\n",
       "      <td>0</td>\n",
       "      <td>0</td>\n",
       "      <td>0</td>\n",
       "      <td>0</td>\n",
       "      <td>0</td>\n",
       "      <td>0</td>\n",
       "      <td>0</td>\n",
       "      <td>0</td>\n",
       "    </tr>\n",
       "    <tr>\n",
       "      <th>2</th>\n",
       "      <td>chevron.com</td>\n",
       "      <td>trusted</td>\n",
       "      <td>[[['Programming Languages'], 'Java'], [['Analy...</td>\n",
       "      <td>[{'whois': {'registrar': 'CSC Corporate Domain...</td>\n",
       "      <td>100</td>\n",
       "      <td>{'chevron corporation', 'chevron corp.', 'nors...</td>\n",
       "      <td>3</td>\n",
       "      <td>{'ExactTarget, Inc.', 'Corporation Service Com...</td>\n",
       "      <td>12</td>\n",
       "      <td>{'GoDaddy.com, LLC', 'ExactTarget, Inc.', 'Tex...</td>\n",
       "      <td>...</td>\n",
       "      <td>0</td>\n",
       "      <td>0</td>\n",
       "      <td>0</td>\n",
       "      <td>0</td>\n",
       "      <td>0</td>\n",
       "      <td>0</td>\n",
       "      <td>0</td>\n",
       "      <td>0</td>\n",
       "      <td>0</td>\n",
       "      <td>0</td>\n",
       "    </tr>\n",
       "    <tr>\n",
       "      <th>3</th>\n",
       "      <td>berkshirehathaway.com</td>\n",
       "      <td>trusted</td>\n",
       "      <td>[[['Web Servers'], 'Apache'], [['Editors'], 'M...</td>\n",
       "      <td>None</td>\n",
       "      <td>0</td>\n",
       "      <td>None</td>\n",
       "      <td>0</td>\n",
       "      <td>None</td>\n",
       "      <td>0</td>\n",
       "      <td>None</td>\n",
       "      <td>...</td>\n",
       "      <td>0</td>\n",
       "      <td>0</td>\n",
       "      <td>0</td>\n",
       "      <td>0</td>\n",
       "      <td>0</td>\n",
       "      <td>0</td>\n",
       "      <td>0</td>\n",
       "      <td>0</td>\n",
       "      <td>0</td>\n",
       "      <td>0</td>\n",
       "    </tr>\n",
       "    <tr>\n",
       "      <th>4</th>\n",
       "      <td>apple.com</td>\n",
       "      <td>trusted</td>\n",
       "      <td>[[['Web Servers'], 'Nginx'], [['Analytics'], '...</td>\n",
       "      <td>None</td>\n",
       "      <td>0</td>\n",
       "      <td>None</td>\n",
       "      <td>0</td>\n",
       "      <td>None</td>\n",
       "      <td>0</td>\n",
       "      <td>None</td>\n",
       "      <td>...</td>\n",
       "      <td>0</td>\n",
       "      <td>0</td>\n",
       "      <td>0</td>\n",
       "      <td>0</td>\n",
       "      <td>0</td>\n",
       "      <td>0</td>\n",
       "      <td>0</td>\n",
       "      <td>0</td>\n",
       "      <td>0</td>\n",
       "      <td>0</td>\n",
       "    </tr>\n",
       "  </tbody>\n",
       "</table>\n",
       "<p>5 rows × 56 columns</p>\n",
       "</div>"
      ],
      "text/plain": [
       "                  domain    label  \\\n",
       "0            walmart.com  trusted   \n",
       "1         exxonmobil.com  trusted   \n",
       "2            chevron.com  trusted   \n",
       "3  berkshirehathaway.com  trusted   \n",
       "4              apple.com  trusted   \n",
       "\n",
       "                                            app_list  \\\n",
       "0  [[['Advertising Networks'], 'AppNexus'], [['An...   \n",
       "1  [[['JavaScript Frameworks'], 'AngularJS'], [['...   \n",
       "2  [[['Programming Languages'], 'Java'], [['Analy...   \n",
       "3  [[['Web Servers'], 'Apache'], [['Editors'], 'M...   \n",
       "4  [[['Web Servers'], 'Nginx'], [['Analytics'], '...   \n",
       "\n",
       "                                     security_trails  whois_counts  \\\n",
       "0  [{'whois': {'registrar': 'CSC Corporate Domain...           100   \n",
       "1  [{'whois': {'registrar': 'DreamHost, LLC', 'ex...           100   \n",
       "2  [{'whois': {'registrar': 'CSC Corporate Domain...           100   \n",
       "3                                               None             0   \n",
       "4                                               None             0   \n",
       "\n",
       "                                        company_name  company_name_counts  \\\n",
       "0                                {'wal-mart stores'}                    1   \n",
       "1  {'esso norge as', 'exxon mobil corporation', '...                    3   \n",
       "2  {'chevron corporation', 'chevron corp.', 'nors...                    3   \n",
       "3                                               None                    0   \n",
       "4                                               None                    0   \n",
       "\n",
       "                                       host_provider  host_provider_counts  \\\n",
       "0  {'China Telecom (Group)', 'Rackspace Hosting',...                    21   \n",
       "1  {'AT&T Services, Inc.', 'SherWeb inc.', 'Racks...                    17   \n",
       "2  {'ExactTarget, Inc.', 'Corporation Service Com...                    12   \n",
       "3                                               None                     0   \n",
       "4                                               None                     0   \n",
       "\n",
       "                                       mail_provider  ...  bid ca  it  cn  co  \\\n",
       "0  {'Rackspace Hosting', 'MessageLabs Inc.', 'Pro...  ...    0  0   0   0   0   \n",
       "1  {'COGECODATA', 'U.S. BANCORP', 'SherWeb inc.',...  ...    0  0   0   0   0   \n",
       "2  {'GoDaddy.com, LLC', 'ExactTarget, Inc.', 'Tex...  ...    0  0   0   0   0   \n",
       "3                                               None  ...    0  0   0   0   0   \n",
       "4                                               None  ...    0  0   0   0   0   \n",
       "\n",
       "  cl  eu fr  biz other  \n",
       "0  0   0  0    0     0  \n",
       "1  0   0  0    0     0  \n",
       "2  0   0  0    0     0  \n",
       "3  0   0  0    0     0  \n",
       "4  0   0  0    0     0  \n",
       "\n",
       "[5 rows x 56 columns]"
      ]
     },
     "execution_count": 36,
     "metadata": {},
     "output_type": "execute_result"
    }
   ],
   "source": [
    "df_46k.head()"
   ]
  },
  {
   "cell_type": "markdown",
   "metadata": {},
   "source": [
    "# Model 6: One-hot encoding"
   ]
  },
  {
   "cell_type": "code",
   "execution_count": 37,
   "metadata": {
    "ExecuteTime": {
     "end_time": "2019-06-22T00:43:20.670409Z",
     "start_time": "2019-06-22T00:43:20.639261Z"
    }
   },
   "outputs": [],
   "source": [
    "X, y = df_46k.select_dtypes(exclude='object'), df_46k['label']\n",
    "X_train, X_test, y_train, y_test = train_test_split(X, y, test_size=0.2, random_state=42)"
   ]
  },
  {
   "cell_type": "code",
   "execution_count": 38,
   "metadata": {
    "ExecuteTime": {
     "end_time": "2019-06-22T00:43:21.090618Z",
     "start_time": "2019-06-22T00:43:20.672534Z"
    }
   },
   "outputs": [
    {
     "name": "stdout",
     "output_type": "stream",
     "text": [
      "              precision    recall  f1-score   support\n",
      "\n",
      "     trusted       0.89      0.94      0.91      4420\n",
      "   untrusted       0.94      0.89      0.92      4912\n",
      "\n",
      "   micro avg       0.92      0.92      0.92      9332\n",
      "   macro avg       0.92      0.92      0.92      9332\n",
      "weighted avg       0.92      0.92      0.92      9332\n",
      "\n"
     ]
    }
   ],
   "source": [
    "lr6 = LogisticRegression()\n",
    "lr6.fit(X_train, y_train)\n",
    "\n",
    "print(classification_report(lr6.predict(X_test), y_test))"
   ]
  },
  {
   "cell_type": "code",
   "execution_count": 39,
   "metadata": {
    "ExecuteTime": {
     "end_time": "2019-06-22T00:43:23.491673Z",
     "start_time": "2019-06-22T00:43:21.092816Z"
    }
   },
   "outputs": [
    {
     "name": "stdout",
     "output_type": "stream",
     "text": [
      "              precision    recall  f1-score   support\n",
      "\n",
      "     trusted       0.89      0.93      0.91      4473\n",
      "   untrusted       0.94      0.90      0.92      4859\n",
      "\n",
      "   micro avg       0.92      0.92      0.92      9332\n",
      "   macro avg       0.92      0.92      0.92      9332\n",
      "weighted avg       0.92      0.92      0.92      9332\n",
      "\n"
     ]
    }
   ],
   "source": [
    "rf6 = RandomForestClassifier(n_estimators=100)\n",
    "rf6.fit(X_train, y_train)\n",
    "\n",
    "print(classification_report(rf6.predict(X_test), y_test))"
   ]
  },
  {
   "cell_type": "code",
   "execution_count": 40,
   "metadata": {
    "ExecuteTime": {
     "end_time": "2019-06-22T00:43:23.513176Z",
     "start_time": "2019-06-22T00:43:23.493736Z"
    }
   },
   "outputs": [
    {
     "name": "stdout",
     "output_type": "stream",
     "text": [
      "Feature ranking:\n",
      "No.1 feature: web_tech_counts (0.259)\n",
      "No.2 feature: category_list_counts (0.226)\n",
      "No.3 feature: app_list_exist (0.137)\n",
      "No.4 feature: com (0.122)\n",
      "No.5 feature: twitter (0.054)\n",
      "No.6 feature: linkedin (0.039)\n",
      "No.7 feature: facebook (0.03)\n",
      "No.8 feature: other (0.019)\n",
      "No.9 feature: youtube (0.018)\n",
      "No.10 feature: whois_counts (0.016)\n",
      "No.11 feature: host_provider_counts (0.012)\n",
      "No.12 feature: company_name_counts (0.012)\n",
      "No.13 feature: mail_provider_counts (0.012)\n",
      "No.14 feature: instagram (0.011)\n",
      "No.15 feature: registrar_counts (0.008)\n",
      "No.16 feature: net (0.007)\n",
      "No.17 feature: com.br (0.003)\n",
      "No.18 feature: com.au (0.002)\n",
      "No.19 feature: org (0.002)\n",
      "No.20 feature: ru (0.001)\n"
     ]
    }
   ],
   "source": [
    "importances = rf6.feature_importances_\n",
    "std = np.std([tree.feature_importances_ for tree in rf6.estimators_], axis=0)\n",
    "indices = np.argsort(importances)[::-1]\n",
    "\n",
    "# Print the feature ranking\n",
    "print(\"Feature ranking:\")\n",
    "\n",
    "for i in range(20):\n",
    "    print(f\"No.{i + 1} feature: {X.columns[indices[i]]} ({round(importances[indices[i]], 3)})\")"
   ]
  },
  {
   "cell_type": "markdown",
   "metadata": {},
   "source": [
    "# 92% Score achieved! Without any DNS data"
   ]
  },
  {
   "cell_type": "markdown",
   "metadata": {},
   "source": [
    "# Save our best models\n",
    "- `lr6`\n",
    "  \n",
    "- `rf6`"
   ]
  },
  {
   "cell_type": "code",
   "execution_count": 41,
   "metadata": {
    "ExecuteTime": {
     "end_time": "2019-06-22T00:43:23.519661Z",
     "start_time": "2019-06-22T00:43:23.516128Z"
    }
   },
   "outputs": [],
   "source": [
    "model_path = Path(\"../model/saved_models\")\n",
    "\n",
    "lr_path = model_path/'best_LR_model.sav'\n",
    "rf_path = model_path/'best_RF_model.sav'"
   ]
  },
  {
   "cell_type": "code",
   "execution_count": 42,
   "metadata": {
    "ExecuteTime": {
     "end_time": "2019-06-22T00:43:23.566998Z",
     "start_time": "2019-06-22T00:43:23.522061Z"
    }
   },
   "outputs": [],
   "source": [
    "pickle.dump(lr6, open(lr_path, 'wb'))\n",
    "pickle.dump(rf6, open(rf_path, 'wb'))"
   ]
  },
  {
   "cell_type": "markdown",
   "metadata": {},
   "source": [
    "## Save the first 30 tld category list as `.txt`"
   ]
  },
  {
   "cell_type": "code",
   "execution_count": 43,
   "metadata": {
    "ExecuteTime": {
     "end_time": "2019-06-22T00:43:23.574384Z",
     "start_time": "2019-06-22T00:43:23.570464Z"
    }
   },
   "outputs": [],
   "source": [
    "save_tld_cat_path = model_path/'tld_cat.txt'"
   ]
  },
  {
   "cell_type": "code",
   "execution_count": 44,
   "metadata": {
    "ExecuteTime": {
     "end_time": "2019-06-22T00:43:23.582744Z",
     "start_time": "2019-06-22T00:43:23.577571Z"
    }
   },
   "outputs": [],
   "source": [
    "with open(save_tld_cat_path, 'w') as f:\n",
    "    f.write(\",\".join(tld_cat))"
   ]
  },
  {
   "cell_type": "code",
   "execution_count": null,
   "metadata": {},
   "outputs": [],
   "source": []
  }
 ],
 "metadata": {
  "kernelspec": {
   "display_name": "Python 3",
   "language": "python",
   "name": "python3"
  },
  "language_info": {
   "codemirror_mode": {
    "name": "ipython",
    "version": 3
   },
   "file_extension": ".py",
   "mimetype": "text/x-python",
   "name": "python",
   "nbconvert_exporter": "python",
   "pygments_lexer": "ipython3",
   "version": "3.7.2"
  }
 },
 "nbformat": 4,
 "nbformat_minor": 2
}
